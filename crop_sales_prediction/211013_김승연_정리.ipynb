{
  "nbformat": 4,
  "nbformat_minor": 0,
  "metadata": {
    "colab": {
      "name": "211013_김승연_정리",
      "provenance": [],
      "toc_visible": true
    },
    "kernelspec": {
      "name": "python3",
      "display_name": "Python 3"
    },
    "language_info": {
      "name": "python"
    }
  },
  "cells": [
    {
      "cell_type": "code",
      "metadata": {
        "id": "RjOhtq5huBKe"
      },
      "source": [
        "import warnings\n",
        "warnings.filterwarnings('ignore')"
      ],
      "execution_count": null,
      "outputs": []
    },
    {
      "cell_type": "code",
      "metadata": {
        "colab": {
          "base_uri": "https://localhost:8080/"
        },
        "id": "Zu2lxPvXuFm3",
        "outputId": "a349244d-0c0e-4d5f-b30b-d75122751037"
      },
      "source": [
        "from google.colab import drive\n",
        "\n",
        "drive.mount('/content/drive')"
      ],
      "execution_count": null,
      "outputs": [
        {
          "output_type": "stream",
          "name": "stdout",
          "text": [
            "Mounted at /content/drive\n"
          ]
        }
      ]
    },
    {
      "cell_type": "markdown",
      "metadata": {
        "id": "pD0IPwVDN_yl"
      },
      "source": [
        "* 전처리 한 것 불러오기\n",
        "\n",
        "참고로 amount, inout, weather는 1년 전으로 맞춰놓음"
      ]
    },
    {
      "cell_type": "code",
      "metadata": {
        "id": "RFqK-Ox_uHLz"
      },
      "source": [
        "import pandas as pd\n",
        "price = pd.read_csv('/content/drive/MyDrive/Colab Notebooks/2nd project/price2.csv')\n",
        "amount = pd.read_csv('/content/drive/MyDrive/Colab Notebooks/2nd project/amount2.csv')\n",
        "top = pd.read_csv('/content/drive/MyDrive/Colab Notebooks/2nd project/시군산지_기후관측소기준 TOP39.csv')\n",
        "inout = pd.read_csv('/content/drive/MyDrive/Colab Notebooks/2nd project/inout.csv')\n",
        "weather = pd.read_csv('/content/drive/MyDrive/Colab Notebooks/2nd project/weather2.csv')"
      ],
      "execution_count": null,
      "outputs": []
    },
    {
      "cell_type": "markdown",
      "metadata": {
        "id": "QONDFZckP6UJ"
      },
      "source": [
        "### merge"
      ]
    },
    {
      "cell_type": "markdown",
      "metadata": {
        "id": "I4YWpO7uODXo"
      },
      "source": [
        "* 하나씩 기준에 따라 합치기"
      ]
    },
    {
      "cell_type": "code",
      "metadata": {
        "colab": {
          "base_uri": "https://localhost:8080/",
          "height": 203
        },
        "id": "J0XzcfxVLqKF",
        "outputId": "a601ee9c-fdbe-4639-bc88-e30af03a2ae9"
      },
      "source": [
        "price.head()"
      ],
      "execution_count": null,
      "outputs": [
        {
          "output_type": "execute_result",
          "data": {
            "text/html": [
              "<div>\n",
              "<style scoped>\n",
              "    .dataframe tbody tr th:only-of-type {\n",
              "        vertical-align: middle;\n",
              "    }\n",
              "\n",
              "    .dataframe tbody tr th {\n",
              "        vertical-align: top;\n",
              "    }\n",
              "\n",
              "    .dataframe thead th {\n",
              "        text-align: right;\n",
              "    }\n",
              "</style>\n",
              "<table border=\"1\" class=\"dataframe\">\n",
              "  <thead>\n",
              "    <tr style=\"text-align: right;\">\n",
              "      <th></th>\n",
              "      <th>품종</th>\n",
              "      <th>시장</th>\n",
              "      <th>법인</th>\n",
              "      <th>광역산지</th>\n",
              "      <th>시군산지</th>\n",
              "      <th>도매가격(원/kg)</th>\n",
              "      <th>연</th>\n",
              "      <th>월</th>\n",
              "    </tr>\n",
              "  </thead>\n",
              "  <tbody>\n",
              "    <tr>\n",
              "      <th>0</th>\n",
              "      <td>양파(일반)</td>\n",
              "      <td>대구북부도매</td>\n",
              "      <td>대양청과</td>\n",
              "      <td>경북</td>\n",
              "      <td>영천</td>\n",
              "      <td>793.00</td>\n",
              "      <td>21</td>\n",
              "      <td>10</td>\n",
              "    </tr>\n",
              "    <tr>\n",
              "      <th>1</th>\n",
              "      <td>양파(일반)</td>\n",
              "      <td>대구북부도매</td>\n",
              "      <td>효성청과</td>\n",
              "      <td>경북</td>\n",
              "      <td>의성</td>\n",
              "      <td>803.03</td>\n",
              "      <td>21</td>\n",
              "      <td>10</td>\n",
              "    </tr>\n",
              "    <tr>\n",
              "      <th>2</th>\n",
              "      <td>양파(일반)</td>\n",
              "      <td>대구북부도매</td>\n",
              "      <td>대양청과</td>\n",
              "      <td>경남</td>\n",
              "      <td>합천</td>\n",
              "      <td>769.69</td>\n",
              "      <td>21</td>\n",
              "      <td>10</td>\n",
              "    </tr>\n",
              "    <tr>\n",
              "      <th>3</th>\n",
              "      <td>양파(일반)</td>\n",
              "      <td>대구북부도매</td>\n",
              "      <td>대양청과</td>\n",
              "      <td>대구</td>\n",
              "      <td>대구중구</td>\n",
              "      <td>735.00</td>\n",
              "      <td>21</td>\n",
              "      <td>10</td>\n",
              "    </tr>\n",
              "    <tr>\n",
              "      <th>4</th>\n",
              "      <td>양파(일반)</td>\n",
              "      <td>대구북부도매</td>\n",
              "      <td>효성청과</td>\n",
              "      <td>경북</td>\n",
              "      <td>영천</td>\n",
              "      <td>843.43</td>\n",
              "      <td>21</td>\n",
              "      <td>10</td>\n",
              "    </tr>\n",
              "  </tbody>\n",
              "</table>\n",
              "</div>"
            ],
            "text/plain": [
              "       품종      시장    법인 광역산지  시군산지  도매가격(원/kg)   연   월\n",
              "0  양파(일반)  대구북부도매  대양청과   경북    영천      793.00  21  10\n",
              "1  양파(일반)  대구북부도매  효성청과   경북    의성      803.03  21  10\n",
              "2  양파(일반)  대구북부도매  대양청과   경남    합천      769.69  21  10\n",
              "3  양파(일반)  대구북부도매  대양청과   대구  대구중구      735.00  21  10\n",
              "4  양파(일반)  대구북부도매  효성청과   경북    영천      843.43  21  10"
            ]
          },
          "metadata": {},
          "execution_count": 4
        }
      ]
    },
    {
      "cell_type": "code",
      "metadata": {
        "colab": {
          "base_uri": "https://localhost:8080/",
          "height": 203
        },
        "id": "z-FM1K-9LtZE",
        "outputId": "deee3bac-38a2-441e-afb0-11f32f2cf055"
      },
      "source": [
        "amount.head()"
      ],
      "execution_count": null,
      "outputs": [
        {
          "output_type": "execute_result",
          "data": {
            "text/html": [
              "<div>\n",
              "<style scoped>\n",
              "    .dataframe tbody tr th:only-of-type {\n",
              "        vertical-align: middle;\n",
              "    }\n",
              "\n",
              "    .dataframe tbody tr th {\n",
              "        vertical-align: top;\n",
              "    }\n",
              "\n",
              "    .dataframe thead th {\n",
              "        text-align: right;\n",
              "    }\n",
              "</style>\n",
              "<table border=\"1\" class=\"dataframe\">\n",
              "  <thead>\n",
              "    <tr style=\"text-align: right;\">\n",
              "      <th></th>\n",
              "      <th>재배면적</th>\n",
              "      <th>재배비율</th>\n",
              "      <th>생산량</th>\n",
              "      <th>연</th>\n",
              "      <th>광역산지</th>\n",
              "    </tr>\n",
              "  </thead>\n",
              "  <tbody>\n",
              "    <tr>\n",
              "      <th>0</th>\n",
              "      <td>0</td>\n",
              "      <td>0</td>\n",
              "      <td>0</td>\n",
              "      <td>14</td>\n",
              "      <td>서울</td>\n",
              "    </tr>\n",
              "    <tr>\n",
              "      <th>1</th>\n",
              "      <td>23</td>\n",
              "      <td>8265</td>\n",
              "      <td>1901</td>\n",
              "      <td>14</td>\n",
              "      <td>부산</td>\n",
              "    </tr>\n",
              "    <tr>\n",
              "      <th>2</th>\n",
              "      <td>81</td>\n",
              "      <td>6909</td>\n",
              "      <td>5596</td>\n",
              "      <td>14</td>\n",
              "      <td>대구</td>\n",
              "    </tr>\n",
              "    <tr>\n",
              "      <th>3</th>\n",
              "      <td>25</td>\n",
              "      <td>2294</td>\n",
              "      <td>573</td>\n",
              "      <td>14</td>\n",
              "      <td>인천</td>\n",
              "    </tr>\n",
              "    <tr>\n",
              "      <th>4</th>\n",
              "      <td>58</td>\n",
              "      <td>7443</td>\n",
              "      <td>4317</td>\n",
              "      <td>14</td>\n",
              "      <td>광주</td>\n",
              "    </tr>\n",
              "  </tbody>\n",
              "</table>\n",
              "</div>"
            ],
            "text/plain": [
              "   재배면적  재배비율   생산량   연 광역산지\n",
              "0     0     0     0  14   서울\n",
              "1    23  8265  1901  14   부산\n",
              "2    81  6909  5596  14   대구\n",
              "3    25  2294   573  14   인천\n",
              "4    58  7443  4317  14   광주"
            ]
          },
          "metadata": {},
          "execution_count": 5
        }
      ]
    },
    {
      "cell_type": "code",
      "metadata": {
        "colab": {
          "base_uri": "https://localhost:8080/",
          "height": 203
        },
        "id": "ZgzQdPrmMB65",
        "outputId": "0816fb1e-7c73-4f8f-f8cf-9dedb298ea69"
      },
      "source": [
        "PA = pd.merge(price, amount, on = ['연', '광역산지'])\n",
        "PA.head()"
      ],
      "execution_count": null,
      "outputs": [
        {
          "output_type": "execute_result",
          "data": {
            "text/html": [
              "<div>\n",
              "<style scoped>\n",
              "    .dataframe tbody tr th:only-of-type {\n",
              "        vertical-align: middle;\n",
              "    }\n",
              "\n",
              "    .dataframe tbody tr th {\n",
              "        vertical-align: top;\n",
              "    }\n",
              "\n",
              "    .dataframe thead th {\n",
              "        text-align: right;\n",
              "    }\n",
              "</style>\n",
              "<table border=\"1\" class=\"dataframe\">\n",
              "  <thead>\n",
              "    <tr style=\"text-align: right;\">\n",
              "      <th></th>\n",
              "      <th>품종</th>\n",
              "      <th>시장</th>\n",
              "      <th>법인</th>\n",
              "      <th>광역산지</th>\n",
              "      <th>시군산지</th>\n",
              "      <th>도매가격(원/kg)</th>\n",
              "      <th>연</th>\n",
              "      <th>월</th>\n",
              "      <th>재배면적</th>\n",
              "      <th>재배비율</th>\n",
              "      <th>생산량</th>\n",
              "    </tr>\n",
              "  </thead>\n",
              "  <tbody>\n",
              "    <tr>\n",
              "      <th>0</th>\n",
              "      <td>양파(일반)</td>\n",
              "      <td>대구북부도매</td>\n",
              "      <td>대양청과</td>\n",
              "      <td>경북</td>\n",
              "      <td>영천</td>\n",
              "      <td>793.00</td>\n",
              "      <td>21</td>\n",
              "      <td>10</td>\n",
              "      <td>2365</td>\n",
              "      <td>8098</td>\n",
              "      <td>191509</td>\n",
              "    </tr>\n",
              "    <tr>\n",
              "      <th>1</th>\n",
              "      <td>양파(일반)</td>\n",
              "      <td>대구북부도매</td>\n",
              "      <td>효성청과</td>\n",
              "      <td>경북</td>\n",
              "      <td>의성</td>\n",
              "      <td>803.03</td>\n",
              "      <td>21</td>\n",
              "      <td>10</td>\n",
              "      <td>2365</td>\n",
              "      <td>8098</td>\n",
              "      <td>191509</td>\n",
              "    </tr>\n",
              "    <tr>\n",
              "      <th>2</th>\n",
              "      <td>양파(일반)</td>\n",
              "      <td>대구북부도매</td>\n",
              "      <td>효성청과</td>\n",
              "      <td>경북</td>\n",
              "      <td>영천</td>\n",
              "      <td>843.43</td>\n",
              "      <td>21</td>\n",
              "      <td>10</td>\n",
              "      <td>2365</td>\n",
              "      <td>8098</td>\n",
              "      <td>191509</td>\n",
              "    </tr>\n",
              "    <tr>\n",
              "      <th>3</th>\n",
              "      <td>양파(일반)</td>\n",
              "      <td>대구북부도매</td>\n",
              "      <td>대양청과</td>\n",
              "      <td>경북</td>\n",
              "      <td>성주</td>\n",
              "      <td>781.82</td>\n",
              "      <td>21</td>\n",
              "      <td>10</td>\n",
              "      <td>2365</td>\n",
              "      <td>8098</td>\n",
              "      <td>191509</td>\n",
              "    </tr>\n",
              "    <tr>\n",
              "      <th>4</th>\n",
              "      <td>양파(일반)</td>\n",
              "      <td>대구북부도매</td>\n",
              "      <td>대양청과</td>\n",
              "      <td>경북</td>\n",
              "      <td>고령</td>\n",
              "      <td>800.00</td>\n",
              "      <td>21</td>\n",
              "      <td>10</td>\n",
              "      <td>2365</td>\n",
              "      <td>8098</td>\n",
              "      <td>191509</td>\n",
              "    </tr>\n",
              "  </tbody>\n",
              "</table>\n",
              "</div>"
            ],
            "text/plain": [
              "       품종      시장    법인 광역산지 시군산지  도매가격(원/kg)   연   월  재배면적  재배비율     생산량\n",
              "0  양파(일반)  대구북부도매  대양청과   경북   영천      793.00  21  10  2365  8098  191509\n",
              "1  양파(일반)  대구북부도매  효성청과   경북   의성      803.03  21  10  2365  8098  191509\n",
              "2  양파(일반)  대구북부도매  효성청과   경북   영천      843.43  21  10  2365  8098  191509\n",
              "3  양파(일반)  대구북부도매  대양청과   경북   성주      781.82  21  10  2365  8098  191509\n",
              "4  양파(일반)  대구북부도매  대양청과   경북   고령      800.00  21  10  2365  8098  191509"
            ]
          },
          "metadata": {},
          "execution_count": 6
        }
      ]
    },
    {
      "cell_type": "code",
      "metadata": {
        "colab": {
          "base_uri": "https://localhost:8080/",
          "height": 203
        },
        "id": "M6YB6EOULuoH",
        "outputId": "81dd71f9-577d-4b18-c6a2-9ea22edc2508"
      },
      "source": [
        "top.head()"
      ],
      "execution_count": null,
      "outputs": [
        {
          "output_type": "execute_result",
          "data": {
            "text/html": [
              "<div>\n",
              "<style scoped>\n",
              "    .dataframe tbody tr th:only-of-type {\n",
              "        vertical-align: middle;\n",
              "    }\n",
              "\n",
              "    .dataframe tbody tr th {\n",
              "        vertical-align: top;\n",
              "    }\n",
              "\n",
              "    .dataframe thead th {\n",
              "        text-align: right;\n",
              "    }\n",
              "</style>\n",
              "<table border=\"1\" class=\"dataframe\">\n",
              "  <thead>\n",
              "    <tr style=\"text-align: right;\">\n",
              "      <th></th>\n",
              "      <th>시군산지</th>\n",
              "      <th>기후관측소기준</th>\n",
              "    </tr>\n",
              "  </thead>\n",
              "  <tbody>\n",
              "    <tr>\n",
              "      <th>0</th>\n",
              "      <td>무안</td>\n",
              "      <td>목포</td>\n",
              "    </tr>\n",
              "    <tr>\n",
              "      <th>1</th>\n",
              "      <td>함평</td>\n",
              "      <td>영광</td>\n",
              "    </tr>\n",
              "    <tr>\n",
              "      <th>2</th>\n",
              "      <td>창녕</td>\n",
              "      <td>밀양</td>\n",
              "    </tr>\n",
              "    <tr>\n",
              "      <th>3</th>\n",
              "      <td>신안</td>\n",
              "      <td>목포</td>\n",
              "    </tr>\n",
              "    <tr>\n",
              "      <th>4</th>\n",
              "      <td>합천</td>\n",
              "      <td>합천</td>\n",
              "    </tr>\n",
              "  </tbody>\n",
              "</table>\n",
              "</div>"
            ],
            "text/plain": [
              "  시군산지 기후관측소기준\n",
              "0   무안      목포\n",
              "1   함평      영광\n",
              "2   창녕      밀양\n",
              "3   신안      목포\n",
              "4   합천      합천"
            ]
          },
          "metadata": {},
          "execution_count": 7
        }
      ]
    },
    {
      "cell_type": "code",
      "metadata": {
        "colab": {
          "base_uri": "https://localhost:8080/"
        },
        "id": "Fwe4XMbqCE0k",
        "outputId": "e67c7003-8c51-45df-ac9a-fd950279ebc2"
      },
      "source": [
        "top['기후관측소기준'].unique()"
      ],
      "execution_count": null,
      "outputs": [
        {
          "output_type": "execute_result",
          "data": {
            "text/plain": [
              "array(['목포', '영광', '밀양', '합천', '제주', '서울', '산청', '영천', '고흥', '해남', '의성',\n",
              "       '추풍령', '부여', '부안', '문경', '대구', '서귀포', '고창', '전주', '의령군', '서산',\n",
              "       '군산', '장흥', '북창원', '영주', '안동', '여수', '광주', '강진군', '부산', '구미', '거창'],\n",
              "      dtype=object)"
            ]
          },
          "metadata": {},
          "execution_count": 8
        }
      ]
    },
    {
      "cell_type": "code",
      "metadata": {
        "id": "gXiAQCDwMWkY"
      },
      "source": [
        "TOP39 = PA[PA['시군산지'].str.contains('무안|함평|창녕|신안|합천|제주|구리|함양|영천|고흥|해남|\\\n",
        "       |고령|의성|김천|논산|부안|문경|달성|군위|서귀포|고창|완주|\\\n",
        "       |의령|서산|익산|장흥|경산|밀양|창원의창|대구중구|영주|안동|\\\n",
        "       |여수|나주|광주서구|영암|연제|구미|거창')]\n",
        "idx_천안동남 = TOP39[TOP39['시군산지'] == '천안동남'].index\n",
        "TOP39.drop(idx_천안동남, inplace=True)"
      ],
      "execution_count": null,
      "outputs": []
    },
    {
      "cell_type": "code",
      "metadata": {
        "colab": {
          "base_uri": "https://localhost:8080/"
        },
        "id": "EUUCKlswCNMi",
        "outputId": "9dbae8b1-6b1d-49a1-8bd2-6ecb7a06492d"
      },
      "source": [
        "TOP39['시군산지'].unique()"
      ],
      "execution_count": null,
      "outputs": [
        {
          "output_type": "execute_result",
          "data": {
            "text/plain": [
              "array(['영천', '의성', '고령', '구미', '군위', '안동', '문경', '영주', '김천', '경산', '합천',\n",
              "       '밀양', '창녕', '함양', '의령', '창원의창', '거창', '대구중구', '달성', '무안', '해남',\n",
              "       '함평', '신안', '영암', '나주', '고흥', '여수', '장흥', '광주서구', '고창', '완주', '익산',\n",
              "       '부안', '구리', '연제', '서산', '논산', '제주', '서귀포'], dtype=object)"
            ]
          },
          "metadata": {},
          "execution_count": 10
        }
      ]
    },
    {
      "cell_type": "code",
      "metadata": {
        "colab": {
          "base_uri": "https://localhost:8080/",
          "height": 304
        },
        "id": "l5r5tk63MwkO",
        "outputId": "ef44ec87-58fa-4694-e409-3b4d7cf519b8"
      },
      "source": [
        "PAT = pd.merge(TOP39, top, on = ['시군산지'])\n",
        "PAT.head()"
      ],
      "execution_count": null,
      "outputs": [
        {
          "output_type": "execute_result",
          "data": {
            "text/html": [
              "<div>\n",
              "<style scoped>\n",
              "    .dataframe tbody tr th:only-of-type {\n",
              "        vertical-align: middle;\n",
              "    }\n",
              "\n",
              "    .dataframe tbody tr th {\n",
              "        vertical-align: top;\n",
              "    }\n",
              "\n",
              "    .dataframe thead th {\n",
              "        text-align: right;\n",
              "    }\n",
              "</style>\n",
              "<table border=\"1\" class=\"dataframe\">\n",
              "  <thead>\n",
              "    <tr style=\"text-align: right;\">\n",
              "      <th></th>\n",
              "      <th>품종</th>\n",
              "      <th>시장</th>\n",
              "      <th>법인</th>\n",
              "      <th>광역산지</th>\n",
              "      <th>시군산지</th>\n",
              "      <th>도매가격(원/kg)</th>\n",
              "      <th>연</th>\n",
              "      <th>월</th>\n",
              "      <th>재배면적</th>\n",
              "      <th>재배비율</th>\n",
              "      <th>생산량</th>\n",
              "      <th>기후관측소기준</th>\n",
              "    </tr>\n",
              "  </thead>\n",
              "  <tbody>\n",
              "    <tr>\n",
              "      <th>0</th>\n",
              "      <td>양파(일반)</td>\n",
              "      <td>대구북부도매</td>\n",
              "      <td>대양청과</td>\n",
              "      <td>경북</td>\n",
              "      <td>영천</td>\n",
              "      <td>793.00</td>\n",
              "      <td>21</td>\n",
              "      <td>10</td>\n",
              "      <td>2365</td>\n",
              "      <td>8098</td>\n",
              "      <td>191509</td>\n",
              "      <td>영천</td>\n",
              "    </tr>\n",
              "    <tr>\n",
              "      <th>1</th>\n",
              "      <td>양파(일반)</td>\n",
              "      <td>대구북부도매</td>\n",
              "      <td>효성청과</td>\n",
              "      <td>경북</td>\n",
              "      <td>영천</td>\n",
              "      <td>843.43</td>\n",
              "      <td>21</td>\n",
              "      <td>10</td>\n",
              "      <td>2365</td>\n",
              "      <td>8098</td>\n",
              "      <td>191509</td>\n",
              "      <td>영천</td>\n",
              "    </tr>\n",
              "    <tr>\n",
              "      <th>2</th>\n",
              "      <td>기타</td>\n",
              "      <td>포항도매</td>\n",
              "      <td>대구경북능금원협</td>\n",
              "      <td>경북</td>\n",
              "      <td>영천</td>\n",
              "      <td>725.00</td>\n",
              "      <td>21</td>\n",
              "      <td>10</td>\n",
              "      <td>2365</td>\n",
              "      <td>8098</td>\n",
              "      <td>191509</td>\n",
              "      <td>영천</td>\n",
              "    </tr>\n",
              "    <tr>\n",
              "      <th>3</th>\n",
              "      <td>양파(일반)</td>\n",
              "      <td>대구북부도매</td>\n",
              "      <td>대양청과</td>\n",
              "      <td>경북</td>\n",
              "      <td>영천</td>\n",
              "      <td>804.59</td>\n",
              "      <td>21</td>\n",
              "      <td>9</td>\n",
              "      <td>2365</td>\n",
              "      <td>8098</td>\n",
              "      <td>191509</td>\n",
              "      <td>영천</td>\n",
              "    </tr>\n",
              "    <tr>\n",
              "      <th>4</th>\n",
              "      <td>양파(일반)</td>\n",
              "      <td>대구북부도매</td>\n",
              "      <td>효성청과</td>\n",
              "      <td>경북</td>\n",
              "      <td>영천</td>\n",
              "      <td>890.58</td>\n",
              "      <td>21</td>\n",
              "      <td>9</td>\n",
              "      <td>2365</td>\n",
              "      <td>8098</td>\n",
              "      <td>191509</td>\n",
              "      <td>영천</td>\n",
              "    </tr>\n",
              "  </tbody>\n",
              "</table>\n",
              "</div>"
            ],
            "text/plain": [
              "       품종      시장        법인 광역산지 시군산지  ...   월  재배면적  재배비율     생산량  기후관측소기준\n",
              "0  양파(일반)  대구북부도매      대양청과   경북   영천  ...  10  2365  8098  191509       영천\n",
              "1  양파(일반)  대구북부도매      효성청과   경북   영천  ...  10  2365  8098  191509       영천\n",
              "2      기타    포항도매  대구경북능금원협   경북   영천  ...  10  2365  8098  191509       영천\n",
              "3  양파(일반)  대구북부도매      대양청과   경북   영천  ...   9  2365  8098  191509       영천\n",
              "4  양파(일반)  대구북부도매      효성청과   경북   영천  ...   9  2365  8098  191509       영천\n",
              "\n",
              "[5 rows x 12 columns]"
            ]
          },
          "metadata": {},
          "execution_count": 11
        }
      ]
    },
    {
      "cell_type": "code",
      "metadata": {
        "colab": {
          "base_uri": "https://localhost:8080/",
          "height": 203
        },
        "id": "RFEHtCzLM9MU",
        "outputId": "7aaf6612-540b-4fb0-b983-74e1c1ffe13a"
      },
      "source": [
        "PAT.columns = ['kind', 'market', 'corp', 'wide', 'city', 'price', 'year', 'month', 'area', 'ratio', 'amount', 'weather']\n",
        "PAT.head()"
      ],
      "execution_count": null,
      "outputs": [
        {
          "output_type": "execute_result",
          "data": {
            "text/html": [
              "<div>\n",
              "<style scoped>\n",
              "    .dataframe tbody tr th:only-of-type {\n",
              "        vertical-align: middle;\n",
              "    }\n",
              "\n",
              "    .dataframe tbody tr th {\n",
              "        vertical-align: top;\n",
              "    }\n",
              "\n",
              "    .dataframe thead th {\n",
              "        text-align: right;\n",
              "    }\n",
              "</style>\n",
              "<table border=\"1\" class=\"dataframe\">\n",
              "  <thead>\n",
              "    <tr style=\"text-align: right;\">\n",
              "      <th></th>\n",
              "      <th>kind</th>\n",
              "      <th>market</th>\n",
              "      <th>corp</th>\n",
              "      <th>wide</th>\n",
              "      <th>city</th>\n",
              "      <th>price</th>\n",
              "      <th>year</th>\n",
              "      <th>month</th>\n",
              "      <th>area</th>\n",
              "      <th>ratio</th>\n",
              "      <th>amount</th>\n",
              "      <th>weather</th>\n",
              "    </tr>\n",
              "  </thead>\n",
              "  <tbody>\n",
              "    <tr>\n",
              "      <th>0</th>\n",
              "      <td>양파(일반)</td>\n",
              "      <td>대구북부도매</td>\n",
              "      <td>대양청과</td>\n",
              "      <td>경북</td>\n",
              "      <td>영천</td>\n",
              "      <td>793.00</td>\n",
              "      <td>21</td>\n",
              "      <td>10</td>\n",
              "      <td>2365</td>\n",
              "      <td>8098</td>\n",
              "      <td>191509</td>\n",
              "      <td>영천</td>\n",
              "    </tr>\n",
              "    <tr>\n",
              "      <th>1</th>\n",
              "      <td>양파(일반)</td>\n",
              "      <td>대구북부도매</td>\n",
              "      <td>효성청과</td>\n",
              "      <td>경북</td>\n",
              "      <td>영천</td>\n",
              "      <td>843.43</td>\n",
              "      <td>21</td>\n",
              "      <td>10</td>\n",
              "      <td>2365</td>\n",
              "      <td>8098</td>\n",
              "      <td>191509</td>\n",
              "      <td>영천</td>\n",
              "    </tr>\n",
              "    <tr>\n",
              "      <th>2</th>\n",
              "      <td>기타</td>\n",
              "      <td>포항도매</td>\n",
              "      <td>대구경북능금원협</td>\n",
              "      <td>경북</td>\n",
              "      <td>영천</td>\n",
              "      <td>725.00</td>\n",
              "      <td>21</td>\n",
              "      <td>10</td>\n",
              "      <td>2365</td>\n",
              "      <td>8098</td>\n",
              "      <td>191509</td>\n",
              "      <td>영천</td>\n",
              "    </tr>\n",
              "    <tr>\n",
              "      <th>3</th>\n",
              "      <td>양파(일반)</td>\n",
              "      <td>대구북부도매</td>\n",
              "      <td>대양청과</td>\n",
              "      <td>경북</td>\n",
              "      <td>영천</td>\n",
              "      <td>804.59</td>\n",
              "      <td>21</td>\n",
              "      <td>9</td>\n",
              "      <td>2365</td>\n",
              "      <td>8098</td>\n",
              "      <td>191509</td>\n",
              "      <td>영천</td>\n",
              "    </tr>\n",
              "    <tr>\n",
              "      <th>4</th>\n",
              "      <td>양파(일반)</td>\n",
              "      <td>대구북부도매</td>\n",
              "      <td>효성청과</td>\n",
              "      <td>경북</td>\n",
              "      <td>영천</td>\n",
              "      <td>890.58</td>\n",
              "      <td>21</td>\n",
              "      <td>9</td>\n",
              "      <td>2365</td>\n",
              "      <td>8098</td>\n",
              "      <td>191509</td>\n",
              "      <td>영천</td>\n",
              "    </tr>\n",
              "  </tbody>\n",
              "</table>\n",
              "</div>"
            ],
            "text/plain": [
              "     kind  market      corp wide city  ...  month  area  ratio  amount  weather\n",
              "0  양파(일반)  대구북부도매      대양청과   경북   영천  ...     10  2365   8098  191509       영천\n",
              "1  양파(일반)  대구북부도매      효성청과   경북   영천  ...     10  2365   8098  191509       영천\n",
              "2      기타    포항도매  대구경북능금원협   경북   영천  ...     10  2365   8098  191509       영천\n",
              "3  양파(일반)  대구북부도매      대양청과   경북   영천  ...      9  2365   8098  191509       영천\n",
              "4  양파(일반)  대구북부도매      효성청과   경북   영천  ...      9  2365   8098  191509       영천\n",
              "\n",
              "[5 rows x 12 columns]"
            ]
          },
          "metadata": {},
          "execution_count": 12
        }
      ]
    },
    {
      "cell_type": "code",
      "metadata": {
        "colab": {
          "base_uri": "https://localhost:8080/",
          "height": 417
        },
        "id": "zVh-B6rlDrEi",
        "outputId": "31aa0fae-ae50-421b-97a1-4048b67c3640"
      },
      "source": [
        "PAT[PAT['weather']=='영광']"
      ],
      "execution_count": null,
      "outputs": [
        {
          "output_type": "execute_result",
          "data": {
            "text/html": [
              "<div>\n",
              "<style scoped>\n",
              "    .dataframe tbody tr th:only-of-type {\n",
              "        vertical-align: middle;\n",
              "    }\n",
              "\n",
              "    .dataframe tbody tr th {\n",
              "        vertical-align: top;\n",
              "    }\n",
              "\n",
              "    .dataframe thead th {\n",
              "        text-align: right;\n",
              "    }\n",
              "</style>\n",
              "<table border=\"1\" class=\"dataframe\">\n",
              "  <thead>\n",
              "    <tr style=\"text-align: right;\">\n",
              "      <th></th>\n",
              "      <th>kind</th>\n",
              "      <th>market</th>\n",
              "      <th>corp</th>\n",
              "      <th>wide</th>\n",
              "      <th>city</th>\n",
              "      <th>price</th>\n",
              "      <th>year</th>\n",
              "      <th>month</th>\n",
              "      <th>area</th>\n",
              "      <th>ratio</th>\n",
              "      <th>amount</th>\n",
              "      <th>weather</th>\n",
              "    </tr>\n",
              "  </thead>\n",
              "  <tbody>\n",
              "    <tr>\n",
              "      <th>19307</th>\n",
              "      <td>저장양파</td>\n",
              "      <td>서울가락도매</td>\n",
              "      <td>한국청과</td>\n",
              "      <td>전남</td>\n",
              "      <td>함평</td>\n",
              "      <td>803.29</td>\n",
              "      <td>21</td>\n",
              "      <td>10</td>\n",
              "      <td>5743</td>\n",
              "      <td>7883</td>\n",
              "      <td>452737</td>\n",
              "      <td>영광</td>\n",
              "    </tr>\n",
              "    <tr>\n",
              "      <th>19308</th>\n",
              "      <td>저장양파</td>\n",
              "      <td>서울가락도매</td>\n",
              "      <td>동화청과</td>\n",
              "      <td>전남</td>\n",
              "      <td>함평</td>\n",
              "      <td>809.60</td>\n",
              "      <td>21</td>\n",
              "      <td>10</td>\n",
              "      <td>5743</td>\n",
              "      <td>7883</td>\n",
              "      <td>452737</td>\n",
              "      <td>영광</td>\n",
              "    </tr>\n",
              "    <tr>\n",
              "      <th>19309</th>\n",
              "      <td>만생양파</td>\n",
              "      <td>서울가락도매</td>\n",
              "      <td>서울청과</td>\n",
              "      <td>전남</td>\n",
              "      <td>함평</td>\n",
              "      <td>767.85</td>\n",
              "      <td>21</td>\n",
              "      <td>10</td>\n",
              "      <td>5743</td>\n",
              "      <td>7883</td>\n",
              "      <td>452737</td>\n",
              "      <td>영광</td>\n",
              "    </tr>\n",
              "    <tr>\n",
              "      <th>19310</th>\n",
              "      <td>만생양파</td>\n",
              "      <td>광주각화도매</td>\n",
              "      <td>광주중앙청과</td>\n",
              "      <td>전남</td>\n",
              "      <td>함평</td>\n",
              "      <td>812.74</td>\n",
              "      <td>21</td>\n",
              "      <td>10</td>\n",
              "      <td>5743</td>\n",
              "      <td>7883</td>\n",
              "      <td>452737</td>\n",
              "      <td>영광</td>\n",
              "    </tr>\n",
              "    <tr>\n",
              "      <th>19311</th>\n",
              "      <td>양파(일반)</td>\n",
              "      <td>서울강서도매</td>\n",
              "      <td>농협강서</td>\n",
              "      <td>전남</td>\n",
              "      <td>함평</td>\n",
              "      <td>1280.16</td>\n",
              "      <td>21</td>\n",
              "      <td>9</td>\n",
              "      <td>5743</td>\n",
              "      <td>7883</td>\n",
              "      <td>452737</td>\n",
              "      <td>영광</td>\n",
              "    </tr>\n",
              "    <tr>\n",
              "      <th>...</th>\n",
              "      <td>...</td>\n",
              "      <td>...</td>\n",
              "      <td>...</td>\n",
              "      <td>...</td>\n",
              "      <td>...</td>\n",
              "      <td>...</td>\n",
              "      <td>...</td>\n",
              "      <td>...</td>\n",
              "      <td>...</td>\n",
              "      <td>...</td>\n",
              "      <td>...</td>\n",
              "      <td>...</td>\n",
              "    </tr>\n",
              "    <tr>\n",
              "      <th>20998</th>\n",
              "      <td>저장양파</td>\n",
              "      <td>서울가락도매</td>\n",
              "      <td>동화청과</td>\n",
              "      <td>전남</td>\n",
              "      <td>함평</td>\n",
              "      <td>667.36</td>\n",
              "      <td>14</td>\n",
              "      <td>2</td>\n",
              "      <td>10124</td>\n",
              "      <td>5730</td>\n",
              "      <td>580151</td>\n",
              "      <td>영광</td>\n",
              "    </tr>\n",
              "    <tr>\n",
              "      <th>20999</th>\n",
              "      <td>기타</td>\n",
              "      <td>서울가락도매</td>\n",
              "      <td>중앙청과</td>\n",
              "      <td>전남</td>\n",
              "      <td>함평</td>\n",
              "      <td>646.19</td>\n",
              "      <td>14</td>\n",
              "      <td>1</td>\n",
              "      <td>10124</td>\n",
              "      <td>5730</td>\n",
              "      <td>580151</td>\n",
              "      <td>영광</td>\n",
              "    </tr>\n",
              "    <tr>\n",
              "      <th>21000</th>\n",
              "      <td>기타</td>\n",
              "      <td>서울강서도매</td>\n",
              "      <td>서부청과</td>\n",
              "      <td>전남</td>\n",
              "      <td>함평</td>\n",
              "      <td>718.19</td>\n",
              "      <td>14</td>\n",
              "      <td>1</td>\n",
              "      <td>10124</td>\n",
              "      <td>5730</td>\n",
              "      <td>580151</td>\n",
              "      <td>영광</td>\n",
              "    </tr>\n",
              "    <tr>\n",
              "      <th>21001</th>\n",
              "      <td>저장양파</td>\n",
              "      <td>서울가락도매</td>\n",
              "      <td>한국청과</td>\n",
              "      <td>전남</td>\n",
              "      <td>함평</td>\n",
              "      <td>718.82</td>\n",
              "      <td>14</td>\n",
              "      <td>1</td>\n",
              "      <td>10124</td>\n",
              "      <td>5730</td>\n",
              "      <td>580151</td>\n",
              "      <td>영광</td>\n",
              "    </tr>\n",
              "    <tr>\n",
              "      <th>21002</th>\n",
              "      <td>저장양파</td>\n",
              "      <td>서울가락도매</td>\n",
              "      <td>동화청과</td>\n",
              "      <td>전남</td>\n",
              "      <td>함평</td>\n",
              "      <td>721.26</td>\n",
              "      <td>14</td>\n",
              "      <td>1</td>\n",
              "      <td>10124</td>\n",
              "      <td>5730</td>\n",
              "      <td>580151</td>\n",
              "      <td>영광</td>\n",
              "    </tr>\n",
              "  </tbody>\n",
              "</table>\n",
              "<p>1696 rows × 12 columns</p>\n",
              "</div>"
            ],
            "text/plain": [
              "         kind  market    corp wide city  ...  month   area  ratio  amount  weather\n",
              "19307    저장양파  서울가락도매    한국청과   전남   함평  ...     10   5743   7883  452737       영광\n",
              "19308    저장양파  서울가락도매    동화청과   전남   함평  ...     10   5743   7883  452737       영광\n",
              "19309    만생양파  서울가락도매    서울청과   전남   함평  ...     10   5743   7883  452737       영광\n",
              "19310    만생양파  광주각화도매  광주중앙청과   전남   함평  ...     10   5743   7883  452737       영광\n",
              "19311  양파(일반)  서울강서도매    농협강서   전남   함평  ...      9   5743   7883  452737       영광\n",
              "...       ...     ...     ...  ...  ...  ...    ...    ...    ...     ...      ...\n",
              "20998    저장양파  서울가락도매    동화청과   전남   함평  ...      2  10124   5730  580151       영광\n",
              "20999      기타  서울가락도매    중앙청과   전남   함평  ...      1  10124   5730  580151       영광\n",
              "21000      기타  서울강서도매    서부청과   전남   함평  ...      1  10124   5730  580151       영광\n",
              "21001    저장양파  서울가락도매    한국청과   전남   함평  ...      1  10124   5730  580151       영광\n",
              "21002    저장양파  서울가락도매    동화청과   전남   함평  ...      1  10124   5730  580151       영광\n",
              "\n",
              "[1696 rows x 12 columns]"
            ]
          },
          "metadata": {},
          "execution_count": 13
        }
      ]
    },
    {
      "cell_type": "code",
      "metadata": {
        "colab": {
          "base_uri": "https://localhost:8080/"
        },
        "id": "5mOiVpgWNDOB",
        "outputId": "a91f1573-7174-4cfa-a224-fdbed00d27a5"
      },
      "source": [
        "PAT.dtypes"
      ],
      "execution_count": null,
      "outputs": [
        {
          "output_type": "execute_result",
          "data": {
            "text/plain": [
              "kind        object\n",
              "market      object\n",
              "corp        object\n",
              "wide        object\n",
              "city        object\n",
              "price      float64\n",
              "year         int64\n",
              "month        int64\n",
              "area         int64\n",
              "ratio        int64\n",
              "amount       int64\n",
              "weather     object\n",
              "dtype: object"
            ]
          },
          "metadata": {},
          "execution_count": 14
        }
      ]
    },
    {
      "cell_type": "code",
      "metadata": {
        "id": "0hNaBxY6W7eC"
      },
      "source": [
        "from sklearn.preprocessing import LabelEncoder\n",
        "\n",
        "encoder1 = LabelEncoder()\n",
        "PAT['kind'] = encoder1.fit_transform(PAT.kind)"
      ],
      "execution_count": null,
      "outputs": []
    },
    {
      "cell_type": "code",
      "metadata": {
        "id": "oj8v2oyu73B9"
      },
      "source": [
        "encoder2 = LabelEncoder()\n",
        "PAT['market'] = encoder2.fit_transform(PAT.market)"
      ],
      "execution_count": null,
      "outputs": []
    },
    {
      "cell_type": "code",
      "metadata": {
        "id": "Y5mumR2176xo"
      },
      "source": [
        "encoder3 = LabelEncoder()\n",
        "PAT['corp'] = encoder3.fit_transform(PAT.corp)"
      ],
      "execution_count": null,
      "outputs": []
    },
    {
      "cell_type": "code",
      "metadata": {
        "colab": {
          "base_uri": "https://localhost:8080/"
        },
        "id": "E_fXkVsYlHj9",
        "outputId": "6d1a669b-f0d8-4acd-be16-887d9e1fb5ae"
      },
      "source": [
        "WIDE = PAT['wide']\n",
        "WIDE.head()"
      ],
      "execution_count": null,
      "outputs": [
        {
          "output_type": "execute_result",
          "data": {
            "text/plain": [
              "0    경북\n",
              "1    경북\n",
              "2    경북\n",
              "3    경북\n",
              "4    경북\n",
              "Name: wide, dtype: object"
            ]
          },
          "metadata": {},
          "execution_count": 20
        }
      ]
    },
    {
      "cell_type": "code",
      "metadata": {
        "id": "xQ4QLpHZl6pm"
      },
      "source": [
        "WIDE.to_dataframe"
      ],
      "execution_count": null,
      "outputs": []
    },
    {
      "cell_type": "code",
      "metadata": {
        "id": "nkt-WJf2lrT8"
      },
      "source": [
        "encoder41 = LabelEncoder()\n",
        "WIDE['encode'] = encoder41.fit_transform(WIDE.wide)"
      ],
      "execution_count": null,
      "outputs": []
    },
    {
      "cell_type": "code",
      "metadata": {
        "id": "LjnV1lPM8DbR"
      },
      "source": [
        "encoder4 = LabelEncoder()\n",
        "PAT['wide'] = encoder4.fit_transform(PAT.wide)"
      ],
      "execution_count": null,
      "outputs": []
    },
    {
      "cell_type": "code",
      "metadata": {
        "colab": {
          "base_uri": "https://localhost:8080/"
        },
        "id": "Gc0WdMGAkGHJ",
        "outputId": "f24c2cab-2322-48af-e162-3c7c09090076"
      },
      "source": [
        "print(encoder4.classes_)"
      ],
      "execution_count": null,
      "outputs": [
        {
          "output_type": "stream",
          "name": "stdout",
          "text": [
            "['경기' '경남' '경북' '광주' '대구' '부산' '전남' '전북' '제주' '충남']\n"
          ]
        }
      ]
    },
    {
      "cell_type": "code",
      "metadata": {
        "id": "QKNw4-t58KlI"
      },
      "source": [
        "encoder5 = LabelEncoder()\n",
        "PAT['city'] = encoder5.fit_transform(PAT.city)"
      ],
      "execution_count": null,
      "outputs": []
    },
    {
      "cell_type": "code",
      "metadata": {
        "colab": {
          "base_uri": "https://localhost:8080/",
          "height": 203
        },
        "id": "nIecbSlxLw4G",
        "outputId": "e819f3ac-1d2b-4470-d0e5-f5d6ccbb6306"
      },
      "source": [
        "inout.head()"
      ],
      "execution_count": null,
      "outputs": [
        {
          "output_type": "execute_result",
          "data": {
            "text/html": [
              "<div>\n",
              "<style scoped>\n",
              "    .dataframe tbody tr th:only-of-type {\n",
              "        vertical-align: middle;\n",
              "    }\n",
              "\n",
              "    .dataframe tbody tr th {\n",
              "        vertical-align: top;\n",
              "    }\n",
              "\n",
              "    .dataframe thead th {\n",
              "        text-align: right;\n",
              "    }\n",
              "</style>\n",
              "<table border=\"1\" class=\"dataframe\">\n",
              "  <thead>\n",
              "    <tr style=\"text-align: right;\">\n",
              "      <th></th>\n",
              "      <th>inn</th>\n",
              "      <th>out</th>\n",
              "      <th>year</th>\n",
              "      <th>month</th>\n",
              "    </tr>\n",
              "  </thead>\n",
              "  <tbody>\n",
              "    <tr>\n",
              "      <th>0</th>\n",
              "      <td>24407.001</td>\n",
              "      <td>1.000</td>\n",
              "      <td>17</td>\n",
              "      <td>1</td>\n",
              "    </tr>\n",
              "    <tr>\n",
              "      <th>1</th>\n",
              "      <td>1417.701</td>\n",
              "      <td>26.206</td>\n",
              "      <td>17</td>\n",
              "      <td>10</td>\n",
              "    </tr>\n",
              "    <tr>\n",
              "      <th>2</th>\n",
              "      <td>2110.050</td>\n",
              "      <td>10.300</td>\n",
              "      <td>17</td>\n",
              "      <td>11</td>\n",
              "    </tr>\n",
              "    <tr>\n",
              "      <th>3</th>\n",
              "      <td>2619.802</td>\n",
              "      <td>4.100</td>\n",
              "      <td>17</td>\n",
              "      <td>12</td>\n",
              "    </tr>\n",
              "    <tr>\n",
              "      <th>4</th>\n",
              "      <td>6681.080</td>\n",
              "      <td>0.305</td>\n",
              "      <td>17</td>\n",
              "      <td>2</td>\n",
              "    </tr>\n",
              "  </tbody>\n",
              "</table>\n",
              "</div>"
            ],
            "text/plain": [
              "         inn     out  year  month\n",
              "0  24407.001   1.000    17      1\n",
              "1   1417.701  26.206    17     10\n",
              "2   2110.050  10.300    17     11\n",
              "3   2619.802   4.100    17     12\n",
              "4   6681.080   0.305    17      2"
            ]
          },
          "metadata": {},
          "execution_count": 8
        }
      ]
    },
    {
      "cell_type": "code",
      "metadata": {
        "colab": {
          "base_uri": "https://localhost:8080/",
          "height": 203
        },
        "id": "bdjyxiQ-Na4E",
        "outputId": "8b0142a1-d57e-4277-a612-710ee895180c"
      },
      "source": [
        "PATI = pd.merge(PAT, inout, on = ['year', 'month'])\n",
        "PATI.head()"
      ],
      "execution_count": null,
      "outputs": [
        {
          "output_type": "execute_result",
          "data": {
            "text/html": [
              "<div>\n",
              "<style scoped>\n",
              "    .dataframe tbody tr th:only-of-type {\n",
              "        vertical-align: middle;\n",
              "    }\n",
              "\n",
              "    .dataframe tbody tr th {\n",
              "        vertical-align: top;\n",
              "    }\n",
              "\n",
              "    .dataframe thead th {\n",
              "        text-align: right;\n",
              "    }\n",
              "</style>\n",
              "<table border=\"1\" class=\"dataframe\">\n",
              "  <thead>\n",
              "    <tr style=\"text-align: right;\">\n",
              "      <th></th>\n",
              "      <th>kind</th>\n",
              "      <th>market</th>\n",
              "      <th>corp</th>\n",
              "      <th>wide</th>\n",
              "      <th>city</th>\n",
              "      <th>price</th>\n",
              "      <th>year</th>\n",
              "      <th>month</th>\n",
              "      <th>area</th>\n",
              "      <th>ratio</th>\n",
              "      <th>amount</th>\n",
              "      <th>weather</th>\n",
              "      <th>inn</th>\n",
              "      <th>out</th>\n",
              "    </tr>\n",
              "  </thead>\n",
              "  <tbody>\n",
              "    <tr>\n",
              "      <th>0</th>\n",
              "      <td>4</td>\n",
              "      <td>5</td>\n",
              "      <td>23</td>\n",
              "      <td>2</td>\n",
              "      <td>26</td>\n",
              "      <td>793.00</td>\n",
              "      <td>21</td>\n",
              "      <td>10</td>\n",
              "      <td>2365</td>\n",
              "      <td>8098</td>\n",
              "      <td>191509</td>\n",
              "      <td>영천</td>\n",
              "      <td>5213.902</td>\n",
              "      <td>7.88</td>\n",
              "    </tr>\n",
              "    <tr>\n",
              "      <th>1</th>\n",
              "      <td>4</td>\n",
              "      <td>5</td>\n",
              "      <td>79</td>\n",
              "      <td>2</td>\n",
              "      <td>26</td>\n",
              "      <td>843.43</td>\n",
              "      <td>21</td>\n",
              "      <td>10</td>\n",
              "      <td>2365</td>\n",
              "      <td>8098</td>\n",
              "      <td>191509</td>\n",
              "      <td>영천</td>\n",
              "      <td>5213.902</td>\n",
              "      <td>7.88</td>\n",
              "    </tr>\n",
              "    <tr>\n",
              "      <th>2</th>\n",
              "      <td>0</td>\n",
              "      <td>31</td>\n",
              "      <td>20</td>\n",
              "      <td>2</td>\n",
              "      <td>26</td>\n",
              "      <td>725.00</td>\n",
              "      <td>21</td>\n",
              "      <td>10</td>\n",
              "      <td>2365</td>\n",
              "      <td>8098</td>\n",
              "      <td>191509</td>\n",
              "      <td>영천</td>\n",
              "      <td>5213.902</td>\n",
              "      <td>7.88</td>\n",
              "    </tr>\n",
              "    <tr>\n",
              "      <th>3</th>\n",
              "      <td>4</td>\n",
              "      <td>5</td>\n",
              "      <td>79</td>\n",
              "      <td>2</td>\n",
              "      <td>29</td>\n",
              "      <td>803.03</td>\n",
              "      <td>21</td>\n",
              "      <td>10</td>\n",
              "      <td>2365</td>\n",
              "      <td>8098</td>\n",
              "      <td>191509</td>\n",
              "      <td>의성</td>\n",
              "      <td>5213.902</td>\n",
              "      <td>7.88</td>\n",
              "    </tr>\n",
              "    <tr>\n",
              "      <th>4</th>\n",
              "      <td>4</td>\n",
              "      <td>9</td>\n",
              "      <td>34</td>\n",
              "      <td>2</td>\n",
              "      <td>29</td>\n",
              "      <td>785.80</td>\n",
              "      <td>21</td>\n",
              "      <td>10</td>\n",
              "      <td>2365</td>\n",
              "      <td>8098</td>\n",
              "      <td>191509</td>\n",
              "      <td>의성</td>\n",
              "      <td>5213.902</td>\n",
              "      <td>7.88</td>\n",
              "    </tr>\n",
              "  </tbody>\n",
              "</table>\n",
              "</div>"
            ],
            "text/plain": [
              "   kind  market  corp  wide  city  ...  ratio  amount  weather       inn   out\n",
              "0     4       5    23     2    26  ...   8098  191509       영천  5213.902  7.88\n",
              "1     4       5    79     2    26  ...   8098  191509       영천  5213.902  7.88\n",
              "2     0      31    20     2    26  ...   8098  191509       영천  5213.902  7.88\n",
              "3     4       5    79     2    29  ...   8098  191509       의성  5213.902  7.88\n",
              "4     4       9    34     2    29  ...   8098  191509       의성  5213.902  7.88\n",
              "\n",
              "[5 rows x 14 columns]"
            ]
          },
          "metadata": {},
          "execution_count": 23
        }
      ]
    },
    {
      "cell_type": "code",
      "metadata": {
        "colab": {
          "base_uri": "https://localhost:8080/",
          "height": 417
        },
        "id": "9A_KPLMuD101",
        "outputId": "74a9d80c-eb0f-4a7c-c2d6-bf626805e6e7"
      },
      "source": [
        "PATI[PATI['weather'] == '영광']"
      ],
      "execution_count": null,
      "outputs": [
        {
          "output_type": "execute_result",
          "data": {
            "text/html": [
              "<div>\n",
              "<style scoped>\n",
              "    .dataframe tbody tr th:only-of-type {\n",
              "        vertical-align: middle;\n",
              "    }\n",
              "\n",
              "    .dataframe tbody tr th {\n",
              "        vertical-align: top;\n",
              "    }\n",
              "\n",
              "    .dataframe thead th {\n",
              "        text-align: right;\n",
              "    }\n",
              "</style>\n",
              "<table border=\"1\" class=\"dataframe\">\n",
              "  <thead>\n",
              "    <tr style=\"text-align: right;\">\n",
              "      <th></th>\n",
              "      <th>kind</th>\n",
              "      <th>market</th>\n",
              "      <th>corp</th>\n",
              "      <th>wide</th>\n",
              "      <th>city</th>\n",
              "      <th>price</th>\n",
              "      <th>year</th>\n",
              "      <th>month</th>\n",
              "      <th>area</th>\n",
              "      <th>ratio</th>\n",
              "      <th>amount</th>\n",
              "      <th>weather</th>\n",
              "      <th>inn</th>\n",
              "      <th>out</th>\n",
              "    </tr>\n",
              "  </thead>\n",
              "  <tbody>\n",
              "    <tr>\n",
              "      <th>94</th>\n",
              "      <td>7</td>\n",
              "      <td>10</td>\n",
              "      <td>75</td>\n",
              "      <td>6</td>\n",
              "      <td>36</td>\n",
              "      <td>803.29</td>\n",
              "      <td>21</td>\n",
              "      <td>10</td>\n",
              "      <td>5743</td>\n",
              "      <td>7883</td>\n",
              "      <td>452737</td>\n",
              "      <td>영광</td>\n",
              "      <td>5213.902</td>\n",
              "      <td>7.88</td>\n",
              "    </tr>\n",
              "    <tr>\n",
              "      <th>95</th>\n",
              "      <td>7</td>\n",
              "      <td>10</td>\n",
              "      <td>30</td>\n",
              "      <td>6</td>\n",
              "      <td>36</td>\n",
              "      <td>809.60</td>\n",
              "      <td>21</td>\n",
              "      <td>10</td>\n",
              "      <td>5743</td>\n",
              "      <td>7883</td>\n",
              "      <td>452737</td>\n",
              "      <td>영광</td>\n",
              "      <td>5213.902</td>\n",
              "      <td>7.88</td>\n",
              "    </tr>\n",
              "    <tr>\n",
              "      <th>96</th>\n",
              "      <td>2</td>\n",
              "      <td>10</td>\n",
              "      <td>37</td>\n",
              "      <td>6</td>\n",
              "      <td>36</td>\n",
              "      <td>767.85</td>\n",
              "      <td>21</td>\n",
              "      <td>10</td>\n",
              "      <td>5743</td>\n",
              "      <td>7883</td>\n",
              "      <td>452737</td>\n",
              "      <td>영광</td>\n",
              "      <td>5213.902</td>\n",
              "      <td>7.88</td>\n",
              "    </tr>\n",
              "    <tr>\n",
              "      <th>97</th>\n",
              "      <td>2</td>\n",
              "      <td>1</td>\n",
              "      <td>5</td>\n",
              "      <td>6</td>\n",
              "      <td>36</td>\n",
              "      <td>812.74</td>\n",
              "      <td>21</td>\n",
              "      <td>10</td>\n",
              "      <td>5743</td>\n",
              "      <td>7883</td>\n",
              "      <td>452737</td>\n",
              "      <td>영광</td>\n",
              "      <td>5213.902</td>\n",
              "      <td>7.88</td>\n",
              "    </tr>\n",
              "    <tr>\n",
              "      <th>450</th>\n",
              "      <td>4</td>\n",
              "      <td>11</td>\n",
              "      <td>11</td>\n",
              "      <td>6</td>\n",
              "      <td>36</td>\n",
              "      <td>1280.16</td>\n",
              "      <td>21</td>\n",
              "      <td>9</td>\n",
              "      <td>5743</td>\n",
              "      <td>7883</td>\n",
              "      <td>452737</td>\n",
              "      <td>영광</td>\n",
              "      <td>3378.003</td>\n",
              "      <td>2.20</td>\n",
              "    </tr>\n",
              "    <tr>\n",
              "      <th>...</th>\n",
              "      <td>...</td>\n",
              "      <td>...</td>\n",
              "      <td>...</td>\n",
              "      <td>...</td>\n",
              "      <td>...</td>\n",
              "      <td>...</td>\n",
              "      <td>...</td>\n",
              "      <td>...</td>\n",
              "      <td>...</td>\n",
              "      <td>...</td>\n",
              "      <td>...</td>\n",
              "      <td>...</td>\n",
              "      <td>...</td>\n",
              "      <td>...</td>\n",
              "    </tr>\n",
              "    <tr>\n",
              "      <th>25101</th>\n",
              "      <td>2</td>\n",
              "      <td>10</td>\n",
              "      <td>75</td>\n",
              "      <td>6</td>\n",
              "      <td>36</td>\n",
              "      <td>1062.24</td>\n",
              "      <td>17</td>\n",
              "      <td>1</td>\n",
              "      <td>9521</td>\n",
              "      <td>5981</td>\n",
              "      <td>569472</td>\n",
              "      <td>영광</td>\n",
              "      <td>24407.001</td>\n",
              "      <td>1.00</td>\n",
              "    </tr>\n",
              "    <tr>\n",
              "      <th>25102</th>\n",
              "      <td>6</td>\n",
              "      <td>10</td>\n",
              "      <td>75</td>\n",
              "      <td>6</td>\n",
              "      <td>36</td>\n",
              "      <td>448.81</td>\n",
              "      <td>17</td>\n",
              "      <td>1</td>\n",
              "      <td>9521</td>\n",
              "      <td>5981</td>\n",
              "      <td>569472</td>\n",
              "      <td>영광</td>\n",
              "      <td>24407.001</td>\n",
              "      <td>1.00</td>\n",
              "    </tr>\n",
              "    <tr>\n",
              "      <th>25103</th>\n",
              "      <td>6</td>\n",
              "      <td>10</td>\n",
              "      <td>60</td>\n",
              "      <td>6</td>\n",
              "      <td>36</td>\n",
              "      <td>567.96</td>\n",
              "      <td>17</td>\n",
              "      <td>1</td>\n",
              "      <td>9521</td>\n",
              "      <td>5981</td>\n",
              "      <td>569472</td>\n",
              "      <td>영광</td>\n",
              "      <td>24407.001</td>\n",
              "      <td>1.00</td>\n",
              "    </tr>\n",
              "    <tr>\n",
              "      <th>25104</th>\n",
              "      <td>6</td>\n",
              "      <td>10</td>\n",
              "      <td>30</td>\n",
              "      <td>6</td>\n",
              "      <td>36</td>\n",
              "      <td>576.23</td>\n",
              "      <td>17</td>\n",
              "      <td>1</td>\n",
              "      <td>9521</td>\n",
              "      <td>5981</td>\n",
              "      <td>569472</td>\n",
              "      <td>영광</td>\n",
              "      <td>24407.001</td>\n",
              "      <td>1.00</td>\n",
              "    </tr>\n",
              "    <tr>\n",
              "      <th>25105</th>\n",
              "      <td>6</td>\n",
              "      <td>11</td>\n",
              "      <td>36</td>\n",
              "      <td>6</td>\n",
              "      <td>36</td>\n",
              "      <td>546.50</td>\n",
              "      <td>17</td>\n",
              "      <td>1</td>\n",
              "      <td>9521</td>\n",
              "      <td>5981</td>\n",
              "      <td>569472</td>\n",
              "      <td>영광</td>\n",
              "      <td>24407.001</td>\n",
              "      <td>1.00</td>\n",
              "    </tr>\n",
              "  </tbody>\n",
              "</table>\n",
              "<p>1335 rows × 14 columns</p>\n",
              "</div>"
            ],
            "text/plain": [
              "       kind  market  corp  wide  city  ...  ratio  amount  weather        inn   out\n",
              "94        7      10    75     6    36  ...   7883  452737       영광   5213.902  7.88\n",
              "95        7      10    30     6    36  ...   7883  452737       영광   5213.902  7.88\n",
              "96        2      10    37     6    36  ...   7883  452737       영광   5213.902  7.88\n",
              "97        2       1     5     6    36  ...   7883  452737       영광   5213.902  7.88\n",
              "450       4      11    11     6    36  ...   7883  452737       영광   3378.003  2.20\n",
              "...     ...     ...   ...   ...   ...  ...    ...     ...      ...        ...   ...\n",
              "25101     2      10    75     6    36  ...   5981  569472       영광  24407.001  1.00\n",
              "25102     6      10    75     6    36  ...   5981  569472       영광  24407.001  1.00\n",
              "25103     6      10    60     6    36  ...   5981  569472       영광  24407.001  1.00\n",
              "25104     6      10    30     6    36  ...   5981  569472       영광  24407.001  1.00\n",
              "25105     6      11    36     6    36  ...   5981  569472       영광  24407.001  1.00\n",
              "\n",
              "[1335 rows x 14 columns]"
            ]
          },
          "metadata": {},
          "execution_count": 98
        }
      ]
    },
    {
      "cell_type": "code",
      "metadata": {
        "id": "TFvNV6MUHka0"
      },
      "source": [
        "weather = pd.read_csv('/content/drive/MyDrive/Colab Notebooks/2nd project/weather2.csv')"
      ],
      "execution_count": null,
      "outputs": []
    },
    {
      "cell_type": "code",
      "metadata": {
        "colab": {
          "base_uri": "https://localhost:8080/",
          "height": 223
        },
        "id": "-OWWnyFwLyuV",
        "outputId": "e1603d0f-2679-46ba-b098-b821c9b73811"
      },
      "source": [
        "weather.head()"
      ],
      "execution_count": null,
      "outputs": [
        {
          "output_type": "execute_result",
          "data": {
            "text/html": [
              "<div>\n",
              "<style scoped>\n",
              "    .dataframe tbody tr th:only-of-type {\n",
              "        vertical-align: middle;\n",
              "    }\n",
              "\n",
              "    .dataframe tbody tr th {\n",
              "        vertical-align: top;\n",
              "    }\n",
              "\n",
              "    .dataframe thead th {\n",
              "        text-align: right;\n",
              "    }\n",
              "</style>\n",
              "<table border=\"1\" class=\"dataframe\">\n",
              "  <thead>\n",
              "    <tr style=\"text-align: right;\">\n",
              "      <th></th>\n",
              "      <th>weather</th>\n",
              "      <th>AT_1</th>\n",
              "      <th>AT_2</th>\n",
              "      <th>AT_3</th>\n",
              "      <th>AT_4</th>\n",
              "      <th>AT_5</th>\n",
              "      <th>AT_6</th>\n",
              "      <th>AT_7</th>\n",
              "      <th>AT_8</th>\n",
              "      <th>AT_9</th>\n",
              "      <th>AT_10</th>\n",
              "      <th>AT_11</th>\n",
              "      <th>AT_12</th>\n",
              "      <th>HT_1</th>\n",
              "      <th>HT_2</th>\n",
              "      <th>HT_3</th>\n",
              "      <th>HT_4</th>\n",
              "      <th>HT_5</th>\n",
              "      <th>HT_6</th>\n",
              "      <th>HT_7</th>\n",
              "      <th>HT_8</th>\n",
              "      <th>HT_9</th>\n",
              "      <th>HT_10</th>\n",
              "      <th>HT_11</th>\n",
              "      <th>HT_12</th>\n",
              "      <th>LT_1</th>\n",
              "      <th>LT_2</th>\n",
              "      <th>LT_3</th>\n",
              "      <th>LT_4</th>\n",
              "      <th>LT_5</th>\n",
              "      <th>LT_6</th>\n",
              "      <th>LT_7</th>\n",
              "      <th>LT_8</th>\n",
              "      <th>LT_9</th>\n",
              "      <th>LT_10</th>\n",
              "      <th>LT_11</th>\n",
              "      <th>LT_12</th>\n",
              "      <th>RAIN_1</th>\n",
              "      <th>RAIN_2</th>\n",
              "      <th>RAIN_3</th>\n",
              "      <th>RAIN_4</th>\n",
              "      <th>RAIN_5</th>\n",
              "      <th>RAIN_6</th>\n",
              "      <th>RAIN_7</th>\n",
              "      <th>RAIN_8</th>\n",
              "      <th>RAIN_9</th>\n",
              "      <th>RAIN_10</th>\n",
              "      <th>RAIN_11</th>\n",
              "      <th>RAIN_12</th>\n",
              "      <th>SUN_1</th>\n",
              "      <th>SUN_2</th>\n",
              "      <th>SUN_3</th>\n",
              "      <th>SUN_4</th>\n",
              "      <th>SUN_5</th>\n",
              "      <th>SUN_6</th>\n",
              "      <th>SUN_7</th>\n",
              "      <th>SUN_8</th>\n",
              "      <th>SUN_9</th>\n",
              "      <th>SUN_10</th>\n",
              "      <th>SUN_11</th>\n",
              "      <th>SUN_12</th>\n",
              "      <th>year</th>\n",
              "    </tr>\n",
              "  </thead>\n",
              "  <tbody>\n",
              "    <tr>\n",
              "      <th>0</th>\n",
              "      <td>강릉</td>\n",
              "      <td>-0.1</td>\n",
              "      <td>0.4</td>\n",
              "      <td>5.7</td>\n",
              "      <td>13.3</td>\n",
              "      <td>17.6</td>\n",
              "      <td>20.6</td>\n",
              "      <td>25.3</td>\n",
              "      <td>25.1</td>\n",
              "      <td>20.2</td>\n",
              "      <td>15.8</td>\n",
              "      <td>7.8</td>\n",
              "      <td>-0.1</td>\n",
              "      <td>4.1</td>\n",
              "      <td>5.1</td>\n",
              "      <td>9.6</td>\n",
              "      <td>18.3</td>\n",
              "      <td>21.9</td>\n",
              "      <td>24.1</td>\n",
              "      <td>28.9</td>\n",
              "      <td>28.4</td>\n",
              "      <td>24.1</td>\n",
              "      <td>20.8</td>\n",
              "      <td>12.3</td>\n",
              "      <td>4.4</td>\n",
              "      <td>-3.2</td>\n",
              "      <td>-3.8</td>\n",
              "      <td>1.9</td>\n",
              "      <td>8.6</td>\n",
              "      <td>13.6</td>\n",
              "      <td>17.5</td>\n",
              "      <td>22.1</td>\n",
              "      <td>22.3</td>\n",
              "      <td>16.9</td>\n",
              "      <td>11.4</td>\n",
              "      <td>4.0</td>\n",
              "      <td>-3.8</td>\n",
              "      <td>39.0</td>\n",
              "      <td>23.1</td>\n",
              "      <td>126.7</td>\n",
              "      <td>126.5</td>\n",
              "      <td>52.7</td>\n",
              "      <td>26.8</td>\n",
              "      <td>261.2</td>\n",
              "      <td>295.3</td>\n",
              "      <td>290.7</td>\n",
              "      <td>10.6</td>\n",
              "      <td>25.6</td>\n",
              "      <td>43.2</td>\n",
              "      <td>196.6</td>\n",
              "      <td>208.4</td>\n",
              "      <td>180.2</td>\n",
              "      <td>211.1</td>\n",
              "      <td>219.3</td>\n",
              "      <td>121.2</td>\n",
              "      <td>182.7</td>\n",
              "      <td>91.5</td>\n",
              "      <td>176.7</td>\n",
              "      <td>232.3</td>\n",
              "      <td>203.6</td>\n",
              "      <td>194.9</td>\n",
              "      <td>13</td>\n",
              "    </tr>\n",
              "    <tr>\n",
              "      <th>1</th>\n",
              "      <td>강릉</td>\n",
              "      <td>-0.5</td>\n",
              "      <td>1.8</td>\n",
              "      <td>7.4</td>\n",
              "      <td>10.8</td>\n",
              "      <td>18.1</td>\n",
              "      <td>21.5</td>\n",
              "      <td>27.0</td>\n",
              "      <td>28.5</td>\n",
              "      <td>20.8</td>\n",
              "      <td>15.8</td>\n",
              "      <td>8.8</td>\n",
              "      <td>3.1</td>\n",
              "      <td>4.0</td>\n",
              "      <td>6.7</td>\n",
              "      <td>12.2</td>\n",
              "      <td>15.3</td>\n",
              "      <td>23.1</td>\n",
              "      <td>25.0</td>\n",
              "      <td>30.7</td>\n",
              "      <td>32.5</td>\n",
              "      <td>24.6</td>\n",
              "      <td>20.4</td>\n",
              "      <td>13.1</td>\n",
              "      <td>7.2</td>\n",
              "      <td>-4.3</td>\n",
              "      <td>-2.5</td>\n",
              "      <td>2.7</td>\n",
              "      <td>6.1</td>\n",
              "      <td>13.6</td>\n",
              "      <td>18.4</td>\n",
              "      <td>23.9</td>\n",
              "      <td>25.3</td>\n",
              "      <td>17.7</td>\n",
              "      <td>11.9</td>\n",
              "      <td>4.8</td>\n",
              "      <td>-0.3</td>\n",
              "      <td>54.6</td>\n",
              "      <td>13.6</td>\n",
              "      <td>81.8</td>\n",
              "      <td>58.0</td>\n",
              "      <td>78.7</td>\n",
              "      <td>36.0</td>\n",
              "      <td>241.9</td>\n",
              "      <td>54.6</td>\n",
              "      <td>135.5</td>\n",
              "      <td>130.8</td>\n",
              "      <td>9.8</td>\n",
              "      <td>26.4</td>\n",
              "      <td>194.3</td>\n",
              "      <td>203.0</td>\n",
              "      <td>238.7</td>\n",
              "      <td>229.7</td>\n",
              "      <td>244.4</td>\n",
              "      <td>173.6</td>\n",
              "      <td>166.0</td>\n",
              "      <td>240.5</td>\n",
              "      <td>142.8</td>\n",
              "      <td>193.5</td>\n",
              "      <td>214.3</td>\n",
              "      <td>197.9</td>\n",
              "      <td>14</td>\n",
              "    </tr>\n",
              "    <tr>\n",
              "      <th>2</th>\n",
              "      <td>강릉</td>\n",
              "      <td>2.3</td>\n",
              "      <td>1.3</td>\n",
              "      <td>8.3</td>\n",
              "      <td>14.1</td>\n",
              "      <td>20.0</td>\n",
              "      <td>20.9</td>\n",
              "      <td>26.1</td>\n",
              "      <td>23.7</td>\n",
              "      <td>20.9</td>\n",
              "      <td>15.9</td>\n",
              "      <td>10.5</td>\n",
              "      <td>1.1</td>\n",
              "      <td>6.4</td>\n",
              "      <td>5.3</td>\n",
              "      <td>12.7</td>\n",
              "      <td>18.7</td>\n",
              "      <td>24.8</td>\n",
              "      <td>24.3</td>\n",
              "      <td>30.1</td>\n",
              "      <td>26.7</td>\n",
              "      <td>25.1</td>\n",
              "      <td>20.6</td>\n",
              "      <td>14.5</td>\n",
              "      <td>5.6</td>\n",
              "      <td>-2.0</td>\n",
              "      <td>-1.8</td>\n",
              "      <td>3.6</td>\n",
              "      <td>9.5</td>\n",
              "      <td>14.9</td>\n",
              "      <td>17.9</td>\n",
              "      <td>22.5</td>\n",
              "      <td>20.9</td>\n",
              "      <td>17.4</td>\n",
              "      <td>11.8</td>\n",
              "      <td>6.8</td>\n",
              "      <td>-3.2</td>\n",
              "      <td>45.6</td>\n",
              "      <td>169.4</td>\n",
              "      <td>55.3</td>\n",
              "      <td>189.3</td>\n",
              "      <td>9.9</td>\n",
              "      <td>55.7</td>\n",
              "      <td>109.5</td>\n",
              "      <td>336.9</td>\n",
              "      <td>212.1</td>\n",
              "      <td>120.2</td>\n",
              "      <td>84.5</td>\n",
              "      <td>0.4</td>\n",
              "      <td>183.3</td>\n",
              "      <td>107.9</td>\n",
              "      <td>192.9</td>\n",
              "      <td>190.7</td>\n",
              "      <td>259.0</td>\n",
              "      <td>122.5</td>\n",
              "      <td>220.7</td>\n",
              "      <td>123.9</td>\n",
              "      <td>189.9</td>\n",
              "      <td>206.1</td>\n",
              "      <td>173.5</td>\n",
              "      <td>227.9</td>\n",
              "      <td>15</td>\n",
              "    </tr>\n",
              "    <tr>\n",
              "      <th>3</th>\n",
              "      <td>강릉</td>\n",
              "      <td>2.2</td>\n",
              "      <td>3.1</td>\n",
              "      <td>8.2</td>\n",
              "      <td>12.1</td>\n",
              "      <td>20.0</td>\n",
              "      <td>21.0</td>\n",
              "      <td>23.8</td>\n",
              "      <td>25.8</td>\n",
              "      <td>20.2</td>\n",
              "      <td>16.0</td>\n",
              "      <td>9.9</td>\n",
              "      <td>4.9</td>\n",
              "      <td>6.4</td>\n",
              "      <td>7.4</td>\n",
              "      <td>13.4</td>\n",
              "      <td>16.7</td>\n",
              "      <td>25.1</td>\n",
              "      <td>25.1</td>\n",
              "      <td>27.2</td>\n",
              "      <td>29.7</td>\n",
              "      <td>24.4</td>\n",
              "      <td>21.0</td>\n",
              "      <td>12.9</td>\n",
              "      <td>8.9</td>\n",
              "      <td>-1.5</td>\n",
              "      <td>-0.6</td>\n",
              "      <td>2.9</td>\n",
              "      <td>7.5</td>\n",
              "      <td>14.8</td>\n",
              "      <td>17.2</td>\n",
              "      <td>20.7</td>\n",
              "      <td>22.4</td>\n",
              "      <td>16.6</td>\n",
              "      <td>11.5</td>\n",
              "      <td>7.2</td>\n",
              "      <td>1.6</td>\n",
              "      <td>20.4</td>\n",
              "      <td>13.1</td>\n",
              "      <td>22.1</td>\n",
              "      <td>76.8</td>\n",
              "      <td>3.1</td>\n",
              "      <td>175.0</td>\n",
              "      <td>62.9</td>\n",
              "      <td>224.8</td>\n",
              "      <td>70.0</td>\n",
              "      <td>21.0</td>\n",
              "      <td>348.9</td>\n",
              "      <td>9.3</td>\n",
              "      <td>185.5</td>\n",
              "      <td>186.3</td>\n",
              "      <td>277.1</td>\n",
              "      <td>188.8</td>\n",
              "      <td>288.3</td>\n",
              "      <td>184.0</td>\n",
              "      <td>173.7</td>\n",
              "      <td>235.7</td>\n",
              "      <td>206.3</td>\n",
              "      <td>255.4</td>\n",
              "      <td>97.7</td>\n",
              "      <td>174.2</td>\n",
              "      <td>16</td>\n",
              "    </tr>\n",
              "    <tr>\n",
              "      <th>4</th>\n",
              "      <td>강릉</td>\n",
              "      <td>0.4</td>\n",
              "      <td>1.9</td>\n",
              "      <td>7.9</td>\n",
              "      <td>14.1</td>\n",
              "      <td>19.3</td>\n",
              "      <td>21.9</td>\n",
              "      <td>24.1</td>\n",
              "      <td>25.8</td>\n",
              "      <td>20.6</td>\n",
              "      <td>15.6</td>\n",
              "      <td>9.1</td>\n",
              "      <td>5.0</td>\n",
              "      <td>4.7</td>\n",
              "      <td>6.0</td>\n",
              "      <td>12.4</td>\n",
              "      <td>19.3</td>\n",
              "      <td>24.9</td>\n",
              "      <td>25.9</td>\n",
              "      <td>27.6</td>\n",
              "      <td>29.8</td>\n",
              "      <td>24.3</td>\n",
              "      <td>19.8</td>\n",
              "      <td>13.6</td>\n",
              "      <td>9.2</td>\n",
              "      <td>-3.1</td>\n",
              "      <td>-1.6</td>\n",
              "      <td>3.7</td>\n",
              "      <td>9.2</td>\n",
              "      <td>14.2</td>\n",
              "      <td>18.3</td>\n",
              "      <td>21.2</td>\n",
              "      <td>22.2</td>\n",
              "      <td>17.6</td>\n",
              "      <td>12.2</td>\n",
              "      <td>4.7</td>\n",
              "      <td>1.2</td>\n",
              "      <td>27.4</td>\n",
              "      <td>48.5</td>\n",
              "      <td>29.3</td>\n",
              "      <td>73.0</td>\n",
              "      <td>33.6</td>\n",
              "      <td>40.7</td>\n",
              "      <td>424.2</td>\n",
              "      <td>282.6</td>\n",
              "      <td>104.8</td>\n",
              "      <td>78.1</td>\n",
              "      <td>33.5</td>\n",
              "      <td>82.5</td>\n",
              "      <td>232.8</td>\n",
              "      <td>213.9</td>\n",
              "      <td>207.0</td>\n",
              "      <td>237.6</td>\n",
              "      <td>285.9</td>\n",
              "      <td>205.1</td>\n",
              "      <td>141.2</td>\n",
              "      <td>235.5</td>\n",
              "      <td>125.4</td>\n",
              "      <td>151.3</td>\n",
              "      <td>189.8</td>\n",
              "      <td>183.9</td>\n",
              "      <td>17</td>\n",
              "    </tr>\n",
              "  </tbody>\n",
              "</table>\n",
              "</div>"
            ],
            "text/plain": [
              "  weather  AT_1  AT_2  AT_3  AT_4  ...  SUN_9  SUN_10  SUN_11  SUN_12  year\n",
              "0      강릉  -0.1   0.4   5.7  13.3  ...  176.7   232.3   203.6   194.9    13\n",
              "1      강릉  -0.5   1.8   7.4  10.8  ...  142.8   193.5   214.3   197.9    14\n",
              "2      강릉   2.3   1.3   8.3  14.1  ...  189.9   206.1   173.5   227.9    15\n",
              "3      강릉   2.2   3.1   8.2  12.1  ...  206.3   255.4    97.7   174.2    16\n",
              "4      강릉   0.4   1.9   7.9  14.1  ...  125.4   151.3   189.8   183.9    17\n",
              "\n",
              "[5 rows x 62 columns]"
            ]
          },
          "metadata": {},
          "execution_count": 103
        }
      ]
    },
    {
      "cell_type": "code",
      "metadata": {
        "colab": {
          "base_uri": "https://localhost:8080/"
        },
        "id": "5B1wNzIbFwTe",
        "outputId": "7245d095-6cdd-4225-94d7-ec8b77d28e96"
      },
      "source": [
        "weather['year'].unique()"
      ],
      "execution_count": null,
      "outputs": [
        {
          "output_type": "execute_result",
          "data": {
            "text/plain": [
              "array([13, 14, 15, 16, 17, 18, 19, 20, 21, 22])"
            ]
          },
          "metadata": {},
          "execution_count": 104
        }
      ]
    },
    {
      "cell_type": "code",
      "metadata": {
        "colab": {
          "base_uri": "https://localhost:8080/",
          "height": 223
        },
        "id": "yAI4WsXhNt0I",
        "outputId": "285158a6-f2a7-4b9a-d29d-6125faf2fbfc"
      },
      "source": [
        "PATIW = pd.merge(PATI, weather, on = ['year', 'weather'])\n",
        "PATIW.head()"
      ],
      "execution_count": null,
      "outputs": [
        {
          "output_type": "execute_result",
          "data": {
            "text/html": [
              "<div>\n",
              "<style scoped>\n",
              "    .dataframe tbody tr th:only-of-type {\n",
              "        vertical-align: middle;\n",
              "    }\n",
              "\n",
              "    .dataframe tbody tr th {\n",
              "        vertical-align: top;\n",
              "    }\n",
              "\n",
              "    .dataframe thead th {\n",
              "        text-align: right;\n",
              "    }\n",
              "</style>\n",
              "<table border=\"1\" class=\"dataframe\">\n",
              "  <thead>\n",
              "    <tr style=\"text-align: right;\">\n",
              "      <th></th>\n",
              "      <th>kind</th>\n",
              "      <th>market</th>\n",
              "      <th>corp</th>\n",
              "      <th>wide</th>\n",
              "      <th>city</th>\n",
              "      <th>price</th>\n",
              "      <th>year</th>\n",
              "      <th>month</th>\n",
              "      <th>area</th>\n",
              "      <th>ratio</th>\n",
              "      <th>amount</th>\n",
              "      <th>weather</th>\n",
              "      <th>inn</th>\n",
              "      <th>out</th>\n",
              "      <th>AT_1</th>\n",
              "      <th>AT_2</th>\n",
              "      <th>AT_3</th>\n",
              "      <th>AT_4</th>\n",
              "      <th>AT_5</th>\n",
              "      <th>AT_6</th>\n",
              "      <th>AT_7</th>\n",
              "      <th>AT_8</th>\n",
              "      <th>AT_9</th>\n",
              "      <th>AT_10</th>\n",
              "      <th>AT_11</th>\n",
              "      <th>AT_12</th>\n",
              "      <th>HT_1</th>\n",
              "      <th>HT_2</th>\n",
              "      <th>HT_3</th>\n",
              "      <th>HT_4</th>\n",
              "      <th>HT_5</th>\n",
              "      <th>HT_6</th>\n",
              "      <th>HT_7</th>\n",
              "      <th>HT_8</th>\n",
              "      <th>HT_9</th>\n",
              "      <th>HT_10</th>\n",
              "      <th>HT_11</th>\n",
              "      <th>HT_12</th>\n",
              "      <th>LT_1</th>\n",
              "      <th>LT_2</th>\n",
              "      <th>LT_3</th>\n",
              "      <th>LT_4</th>\n",
              "      <th>LT_5</th>\n",
              "      <th>LT_6</th>\n",
              "      <th>LT_7</th>\n",
              "      <th>LT_8</th>\n",
              "      <th>LT_9</th>\n",
              "      <th>LT_10</th>\n",
              "      <th>LT_11</th>\n",
              "      <th>LT_12</th>\n",
              "      <th>RAIN_1</th>\n",
              "      <th>RAIN_2</th>\n",
              "      <th>RAIN_3</th>\n",
              "      <th>RAIN_4</th>\n",
              "      <th>RAIN_5</th>\n",
              "      <th>RAIN_6</th>\n",
              "      <th>RAIN_7</th>\n",
              "      <th>RAIN_8</th>\n",
              "      <th>RAIN_9</th>\n",
              "      <th>RAIN_10</th>\n",
              "      <th>RAIN_11</th>\n",
              "      <th>RAIN_12</th>\n",
              "      <th>SUN_1</th>\n",
              "      <th>SUN_2</th>\n",
              "      <th>SUN_3</th>\n",
              "      <th>SUN_4</th>\n",
              "      <th>SUN_5</th>\n",
              "      <th>SUN_6</th>\n",
              "      <th>SUN_7</th>\n",
              "      <th>SUN_8</th>\n",
              "      <th>SUN_9</th>\n",
              "      <th>SUN_10</th>\n",
              "      <th>SUN_11</th>\n",
              "      <th>SUN_12</th>\n",
              "    </tr>\n",
              "  </thead>\n",
              "  <tbody>\n",
              "    <tr>\n",
              "      <th>0</th>\n",
              "      <td>4</td>\n",
              "      <td>5</td>\n",
              "      <td>23</td>\n",
              "      <td>2</td>\n",
              "      <td>26</td>\n",
              "      <td>793.00</td>\n",
              "      <td>21</td>\n",
              "      <td>10</td>\n",
              "      <td>2365</td>\n",
              "      <td>8098</td>\n",
              "      <td>191509</td>\n",
              "      <td>영천</td>\n",
              "      <td>5213.902</td>\n",
              "      <td>7.88</td>\n",
              "      <td>3.3</td>\n",
              "      <td>4.2</td>\n",
              "      <td>8.2</td>\n",
              "      <td>11.3</td>\n",
              "      <td>18.0</td>\n",
              "      <td>23.0</td>\n",
              "      <td>22.0</td>\n",
              "      <td>27.0</td>\n",
              "      <td>19.8</td>\n",
              "      <td>13.8</td>\n",
              "      <td>8.3</td>\n",
              "      <td>0.6</td>\n",
              "      <td>8.7</td>\n",
              "      <td>10.4</td>\n",
              "      <td>15.0</td>\n",
              "      <td>18.5</td>\n",
              "      <td>24.4</td>\n",
              "      <td>29.1</td>\n",
              "      <td>25.8</td>\n",
              "      <td>31.9</td>\n",
              "      <td>25.0</td>\n",
              "      <td>20.6</td>\n",
              "      <td>14.9</td>\n",
              "      <td>7.1</td>\n",
              "      <td>-1.1</td>\n",
              "      <td>-1.5</td>\n",
              "      <td>1.2</td>\n",
              "      <td>3.9</td>\n",
              "      <td>12.0</td>\n",
              "      <td>17.3</td>\n",
              "      <td>18.9</td>\n",
              "      <td>23.3</td>\n",
              "      <td>15.5</td>\n",
              "      <td>8.1</td>\n",
              "      <td>2.2</td>\n",
              "      <td>-5.1</td>\n",
              "      <td>101.3</td>\n",
              "      <td>55.4</td>\n",
              "      <td>21.1</td>\n",
              "      <td>36.5</td>\n",
              "      <td>46.4</td>\n",
              "      <td>142.0</td>\n",
              "      <td>338.5</td>\n",
              "      <td>246.9</td>\n",
              "      <td>201.6</td>\n",
              "      <td>11.1</td>\n",
              "      <td>32.8</td>\n",
              "      <td>0.9</td>\n",
              "      <td>130.5</td>\n",
              "      <td>179.9</td>\n",
              "      <td>224.0</td>\n",
              "      <td>258.5</td>\n",
              "      <td>228.3</td>\n",
              "      <td>217.1</td>\n",
              "      <td>93.8</td>\n",
              "      <td>190.0</td>\n",
              "      <td>140.2</td>\n",
              "      <td>198.3</td>\n",
              "      <td>160.8</td>\n",
              "      <td>172.4</td>\n",
              "    </tr>\n",
              "    <tr>\n",
              "      <th>1</th>\n",
              "      <td>4</td>\n",
              "      <td>5</td>\n",
              "      <td>79</td>\n",
              "      <td>2</td>\n",
              "      <td>26</td>\n",
              "      <td>843.43</td>\n",
              "      <td>21</td>\n",
              "      <td>10</td>\n",
              "      <td>2365</td>\n",
              "      <td>8098</td>\n",
              "      <td>191509</td>\n",
              "      <td>영천</td>\n",
              "      <td>5213.902</td>\n",
              "      <td>7.88</td>\n",
              "      <td>3.3</td>\n",
              "      <td>4.2</td>\n",
              "      <td>8.2</td>\n",
              "      <td>11.3</td>\n",
              "      <td>18.0</td>\n",
              "      <td>23.0</td>\n",
              "      <td>22.0</td>\n",
              "      <td>27.0</td>\n",
              "      <td>19.8</td>\n",
              "      <td>13.8</td>\n",
              "      <td>8.3</td>\n",
              "      <td>0.6</td>\n",
              "      <td>8.7</td>\n",
              "      <td>10.4</td>\n",
              "      <td>15.0</td>\n",
              "      <td>18.5</td>\n",
              "      <td>24.4</td>\n",
              "      <td>29.1</td>\n",
              "      <td>25.8</td>\n",
              "      <td>31.9</td>\n",
              "      <td>25.0</td>\n",
              "      <td>20.6</td>\n",
              "      <td>14.9</td>\n",
              "      <td>7.1</td>\n",
              "      <td>-1.1</td>\n",
              "      <td>-1.5</td>\n",
              "      <td>1.2</td>\n",
              "      <td>3.9</td>\n",
              "      <td>12.0</td>\n",
              "      <td>17.3</td>\n",
              "      <td>18.9</td>\n",
              "      <td>23.3</td>\n",
              "      <td>15.5</td>\n",
              "      <td>8.1</td>\n",
              "      <td>2.2</td>\n",
              "      <td>-5.1</td>\n",
              "      <td>101.3</td>\n",
              "      <td>55.4</td>\n",
              "      <td>21.1</td>\n",
              "      <td>36.5</td>\n",
              "      <td>46.4</td>\n",
              "      <td>142.0</td>\n",
              "      <td>338.5</td>\n",
              "      <td>246.9</td>\n",
              "      <td>201.6</td>\n",
              "      <td>11.1</td>\n",
              "      <td>32.8</td>\n",
              "      <td>0.9</td>\n",
              "      <td>130.5</td>\n",
              "      <td>179.9</td>\n",
              "      <td>224.0</td>\n",
              "      <td>258.5</td>\n",
              "      <td>228.3</td>\n",
              "      <td>217.1</td>\n",
              "      <td>93.8</td>\n",
              "      <td>190.0</td>\n",
              "      <td>140.2</td>\n",
              "      <td>198.3</td>\n",
              "      <td>160.8</td>\n",
              "      <td>172.4</td>\n",
              "    </tr>\n",
              "    <tr>\n",
              "      <th>2</th>\n",
              "      <td>0</td>\n",
              "      <td>31</td>\n",
              "      <td>20</td>\n",
              "      <td>2</td>\n",
              "      <td>26</td>\n",
              "      <td>725.00</td>\n",
              "      <td>21</td>\n",
              "      <td>10</td>\n",
              "      <td>2365</td>\n",
              "      <td>8098</td>\n",
              "      <td>191509</td>\n",
              "      <td>영천</td>\n",
              "      <td>5213.902</td>\n",
              "      <td>7.88</td>\n",
              "      <td>3.3</td>\n",
              "      <td>4.2</td>\n",
              "      <td>8.2</td>\n",
              "      <td>11.3</td>\n",
              "      <td>18.0</td>\n",
              "      <td>23.0</td>\n",
              "      <td>22.0</td>\n",
              "      <td>27.0</td>\n",
              "      <td>19.8</td>\n",
              "      <td>13.8</td>\n",
              "      <td>8.3</td>\n",
              "      <td>0.6</td>\n",
              "      <td>8.7</td>\n",
              "      <td>10.4</td>\n",
              "      <td>15.0</td>\n",
              "      <td>18.5</td>\n",
              "      <td>24.4</td>\n",
              "      <td>29.1</td>\n",
              "      <td>25.8</td>\n",
              "      <td>31.9</td>\n",
              "      <td>25.0</td>\n",
              "      <td>20.6</td>\n",
              "      <td>14.9</td>\n",
              "      <td>7.1</td>\n",
              "      <td>-1.1</td>\n",
              "      <td>-1.5</td>\n",
              "      <td>1.2</td>\n",
              "      <td>3.9</td>\n",
              "      <td>12.0</td>\n",
              "      <td>17.3</td>\n",
              "      <td>18.9</td>\n",
              "      <td>23.3</td>\n",
              "      <td>15.5</td>\n",
              "      <td>8.1</td>\n",
              "      <td>2.2</td>\n",
              "      <td>-5.1</td>\n",
              "      <td>101.3</td>\n",
              "      <td>55.4</td>\n",
              "      <td>21.1</td>\n",
              "      <td>36.5</td>\n",
              "      <td>46.4</td>\n",
              "      <td>142.0</td>\n",
              "      <td>338.5</td>\n",
              "      <td>246.9</td>\n",
              "      <td>201.6</td>\n",
              "      <td>11.1</td>\n",
              "      <td>32.8</td>\n",
              "      <td>0.9</td>\n",
              "      <td>130.5</td>\n",
              "      <td>179.9</td>\n",
              "      <td>224.0</td>\n",
              "      <td>258.5</td>\n",
              "      <td>228.3</td>\n",
              "      <td>217.1</td>\n",
              "      <td>93.8</td>\n",
              "      <td>190.0</td>\n",
              "      <td>140.2</td>\n",
              "      <td>198.3</td>\n",
              "      <td>160.8</td>\n",
              "      <td>172.4</td>\n",
              "    </tr>\n",
              "    <tr>\n",
              "      <th>3</th>\n",
              "      <td>4</td>\n",
              "      <td>5</td>\n",
              "      <td>23</td>\n",
              "      <td>2</td>\n",
              "      <td>26</td>\n",
              "      <td>804.59</td>\n",
              "      <td>21</td>\n",
              "      <td>9</td>\n",
              "      <td>2365</td>\n",
              "      <td>8098</td>\n",
              "      <td>191509</td>\n",
              "      <td>영천</td>\n",
              "      <td>3378.003</td>\n",
              "      <td>2.20</td>\n",
              "      <td>3.3</td>\n",
              "      <td>4.2</td>\n",
              "      <td>8.2</td>\n",
              "      <td>11.3</td>\n",
              "      <td>18.0</td>\n",
              "      <td>23.0</td>\n",
              "      <td>22.0</td>\n",
              "      <td>27.0</td>\n",
              "      <td>19.8</td>\n",
              "      <td>13.8</td>\n",
              "      <td>8.3</td>\n",
              "      <td>0.6</td>\n",
              "      <td>8.7</td>\n",
              "      <td>10.4</td>\n",
              "      <td>15.0</td>\n",
              "      <td>18.5</td>\n",
              "      <td>24.4</td>\n",
              "      <td>29.1</td>\n",
              "      <td>25.8</td>\n",
              "      <td>31.9</td>\n",
              "      <td>25.0</td>\n",
              "      <td>20.6</td>\n",
              "      <td>14.9</td>\n",
              "      <td>7.1</td>\n",
              "      <td>-1.1</td>\n",
              "      <td>-1.5</td>\n",
              "      <td>1.2</td>\n",
              "      <td>3.9</td>\n",
              "      <td>12.0</td>\n",
              "      <td>17.3</td>\n",
              "      <td>18.9</td>\n",
              "      <td>23.3</td>\n",
              "      <td>15.5</td>\n",
              "      <td>8.1</td>\n",
              "      <td>2.2</td>\n",
              "      <td>-5.1</td>\n",
              "      <td>101.3</td>\n",
              "      <td>55.4</td>\n",
              "      <td>21.1</td>\n",
              "      <td>36.5</td>\n",
              "      <td>46.4</td>\n",
              "      <td>142.0</td>\n",
              "      <td>338.5</td>\n",
              "      <td>246.9</td>\n",
              "      <td>201.6</td>\n",
              "      <td>11.1</td>\n",
              "      <td>32.8</td>\n",
              "      <td>0.9</td>\n",
              "      <td>130.5</td>\n",
              "      <td>179.9</td>\n",
              "      <td>224.0</td>\n",
              "      <td>258.5</td>\n",
              "      <td>228.3</td>\n",
              "      <td>217.1</td>\n",
              "      <td>93.8</td>\n",
              "      <td>190.0</td>\n",
              "      <td>140.2</td>\n",
              "      <td>198.3</td>\n",
              "      <td>160.8</td>\n",
              "      <td>172.4</td>\n",
              "    </tr>\n",
              "    <tr>\n",
              "      <th>4</th>\n",
              "      <td>4</td>\n",
              "      <td>5</td>\n",
              "      <td>79</td>\n",
              "      <td>2</td>\n",
              "      <td>26</td>\n",
              "      <td>890.58</td>\n",
              "      <td>21</td>\n",
              "      <td>9</td>\n",
              "      <td>2365</td>\n",
              "      <td>8098</td>\n",
              "      <td>191509</td>\n",
              "      <td>영천</td>\n",
              "      <td>3378.003</td>\n",
              "      <td>2.20</td>\n",
              "      <td>3.3</td>\n",
              "      <td>4.2</td>\n",
              "      <td>8.2</td>\n",
              "      <td>11.3</td>\n",
              "      <td>18.0</td>\n",
              "      <td>23.0</td>\n",
              "      <td>22.0</td>\n",
              "      <td>27.0</td>\n",
              "      <td>19.8</td>\n",
              "      <td>13.8</td>\n",
              "      <td>8.3</td>\n",
              "      <td>0.6</td>\n",
              "      <td>8.7</td>\n",
              "      <td>10.4</td>\n",
              "      <td>15.0</td>\n",
              "      <td>18.5</td>\n",
              "      <td>24.4</td>\n",
              "      <td>29.1</td>\n",
              "      <td>25.8</td>\n",
              "      <td>31.9</td>\n",
              "      <td>25.0</td>\n",
              "      <td>20.6</td>\n",
              "      <td>14.9</td>\n",
              "      <td>7.1</td>\n",
              "      <td>-1.1</td>\n",
              "      <td>-1.5</td>\n",
              "      <td>1.2</td>\n",
              "      <td>3.9</td>\n",
              "      <td>12.0</td>\n",
              "      <td>17.3</td>\n",
              "      <td>18.9</td>\n",
              "      <td>23.3</td>\n",
              "      <td>15.5</td>\n",
              "      <td>8.1</td>\n",
              "      <td>2.2</td>\n",
              "      <td>-5.1</td>\n",
              "      <td>101.3</td>\n",
              "      <td>55.4</td>\n",
              "      <td>21.1</td>\n",
              "      <td>36.5</td>\n",
              "      <td>46.4</td>\n",
              "      <td>142.0</td>\n",
              "      <td>338.5</td>\n",
              "      <td>246.9</td>\n",
              "      <td>201.6</td>\n",
              "      <td>11.1</td>\n",
              "      <td>32.8</td>\n",
              "      <td>0.9</td>\n",
              "      <td>130.5</td>\n",
              "      <td>179.9</td>\n",
              "      <td>224.0</td>\n",
              "      <td>258.5</td>\n",
              "      <td>228.3</td>\n",
              "      <td>217.1</td>\n",
              "      <td>93.8</td>\n",
              "      <td>190.0</td>\n",
              "      <td>140.2</td>\n",
              "      <td>198.3</td>\n",
              "      <td>160.8</td>\n",
              "      <td>172.4</td>\n",
              "    </tr>\n",
              "  </tbody>\n",
              "</table>\n",
              "</div>"
            ],
            "text/plain": [
              "   kind  market  corp  wide  city  ...  SUN_8  SUN_9  SUN_10  SUN_11  SUN_12\n",
              "0     4       5    23     2    26  ...  190.0  140.2   198.3   160.8   172.4\n",
              "1     4       5    79     2    26  ...  190.0  140.2   198.3   160.8   172.4\n",
              "2     0      31    20     2    26  ...  190.0  140.2   198.3   160.8   172.4\n",
              "3     4       5    23     2    26  ...  190.0  140.2   198.3   160.8   172.4\n",
              "4     4       5    79     2    26  ...  190.0  140.2   198.3   160.8   172.4\n",
              "\n",
              "[5 rows x 74 columns]"
            ]
          },
          "metadata": {},
          "execution_count": 105
        }
      ]
    },
    {
      "cell_type": "code",
      "metadata": {
        "colab": {
          "base_uri": "https://localhost:8080/",
          "height": 223
        },
        "id": "hsf9oHIeL2Mm",
        "outputId": "961060bd-86ef-4405-e6a2-9c6261377595"
      },
      "source": [
        "PATIW = PATIW[['price', 'weather', 'kind', 'market', 'corp', 'wide', 'city', 'year', 'month',\n",
        "       'area', 'ratio', 'amount', 'inn', 'out', 'AT_1', 'AT_2',\n",
        "       'AT_3', 'AT_4', 'AT_5', 'AT_6', 'AT_7', 'AT_8', 'AT_9', 'AT_10',\n",
        "       'AT_11', 'AT_12', 'HT_1', 'HT_2', 'HT_3', 'HT_4', 'HT_5', 'HT_6',\n",
        "       'HT_7', 'HT_8', 'HT_9', 'HT_10', 'HT_11', 'HT_12', 'LT_1', 'LT_2',\n",
        "       'LT_3', 'LT_4', 'LT_5', 'LT_6', 'LT_7', 'LT_8', 'LT_9', 'LT_10',\n",
        "       'LT_11', 'LT_12', 'RAIN_1', 'RAIN_2', 'RAIN_3', 'RAIN_4', 'RAIN_5',\n",
        "       'RAIN_6', 'RAIN_7', 'RAIN_8', 'RAIN_9', 'RAIN_10', 'RAIN_11', 'RAIN_12',\n",
        "       'SUN_1', 'SUN_2', 'SUN_3', 'SUN_4', 'SUN_5', 'SUN_6', 'SUN_7', 'SUN_8',\n",
        "       'SUN_9', 'SUN_10', 'SUN_11', 'SUN_12']]\n",
        "PATIW.head()"
      ],
      "execution_count": null,
      "outputs": [
        {
          "output_type": "execute_result",
          "data": {
            "text/html": [
              "<div>\n",
              "<style scoped>\n",
              "    .dataframe tbody tr th:only-of-type {\n",
              "        vertical-align: middle;\n",
              "    }\n",
              "\n",
              "    .dataframe tbody tr th {\n",
              "        vertical-align: top;\n",
              "    }\n",
              "\n",
              "    .dataframe thead th {\n",
              "        text-align: right;\n",
              "    }\n",
              "</style>\n",
              "<table border=\"1\" class=\"dataframe\">\n",
              "  <thead>\n",
              "    <tr style=\"text-align: right;\">\n",
              "      <th></th>\n",
              "      <th>price</th>\n",
              "      <th>weather</th>\n",
              "      <th>kind</th>\n",
              "      <th>market</th>\n",
              "      <th>corp</th>\n",
              "      <th>wide</th>\n",
              "      <th>city</th>\n",
              "      <th>year</th>\n",
              "      <th>month</th>\n",
              "      <th>area</th>\n",
              "      <th>ratio</th>\n",
              "      <th>amount</th>\n",
              "      <th>inn</th>\n",
              "      <th>out</th>\n",
              "      <th>AT_1</th>\n",
              "      <th>AT_2</th>\n",
              "      <th>AT_3</th>\n",
              "      <th>AT_4</th>\n",
              "      <th>AT_5</th>\n",
              "      <th>AT_6</th>\n",
              "      <th>AT_7</th>\n",
              "      <th>AT_8</th>\n",
              "      <th>AT_9</th>\n",
              "      <th>AT_10</th>\n",
              "      <th>AT_11</th>\n",
              "      <th>AT_12</th>\n",
              "      <th>HT_1</th>\n",
              "      <th>HT_2</th>\n",
              "      <th>HT_3</th>\n",
              "      <th>HT_4</th>\n",
              "      <th>HT_5</th>\n",
              "      <th>HT_6</th>\n",
              "      <th>HT_7</th>\n",
              "      <th>HT_8</th>\n",
              "      <th>HT_9</th>\n",
              "      <th>HT_10</th>\n",
              "      <th>HT_11</th>\n",
              "      <th>HT_12</th>\n",
              "      <th>LT_1</th>\n",
              "      <th>LT_2</th>\n",
              "      <th>LT_3</th>\n",
              "      <th>LT_4</th>\n",
              "      <th>LT_5</th>\n",
              "      <th>LT_6</th>\n",
              "      <th>LT_7</th>\n",
              "      <th>LT_8</th>\n",
              "      <th>LT_9</th>\n",
              "      <th>LT_10</th>\n",
              "      <th>LT_11</th>\n",
              "      <th>LT_12</th>\n",
              "      <th>RAIN_1</th>\n",
              "      <th>RAIN_2</th>\n",
              "      <th>RAIN_3</th>\n",
              "      <th>RAIN_4</th>\n",
              "      <th>RAIN_5</th>\n",
              "      <th>RAIN_6</th>\n",
              "      <th>RAIN_7</th>\n",
              "      <th>RAIN_8</th>\n",
              "      <th>RAIN_9</th>\n",
              "      <th>RAIN_10</th>\n",
              "      <th>RAIN_11</th>\n",
              "      <th>RAIN_12</th>\n",
              "      <th>SUN_1</th>\n",
              "      <th>SUN_2</th>\n",
              "      <th>SUN_3</th>\n",
              "      <th>SUN_4</th>\n",
              "      <th>SUN_5</th>\n",
              "      <th>SUN_6</th>\n",
              "      <th>SUN_7</th>\n",
              "      <th>SUN_8</th>\n",
              "      <th>SUN_9</th>\n",
              "      <th>SUN_10</th>\n",
              "      <th>SUN_11</th>\n",
              "      <th>SUN_12</th>\n",
              "    </tr>\n",
              "  </thead>\n",
              "  <tbody>\n",
              "    <tr>\n",
              "      <th>0</th>\n",
              "      <td>793.00</td>\n",
              "      <td>영천</td>\n",
              "      <td>4</td>\n",
              "      <td>5</td>\n",
              "      <td>23</td>\n",
              "      <td>2</td>\n",
              "      <td>26</td>\n",
              "      <td>21</td>\n",
              "      <td>10</td>\n",
              "      <td>2365</td>\n",
              "      <td>8098</td>\n",
              "      <td>191509</td>\n",
              "      <td>5213.902</td>\n",
              "      <td>7.88</td>\n",
              "      <td>3.3</td>\n",
              "      <td>4.2</td>\n",
              "      <td>8.2</td>\n",
              "      <td>11.3</td>\n",
              "      <td>18.0</td>\n",
              "      <td>23.0</td>\n",
              "      <td>22.0</td>\n",
              "      <td>27.0</td>\n",
              "      <td>19.8</td>\n",
              "      <td>13.8</td>\n",
              "      <td>8.3</td>\n",
              "      <td>0.6</td>\n",
              "      <td>8.7</td>\n",
              "      <td>10.4</td>\n",
              "      <td>15.0</td>\n",
              "      <td>18.5</td>\n",
              "      <td>24.4</td>\n",
              "      <td>29.1</td>\n",
              "      <td>25.8</td>\n",
              "      <td>31.9</td>\n",
              "      <td>25.0</td>\n",
              "      <td>20.6</td>\n",
              "      <td>14.9</td>\n",
              "      <td>7.1</td>\n",
              "      <td>-1.1</td>\n",
              "      <td>-1.5</td>\n",
              "      <td>1.2</td>\n",
              "      <td>3.9</td>\n",
              "      <td>12.0</td>\n",
              "      <td>17.3</td>\n",
              "      <td>18.9</td>\n",
              "      <td>23.3</td>\n",
              "      <td>15.5</td>\n",
              "      <td>8.1</td>\n",
              "      <td>2.2</td>\n",
              "      <td>-5.1</td>\n",
              "      <td>101.3</td>\n",
              "      <td>55.4</td>\n",
              "      <td>21.1</td>\n",
              "      <td>36.5</td>\n",
              "      <td>46.4</td>\n",
              "      <td>142.0</td>\n",
              "      <td>338.5</td>\n",
              "      <td>246.9</td>\n",
              "      <td>201.6</td>\n",
              "      <td>11.1</td>\n",
              "      <td>32.8</td>\n",
              "      <td>0.9</td>\n",
              "      <td>130.5</td>\n",
              "      <td>179.9</td>\n",
              "      <td>224.0</td>\n",
              "      <td>258.5</td>\n",
              "      <td>228.3</td>\n",
              "      <td>217.1</td>\n",
              "      <td>93.8</td>\n",
              "      <td>190.0</td>\n",
              "      <td>140.2</td>\n",
              "      <td>198.3</td>\n",
              "      <td>160.8</td>\n",
              "      <td>172.4</td>\n",
              "    </tr>\n",
              "    <tr>\n",
              "      <th>1</th>\n",
              "      <td>843.43</td>\n",
              "      <td>영천</td>\n",
              "      <td>4</td>\n",
              "      <td>5</td>\n",
              "      <td>79</td>\n",
              "      <td>2</td>\n",
              "      <td>26</td>\n",
              "      <td>21</td>\n",
              "      <td>10</td>\n",
              "      <td>2365</td>\n",
              "      <td>8098</td>\n",
              "      <td>191509</td>\n",
              "      <td>5213.902</td>\n",
              "      <td>7.88</td>\n",
              "      <td>3.3</td>\n",
              "      <td>4.2</td>\n",
              "      <td>8.2</td>\n",
              "      <td>11.3</td>\n",
              "      <td>18.0</td>\n",
              "      <td>23.0</td>\n",
              "      <td>22.0</td>\n",
              "      <td>27.0</td>\n",
              "      <td>19.8</td>\n",
              "      <td>13.8</td>\n",
              "      <td>8.3</td>\n",
              "      <td>0.6</td>\n",
              "      <td>8.7</td>\n",
              "      <td>10.4</td>\n",
              "      <td>15.0</td>\n",
              "      <td>18.5</td>\n",
              "      <td>24.4</td>\n",
              "      <td>29.1</td>\n",
              "      <td>25.8</td>\n",
              "      <td>31.9</td>\n",
              "      <td>25.0</td>\n",
              "      <td>20.6</td>\n",
              "      <td>14.9</td>\n",
              "      <td>7.1</td>\n",
              "      <td>-1.1</td>\n",
              "      <td>-1.5</td>\n",
              "      <td>1.2</td>\n",
              "      <td>3.9</td>\n",
              "      <td>12.0</td>\n",
              "      <td>17.3</td>\n",
              "      <td>18.9</td>\n",
              "      <td>23.3</td>\n",
              "      <td>15.5</td>\n",
              "      <td>8.1</td>\n",
              "      <td>2.2</td>\n",
              "      <td>-5.1</td>\n",
              "      <td>101.3</td>\n",
              "      <td>55.4</td>\n",
              "      <td>21.1</td>\n",
              "      <td>36.5</td>\n",
              "      <td>46.4</td>\n",
              "      <td>142.0</td>\n",
              "      <td>338.5</td>\n",
              "      <td>246.9</td>\n",
              "      <td>201.6</td>\n",
              "      <td>11.1</td>\n",
              "      <td>32.8</td>\n",
              "      <td>0.9</td>\n",
              "      <td>130.5</td>\n",
              "      <td>179.9</td>\n",
              "      <td>224.0</td>\n",
              "      <td>258.5</td>\n",
              "      <td>228.3</td>\n",
              "      <td>217.1</td>\n",
              "      <td>93.8</td>\n",
              "      <td>190.0</td>\n",
              "      <td>140.2</td>\n",
              "      <td>198.3</td>\n",
              "      <td>160.8</td>\n",
              "      <td>172.4</td>\n",
              "    </tr>\n",
              "    <tr>\n",
              "      <th>2</th>\n",
              "      <td>725.00</td>\n",
              "      <td>영천</td>\n",
              "      <td>0</td>\n",
              "      <td>31</td>\n",
              "      <td>20</td>\n",
              "      <td>2</td>\n",
              "      <td>26</td>\n",
              "      <td>21</td>\n",
              "      <td>10</td>\n",
              "      <td>2365</td>\n",
              "      <td>8098</td>\n",
              "      <td>191509</td>\n",
              "      <td>5213.902</td>\n",
              "      <td>7.88</td>\n",
              "      <td>3.3</td>\n",
              "      <td>4.2</td>\n",
              "      <td>8.2</td>\n",
              "      <td>11.3</td>\n",
              "      <td>18.0</td>\n",
              "      <td>23.0</td>\n",
              "      <td>22.0</td>\n",
              "      <td>27.0</td>\n",
              "      <td>19.8</td>\n",
              "      <td>13.8</td>\n",
              "      <td>8.3</td>\n",
              "      <td>0.6</td>\n",
              "      <td>8.7</td>\n",
              "      <td>10.4</td>\n",
              "      <td>15.0</td>\n",
              "      <td>18.5</td>\n",
              "      <td>24.4</td>\n",
              "      <td>29.1</td>\n",
              "      <td>25.8</td>\n",
              "      <td>31.9</td>\n",
              "      <td>25.0</td>\n",
              "      <td>20.6</td>\n",
              "      <td>14.9</td>\n",
              "      <td>7.1</td>\n",
              "      <td>-1.1</td>\n",
              "      <td>-1.5</td>\n",
              "      <td>1.2</td>\n",
              "      <td>3.9</td>\n",
              "      <td>12.0</td>\n",
              "      <td>17.3</td>\n",
              "      <td>18.9</td>\n",
              "      <td>23.3</td>\n",
              "      <td>15.5</td>\n",
              "      <td>8.1</td>\n",
              "      <td>2.2</td>\n",
              "      <td>-5.1</td>\n",
              "      <td>101.3</td>\n",
              "      <td>55.4</td>\n",
              "      <td>21.1</td>\n",
              "      <td>36.5</td>\n",
              "      <td>46.4</td>\n",
              "      <td>142.0</td>\n",
              "      <td>338.5</td>\n",
              "      <td>246.9</td>\n",
              "      <td>201.6</td>\n",
              "      <td>11.1</td>\n",
              "      <td>32.8</td>\n",
              "      <td>0.9</td>\n",
              "      <td>130.5</td>\n",
              "      <td>179.9</td>\n",
              "      <td>224.0</td>\n",
              "      <td>258.5</td>\n",
              "      <td>228.3</td>\n",
              "      <td>217.1</td>\n",
              "      <td>93.8</td>\n",
              "      <td>190.0</td>\n",
              "      <td>140.2</td>\n",
              "      <td>198.3</td>\n",
              "      <td>160.8</td>\n",
              "      <td>172.4</td>\n",
              "    </tr>\n",
              "    <tr>\n",
              "      <th>3</th>\n",
              "      <td>804.59</td>\n",
              "      <td>영천</td>\n",
              "      <td>4</td>\n",
              "      <td>5</td>\n",
              "      <td>23</td>\n",
              "      <td>2</td>\n",
              "      <td>26</td>\n",
              "      <td>21</td>\n",
              "      <td>9</td>\n",
              "      <td>2365</td>\n",
              "      <td>8098</td>\n",
              "      <td>191509</td>\n",
              "      <td>3378.003</td>\n",
              "      <td>2.20</td>\n",
              "      <td>3.3</td>\n",
              "      <td>4.2</td>\n",
              "      <td>8.2</td>\n",
              "      <td>11.3</td>\n",
              "      <td>18.0</td>\n",
              "      <td>23.0</td>\n",
              "      <td>22.0</td>\n",
              "      <td>27.0</td>\n",
              "      <td>19.8</td>\n",
              "      <td>13.8</td>\n",
              "      <td>8.3</td>\n",
              "      <td>0.6</td>\n",
              "      <td>8.7</td>\n",
              "      <td>10.4</td>\n",
              "      <td>15.0</td>\n",
              "      <td>18.5</td>\n",
              "      <td>24.4</td>\n",
              "      <td>29.1</td>\n",
              "      <td>25.8</td>\n",
              "      <td>31.9</td>\n",
              "      <td>25.0</td>\n",
              "      <td>20.6</td>\n",
              "      <td>14.9</td>\n",
              "      <td>7.1</td>\n",
              "      <td>-1.1</td>\n",
              "      <td>-1.5</td>\n",
              "      <td>1.2</td>\n",
              "      <td>3.9</td>\n",
              "      <td>12.0</td>\n",
              "      <td>17.3</td>\n",
              "      <td>18.9</td>\n",
              "      <td>23.3</td>\n",
              "      <td>15.5</td>\n",
              "      <td>8.1</td>\n",
              "      <td>2.2</td>\n",
              "      <td>-5.1</td>\n",
              "      <td>101.3</td>\n",
              "      <td>55.4</td>\n",
              "      <td>21.1</td>\n",
              "      <td>36.5</td>\n",
              "      <td>46.4</td>\n",
              "      <td>142.0</td>\n",
              "      <td>338.5</td>\n",
              "      <td>246.9</td>\n",
              "      <td>201.6</td>\n",
              "      <td>11.1</td>\n",
              "      <td>32.8</td>\n",
              "      <td>0.9</td>\n",
              "      <td>130.5</td>\n",
              "      <td>179.9</td>\n",
              "      <td>224.0</td>\n",
              "      <td>258.5</td>\n",
              "      <td>228.3</td>\n",
              "      <td>217.1</td>\n",
              "      <td>93.8</td>\n",
              "      <td>190.0</td>\n",
              "      <td>140.2</td>\n",
              "      <td>198.3</td>\n",
              "      <td>160.8</td>\n",
              "      <td>172.4</td>\n",
              "    </tr>\n",
              "    <tr>\n",
              "      <th>4</th>\n",
              "      <td>890.58</td>\n",
              "      <td>영천</td>\n",
              "      <td>4</td>\n",
              "      <td>5</td>\n",
              "      <td>79</td>\n",
              "      <td>2</td>\n",
              "      <td>26</td>\n",
              "      <td>21</td>\n",
              "      <td>9</td>\n",
              "      <td>2365</td>\n",
              "      <td>8098</td>\n",
              "      <td>191509</td>\n",
              "      <td>3378.003</td>\n",
              "      <td>2.20</td>\n",
              "      <td>3.3</td>\n",
              "      <td>4.2</td>\n",
              "      <td>8.2</td>\n",
              "      <td>11.3</td>\n",
              "      <td>18.0</td>\n",
              "      <td>23.0</td>\n",
              "      <td>22.0</td>\n",
              "      <td>27.0</td>\n",
              "      <td>19.8</td>\n",
              "      <td>13.8</td>\n",
              "      <td>8.3</td>\n",
              "      <td>0.6</td>\n",
              "      <td>8.7</td>\n",
              "      <td>10.4</td>\n",
              "      <td>15.0</td>\n",
              "      <td>18.5</td>\n",
              "      <td>24.4</td>\n",
              "      <td>29.1</td>\n",
              "      <td>25.8</td>\n",
              "      <td>31.9</td>\n",
              "      <td>25.0</td>\n",
              "      <td>20.6</td>\n",
              "      <td>14.9</td>\n",
              "      <td>7.1</td>\n",
              "      <td>-1.1</td>\n",
              "      <td>-1.5</td>\n",
              "      <td>1.2</td>\n",
              "      <td>3.9</td>\n",
              "      <td>12.0</td>\n",
              "      <td>17.3</td>\n",
              "      <td>18.9</td>\n",
              "      <td>23.3</td>\n",
              "      <td>15.5</td>\n",
              "      <td>8.1</td>\n",
              "      <td>2.2</td>\n",
              "      <td>-5.1</td>\n",
              "      <td>101.3</td>\n",
              "      <td>55.4</td>\n",
              "      <td>21.1</td>\n",
              "      <td>36.5</td>\n",
              "      <td>46.4</td>\n",
              "      <td>142.0</td>\n",
              "      <td>338.5</td>\n",
              "      <td>246.9</td>\n",
              "      <td>201.6</td>\n",
              "      <td>11.1</td>\n",
              "      <td>32.8</td>\n",
              "      <td>0.9</td>\n",
              "      <td>130.5</td>\n",
              "      <td>179.9</td>\n",
              "      <td>224.0</td>\n",
              "      <td>258.5</td>\n",
              "      <td>228.3</td>\n",
              "      <td>217.1</td>\n",
              "      <td>93.8</td>\n",
              "      <td>190.0</td>\n",
              "      <td>140.2</td>\n",
              "      <td>198.3</td>\n",
              "      <td>160.8</td>\n",
              "      <td>172.4</td>\n",
              "    </tr>\n",
              "  </tbody>\n",
              "</table>\n",
              "</div>"
            ],
            "text/plain": [
              "    price weather  kind  market  corp  ...  SUN_8  SUN_9  SUN_10  SUN_11  SUN_12\n",
              "0  793.00      영천     4       5    23  ...  190.0  140.2   198.3   160.8   172.4\n",
              "1  843.43      영천     4       5    79  ...  190.0  140.2   198.3   160.8   172.4\n",
              "2  725.00      영천     0      31    20  ...  190.0  140.2   198.3   160.8   172.4\n",
              "3  804.59      영천     4       5    23  ...  190.0  140.2   198.3   160.8   172.4\n",
              "4  890.58      영천     4       5    79  ...  190.0  140.2   198.3   160.8   172.4\n",
              "\n",
              "[5 rows x 74 columns]"
            ]
          },
          "metadata": {},
          "execution_count": 106
        }
      ]
    },
    {
      "cell_type": "code",
      "metadata": {
        "id": "JRS4ybYsOOTW"
      },
      "source": [
        "PATIW.info()"
      ],
      "execution_count": null,
      "outputs": []
    },
    {
      "cell_type": "code",
      "metadata": {
        "id": "3rqJd-6OD-p_"
      },
      "source": [
        "PATIW[PATIW['weather'] =='영광']"
      ],
      "execution_count": null,
      "outputs": []
    },
    {
      "cell_type": "code",
      "metadata": {
        "id": "Z2bQqvsq3jgH"
      },
      "source": [
        "PATIW.to_csv('/content/drive/MyDrive/Colab Notebooks/2nd project/PATIW.csv', index = False)"
      ],
      "execution_count": null,
      "outputs": []
    },
    {
      "cell_type": "markdown",
      "metadata": {
        "id": "ODxLSNFoQBhn"
      },
      "source": [
        "## I. Multivariate Regression"
      ]
    },
    {
      "cell_type": "code",
      "metadata": {
        "colab": {
          "base_uri": "https://localhost:8080/"
        },
        "id": "yZMwc59zOPpo",
        "outputId": "7f903f51-2b3b-41e3-d5d6-561db2c05c7a"
      },
      "source": [
        "from sklearn.model_selection import train_test_split\n",
        "\n",
        "X = PATIW.iloc[:, 2:]\n",
        "y = PATIW.iloc[:, 0]\n",
        "\n",
        "X_train, X_test, y_train, y_test = train_test_split(X, y,\n",
        "                                                    test_size = 0.3,\n",
        "                                                    random_state = 2045)\n",
        "\n",
        "print('Train Data : ', X_train.shape, y_train.shape)\n",
        "print('Test Data : ', X_test.shape, y_test.shape)"
      ],
      "execution_count": null,
      "outputs": [
        {
          "output_type": "stream",
          "name": "stdout",
          "text": [
            "Train Data :  (16653, 72) (16653,)\n",
            "Test Data :  (7138, 72) (7138,)\n"
          ]
        }
      ]
    },
    {
      "cell_type": "markdown",
      "metadata": {
        "id": "y_U77McsPs7J"
      },
      "source": [
        "* normalize = True로 한 이후에 mse와 nmae 안 좋아짐"
      ]
    },
    {
      "cell_type": "code",
      "metadata": {
        "colab": {
          "base_uri": "https://localhost:8080/"
        },
        "id": "PhNSzrzq2dC9",
        "outputId": "bae29e35-1ce4-4680-95fb-628d56e7f8e6"
      },
      "source": [
        "from sklearn.linear_model import LinearRegression\n",
        "\n",
        "MR = LinearRegression(normalize = True, n_jobs = -1)\n",
        "MR.fit(X_train, y_train)"
      ],
      "execution_count": null,
      "outputs": [
        {
          "output_type": "execute_result",
          "data": {
            "text/plain": [
              "LinearRegression(copy_X=True, fit_intercept=True, n_jobs=-1, normalize=True)"
            ]
          },
          "metadata": {},
          "execution_count": 28
        }
      ]
    },
    {
      "cell_type": "code",
      "metadata": {
        "colab": {
          "base_uri": "https://localhost:8080/"
        },
        "id": "P6h9k_lc2jnQ",
        "outputId": "630184ab-99da-449b-c5f9-a813a07bf729"
      },
      "source": [
        "from sklearn.metrics import mean_squared_error\n",
        "import numpy as np\n",
        "\n",
        "mse = mean_squared_error(y_test, MR.predict(X_test))\n",
        "np.sqrt(mse)"
      ],
      "execution_count": null,
      "outputs": [
        {
          "output_type": "execute_result",
          "data": {
            "text/plain": [
              "267.5645370388747"
            ]
          },
          "metadata": {},
          "execution_count": 29
        }
      ]
    },
    {
      "cell_type": "code",
      "metadata": {
        "colab": {
          "base_uri": "https://localhost:8080/"
        },
        "id": "BRbR6qr2MY23",
        "outputId": "e33cbcb8-6747-486a-a6cd-f5a943c64683"
      },
      "source": [
        "from sklearn.metrics import mean_absolute_error\n",
        "import numpy as np\n",
        "mae = mean_absolute_error(y_test, MR.predict(X_test))\n",
        "norm=(abs(y_test).sum())/len(y_test)\n",
        "nmae=mae/norm\n",
        "print('nmae:', nmae)"
      ],
      "execution_count": null,
      "outputs": [
        {
          "output_type": "stream",
          "name": "stdout",
          "text": [
            "nmae: 0.2858605408716733\n"
          ]
        }
      ]
    },
    {
      "cell_type": "markdown",
      "metadata": {
        "id": "EPElO35oQUHV"
      },
      "source": [
        "## II. Ridge Regression"
      ]
    },
    {
      "cell_type": "code",
      "metadata": {
        "colab": {
          "base_uri": "https://localhost:8080/"
        },
        "id": "1CFtZ6oIMGrN",
        "outputId": "430c9604-292a-4ed8-f8bf-da79c6c3c35b"
      },
      "source": [
        "from sklearn.linear_model import Ridge\n",
        "\n",
        "RG = Ridge(normalize = True, \n",
        "           alpha = 0.3,\n",
        "           solver = 'cholesky',\n",
        "           random_state = 2045)   \n",
        "\n",
        "RG.fit(X_train, y_train)"
      ],
      "execution_count": null,
      "outputs": [
        {
          "output_type": "execute_result",
          "data": {
            "text/plain": [
              "Ridge(alpha=0.3, copy_X=True, fit_intercept=True, max_iter=None, normalize=True,\n",
              "      random_state=2045, solver='cholesky', tol=0.001)"
            ]
          },
          "metadata": {},
          "execution_count": 31
        }
      ]
    },
    {
      "cell_type": "markdown",
      "metadata": {
        "id": "2f3HDPwPRCyD"
      },
      "source": [
        "* 제약조건이 있어서 그런가 test에서는 더 향상되지 않음"
      ]
    },
    {
      "cell_type": "code",
      "metadata": {
        "colab": {
          "base_uri": "https://localhost:8080/"
        },
        "id": "T1wyLirqQ6kF",
        "outputId": "bb78e854-9780-4aa6-d9c9-1b3d53cc1c2e"
      },
      "source": [
        "mse = mean_squared_error(y_test, RG.predict(X_test))\n",
        "np.sqrt(mse)"
      ],
      "execution_count": null,
      "outputs": [
        {
          "output_type": "execute_result",
          "data": {
            "text/plain": [
              "273.18425356846325"
            ]
          },
          "metadata": {},
          "execution_count": 32
        }
      ]
    },
    {
      "cell_type": "code",
      "metadata": {
        "colab": {
          "base_uri": "https://localhost:8080/"
        },
        "id": "TL4C21MDQ-u9",
        "outputId": "09abb17c-b7f5-4b9f-a60c-afa9edf78ff3"
      },
      "source": [
        "from sklearn.metrics import mean_absolute_error\n",
        "import numpy as np\n",
        "mae = mean_absolute_error(y_test, RG.predict(X_test))\n",
        "norm=(abs(y_test).sum())/len(y_test)\n",
        "nmae=mae/norm\n",
        "print('nmae:', nmae)"
      ],
      "execution_count": null,
      "outputs": [
        {
          "output_type": "stream",
          "name": "stdout",
          "text": [
            "nmae: 0.29014402319839905\n"
          ]
        }
      ]
    },
    {
      "cell_type": "markdown",
      "metadata": {
        "id": "KCQlehcrRKqs"
      },
      "source": [
        "## III. Lasso Regression"
      ]
    },
    {
      "cell_type": "code",
      "metadata": {
        "colab": {
          "base_uri": "https://localhost:8080/"
        },
        "id": "7MzQfGDrOCL2",
        "outputId": "93274689-7328-4596-b9ae-c6f259391179"
      },
      "source": [
        "from sklearn.linear_model import Lasso\n",
        "\n",
        "LS = Lasso(normalize = True, \n",
        "           alpha = 0.2, random_state = 2045)\n",
        "   \n",
        "LS.fit(X_train, y_train)"
      ],
      "execution_count": null,
      "outputs": [
        {
          "output_type": "execute_result",
          "data": {
            "text/plain": [
              "Lasso(alpha=0.2, copy_X=True, fit_intercept=True, max_iter=1000, normalize=True,\n",
              "      positive=False, precompute=False, random_state=2045, selection='cyclic',\n",
              "      tol=0.0001, warm_start=False)"
            ]
          },
          "metadata": {},
          "execution_count": 35
        }
      ]
    },
    {
      "cell_type": "code",
      "metadata": {
        "colab": {
          "base_uri": "https://localhost:8080/"
        },
        "id": "U3g-yDX-RgGD",
        "outputId": "77ec185e-0d62-4b82-ca32-beb0b834837e"
      },
      "source": [
        "mse = mean_squared_error(y_test, LS.predict(X_test))\n",
        "np.sqrt(mse)"
      ],
      "execution_count": null,
      "outputs": [
        {
          "output_type": "execute_result",
          "data": {
            "text/plain": [
              "283.4790931681807"
            ]
          },
          "metadata": {},
          "execution_count": 36
        }
      ]
    },
    {
      "cell_type": "code",
      "metadata": {
        "colab": {
          "base_uri": "https://localhost:8080/"
        },
        "id": "KFJCRd40RjCy",
        "outputId": "14674483-b949-450c-fec5-f3d5692f7c72"
      },
      "source": [
        "from sklearn.metrics import mean_absolute_error\n",
        "import numpy as np\n",
        "mae = mean_absolute_error(y_test, LS.predict(X_test))\n",
        "norm=(abs(y_test).sum())/len(y_test)\n",
        "nmae=mae/norm\n",
        "print('nmae:', nmae)"
      ],
      "execution_count": null,
      "outputs": [
        {
          "output_type": "stream",
          "name": "stdout",
          "text": [
            "nmae: 0.30074115927369494\n"
          ]
        }
      ]
    },
    {
      "cell_type": "markdown",
      "metadata": {
        "id": "dHuLzjh6RmKl"
      },
      "source": [
        "## IV. ElasticNet Regression"
      ]
    },
    {
      "cell_type": "code",
      "metadata": {
        "colab": {
          "base_uri": "https://localhost:8080/"
        },
        "id": "jxKMUH9A1mO9",
        "outputId": "009706dd-378a-4783-9c91-999b4ba34cd8"
      },
      "source": [
        "from sklearn.linear_model import ElasticNet\n",
        "\n",
        "EN = ElasticNet(normalize = True, \n",
        "                alpha = 0.001,\n",
        "                l1_ratio = 0.7, random_state = 2045)\n",
        "   \n",
        "EN.fit(X_train, y_train)"
      ],
      "execution_count": null,
      "outputs": [
        {
          "output_type": "execute_result",
          "data": {
            "text/plain": [
              "ElasticNet(alpha=0.001, copy_X=True, fit_intercept=True, l1_ratio=0.7,\n",
              "           max_iter=1000, normalize=True, positive=False, precompute=False,\n",
              "           random_state=2045, selection='cyclic', tol=0.0001, warm_start=False)"
            ]
          },
          "metadata": {},
          "execution_count": 39
        }
      ]
    },
    {
      "cell_type": "code",
      "metadata": {
        "colab": {
          "base_uri": "https://localhost:8080/"
        },
        "id": "XeLSruShRwcp",
        "outputId": "4e6fc427-0dcb-402e-9137-676d4daa387b"
      },
      "source": [
        "mse = mean_squared_error(y_test, EN.predict(X_test))\n",
        "np.sqrt(mse)"
      ],
      "execution_count": null,
      "outputs": [
        {
          "output_type": "execute_result",
          "data": {
            "text/plain": [
              "299.030893938869"
            ]
          },
          "metadata": {},
          "execution_count": 40
        }
      ]
    },
    {
      "cell_type": "code",
      "metadata": {
        "colab": {
          "base_uri": "https://localhost:8080/"
        },
        "id": "YmL1CQxxR1FD",
        "outputId": "4506c64e-499b-42bb-fab5-7e173051328a"
      },
      "source": [
        "mae = mean_absolute_error(y_test, EN.predict(X_test))\n",
        "norm=(abs(y_test).sum())/len(y_test)\n",
        "nmae=mae/norm\n",
        "print('nmae:', nmae)"
      ],
      "execution_count": null,
      "outputs": [
        {
          "output_type": "stream",
          "name": "stdout",
          "text": [
            "nmae: 0.3214332515272947\n"
          ]
        }
      ]
    },
    {
      "cell_type": "markdown",
      "metadata": {
        "id": "2IWq24AwR4wZ"
      },
      "source": [
        "## V. Decision Tree Regressor"
      ]
    },
    {
      "cell_type": "code",
      "metadata": {
        "id": "XxKVAvUQPVKe",
        "colab": {
          "base_uri": "https://localhost:8080/"
        },
        "outputId": "e6125f6c-c4c1-4a1e-bad8-38f6fe12b684"
      },
      "source": [
        "from sklearn.tree import DecisionTreeRegressor\n",
        "\n",
        "DTR = DecisionTreeRegressor(max_depth = 5,\n",
        "                            criterion ='mse',\n",
        "                            random_state = 2045)\n",
        "\n",
        "DTR.fit(X_train, y_train)"
      ],
      "execution_count": null,
      "outputs": [
        {
          "output_type": "execute_result",
          "data": {
            "text/plain": [
              "DecisionTreeRegressor(ccp_alpha=0.0, criterion='mse', max_depth=5,\n",
              "                      max_features=None, max_leaf_nodes=None,\n",
              "                      min_impurity_decrease=0.0, min_impurity_split=None,\n",
              "                      min_samples_leaf=1, min_samples_split=2,\n",
              "                      min_weight_fraction_leaf=0.0, presort='deprecated',\n",
              "                      random_state=2045, splitter='best')"
            ]
          },
          "metadata": {},
          "execution_count": 42
        }
      ]
    },
    {
      "cell_type": "markdown",
      "metadata": {
        "id": "16CxNbEHSL1Q"
      },
      "source": [
        "* multivariate regression의 normalize 안 준 값보다 좋아짐"
      ]
    },
    {
      "cell_type": "code",
      "metadata": {
        "colab": {
          "base_uri": "https://localhost:8080/"
        },
        "id": "89Yke9-VSB7S",
        "outputId": "63d1d850-d2b6-4674-d253-5f26f46741a5"
      },
      "source": [
        "mse = mean_squared_error(y_test, DTR.predict(X_test))\n",
        "np.sqrt(mse)"
      ],
      "execution_count": null,
      "outputs": [
        {
          "output_type": "execute_result",
          "data": {
            "text/plain": [
              "204.96438290140958"
            ]
          },
          "metadata": {},
          "execution_count": 43
        }
      ]
    },
    {
      "cell_type": "code",
      "metadata": {
        "colab": {
          "base_uri": "https://localhost:8080/"
        },
        "id": "ntP64d34ST9L",
        "outputId": "f92b29d6-6c3d-4484-8f4b-8de2594d69e1"
      },
      "source": [
        "mae = mean_absolute_error(y_test, DTR.predict(X_test))\n",
        "norm=(abs(y_test).sum())/len(y_test)\n",
        "nmae=mae/norm\n",
        "print('nmae:', nmae)"
      ],
      "execution_count": null,
      "outputs": [
        {
          "output_type": "stream",
          "name": "stdout",
          "text": [
            "nmae: 0.21264235191083117\n"
          ]
        }
      ]
    },
    {
      "cell_type": "code",
      "metadata": {
        "colab": {
          "base_uri": "https://localhost:8080/"
        },
        "id": "v3u9khUdSmSd",
        "outputId": "5d54623c-8ab0-4655-e855-9debc390a808"
      },
      "source": [
        "DTR.feature_importances_"
      ],
      "execution_count": null,
      "outputs": [
        {
          "output_type": "execute_result",
          "data": {
            "text/plain": [
              "array([6.00654208e-03, 7.87893580e-05, 3.63809680e-04, 0.00000000e+00,\n",
              "       0.00000000e+00, 1.54508972e-01, 3.24310399e-01, 0.00000000e+00,\n",
              "       3.09395843e-01, 0.00000000e+00, 5.23572031e-02, 5.13184128e-02,\n",
              "       0.00000000e+00, 0.00000000e+00, 0.00000000e+00, 0.00000000e+00,\n",
              "       0.00000000e+00, 0.00000000e+00, 0.00000000e+00, 0.00000000e+00,\n",
              "       0.00000000e+00, 0.00000000e+00, 0.00000000e+00, 0.00000000e+00,\n",
              "       0.00000000e+00, 0.00000000e+00, 0.00000000e+00, 0.00000000e+00,\n",
              "       0.00000000e+00, 0.00000000e+00, 0.00000000e+00, 0.00000000e+00,\n",
              "       0.00000000e+00, 0.00000000e+00, 0.00000000e+00, 0.00000000e+00,\n",
              "       0.00000000e+00, 0.00000000e+00, 0.00000000e+00, 0.00000000e+00,\n",
              "       0.00000000e+00, 0.00000000e+00, 0.00000000e+00, 0.00000000e+00,\n",
              "       0.00000000e+00, 0.00000000e+00, 0.00000000e+00, 0.00000000e+00,\n",
              "       0.00000000e+00, 0.00000000e+00, 0.00000000e+00, 0.00000000e+00,\n",
              "       0.00000000e+00, 0.00000000e+00, 0.00000000e+00, 0.00000000e+00,\n",
              "       0.00000000e+00, 0.00000000e+00, 0.00000000e+00, 5.21714382e-03,\n",
              "       0.00000000e+00, 0.00000000e+00, 0.00000000e+00, 0.00000000e+00,\n",
              "       0.00000000e+00, 0.00000000e+00, 0.00000000e+00, 2.13516011e-03,\n",
              "       0.00000000e+00, 8.70611599e-02, 0.00000000e+00, 7.24656638e-03])"
            ]
          },
          "metadata": {},
          "execution_count": 45
        }
      ]
    },
    {
      "cell_type": "markdown",
      "metadata": {
        "id": "4tskQMk6TMad"
      },
      "source": [
        "* kind, year, month, ratio, inn, out, rain_12, sun_10, sun_12"
      ]
    },
    {
      "cell_type": "code",
      "metadata": {
        "id": "1PXpEJEIPVKj",
        "colab": {
          "base_uri": "https://localhost:8080/",
          "height": 700
        },
        "outputId": "3a6c6289-d7f3-4ffe-e0a8-d46fab8fd0c4"
      },
      "source": [
        "import matplotlib.pyplot as plt\n",
        "import seaborn as sns\n",
        "\n",
        "plt.figure(figsize = (6, 12))\n",
        "sns.barplot(DTR.feature_importances_, PATIW.iloc[:, 2:].columns)\n",
        "plt.show()"
      ],
      "execution_count": null,
      "outputs": [
        {
          "output_type": "display_data",
          "data": {
            "image/png": "[encoded data removed]",
            "text/plain": [
              "<Figure size 432x864 with 1 Axes>"
            ]
          },
          "metadata": {
            "needs_background": "light"
          }
        }
      ]
    },
    {
      "cell_type": "code",
      "metadata": {
        "colab": {
          "base_uri": "https://localhost:8080/"
        },
        "id": "tHLngazMSh8x",
        "outputId": "abbfd6ee-8295-47c9-ad5b-11592ead5580"
      },
      "source": [
        "PATIW.iloc[:, 2:].columns"
      ],
      "execution_count": null,
      "outputs": [
        {
          "output_type": "execute_result",
          "data": {
            "text/plain": [
              "Index(['kind', 'market', 'corp', 'wide', 'city', 'year', 'month', 'area',\n",
              "       'ratio', 'amount', 'inn', 'out', 'AT_1', 'AT_2', 'AT_3', 'AT_4', 'AT_5',\n",
              "       'AT_6', 'AT_7', 'AT_8', 'AT_9', 'AT_10', 'AT_11', 'AT_12', 'HT_1',\n",
              "       'HT_2', 'HT_3', 'HT_4', 'HT_5', 'HT_6', 'HT_7', 'HT_8', 'HT_9', 'HT_10',\n",
              "       'HT_11', 'HT_12', 'LT_1', 'LT_2', 'LT_3', 'LT_4', 'LT_5', 'LT_6',\n",
              "       'LT_7', 'LT_8', 'LT_9', 'LT_10', 'LT_11', 'LT_12', 'RAIN_1', 'RAIN_2',\n",
              "       'RAIN_3', 'RAIN_4', 'RAIN_5', 'RAIN_6', 'RAIN_7', 'RAIN_8', 'RAIN_9',\n",
              "       'RAIN_10', 'RAIN_11', 'RAIN_12', 'SUN_1', 'SUN_2', 'SUN_3', 'SUN_4',\n",
              "       'SUN_5', 'SUN_6', 'SUN_7', 'SUN_8', 'SUN_9', 'SUN_10', 'SUN_11',\n",
              "       'SUN_12'],\n",
              "      dtype='object')"
            ]
          },
          "metadata": {},
          "execution_count": 48
        }
      ]
    },
    {
      "cell_type": "markdown",
      "metadata": {
        "id": "2P7D2xjVT5WB"
      },
      "source": [
        "### I-1. Multivariate Regression"
      ]
    },
    {
      "cell_type": "markdown",
      "metadata": {
        "id": "LAngW5jiUE80"
      },
      "source": [
        "* decision tree의 feature importance를 반영"
      ]
    },
    {
      "cell_type": "code",
      "metadata": {
        "colab": {
          "base_uri": "https://localhost:8080/"
        },
        "id": "9_fEoFygS06S",
        "outputId": "86f460e1-03f0-4ee8-fb90-8a9271285477"
      },
      "source": [
        "from sklearn.model_selection import train_test_split\n",
        "\n",
        "Xd = PATIW[['kind', 'year', 'month', 'ratio', 'inn', 'out', 'RAIN_12', 'SUN_10', 'SUN_12']]\n",
        "yd = PATIW.iloc[:, 0]\n",
        "\n",
        "Xd_train, Xd_test, yd_train, yd_test = train_test_split(Xd, yd,\n",
        "                                                    test_size = 0.3,\n",
        "                                                    random_state = 2045)\n",
        "\n",
        "print('Train Data : ', Xd_train.shape, yd_train.shape)\n",
        "print('Test Data : ', Xd_test.shape, yd_test.shape)"
      ],
      "execution_count": null,
      "outputs": [
        {
          "output_type": "stream",
          "name": "stdout",
          "text": [
            "Train Data :  (16653, 9) (16653,)\n",
            "Test Data :  (7138, 9) (7138,)\n"
          ]
        }
      ]
    },
    {
      "cell_type": "code",
      "metadata": {
        "colab": {
          "base_uri": "https://localhost:8080/"
        },
        "id": "nPiZLjBgVJEQ",
        "outputId": "f08dc556-771d-4f52-fdb8-ac288a9ebe3b"
      },
      "source": [
        "MRd = LinearRegression()\n",
        "MRd.fit(Xd_train, yd_train)"
      ],
      "execution_count": null,
      "outputs": [
        {
          "output_type": "execute_result",
          "data": {
            "text/plain": [
              "LinearRegression(copy_X=True, fit_intercept=True, n_jobs=None, normalize=False)"
            ]
          },
          "metadata": {},
          "execution_count": 55
        }
      ]
    },
    {
      "cell_type": "markdown",
      "metadata": {
        "id": "mC4hnR6AV2j8"
      },
      "source": [
        "* 변수를 줄였으니 당연히? test에 대해서는 좋아지지 않음 "
      ]
    },
    {
      "cell_type": "code",
      "metadata": {
        "colab": {
          "base_uri": "https://localhost:8080/"
        },
        "id": "LMhKeN35VYjD",
        "outputId": "942f41be-3182-488a-e191-618d2cee35ba"
      },
      "source": [
        "mse = mean_squared_error(yd_test, MRd.predict(Xd_test))\n",
        "np.sqrt(mse)"
      ],
      "execution_count": null,
      "outputs": [
        {
          "output_type": "execute_result",
          "data": {
            "text/plain": [
              "285.6174388897835"
            ]
          },
          "metadata": {},
          "execution_count": 56
        }
      ]
    },
    {
      "cell_type": "code",
      "metadata": {
        "colab": {
          "base_uri": "https://localhost:8080/"
        },
        "id": "rP4SfZZcVs6L",
        "outputId": "17587a6c-5773-4295-8cd3-3caceb06a088"
      },
      "source": [
        "mae = mean_absolute_error(yd_test, MRd.predict(Xd_test))\n",
        "norm=(abs(yd_test).sum())/len(yd_test)\n",
        "nmae=mae/norm\n",
        "print('nmae:', nmae)"
      ],
      "execution_count": null,
      "outputs": [
        {
          "output_type": "stream",
          "name": "stdout",
          "text": [
            "nmae: 0.3098806220468737\n"
          ]
        }
      ]
    },
    {
      "cell_type": "markdown",
      "metadata": {
        "id": "artjv21rWAOs"
      },
      "source": [
        "## VI. Random Forest Regressor"
      ]
    },
    {
      "cell_type": "code",
      "metadata": {
        "id": "J6sn9DsT14w5",
        "colab": {
          "base_uri": "https://localhost:8080/"
        },
        "outputId": "cf8f2be1-f343-4242-9bda-ffa965ee981d"
      },
      "source": [
        "from sklearn.ensemble import RandomForestRegressor\n",
        "\n",
        "RFR = RandomForestRegressor(n_estimators = 2000,\n",
        "                            max_features = 9,\n",
        "                            max_depth = 5,\n",
        "                            criterion ='mse',\n",
        "                            n_jobs = -1,\n",
        "                            random_state = 2045)\n",
        "\n",
        "RFR.fit(X_train, y_train)"
      ],
      "execution_count": null,
      "outputs": [
        {
          "output_type": "execute_result",
          "data": {
            "text/plain": [
              "RandomForestRegressor(bootstrap=True, ccp_alpha=0.0, criterion='mse',\n",
              "                      max_depth=5, max_features=9, max_leaf_nodes=None,\n",
              "                      max_samples=None, min_impurity_decrease=0.0,\n",
              "                      min_impurity_split=None, min_samples_leaf=1,\n",
              "                      min_samples_split=2, min_weight_fraction_leaf=0.0,\n",
              "                      n_estimators=2000, n_jobs=-1, oob_score=False,\n",
              "                      random_state=2045, verbose=0, warm_start=False)"
            ]
          },
          "metadata": {},
          "execution_count": 58
        }
      ]
    },
    {
      "cell_type": "markdown",
      "metadata": {
        "id": "0Fsnbqc0W4_a"
      },
      "source": [
        "* multivariate regression 보다는 향상되었으나\n",
        "* decision tree 보다는 낮아짐 \n",
        "* max_feature를 제한해서 그럴 수도 있음"
      ]
    },
    {
      "cell_type": "code",
      "metadata": {
        "colab": {
          "base_uri": "https://localhost:8080/"
        },
        "id": "az0Szda7WI7D",
        "outputId": "7bb03946-d035-411c-af51-5c829ebe639a"
      },
      "source": [
        "mse = mean_squared_error(y_test, RFR.predict(X_test))\n",
        "np.sqrt(mse)"
      ],
      "execution_count": null,
      "outputs": [
        {
          "output_type": "execute_result",
          "data": {
            "text/plain": [
              "225.77426297169075"
            ]
          },
          "metadata": {},
          "execution_count": 59
        }
      ]
    },
    {
      "cell_type": "code",
      "metadata": {
        "colab": {
          "base_uri": "https://localhost:8080/"
        },
        "id": "HoUq2llqWKDw",
        "outputId": "5f8351c1-d96a-40d1-c32e-7f5487dbb5ac"
      },
      "source": [
        "mae = mean_absolute_error(y_test, RFR.predict(X_test))\n",
        "norm=(abs(y_test).sum())/len(y_test)\n",
        "nmae=mae/norm\n",
        "print('nmae:', nmae)"
      ],
      "execution_count": null,
      "outputs": [
        {
          "output_type": "stream",
          "name": "stdout",
          "text": [
            "nmae: 0.24198211284591906\n"
          ]
        }
      ]
    },
    {
      "cell_type": "markdown",
      "metadata": {
        "id": "PZ1xPMCDXOX2"
      },
      "source": [
        "### VI-1. Random Forest Regressor"
      ]
    },
    {
      "cell_type": "code",
      "metadata": {
        "colab": {
          "base_uri": "https://localhost:8080/"
        },
        "id": "teMRTiM4XIfM",
        "outputId": "7d99515b-89d5-48f4-ff32-a42e5cb77455"
      },
      "source": [
        "from sklearn.ensemble import RandomForestRegressor\n",
        "\n",
        "RFR1 = RandomForestRegressor(n_estimators = 2000,\n",
        "                            max_depth = 5,\n",
        "                            criterion ='mse',\n",
        "                            n_jobs = -1,\n",
        "                            random_state = 2045)\n",
        "\n",
        "RFR1.fit(X_train, y_train)                        ## 2분 23초"
      ],
      "execution_count": null,
      "outputs": [
        {
          "output_type": "execute_result",
          "data": {
            "text/plain": [
              "RandomForestRegressor(bootstrap=True, ccp_alpha=0.0, criterion='mse',\n",
              "                      max_depth=5, max_features='auto', max_leaf_nodes=None,\n",
              "                      max_samples=None, min_impurity_decrease=0.0,\n",
              "                      min_impurity_split=None, min_samples_leaf=1,\n",
              "                      min_samples_split=2, min_weight_fraction_leaf=0.0,\n",
              "                      n_estimators=2000, n_jobs=-1, oob_score=False,\n",
              "                      random_state=2045, verbose=0, warm_start=False)"
            ]
          },
          "metadata": {},
          "execution_count": 61
        }
      ]
    },
    {
      "cell_type": "markdown",
      "metadata": {
        "id": "nRUggxpcYP8-"
      },
      "source": [
        "* decision tree보다 성능 좋아짐"
      ]
    },
    {
      "cell_type": "code",
      "metadata": {
        "colab": {
          "base_uri": "https://localhost:8080/"
        },
        "id": "rSjF1xOGXc7A",
        "outputId": "796a88e9-d268-4c22-a3f3-d85b9d53d9a5"
      },
      "source": [
        "mse = mean_squared_error(y_test, RFR1.predict(X_test))\n",
        "np.sqrt(mse)"
      ],
      "execution_count": null,
      "outputs": [
        {
          "output_type": "execute_result",
          "data": {
            "text/plain": [
              "200.52429674857268"
            ]
          },
          "metadata": {},
          "execution_count": 62
        }
      ]
    },
    {
      "cell_type": "code",
      "metadata": {
        "colab": {
          "base_uri": "https://localhost:8080/"
        },
        "id": "7Fj5WFqOXfBN",
        "outputId": "59ad82b3-fc9c-4267-b90e-f9ebf5561445"
      },
      "source": [
        "mae = mean_absolute_error(y_test, RFR1.predict(X_test))\n",
        "norm=(abs(y_test).sum())/len(y_test)\n",
        "nmae=mae/norm\n",
        "print('nmae:', nmae)"
      ],
      "execution_count": null,
      "outputs": [
        {
          "output_type": "stream",
          "name": "stdout",
          "text": [
            "nmae: 0.20760991998619596\n"
          ]
        }
      ]
    },
    {
      "cell_type": "markdown",
      "metadata": {
        "id": "J_oTyC6xYoI6"
      },
      "source": [
        "* kind, year, month, inn, out, sun_4, sun_10, sun_11"
      ]
    },
    {
      "cell_type": "code",
      "metadata": {
        "colab": {
          "base_uri": "https://localhost:8080/",
          "height": 700
        },
        "id": "jK5qXHIIYfKX",
        "outputId": "97eda27b-1998-45e3-d630-42be55f38c08"
      },
      "source": [
        "plt.figure(figsize = (6, 12))\n",
        "sns.barplot(RFR1.feature_importances_, PATIW.iloc[:, 2:].columns)\n",
        "plt.show()"
      ],
      "execution_count": null,
      "outputs": [
        {
          "output_type": "display_data",
          "data": {
            "image/png": "[encoded data removed]",
            "text/plain": [
              "<Figure size 432x864 with 1 Axes>"
            ]
          },
          "metadata": {
            "needs_background": "light"
          }
        }
      ]
    },
    {
      "cell_type": "markdown",
      "metadata": {
        "id": "peVB_O2nY8Rt"
      },
      "source": [
        "### I-2. Multivariate Regression"
      ]
    },
    {
      "cell_type": "markdown",
      "metadata": {
        "id": "lJ75DUBeZAI5"
      },
      "source": [
        "* random forest의 feature importance를 반영"
      ]
    },
    {
      "cell_type": "code",
      "metadata": {
        "colab": {
          "base_uri": "https://localhost:8080/"
        },
        "id": "vxXOLdZsZKJU",
        "outputId": "c92748bb-0254-4bb8-8ad7-52fd6abf7f70"
      },
      "source": [
        "from sklearn.model_selection import train_test_split\n",
        "\n",
        "Xr = PATIW[['kind', 'year', 'month', 'inn', 'out', 'SUN_4', 'SUN_10', 'SUN_11']]\n",
        "yr = PATIW.iloc[:, 0]\n",
        "\n",
        "Xr_train, Xr_test, yr_train, yr_test = train_test_split(Xr, yr,\n",
        "                                                    test_size = 0.3,\n",
        "                                                    random_state = 2045)\n",
        "\n",
        "print('Train Data : ', Xr_train.shape, yr_train.shape)\n",
        "print('Test Data : ', Xr_test.shape, yr_test.shape)"
      ],
      "execution_count": null,
      "outputs": [
        {
          "output_type": "stream",
          "name": "stdout",
          "text": [
            "Train Data :  (16653, 8) (16653,)\n",
            "Test Data :  (7138, 8) (7138,)\n"
          ]
        }
      ]
    },
    {
      "cell_type": "code",
      "metadata": {
        "colab": {
          "base_uri": "https://localhost:8080/"
        },
        "id": "OObcEWKaZNUw",
        "outputId": "d1dcaec4-28c6-460a-f22c-b3ce5c1b92c1"
      },
      "source": [
        "MRr = LinearRegression()\n",
        "MRr.fit(Xr_train, yr_train)"
      ],
      "execution_count": null,
      "outputs": [
        {
          "output_type": "execute_result",
          "data": {
            "text/plain": [
              "LinearRegression(copy_X=True, fit_intercept=True, n_jobs=None, normalize=False)"
            ]
          },
          "metadata": {},
          "execution_count": 66
        }
      ]
    },
    {
      "cell_type": "code",
      "metadata": {
        "colab": {
          "base_uri": "https://localhost:8080/"
        },
        "id": "hJ-OTu2dZP97",
        "outputId": "214b3229-2929-47b7-84ac-e86d363735bd"
      },
      "source": [
        "mse = mean_squared_error(yr_test, MRr.predict(Xr_test))\n",
        "np.sqrt(mse)"
      ],
      "execution_count": null,
      "outputs": [
        {
          "output_type": "execute_result",
          "data": {
            "text/plain": [
              "280.1406687318063"
            ]
          },
          "metadata": {},
          "execution_count": 67
        }
      ]
    },
    {
      "cell_type": "code",
      "metadata": {
        "colab": {
          "base_uri": "https://localhost:8080/"
        },
        "id": "_XPNtLcAZSsm",
        "outputId": "d5de503c-dbaa-434f-d7bc-e7dd056b0778"
      },
      "source": [
        "mae = mean_absolute_error(yr_test, MRr.predict(Xr_test))\n",
        "norm=(abs(yr_test).sum())/len(yr_test)\n",
        "nmae=mae/norm\n",
        "print('nmae:', nmae)"
      ],
      "execution_count": null,
      "outputs": [
        {
          "output_type": "stream",
          "name": "stdout",
          "text": [
            "nmae: 0.30194854407365906\n"
          ]
        }
      ]
    },
    {
      "cell_type": "markdown",
      "metadata": {
        "id": "zDhwU5HcaJNP"
      },
      "source": [
        "## VII. Gradient Boosting Machine(GBM) Regressor"
      ]
    },
    {
      "cell_type": "code",
      "metadata": {
        "id": "6UDO-dv038Ws",
        "colab": {
          "base_uri": "https://localhost:8080/"
        },
        "outputId": "746824c0-8dac-4463-de8b-a1e73357716b"
      },
      "source": [
        "from sklearn.ensemble import GradientBoostingRegressor\n",
        "\n",
        "GBR = GradientBoostingRegressor(loss = 'ls',\n",
        "                                n_estimators = 9000,\n",
        "                                learning_rate = 0.0001,\n",
        "                                criterion ='mse',\n",
        "                                max_depth = 5,\n",
        "                                random_state = 2045)\n",
        "\n",
        "GBR.fit(X_train, y_train)"
      ],
      "execution_count": null,
      "outputs": [
        {
          "output_type": "execute_result",
          "data": {
            "text/plain": [
              "GradientBoostingRegressor(alpha=0.9, ccp_alpha=0.0, criterion='mse', init=None,\n",
              "                          learning_rate=0.0001, loss='ls', max_depth=5,\n",
              "                          max_features=None, max_leaf_nodes=None,\n",
              "                          min_impurity_decrease=0.0, min_impurity_split=None,\n",
              "                          min_samples_leaf=1, min_samples_split=2,\n",
              "                          min_weight_fraction_leaf=0.0, n_estimators=9000,\n",
              "                          n_iter_no_change=None, presort='deprecated',\n",
              "                          random_state=2045, subsample=1.0, tol=0.0001,\n",
              "                          validation_fraction=0.1, verbose=0, warm_start=False)"
            ]
          },
          "metadata": {},
          "execution_count": 81
        }
      ]
    },
    {
      "cell_type": "markdown",
      "metadata": {
        "id": "gn6rhow10DzW"
      },
      "source": [
        "* random forest보다 좋아지지 않음"
      ]
    },
    {
      "cell_type": "code",
      "metadata": {
        "colab": {
          "base_uri": "https://localhost:8080/"
        },
        "id": "aG8GQe-9anyx",
        "outputId": "c2fe865f-57d9-4c33-92f1-1a8e11663b48"
      },
      "source": [
        "mse = mean_squared_error(y_test, GBR.predict(X_test))\n",
        "np.sqrt(mse)"
      ],
      "execution_count": null,
      "outputs": [
        {
          "output_type": "execute_result",
          "data": {
            "text/plain": [
              "228.65014917333082"
            ]
          },
          "metadata": {},
          "execution_count": 82
        }
      ]
    },
    {
      "cell_type": "code",
      "metadata": {
        "colab": {
          "base_uri": "https://localhost:8080/"
        },
        "id": "xDmARNgNapDG",
        "outputId": "19dcd5ca-7327-4bd4-968d-b894791430e3"
      },
      "source": [
        "mae = mean_absolute_error(y_test, GBR.predict(X_test))\n",
        "norm=(abs(y_test).sum())/len(y_test)\n",
        "nmae=mae/norm\n",
        "print('nmae:', nmae)"
      ],
      "execution_count": null,
      "outputs": [
        {
          "output_type": "stream",
          "name": "stdout",
          "text": [
            "nmae: 0.33486707705926455\n"
          ]
        }
      ]
    },
    {
      "cell_type": "markdown",
      "metadata": {
        "id": "bhK88Sj30LV3"
      },
      "source": [
        "* kind, year, month, ratio, inn, out, rain_11, sun_10, sun_11"
      ]
    },
    {
      "cell_type": "code",
      "metadata": {
        "colab": {
          "base_uri": "https://localhost:8080/",
          "height": 700
        },
        "id": "hV1As1PObHVv",
        "outputId": "9abfca2f-c3db-4601-f34d-5449142fba76"
      },
      "source": [
        "plt.figure(figsize = (6, 12))\n",
        "sns.barplot(GBR.feature_importances_, PATIW.iloc[:, 2:].columns)\n",
        "plt.show()"
      ],
      "execution_count": null,
      "outputs": [
        {
          "output_type": "display_data",
          "data": {
            "image/png": "[encoded data removed]",
            "text/plain": [
              "<Figure size 432x864 with 1 Axes>"
            ]
          },
          "metadata": {
            "needs_background": "light"
          }
        }
      ]
    },
    {
      "cell_type": "markdown",
      "metadata": {
        "id": "qWBtxHApfevP"
      },
      "source": [
        "## VIII. Adaptive Boosting Regressor"
      ]
    },
    {
      "cell_type": "code",
      "metadata": {
        "id": "zr6JNPIcRa7d",
        "colab": {
          "base_uri": "https://localhost:8080/",
          "height": 369
        },
        "outputId": "5dca2808-6118-453e-a34a-901d61db77fb"
      },
      "source": [
        "from sklearn.ensemble import AdaBoostRegressor\n",
        "\n",
        "ABR = AdaBoostRegressor(loss = 'square',\n",
        "                        n_estimators = 9000,\n",
        "                        learning_rate = 0.0001,\n",
        "                        random_state = 2045)\n",
        "\n",
        "ABR.fit(X_train, y_train)"
      ],
      "execution_count": null,
      "outputs": [
        {
          "output_type": "error",
          "ename": "KeyboardInterrupt",
          "evalue": "ignored",
          "traceback": [
            "\u001b[0;31m---------------------------------------------------------------------------\u001b[0m",
            "\u001b[0;31mKeyboardInterrupt\u001b[0m                         Traceback (most recent call last)",
            "\u001b[0;32m<ipython-input-90-094837223bc2>\u001b[0m in \u001b[0;36m<module>\u001b[0;34m()\u001b[0m\n\u001b[1;32m      6\u001b[0m                         random_state = 2045)\n\u001b[1;32m      7\u001b[0m \u001b[0;34m\u001b[0m\u001b[0m\n\u001b[0;32m----> 8\u001b[0;31m \u001b[0mABR\u001b[0m\u001b[0;34m.\u001b[0m\u001b[0mfit\u001b[0m\u001b[0;34m(\u001b[0m\u001b[0mX_train\u001b[0m\u001b[0;34m,\u001b[0m \u001b[0my_train\u001b[0m\u001b[0;34m)\u001b[0m\u001b[0;34m\u001b[0m\u001b[0;34m\u001b[0m\u001b[0m\n\u001b[0m",
            "\u001b[0;32m/usr/local/lib/python3.7/dist-packages/sklearn/ensemble/_weight_boosting.py\u001b[0m in \u001b[0;36mfit\u001b[0;34m(self, X, y, sample_weight)\u001b[0m\n\u001b[1;32m    992\u001b[0m \u001b[0;34m\u001b[0m\u001b[0m\n\u001b[1;32m    993\u001b[0m         \u001b[0;31m# Fit\u001b[0m\u001b[0;34m\u001b[0m\u001b[0;34m\u001b[0m\u001b[0;34m\u001b[0m\u001b[0m\n\u001b[0;32m--> 994\u001b[0;31m         \u001b[0;32mreturn\u001b[0m \u001b[0msuper\u001b[0m\u001b[0;34m(\u001b[0m\u001b[0;34m)\u001b[0m\u001b[0;34m.\u001b[0m\u001b[0mfit\u001b[0m\u001b[0;34m(\u001b[0m\u001b[0mX\u001b[0m\u001b[0;34m,\u001b[0m \u001b[0my\u001b[0m\u001b[0;34m,\u001b[0m \u001b[0msample_weight\u001b[0m\u001b[0;34m)\u001b[0m\u001b[0;34m\u001b[0m\u001b[0;34m\u001b[0m\u001b[0m\n\u001b[0m\u001b[1;32m    995\u001b[0m \u001b[0;34m\u001b[0m\u001b[0m\n\u001b[1;32m    996\u001b[0m     \u001b[0;32mdef\u001b[0m \u001b[0m_validate_estimator\u001b[0m\u001b[0;34m(\u001b[0m\u001b[0mself\u001b[0m\u001b[0;34m)\u001b[0m\u001b[0;34m:\u001b[0m\u001b[0;34m\u001b[0m\u001b[0;34m\u001b[0m\u001b[0m\n",
            "\u001b[0;32m/usr/local/lib/python3.7/dist-packages/sklearn/ensemble/_weight_boosting.py\u001b[0m in \u001b[0;36mfit\u001b[0;34m(self, X, y, sample_weight)\u001b[0m\n\u001b[1;32m    140\u001b[0m                 \u001b[0mX\u001b[0m\u001b[0;34m,\u001b[0m \u001b[0my\u001b[0m\u001b[0;34m,\u001b[0m\u001b[0;34m\u001b[0m\u001b[0;34m\u001b[0m\u001b[0m\n\u001b[1;32m    141\u001b[0m                 \u001b[0msample_weight\u001b[0m\u001b[0;34m,\u001b[0m\u001b[0;34m\u001b[0m\u001b[0;34m\u001b[0m\u001b[0m\n\u001b[0;32m--> 142\u001b[0;31m                 random_state)\n\u001b[0m\u001b[1;32m    143\u001b[0m \u001b[0;34m\u001b[0m\u001b[0m\n\u001b[1;32m    144\u001b[0m             \u001b[0;31m# Early termination\u001b[0m\u001b[0;34m\u001b[0m\u001b[0;34m\u001b[0m\u001b[0;34m\u001b[0m\u001b[0m\n",
            "\u001b[0;32m/usr/local/lib/python3.7/dist-packages/sklearn/ensemble/_weight_boosting.py\u001b[0m in \u001b[0;36m_boost\u001b[0;34m(self, iboost, X, y, sample_weight, random_state)\u001b[0m\n\u001b[1;32m   1049\u001b[0m         \u001b[0mX_\u001b[0m \u001b[0;34m=\u001b[0m \u001b[0m_safe_indexing\u001b[0m\u001b[0;34m(\u001b[0m\u001b[0mX\u001b[0m\u001b[0;34m,\u001b[0m \u001b[0mbootstrap_idx\u001b[0m\u001b[0;34m)\u001b[0m\u001b[0;34m\u001b[0m\u001b[0;34m\u001b[0m\u001b[0m\n\u001b[1;32m   1050\u001b[0m         \u001b[0my_\u001b[0m \u001b[0;34m=\u001b[0m \u001b[0m_safe_indexing\u001b[0m\u001b[0;34m(\u001b[0m\u001b[0my\u001b[0m\u001b[0;34m,\u001b[0m \u001b[0mbootstrap_idx\u001b[0m\u001b[0;34m)\u001b[0m\u001b[0;34m\u001b[0m\u001b[0;34m\u001b[0m\u001b[0m\n\u001b[0;32m-> 1051\u001b[0;31m         \u001b[0mestimator\u001b[0m\u001b[0;34m.\u001b[0m\u001b[0mfit\u001b[0m\u001b[0;34m(\u001b[0m\u001b[0mX_\u001b[0m\u001b[0;34m,\u001b[0m \u001b[0my_\u001b[0m\u001b[0;34m)\u001b[0m\u001b[0;34m\u001b[0m\u001b[0;34m\u001b[0m\u001b[0m\n\u001b[0m\u001b[1;32m   1052\u001b[0m         \u001b[0my_predict\u001b[0m \u001b[0;34m=\u001b[0m \u001b[0mestimator\u001b[0m\u001b[0;34m.\u001b[0m\u001b[0mpredict\u001b[0m\u001b[0;34m(\u001b[0m\u001b[0mX\u001b[0m\u001b[0;34m)\u001b[0m\u001b[0;34m\u001b[0m\u001b[0;34m\u001b[0m\u001b[0m\n\u001b[1;32m   1053\u001b[0m \u001b[0;34m\u001b[0m\u001b[0m\n",
            "\u001b[0;32m/usr/local/lib/python3.7/dist-packages/sklearn/tree/_classes.py\u001b[0m in \u001b[0;36mfit\u001b[0;34m(self, X, y, sample_weight, check_input, X_idx_sorted)\u001b[0m\n\u001b[1;32m   1223\u001b[0m             \u001b[0msample_weight\u001b[0m\u001b[0;34m=\u001b[0m\u001b[0msample_weight\u001b[0m\u001b[0;34m,\u001b[0m\u001b[0;34m\u001b[0m\u001b[0;34m\u001b[0m\u001b[0m\n\u001b[1;32m   1224\u001b[0m             \u001b[0mcheck_input\u001b[0m\u001b[0;34m=\u001b[0m\u001b[0mcheck_input\u001b[0m\u001b[0;34m,\u001b[0m\u001b[0;34m\u001b[0m\u001b[0;34m\u001b[0m\u001b[0m\n\u001b[0;32m-> 1225\u001b[0;31m             X_idx_sorted=X_idx_sorted)\n\u001b[0m\u001b[1;32m   1226\u001b[0m         \u001b[0;32mreturn\u001b[0m \u001b[0mself\u001b[0m\u001b[0;34m\u001b[0m\u001b[0;34m\u001b[0m\u001b[0m\n\u001b[1;32m   1227\u001b[0m \u001b[0;34m\u001b[0m\u001b[0m\n",
            "\u001b[0;32m/usr/local/lib/python3.7/dist-packages/sklearn/tree/_classes.py\u001b[0m in \u001b[0;36mfit\u001b[0;34m(self, X, y, sample_weight, check_input, X_idx_sorted)\u001b[0m\n\u001b[1;32m    365\u001b[0m                                            min_impurity_split)\n\u001b[1;32m    366\u001b[0m \u001b[0;34m\u001b[0m\u001b[0m\n\u001b[0;32m--> 367\u001b[0;31m         \u001b[0mbuilder\u001b[0m\u001b[0;34m.\u001b[0m\u001b[0mbuild\u001b[0m\u001b[0;34m(\u001b[0m\u001b[0mself\u001b[0m\u001b[0;34m.\u001b[0m\u001b[0mtree_\u001b[0m\u001b[0;34m,\u001b[0m \u001b[0mX\u001b[0m\u001b[0;34m,\u001b[0m \u001b[0my\u001b[0m\u001b[0;34m,\u001b[0m \u001b[0msample_weight\u001b[0m\u001b[0;34m,\u001b[0m \u001b[0mX_idx_sorted\u001b[0m\u001b[0;34m)\u001b[0m\u001b[0;34m\u001b[0m\u001b[0;34m\u001b[0m\u001b[0m\n\u001b[0m\u001b[1;32m    368\u001b[0m \u001b[0;34m\u001b[0m\u001b[0m\n\u001b[1;32m    369\u001b[0m         \u001b[0;32mif\u001b[0m \u001b[0mself\u001b[0m\u001b[0;34m.\u001b[0m\u001b[0mn_outputs_\u001b[0m \u001b[0;34m==\u001b[0m \u001b[0;36m1\u001b[0m \u001b[0;32mand\u001b[0m \u001b[0mis_classifier\u001b[0m\u001b[0;34m(\u001b[0m\u001b[0mself\u001b[0m\u001b[0;34m)\u001b[0m\u001b[0;34m:\u001b[0m\u001b[0;34m\u001b[0m\u001b[0;34m\u001b[0m\u001b[0m\n",
            "\u001b[0;31mKeyboardInterrupt\u001b[0m: "
          ]
        }
      ]
    },
    {
      "cell_type": "markdown",
      "metadata": {
        "id": "XCvMCKcN05dC"
      },
      "source": [
        "* n_estimators = 500일 때 가볍고 빠르게 np.sqrt(mse) = 232\n",
        "* n_estimators = 2000으로 늘려도 별다르지 않음"
      ]
    },
    {
      "cell_type": "code",
      "metadata": {
        "colab": {
          "base_uri": "https://localhost:8080/"
        },
        "id": "jQXKsVgDfun_",
        "outputId": "d11dd35a-7ada-4369-e9a6-4d7303a11ebb"
      },
      "source": [
        "mse = mean_squared_error(y_test, ABR.predict(X_test))\n",
        "np.sqrt(mse)"
      ],
      "execution_count": null,
      "outputs": [
        {
          "output_type": "execute_result",
          "data": {
            "text/plain": [
              "232.2190396053357"
            ]
          },
          "metadata": {},
          "execution_count": 88
        }
      ]
    },
    {
      "cell_type": "code",
      "metadata": {
        "colab": {
          "base_uri": "https://localhost:8080/"
        },
        "id": "MByABD5vfwSh",
        "outputId": "2a9ef5b7-0fbd-40ff-cd56-56dc1548eb0a"
      },
      "source": [
        "mae = mean_absolute_error(y_test, ABR.predict(X_test))\n",
        "norm=(abs(y_test).sum())/len(y_test)\n",
        "nmae=mae/norm\n",
        "print('nmae:', nmae)"
      ],
      "execution_count": null,
      "outputs": [
        {
          "output_type": "stream",
          "name": "stdout",
          "text": [
            "nmae: 0.25270389967538204\n"
          ]
        }
      ]
    },
    {
      "cell_type": "code",
      "metadata": {
        "colab": {
          "base_uri": "https://localhost:8080/",
          "height": 700
        },
        "id": "C4b5Cthnf783",
        "outputId": "97eda27b-1998-45e3-d630-42be55f38c08"
      },
      "source": [
        "plt.figure(figsize = (6, 12))\n",
        "sns.barplot(ABR.feature_importances_, PATIW.iloc[:, 2:].columns)\n",
        "plt.show()"
      ],
      "execution_count": null,
      "outputs": [
        {
          "output_type": "display_data",
          "data": {
            "image/png": "[encoded data removed]",
            "text/plain": [
              "<Figure size 432x864 with 1 Axes>"
            ]
          },
          "metadata": {
            "needs_background": "light"
          }
        }
      ]
    },
    {
      "cell_type": "markdown",
      "metadata": {
        "id": "2pS-IORqgBFL"
      },
      "source": [
        "## IX. eXtra Gradient Boost(XGBoost) Classifier"
      ]
    },
    {
      "cell_type": "code",
      "metadata": {
        "id": "GaAsl-CMlevi",
        "colab": {
          "base_uri": "https://localhost:8080/"
        },
        "outputId": "72d372f6-2657-44ec-8e76-2f72b4654595"
      },
      "source": [
        "from xgboost import XGBRegressor\n",
        "\n",
        "XGB = XGBRegressor(booster = 'gblinear',\n",
        "                   n_estimators = 100,\n",
        "                   learning_rate = 0.4,\n",
        "                   reg_lambda = 2.0,\n",
        "                   n_jobs = -1,\n",
        "                   random_state = 2045)\n",
        "\n",
        "XGB.fit(X_train, y_train)"
      ],
      "execution_count": null,
      "outputs": [
        {
          "output_type": "stream",
          "text": [
            "[01:55:32] WARNING: /workspace/src/objective/regression_obj.cu:152: reg:linear is now deprecated in favor of reg:squarederror.\n",
            "CPU times: user 42.3 ms, sys: 1.8 ms, total: 44.1 ms\n",
            "Wall time: 26.4 ms\n"
          ],
          "name": "stdout"
        }
      ]
    },
    {
      "cell_type": "code",
      "metadata": {
        "colab": {
          "base_uri": "https://localhost:8080/"
        },
        "id": "NFR6YQgTgOkQ",
        "outputId": "add55233-86eb-4c3e-fe2d-eccc63a33c15"
      },
      "source": [
        "mse = mean_squared_error(y_test, XGB.predict(X_test))\n",
        "np.sqrt(mse)"
      ],
      "execution_count": null,
      "outputs": [
        {
          "output_type": "execute_result",
          "data": {
            "text/plain": [
              "303.72028266276806"
            ]
          },
          "metadata": {},
          "execution_count": 79
        }
      ]
    },
    {
      "cell_type": "code",
      "metadata": {
        "colab": {
          "base_uri": "https://localhost:8080/"
        },
        "id": "5GvZ6xcEgVuC",
        "outputId": "19dcd5ca-7327-4bd4-968d-b894791430e3"
      },
      "source": [
        "mae = mean_absolute_error(y_test, XGB.predict(X_test))\n",
        "norm=(abs(y_test).sum())/len(y_test)\n",
        "nmae=mae/norm\n",
        "print('nmae:', nmae)"
      ],
      "execution_count": null,
      "outputs": [
        {
          "output_type": "stream",
          "name": "stdout",
          "text": [
            "nmae: 0.33486707705926455\n"
          ]
        }
      ]
    },
    {
      "cell_type": "markdown",
      "metadata": {
        "id": "hKeYcz-ygbWV"
      },
      "source": [
        "## X. LightGBM Regressor"
      ]
    },
    {
      "cell_type": "code",
      "metadata": {
        "id": "W687qbxglpou",
        "colab": {
          "base_uri": "https://localhost:8080/"
        },
        "outputId": "0ad735cd-492c-432d-a31e-f191e2555cbf"
      },
      "source": [
        "from lightgbm import LGBMRegressor\n",
        "\n",
        "LGB = LGBMRegressor(linear_tree = True,\n",
        "                    boosting_type = 'gbdt',\n",
        "                    objective = 'regression',\n",
        "                    n_estimators = 500,\n",
        "                    learning_rate = 0.001,\n",
        "                    max_depth = 2,\n",
        "                    n_jobs = -1)\n",
        "\n",
        "LGB.fit(X_train, y_train)"
      ],
      "execution_count": null,
      "outputs": [
        {
          "output_type": "stream",
          "text": [
            "CPU times: user 97.3 ms, sys: 5.95 ms, total: 103 ms\n",
            "Wall time: 58.1 ms\n"
          ],
          "name": "stdout"
        }
      ]
    },
    {
      "cell_type": "code",
      "metadata": {
        "colab": {
          "base_uri": "https://localhost:8080/"
        },
        "id": "ebnUC5VAgkSW",
        "outputId": "add55233-86eb-4c3e-fe2d-eccc63a33c15"
      },
      "source": [
        "mse = mean_squared_error(y_test, LGB.predict(X_test))\n",
        "np.sqrt(mse)"
      ],
      "execution_count": null,
      "outputs": [
        {
          "output_type": "execute_result",
          "data": {
            "text/plain": [
              "303.72028266276806"
            ]
          },
          "metadata": {},
          "execution_count": 79
        }
      ]
    },
    {
      "cell_type": "code",
      "metadata": {
        "colab": {
          "base_uri": "https://localhost:8080/"
        },
        "id": "xKJMAguIgmRX",
        "outputId": "19dcd5ca-7327-4bd4-968d-b894791430e3"
      },
      "source": [
        "mae = mean_absolute_error(y_test, LGB.predict(X_test))\n",
        "norm=(abs(y_test).sum())/len(y_test)\n",
        "nmae=mae/norm\n",
        "print('nmae:', nmae)"
      ],
      "execution_count": null,
      "outputs": [
        {
          "output_type": "stream",
          "name": "stdout",
          "text": [
            "nmae: 0.33486707705926455\n"
          ]
        }
      ]
    },
    {
      "cell_type": "code",
      "metadata": {
        "colab": {
          "base_uri": "https://localhost:8080/",
          "height": 700
        },
        "id": "rt6xzUDrgyZd",
        "outputId": "97eda27b-1998-45e3-d630-42be55f38c08"
      },
      "source": [
        "plt.figure(figsize = (6, 12))\n",
        "sns.barplot(LGB.feature_importances_, PATIW.iloc[:, 2:].columns)\n",
        "plt.show()"
      ],
      "execution_count": null,
      "outputs": [
        {
          "output_type": "display_data",
          "data": {
            "image/png": "[encoded data removed]",
            "text/plain": [
              "<Figure size 432x864 with 1 Axes>"
            ]
          },
          "metadata": {
            "needs_background": "light"
          }
        }
      ]
    }
  ]
}