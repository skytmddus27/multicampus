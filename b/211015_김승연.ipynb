{
  "nbformat": 4,
  "nbformat_minor": 0,
  "metadata": {
    "colab": {
      "name": "211015_김승연",
      "provenance": [],
      "toc_visible": true
    },
    "kernelspec": {
      "name": "python3",
      "display_name": "Python 3"
    },
    "language_info": {
      "name": "python"
    }
  },
  "cells": [
    {
      "cell_type": "code",
      "metadata": {
        "id": "1Vxe1jDcP1-h"
      },
      "source": [
        "f# colab 사용자만 실행\n",
        "!sudo apt-get install -y fonts-nanum\n",
        "!sudo fc-cache -fv\n",
        "!rm ~/.cache/matplotlib -rf\n",
        "# 런타임 -> 런타임 다시 시작하고 아래 한글폰트 설정 시작\n",
        "# 위에서 csv 파일은 다시 불러와야함."
      ],
      "execution_count": null,
      "outputs": []
    },
    {
      "cell_type": "code",
      "metadata": {
        "id": "-gs7BQYWP0Kk"
      },
      "source": [
        "# matplotlib.pyplot 을 통해 한글폰트를 설정합니다.\n",
        "# plt.style.use 로 \"fivethirtyeight\" 스타일을 사용해 봅니다.\n",
        "\n",
        "import matplotlib.pyplot as plt\n",
        "import pandas as pd\n",
        "\n",
        "plt.rc('font', family='NanumBarunGothic') \n",
        "plt.style.use('fivethirtyeight')\n",
        "# 그래프에 retina display 적용\n",
        "%config InlineBackend.figure_format = 'retina'\n",
        "\n",
        "pd.Series([1,3,-5,2,8]).plot.bar(title='한글제목')"
      ],
      "execution_count": null,
      "outputs": []
    },
    {
      "cell_type": "code",
      "metadata": {
        "id": "RjOhtq5huBKe"
      },
      "source": [
        "import warnings\n",
        "warnings.filterwarnings('ignore')"
      ],
      "execution_count": null,
      "outputs": []
    },
    {
      "cell_type": "code",
      "metadata": {
        "colab": {
          "base_uri": "https://localhost:8080/"
        },
        "id": "Zu2lxPvXuFm3",
        "outputId": "fd8ba94d-91e6-4ca0-ba86-fb92ed4b59a8"
      },
      "source": [
        "from google.colab import drive\n",
        "\n",
        "drive.mount('/content/drive')"
      ],
      "execution_count": null,
      "outputs": [
        {
          "output_type": "stream",
          "name": "stdout",
          "text": [
            "Mounted at /content/drive\n"
          ]
        }
      ]
    },
    {
      "cell_type": "code",
      "metadata": {
        "id": "RFqK-Ox_uHLz"
      },
      "source": [
        "import pandas as pd\n",
        "price = pd.read_excel('/content/drive/MyDrive/Colab Notebooks/2nd project/1401-2110_가격.xlsx')\n",
        "weather = pd.read_csv('/content/drive/MyDrive/Colab Notebooks/2nd project/1401-2109_기온강수일조.csv', encoding = 'cp949')\n",
        "amount = pd.read_csv('/content/drive/MyDrive/Colab Notebooks/2nd project/13-21_통계청_채소생산량(재배면적).csv', encoding = 'cp949')"
      ],
      "execution_count": null,
      "outputs": []
    },
    {
      "cell_type": "markdown",
      "metadata": {
        "id": "mt1Ezop4QRz_"
      },
      "source": [
        "# 1. 전처리"
      ]
    },
    {
      "cell_type": "markdown",
      "metadata": {
        "id": "0F0QnTUl4HWf"
      },
      "source": [
        "## price"
      ]
    },
    {
      "cell_type": "code",
      "metadata": {
        "colab": {
          "base_uri": "https://localhost:8080/",
          "height": 203
        },
        "id": "tV_e011mSm7Z",
        "outputId": "b51afa73-dc42-401b-d5e6-879f77d170a6"
      },
      "source": [
        "price['년월'] = '20' + price['년월']\n",
        "price['년월'] = price['년월'].str.replace('. ','-')\n",
        "price['년월'] = pd.to_datetime(price['년월'], format=\"%Y-%m\")\n",
        "price.head()"
      ],
      "execution_count": null,
      "outputs": [
        {
          "output_type": "execute_result",
          "data": {
            "text/html": [
              "<div>\n",
              "<style scoped>\n",
              "    .dataframe tbody tr th:only-of-type {\n",
              "        vertical-align: middle;\n",
              "    }\n",
              "\n",
              "    .dataframe tbody tr th {\n",
              "        vertical-align: top;\n",
              "    }\n",
              "\n",
              "    .dataframe thead th {\n",
              "        text-align: right;\n",
              "    }\n",
              "</style>\n",
              "<table border=\"1\" class=\"dataframe\">\n",
              "  <thead>\n",
              "    <tr style=\"text-align: right;\">\n",
              "      <th></th>\n",
              "      <th>년월</th>\n",
              "      <th>품목</th>\n",
              "      <th>품종</th>\n",
              "      <th>시장</th>\n",
              "      <th>법인</th>\n",
              "      <th>광역산지</th>\n",
              "      <th>시군산지</th>\n",
              "      <th>도매가격(원/kg)</th>\n",
              "      <th>거래량(톤)</th>\n",
              "      <th>거래금액(백만원)</th>\n",
              "    </tr>\n",
              "  </thead>\n",
              "  <tbody>\n",
              "    <tr>\n",
              "      <th>0</th>\n",
              "      <td>2021-10-01</td>\n",
              "      <td>양파</td>\n",
              "      <td>양파(일반)</td>\n",
              "      <td>대구북부도매</td>\n",
              "      <td>대양청과</td>\n",
              "      <td>경북</td>\n",
              "      <td>영천</td>\n",
              "      <td>793.000000</td>\n",
              "      <td>40.00</td>\n",
              "      <td>31.72</td>\n",
              "    </tr>\n",
              "    <tr>\n",
              "      <th>1</th>\n",
              "      <td>2021-10-01</td>\n",
              "      <td>양파</td>\n",
              "      <td>양파(일반)</td>\n",
              "      <td>대구북부도매</td>\n",
              "      <td>효성청과</td>\n",
              "      <td>경북</td>\n",
              "      <td>의성</td>\n",
              "      <td>803.030303</td>\n",
              "      <td>31.68</td>\n",
              "      <td>25.44</td>\n",
              "    </tr>\n",
              "    <tr>\n",
              "      <th>2</th>\n",
              "      <td>2021-10-01</td>\n",
              "      <td>양파</td>\n",
              "      <td>양파(일반)</td>\n",
              "      <td>대구북부도매</td>\n",
              "      <td>대양청과</td>\n",
              "      <td>경남</td>\n",
              "      <td>합천</td>\n",
              "      <td>769.686727</td>\n",
              "      <td>24.26</td>\n",
              "      <td>18.67</td>\n",
              "    </tr>\n",
              "    <tr>\n",
              "      <th>3</th>\n",
              "      <td>2021-10-01</td>\n",
              "      <td>양파</td>\n",
              "      <td>양파(일반)</td>\n",
              "      <td>대구북부도매</td>\n",
              "      <td>대양청과</td>\n",
              "      <td>대구</td>\n",
              "      <td>대구중구</td>\n",
              "      <td>735.000000</td>\n",
              "      <td>15.20</td>\n",
              "      <td>11.17</td>\n",
              "    </tr>\n",
              "    <tr>\n",
              "      <th>4</th>\n",
              "      <td>2021-10-01</td>\n",
              "      <td>양파</td>\n",
              "      <td>양파(일반)</td>\n",
              "      <td>대구북부도매</td>\n",
              "      <td>효성청과</td>\n",
              "      <td>경북</td>\n",
              "      <td>영천</td>\n",
              "      <td>843.434343</td>\n",
              "      <td>7.92</td>\n",
              "      <td>6.68</td>\n",
              "    </tr>\n",
              "  </tbody>\n",
              "</table>\n",
              "</div>"
            ],
            "text/plain": [
              "          년월  품목      품종      시장    법인 광역산지  시군산지  도매가격(원/kg) 거래량(톤) 거래금액(백만원)\n",
              "0 2021-10-01  양파  양파(일반)  대구북부도매  대양청과   경북    영천  793.000000  40.00     31.72\n",
              "1 2021-10-01  양파  양파(일반)  대구북부도매  효성청과   경북    의성  803.030303  31.68     25.44\n",
              "2 2021-10-01  양파  양파(일반)  대구북부도매  대양청과   경남    합천  769.686727  24.26     18.67\n",
              "3 2021-10-01  양파  양파(일반)  대구북부도매  대양청과   대구  대구중구  735.000000  15.20     11.17\n",
              "4 2021-10-01  양파  양파(일반)  대구북부도매  효성청과   경북    영천  843.434343   7.92      6.68"
            ]
          },
          "metadata": {},
          "execution_count": 4
        }
      ]
    },
    {
      "cell_type": "code",
      "metadata": {
        "id": "Pyzr8YiiULTd"
      },
      "source": [
        "pyplot.scatter(price['년월'], price['도매가격(원/kg)'])"
      ],
      "execution_count": null,
      "outputs": []
    },
    {
      "cell_type": "code",
      "metadata": {
        "id": "_fXkQwuKbH26"
      },
      "source": [
        "#이상치 처리\n",
        "quartile_1 = price['도매가격(원/kg)'].quantile(0.25)\n",
        "quartile_3 = price['도매가격(원/kg)'].quantile(0.75)\n",
        "IQR = quartile_3 - quartile_1 # 약 400원\n",
        "search_df = price[(price['도매가격(원/kg)'] < (quartile_1 - 5 * IQR)) | (price['도매가격(원/kg)'] > (quartile_3 + 5 * IQR))]\n",
        "print(search_df) # 99"
      ],
      "execution_count": null,
      "outputs": []
    },
    {
      "cell_type": "code",
      "metadata": {
        "colab": {
          "base_uri": "https://localhost:8080/"
        },
        "id": "7Ke7Q_K9cKe2",
        "outputId": "4363faa9-d585-4a04-9121-5a8b321d1879"
      },
      "source": [
        "price = price.drop(search_df.index, axis = 0)\n",
        "print(price)"
      ],
      "execution_count": null,
      "outputs": [
        {
          "output_type": "stream",
          "name": "stdout",
          "text": [
            "              년월  품목      품종      시장  ...  시군산지   도매가격(원/kg) 거래량(톤)  거래금액(백만원)\n",
            "0     2021-10-01  양파  양파(일반)  대구북부도매  ...    영천   793.000000  40.00      31.72\n",
            "1     2021-10-01  양파  양파(일반)  대구북부도매  ...    의성   803.030303  31.68      25.44\n",
            "2     2021-10-01  양파  양파(일반)  대구북부도매  ...    합천   769.686727  24.26      18.67\n",
            "3     2021-10-01  양파  양파(일반)  대구북부도매  ...  대구중구   735.000000  15.20      11.17\n",
            "4     2021-10-01  양파  양파(일반)  대구북부도매  ...    영천   843.434343   7.92       6.68\n",
            "...          ...  ..     ...     ...  ...   ...          ...    ...        ...\n",
            "45617 2014-01-01  양파    자주양파  서울가락도매  ...    문경  1474.674221   7.06      10.41\n",
            "45618 2014-01-01  양파    자주양파  서울가락도매  ...    무안  1250.809637   5.06       6.33\n",
            "45619 2014-01-01  양파    자주양파  서울가락도매  ...    함양  1333.045977   0.70       0.93\n",
            "45620 2014-01-01  양파     깐양파  서울가락도매  ...    신안   778.142415   6.46       5.03\n",
            "45621 2014-01-01  양파     깐양파  서울가락도매  ...    무안   687.457627   0.59       0.41\n",
            "\n",
            "[45523 rows x 10 columns]\n"
          ]
        }
      ]
    },
    {
      "cell_type": "code",
      "metadata": {
        "colab": {
          "base_uri": "https://localhost:8080/",
          "height": 282
        },
        "id": "58Gkpr2Wf8pr",
        "outputId": "bc5683dd-3643-4638-cc22-1e46cd1f19aa"
      },
      "source": [
        "from matplotlib import pyplot\n",
        "pyplot.scatter(price[price['시군산지'] == '영천']['년월'], price[price['시군산지'] == '영천']['도매가격(원/kg)'])"
      ],
      "execution_count": null,
      "outputs": [
        {
          "output_type": "execute_result",
          "data": {
            "text/plain": [
              "<matplotlib.collections.PathCollection at 0x7f1619fc82d0>"
            ]
          },
          "metadata": {},
          "execution_count": 12
        },
        {
          "output_type": "display_data",
          "data": {
            "image/png": "[encoded data removed]",
            "text/plain": [
              "<Figure size 432x288 with 1 Axes>"
            ]
          },
          "metadata": {
            "needs_background": "light"
          }
        }
      ]
    },
    {
      "cell_type": "code",
      "metadata": {
        "colab": {
          "base_uri": "https://localhost:8080/",
          "height": 281
        },
        "id": "2TsccoyTcTMV",
        "outputId": "5a03db27-2e41-4aab-c47f-c505a429c9a1"
      },
      "source": [
        "pyplot.scatter(price['년월'], price['도매가격(원/kg)'])"
      ],
      "execution_count": null,
      "outputs": [
        {
          "output_type": "execute_result",
          "data": {
            "text/plain": [
              "<matplotlib.collections.PathCollection at 0x7fddce6e5210>"
            ]
          },
          "metadata": {},
          "execution_count": 246
        },
        {
          "output_type": "display_data",
          "data": {
            "image/png": "[encoded data removed]",
            "text/plain": [
              "<Figure size 432x288 with 1 Axes>"
            ]
          },
          "metadata": {
            "image/png": {
              "width": 422,
              "height": 246
            },
            "needs_background": "light"
          }
        }
      ]
    },
    {
      "cell_type": "code",
      "metadata": {
        "colab": {
          "base_uri": "https://localhost:8080/",
          "height": 203
        },
        "id": "0NxG3EwOu5KS",
        "outputId": "0cf1051b-50cd-4101-b973-48f9f00f649a"
      },
      "source": [
        "price['연'] = price['년월'].astype(str).map(lambda x: x[2:4])\n",
        "price['월'] = price['년월'].astype(str).map(lambda x: x[5:7])\n",
        "price.drop(['년월', '품목', '거래량(톤)', '거래금액(백만원)'], axis=1, inplace=True)\n",
        "price['도매가격(원/kg)'] = price['도매가격(원/kg)'].apply(lambda x: f\"{x:.2f}\")\n",
        "\n",
        "price.head()"
      ],
      "execution_count": null,
      "outputs": [
        {
          "output_type": "execute_result",
          "data": {
            "text/html": [
              "<div>\n",
              "<style scoped>\n",
              "    .dataframe tbody tr th:only-of-type {\n",
              "        vertical-align: middle;\n",
              "    }\n",
              "\n",
              "    .dataframe tbody tr th {\n",
              "        vertical-align: top;\n",
              "    }\n",
              "\n",
              "    .dataframe thead th {\n",
              "        text-align: right;\n",
              "    }\n",
              "</style>\n",
              "<table border=\"1\" class=\"dataframe\">\n",
              "  <thead>\n",
              "    <tr style=\"text-align: right;\">\n",
              "      <th></th>\n",
              "      <th>품종</th>\n",
              "      <th>시장</th>\n",
              "      <th>법인</th>\n",
              "      <th>광역산지</th>\n",
              "      <th>시군산지</th>\n",
              "      <th>도매가격(원/kg)</th>\n",
              "      <th>연</th>\n",
              "      <th>월</th>\n",
              "    </tr>\n",
              "  </thead>\n",
              "  <tbody>\n",
              "    <tr>\n",
              "      <th>0</th>\n",
              "      <td>양파(일반)</td>\n",
              "      <td>대구북부도매</td>\n",
              "      <td>대양청과</td>\n",
              "      <td>경북</td>\n",
              "      <td>영천</td>\n",
              "      <td>793.00</td>\n",
              "      <td>21</td>\n",
              "      <td>10</td>\n",
              "    </tr>\n",
              "    <tr>\n",
              "      <th>1</th>\n",
              "      <td>양파(일반)</td>\n",
              "      <td>대구북부도매</td>\n",
              "      <td>효성청과</td>\n",
              "      <td>경북</td>\n",
              "      <td>의성</td>\n",
              "      <td>803.03</td>\n",
              "      <td>21</td>\n",
              "      <td>10</td>\n",
              "    </tr>\n",
              "    <tr>\n",
              "      <th>2</th>\n",
              "      <td>양파(일반)</td>\n",
              "      <td>대구북부도매</td>\n",
              "      <td>대양청과</td>\n",
              "      <td>경남</td>\n",
              "      <td>합천</td>\n",
              "      <td>769.69</td>\n",
              "      <td>21</td>\n",
              "      <td>10</td>\n",
              "    </tr>\n",
              "    <tr>\n",
              "      <th>3</th>\n",
              "      <td>양파(일반)</td>\n",
              "      <td>대구북부도매</td>\n",
              "      <td>대양청과</td>\n",
              "      <td>대구</td>\n",
              "      <td>대구중구</td>\n",
              "      <td>735.00</td>\n",
              "      <td>21</td>\n",
              "      <td>10</td>\n",
              "    </tr>\n",
              "    <tr>\n",
              "      <th>4</th>\n",
              "      <td>양파(일반)</td>\n",
              "      <td>대구북부도매</td>\n",
              "      <td>효성청과</td>\n",
              "      <td>경북</td>\n",
              "      <td>영천</td>\n",
              "      <td>843.43</td>\n",
              "      <td>21</td>\n",
              "      <td>10</td>\n",
              "    </tr>\n",
              "  </tbody>\n",
              "</table>\n",
              "</div>"
            ],
            "text/plain": [
              "       품종      시장    법인 광역산지  시군산지 도매가격(원/kg)   연   월\n",
              "0  양파(일반)  대구북부도매  대양청과   경북    영천     793.00  21  10\n",
              "1  양파(일반)  대구북부도매  효성청과   경북    의성     803.03  21  10\n",
              "2  양파(일반)  대구북부도매  대양청과   경남    합천     769.69  21  10\n",
              "3  양파(일반)  대구북부도매  대양청과   대구  대구중구     735.00  21  10\n",
              "4  양파(일반)  대구북부도매  효성청과   경북    영천     843.43  21  10"
            ]
          },
          "metadata": {},
          "execution_count": 256
        }
      ]
    },
    {
      "cell_type": "code",
      "metadata": {
        "id": "wZQzMR_5JgOX"
      },
      "source": [
        "price.to_csv('/content/drive/MyDrive/Colab Notebooks/2nd project/price.csv', index = False)"
      ],
      "execution_count": null,
      "outputs": []
    },
    {
      "cell_type": "markdown",
      "metadata": {
        "id": "5YiEPbgL4PJy"
      },
      "source": [
        "## amount"
      ]
    },
    {
      "cell_type": "code",
      "metadata": {
        "colab": {
          "base_uri": "https://localhost:8080/",
          "height": 203
        },
        "id": "-9N2ZbGO0Dp0",
        "outputId": "e8c3e246-9374-425e-fb3a-de487949eebd"
      },
      "source": [
        "amount.head()"
      ],
      "execution_count": null,
      "outputs": [
        {
          "output_type": "execute_result",
          "data": {
            "text/html": [
              "<div>\n",
              "<style scoped>\n",
              "    .dataframe tbody tr th:only-of-type {\n",
              "        vertical-align: middle;\n",
              "    }\n",
              "\n",
              "    .dataframe tbody tr th {\n",
              "        vertical-align: top;\n",
              "    }\n",
              "\n",
              "    .dataframe thead th {\n",
              "        text-align: right;\n",
              "    }\n",
              "</style>\n",
              "<table border=\"1\" class=\"dataframe\">\n",
              "  <thead>\n",
              "    <tr style=\"text-align: right;\">\n",
              "      <th></th>\n",
              "      <th>시점</th>\n",
              "      <th>시도별</th>\n",
              "      <th>양파:면적 (ha)</th>\n",
              "      <th>10a당 생산량 (kg)</th>\n",
              "      <th>생산량 (톤)</th>\n",
              "    </tr>\n",
              "  </thead>\n",
              "  <tbody>\n",
              "    <tr>\n",
              "      <th>0</th>\n",
              "      <td>2013</td>\n",
              "      <td>서울특별시</td>\n",
              "      <td>0</td>\n",
              "      <td>0</td>\n",
              "      <td>0</td>\n",
              "    </tr>\n",
              "    <tr>\n",
              "      <th>1</th>\n",
              "      <td>2013</td>\n",
              "      <td>부산광역시</td>\n",
              "      <td>23</td>\n",
              "      <td>8265</td>\n",
              "      <td>1901</td>\n",
              "    </tr>\n",
              "    <tr>\n",
              "      <th>2</th>\n",
              "      <td>2013</td>\n",
              "      <td>대구광역시</td>\n",
              "      <td>81</td>\n",
              "      <td>6909</td>\n",
              "      <td>5596</td>\n",
              "    </tr>\n",
              "    <tr>\n",
              "      <th>3</th>\n",
              "      <td>2013</td>\n",
              "      <td>인천광역시</td>\n",
              "      <td>25</td>\n",
              "      <td>2294</td>\n",
              "      <td>573</td>\n",
              "    </tr>\n",
              "    <tr>\n",
              "      <th>4</th>\n",
              "      <td>2013</td>\n",
              "      <td>광주광역시</td>\n",
              "      <td>58</td>\n",
              "      <td>7443</td>\n",
              "      <td>4317</td>\n",
              "    </tr>\n",
              "  </tbody>\n",
              "</table>\n",
              "</div>"
            ],
            "text/plain": [
              "     시점    시도별  양파:면적 (ha)  10a당 생산량 (kg)  생산량 (톤)\n",
              "0  2013  서울특별시           0              0        0\n",
              "1  2013  부산광역시          23           8265     1901\n",
              "2  2013  대구광역시          81           6909     5596\n",
              "3  2013  인천광역시          25           2294      573\n",
              "4  2013  광주광역시          58           7443     4317"
            ]
          },
          "metadata": {},
          "execution_count": 11
        }
      ]
    },
    {
      "cell_type": "code",
      "metadata": {
        "colab": {
          "base_uri": "https://localhost:8080/",
          "height": 203
        },
        "id": "55_rlpAB0HGa",
        "outputId": "79f409f7-e610-4e19-82e3-7e88645c5c10"
      },
      "source": [
        "amount['연'] = amount['시점'].astype(str).map(lambda x: x[2:])\n",
        "amount.drop(['시점'], axis=1, inplace=True)\n",
        "amount.columns = ['시도별', '재배면적', '재배비율', '생산량', '연']\n",
        "\n",
        "amount.head()"
      ],
      "execution_count": null,
      "outputs": [
        {
          "output_type": "execute_result",
          "data": {
            "text/html": [
              "<div>\n",
              "<style scoped>\n",
              "    .dataframe tbody tr th:only-of-type {\n",
              "        vertical-align: middle;\n",
              "    }\n",
              "\n",
              "    .dataframe tbody tr th {\n",
              "        vertical-align: top;\n",
              "    }\n",
              "\n",
              "    .dataframe thead th {\n",
              "        text-align: right;\n",
              "    }\n",
              "</style>\n",
              "<table border=\"1\" class=\"dataframe\">\n",
              "  <thead>\n",
              "    <tr style=\"text-align: right;\">\n",
              "      <th></th>\n",
              "      <th>시도별</th>\n",
              "      <th>재배면적</th>\n",
              "      <th>재배비율</th>\n",
              "      <th>생산량</th>\n",
              "      <th>연</th>\n",
              "    </tr>\n",
              "  </thead>\n",
              "  <tbody>\n",
              "    <tr>\n",
              "      <th>0</th>\n",
              "      <td>서울특별시</td>\n",
              "      <td>0</td>\n",
              "      <td>0</td>\n",
              "      <td>0</td>\n",
              "      <td>13</td>\n",
              "    </tr>\n",
              "    <tr>\n",
              "      <th>1</th>\n",
              "      <td>부산광역시</td>\n",
              "      <td>23</td>\n",
              "      <td>8265</td>\n",
              "      <td>1901</td>\n",
              "      <td>13</td>\n",
              "    </tr>\n",
              "    <tr>\n",
              "      <th>2</th>\n",
              "      <td>대구광역시</td>\n",
              "      <td>81</td>\n",
              "      <td>6909</td>\n",
              "      <td>5596</td>\n",
              "      <td>13</td>\n",
              "    </tr>\n",
              "    <tr>\n",
              "      <th>3</th>\n",
              "      <td>인천광역시</td>\n",
              "      <td>25</td>\n",
              "      <td>2294</td>\n",
              "      <td>573</td>\n",
              "      <td>13</td>\n",
              "    </tr>\n",
              "    <tr>\n",
              "      <th>4</th>\n",
              "      <td>광주광역시</td>\n",
              "      <td>58</td>\n",
              "      <td>7443</td>\n",
              "      <td>4317</td>\n",
              "      <td>13</td>\n",
              "    </tr>\n",
              "  </tbody>\n",
              "</table>\n",
              "</div>"
            ],
            "text/plain": [
              "     시도별  재배면적  재배비율   생산량   연\n",
              "0  서울특별시     0     0     0  13\n",
              "1  부산광역시    23  8265  1901  13\n",
              "2  대구광역시    81  6909  5596  13\n",
              "3  인천광역시    25  2294   573  13\n",
              "4  광주광역시    58  7443  4317  13"
            ]
          },
          "metadata": {},
          "execution_count": 12
        }
      ]
    },
    {
      "cell_type": "code",
      "metadata": {
        "colab": {
          "base_uri": "https://localhost:8080/"
        },
        "id": "uz9numB8COqV",
        "outputId": "0cc2cf25-c504-4333-f674-2e03590b74ee"
      },
      "source": [
        "amount = amount.astype({'연':'int'})\n",
        "amount.dtypes"
      ],
      "execution_count": null,
      "outputs": [
        {
          "output_type": "execute_result",
          "data": {
            "text/plain": [
              "시도별     object\n",
              "재배면적     int64\n",
              "재배비율     int64\n",
              "생산량      int64\n",
              "연        int64\n",
              "dtype: object"
            ]
          },
          "metadata": {},
          "execution_count": 13
        }
      ]
    },
    {
      "cell_type": "code",
      "metadata": {
        "id": "76bU_sg9CJsr"
      },
      "source": [
        "amount['연'] = amount['연'] + 1"
      ],
      "execution_count": null,
      "outputs": []
    },
    {
      "cell_type": "code",
      "metadata": {
        "id": "rczahh6mKCBj"
      },
      "source": [
        "amount.to_csv('/content/drive/MyDrive/Colab Notebooks/2nd project/amount.csv', index = False)"
      ],
      "execution_count": null,
      "outputs": []
    },
    {
      "cell_type": "markdown",
      "metadata": {
        "id": "kU5UnwUk4REn"
      },
      "source": [
        "## 지역"
      ]
    },
    {
      "cell_type": "markdown",
      "metadata": {
        "id": "ZjbKVooo9pYz"
      },
      "source": [
        "###  price['광역산지']의 미분류, -, 수입 제거"
      ]
    },
    {
      "cell_type": "code",
      "metadata": {
        "colab": {
          "base_uri": "https://localhost:8080/"
        },
        "id": "6FNNWN6A3raO",
        "outputId": "b3fbdb2d-24cc-4d0e-83f1-a3ad09f632e3"
      },
      "source": [
        "price['광역산지'].unique()"
      ],
      "execution_count": null,
      "outputs": [
        {
          "output_type": "execute_result",
          "data": {
            "text/plain": [
              "array(['경북', '경남', '대구', '전남', '미분류', '광주', '강원', '전북', '인천', '대전', '경기',\n",
              "       '부산', '충북', '충남', '서울', '-', '울산', '제주', '수입'], dtype=object)"
            ]
          },
          "metadata": {},
          "execution_count": 19
        }
      ]
    },
    {
      "cell_type": "code",
      "metadata": {
        "id": "k_mst9uI4Bqj"
      },
      "source": [
        "price[price['광역산지'] =='미분류'] #358"
      ],
      "execution_count": null,
      "outputs": []
    },
    {
      "cell_type": "code",
      "metadata": {
        "id": "ZEAL-CU44biC"
      },
      "source": [
        "price[price['광역산지'] =='-'] #265"
      ],
      "execution_count": null,
      "outputs": []
    },
    {
      "cell_type": "code",
      "metadata": {
        "id": "jaYgxhNn4gv5"
      },
      "source": [
        "price[price['광역산지'] =='수입'] #1243"
      ],
      "execution_count": null,
      "outputs": []
    },
    {
      "cell_type": "code",
      "metadata": {
        "id": "r2iTpoco43qF"
      },
      "source": [
        "idx_미분류 = price[price['광역산지'] == '미분류'].index\n",
        "idx_ = price[price['광역산지'] == '-'].index\n",
        "idx_수입 = price[price['광역산지'] == '수입'].index\n",
        "\n",
        "price.drop(idx_미분류, inplace=True)\n",
        "price.drop(idx_, inplace=True)\n",
        "price.drop(idx_수입, inplace=True)"
      ],
      "execution_count": null,
      "outputs": []
    },
    {
      "cell_type": "code",
      "metadata": {
        "colab": {
          "base_uri": "https://localhost:8080/"
        },
        "id": "lSVfQIlT51S7",
        "outputId": "68fcaf82-4a43-4c69-d860-7dbd51552598"
      },
      "source": [
        "price['광역산지'].unique()"
      ],
      "execution_count": null,
      "outputs": [
        {
          "output_type": "execute_result",
          "data": {
            "text/plain": [
              "array(['경북', '경남', '대구', '전남', '광주', '강원', '전북', '인천', '대전', '경기', '부산',\n",
              "       '충북', '충남', '서울', '울산', '제주'], dtype=object)"
            ]
          },
          "metadata": {},
          "execution_count": 22
        }
      ]
    },
    {
      "cell_type": "code",
      "metadata": {
        "id": "6bc6waYVKOYh"
      },
      "source": [
        "price.to_csv('/content/drive/MyDrive/Colab Notebooks/2nd project/price2.csv', index = False)"
      ],
      "execution_count": null,
      "outputs": []
    },
    {
      "cell_type": "markdown",
      "metadata": {
        "id": "yyFKbxYP955e"
      },
      "source": [
        "### price['광역산지']와 amount['광역'] 일치시키기"
      ]
    },
    {
      "cell_type": "code",
      "metadata": {
        "id": "HFjizBidK7TN"
      },
      "source": [
        "amount['시도별'] = amount['시도별'].str.replace('충청북도', '충북')\n",
        "amount['시도별'] = amount['시도별'].str.replace('충청남도', '충남')\n",
        "amount['시도별'] = amount['시도별'].str.replace('전라북도', '전북')\n",
        "amount['시도별'] = amount['시도별'].str.replace('전라남도', '전남')\n",
        "amount['시도별'] = amount['시도별'].str.replace('경상북도', '경북')\n",
        "amount['시도별'] = amount['시도별'].str.replace('경상남도', '경남')"
      ],
      "execution_count": null,
      "outputs": []
    },
    {
      "cell_type": "code",
      "metadata": {
        "colab": {
          "base_uri": "https://localhost:8080/"
        },
        "id": "WfOJ0yvg7256",
        "outputId": "822c9bbc-8a02-4d2c-bc46-d87df07a8739"
      },
      "source": [
        "amount['시도별'].unique()"
      ],
      "execution_count": null,
      "outputs": [
        {
          "output_type": "execute_result",
          "data": {
            "text/plain": [
              "array(['서울특별시', '부산광역시', '대구광역시', '인천광역시', '광주광역시', '대전광역시', '울산광역시',\n",
              "       '경기도', '강원도', '충북', '충남', '전북', '전남', '경북', '경남', '제주도', '세종특별자치시'],\n",
              "      dtype=object)"
            ]
          },
          "metadata": {},
          "execution_count": 20
        }
      ]
    },
    {
      "cell_type": "code",
      "metadata": {
        "id": "I8d8685N74bY"
      },
      "source": [
        "amount['광역산지'] = amount['시도별'].astype(str).map(lambda x: x[:2])"
      ],
      "execution_count": null,
      "outputs": []
    },
    {
      "cell_type": "code",
      "metadata": {
        "colab": {
          "base_uri": "https://localhost:8080/"
        },
        "id": "K3_FWyzA8Cxj",
        "outputId": "ec0e228a-d5de-45dc-f5b8-88a2960ca1d6"
      },
      "source": [
        "amount['광역산지'].unique()"
      ],
      "execution_count": null,
      "outputs": [
        {
          "output_type": "execute_result",
          "data": {
            "text/plain": [
              "array(['서울', '부산', '대구', '인천', '광주', '대전', '울산', '경기', '강원', '충북', '충남',\n",
              "       '전북', '전남', '경북', '경남', '제주', '세종'], dtype=object)"
            ]
          },
          "metadata": {},
          "execution_count": 22
        }
      ]
    },
    {
      "cell_type": "code",
      "metadata": {
        "id": "8IFwpsi48vlM"
      },
      "source": [
        "amount.drop(['시도별'], axis=1, inplace=True)"
      ],
      "execution_count": null,
      "outputs": []
    },
    {
      "cell_type": "code",
      "metadata": {
        "colab": {
          "base_uri": "https://localhost:8080/",
          "height": 417
        },
        "id": "U9-4lHtE83gG",
        "outputId": "e8f6c295-40fa-4448-8d2f-fd485f29f503"
      },
      "source": [
        "amount"
      ],
      "execution_count": null,
      "outputs": [
        {
          "output_type": "execute_result",
          "data": {
            "text/html": [
              "<div>\n",
              "<style scoped>\n",
              "    .dataframe tbody tr th:only-of-type {\n",
              "        vertical-align: middle;\n",
              "    }\n",
              "\n",
              "    .dataframe tbody tr th {\n",
              "        vertical-align: top;\n",
              "    }\n",
              "\n",
              "    .dataframe thead th {\n",
              "        text-align: right;\n",
              "    }\n",
              "</style>\n",
              "<table border=\"1\" class=\"dataframe\">\n",
              "  <thead>\n",
              "    <tr style=\"text-align: right;\">\n",
              "      <th></th>\n",
              "      <th>재배면적</th>\n",
              "      <th>재배비율</th>\n",
              "      <th>생산량</th>\n",
              "      <th>연</th>\n",
              "      <th>광역산지</th>\n",
              "    </tr>\n",
              "  </thead>\n",
              "  <tbody>\n",
              "    <tr>\n",
              "      <th>0</th>\n",
              "      <td>0</td>\n",
              "      <td>0</td>\n",
              "      <td>0</td>\n",
              "      <td>14</td>\n",
              "      <td>서울</td>\n",
              "    </tr>\n",
              "    <tr>\n",
              "      <th>1</th>\n",
              "      <td>23</td>\n",
              "      <td>8265</td>\n",
              "      <td>1901</td>\n",
              "      <td>14</td>\n",
              "      <td>부산</td>\n",
              "    </tr>\n",
              "    <tr>\n",
              "      <th>2</th>\n",
              "      <td>81</td>\n",
              "      <td>6909</td>\n",
              "      <td>5596</td>\n",
              "      <td>14</td>\n",
              "      <td>대구</td>\n",
              "    </tr>\n",
              "    <tr>\n",
              "      <th>3</th>\n",
              "      <td>25</td>\n",
              "      <td>2294</td>\n",
              "      <td>573</td>\n",
              "      <td>14</td>\n",
              "      <td>인천</td>\n",
              "    </tr>\n",
              "    <tr>\n",
              "      <th>4</th>\n",
              "      <td>58</td>\n",
              "      <td>7443</td>\n",
              "      <td>4317</td>\n",
              "      <td>14</td>\n",
              "      <td>광주</td>\n",
              "    </tr>\n",
              "    <tr>\n",
              "      <th>...</th>\n",
              "      <td>...</td>\n",
              "      <td>...</td>\n",
              "      <td>...</td>\n",
              "      <td>...</td>\n",
              "      <td>...</td>\n",
              "    </tr>\n",
              "    <tr>\n",
              "      <th>145</th>\n",
              "      <td>1687</td>\n",
              "      <td>8314</td>\n",
              "      <td>140261</td>\n",
              "      <td>22</td>\n",
              "      <td>전북</td>\n",
              "    </tr>\n",
              "    <tr>\n",
              "      <th>146</th>\n",
              "      <td>6775</td>\n",
              "      <td>8547</td>\n",
              "      <td>579042</td>\n",
              "      <td>22</td>\n",
              "      <td>전남</td>\n",
              "    </tr>\n",
              "    <tr>\n",
              "      <th>147</th>\n",
              "      <td>3159</td>\n",
              "      <td>9739</td>\n",
              "      <td>307653</td>\n",
              "      <td>22</td>\n",
              "      <td>경북</td>\n",
              "    </tr>\n",
              "    <tr>\n",
              "      <th>148</th>\n",
              "      <td>4023</td>\n",
              "      <td>8423</td>\n",
              "      <td>338877</td>\n",
              "      <td>22</td>\n",
              "      <td>경남</td>\n",
              "    </tr>\n",
              "    <tr>\n",
              "      <th>149</th>\n",
              "      <td>906</td>\n",
              "      <td>8265</td>\n",
              "      <td>74856</td>\n",
              "      <td>22</td>\n",
              "      <td>제주</td>\n",
              "    </tr>\n",
              "  </tbody>\n",
              "</table>\n",
              "<p>150 rows × 5 columns</p>\n",
              "</div>"
            ],
            "text/plain": [
              "     재배면적  재배비율     생산량   연 광역산지\n",
              "0       0     0       0  14   서울\n",
              "1      23  8265    1901  14   부산\n",
              "2      81  6909    5596  14   대구\n",
              "3      25  2294     573  14   인천\n",
              "4      58  7443    4317  14   광주\n",
              "..    ...   ...     ...  ..  ...\n",
              "145  1687  8314  140261  22   전북\n",
              "146  6775  8547  579042  22   전남\n",
              "147  3159  9739  307653  22   경북\n",
              "148  4023  8423  338877  22   경남\n",
              "149   906  8265   74856  22   제주\n",
              "\n",
              "[150 rows x 5 columns]"
            ]
          },
          "metadata": {},
          "execution_count": 24
        }
      ]
    },
    {
      "cell_type": "markdown",
      "metadata": {
        "id": "nVYsHhM7-I6t"
      },
      "source": [
        "### amount['광역']의 세종 제거"
      ]
    },
    {
      "cell_type": "code",
      "metadata": {
        "colab": {
          "base_uri": "https://localhost:8080/"
        },
        "id": "Nb7oXYnZ84It",
        "outputId": "b4a09744-5f01-4e80-b1ab-98b004b97ad2"
      },
      "source": [
        "price['광역산지'].unique()"
      ],
      "execution_count": null,
      "outputs": [
        {
          "output_type": "execute_result",
          "data": {
            "text/plain": [
              "array(['경북', '경남', '대구', '전남', '광주', '강원', '전북', '인천', '대전', '경기', '부산',\n",
              "       '충북', '충남', '서울', '울산', '제주'], dtype=object)"
            ]
          },
          "metadata": {},
          "execution_count": 31
        }
      ]
    },
    {
      "cell_type": "code",
      "metadata": {
        "colab": {
          "base_uri": "https://localhost:8080/"
        },
        "id": "1n8eeF2z9ZTV",
        "outputId": "1b8be37d-f439-47e6-aabe-e1475c644963"
      },
      "source": [
        "idx_세종 = amount[amount['광역산지'] == '세종'].index\n",
        "amount.drop(idx_세종, inplace=True)\n",
        "\n",
        "amount['광역산지'].unique()"
      ],
      "execution_count": null,
      "outputs": [
        {
          "output_type": "execute_result",
          "data": {
            "text/plain": [
              "array(['서울', '부산', '대구', '인천', '광주', '대전', '울산', '경기', '강원', '충북', '충남',\n",
              "       '전북', '전남', '경북', '경남', '제주'], dtype=object)"
            ]
          },
          "metadata": {},
          "execution_count": 25
        }
      ]
    },
    {
      "cell_type": "code",
      "metadata": {
        "id": "m8Vn0_jSLcQ8"
      },
      "source": [
        "amount.to_csv('/content/drive/MyDrive/Colab Notebooks/2nd project/amount2.csv', index = False)"
      ],
      "execution_count": null,
      "outputs": []
    },
    {
      "cell_type": "markdown",
      "metadata": {
        "id": "UNZAhO6bAYtX"
      },
      "source": [
        "## price와 amount 합치기"
      ]
    },
    {
      "cell_type": "code",
      "metadata": {
        "id": "yIMUBq6TFG24"
      },
      "source": [
        "price = pd.read_csv('/content/drive/MyDrive/Colab Notebooks/2nd project/price2.csv')\n",
        "price.dtypes"
      ],
      "execution_count": null,
      "outputs": []
    },
    {
      "cell_type": "code",
      "metadata": {
        "id": "DwQqFYLVFbIB"
      },
      "source": [
        "amount.dtypes"
      ],
      "execution_count": null,
      "outputs": []
    },
    {
      "cell_type": "code",
      "metadata": {
        "id": "lQ8IRH2kComS"
      },
      "source": [
        "merge = pd.merge(price, amount, on = ['연', '광역산지'])"
      ],
      "execution_count": null,
      "outputs": []
    },
    {
      "cell_type": "code",
      "metadata": {
        "colab": {
          "base_uri": "https://localhost:8080/",
          "height": 417
        },
        "id": "J26RBCFoGpBa",
        "outputId": "a1e61a81-8885-4afc-d5ec-b415ffe9e331"
      },
      "source": [
        "merge"
      ],
      "execution_count": null,
      "outputs": [
        {
          "output_type": "execute_result",
          "data": {
            "text/html": [
              "<div>\n",
              "<style scoped>\n",
              "    .dataframe tbody tr th:only-of-type {\n",
              "        vertical-align: middle;\n",
              "    }\n",
              "\n",
              "    .dataframe tbody tr th {\n",
              "        vertical-align: top;\n",
              "    }\n",
              "\n",
              "    .dataframe thead th {\n",
              "        text-align: right;\n",
              "    }\n",
              "</style>\n",
              "<table border=\"1\" class=\"dataframe\">\n",
              "  <thead>\n",
              "    <tr style=\"text-align: right;\">\n",
              "      <th></th>\n",
              "      <th>품종</th>\n",
              "      <th>시장</th>\n",
              "      <th>법인</th>\n",
              "      <th>광역산지</th>\n",
              "      <th>시군산지</th>\n",
              "      <th>도매가격(원/kg)</th>\n",
              "      <th>연</th>\n",
              "      <th>월</th>\n",
              "      <th>재배면적</th>\n",
              "      <th>재배비율</th>\n",
              "      <th>생산량</th>\n",
              "    </tr>\n",
              "  </thead>\n",
              "  <tbody>\n",
              "    <tr>\n",
              "      <th>0</th>\n",
              "      <td>양파(일반)</td>\n",
              "      <td>대구북부도매</td>\n",
              "      <td>대양청과</td>\n",
              "      <td>경북</td>\n",
              "      <td>영천</td>\n",
              "      <td>793.00</td>\n",
              "      <td>21</td>\n",
              "      <td>10</td>\n",
              "      <td>2365</td>\n",
              "      <td>8098</td>\n",
              "      <td>191509</td>\n",
              "    </tr>\n",
              "    <tr>\n",
              "      <th>1</th>\n",
              "      <td>양파(일반)</td>\n",
              "      <td>대구북부도매</td>\n",
              "      <td>효성청과</td>\n",
              "      <td>경북</td>\n",
              "      <td>의성</td>\n",
              "      <td>803.03</td>\n",
              "      <td>21</td>\n",
              "      <td>10</td>\n",
              "      <td>2365</td>\n",
              "      <td>8098</td>\n",
              "      <td>191509</td>\n",
              "    </tr>\n",
              "    <tr>\n",
              "      <th>2</th>\n",
              "      <td>양파(일반)</td>\n",
              "      <td>대구북부도매</td>\n",
              "      <td>효성청과</td>\n",
              "      <td>경북</td>\n",
              "      <td>영천</td>\n",
              "      <td>843.43</td>\n",
              "      <td>21</td>\n",
              "      <td>10</td>\n",
              "      <td>2365</td>\n",
              "      <td>8098</td>\n",
              "      <td>191509</td>\n",
              "    </tr>\n",
              "    <tr>\n",
              "      <th>3</th>\n",
              "      <td>양파(일반)</td>\n",
              "      <td>대구북부도매</td>\n",
              "      <td>대양청과</td>\n",
              "      <td>경북</td>\n",
              "      <td>성주</td>\n",
              "      <td>781.82</td>\n",
              "      <td>21</td>\n",
              "      <td>10</td>\n",
              "      <td>2365</td>\n",
              "      <td>8098</td>\n",
              "      <td>191509</td>\n",
              "    </tr>\n",
              "    <tr>\n",
              "      <th>4</th>\n",
              "      <td>양파(일반)</td>\n",
              "      <td>대구북부도매</td>\n",
              "      <td>대양청과</td>\n",
              "      <td>경북</td>\n",
              "      <td>고령</td>\n",
              "      <td>800.00</td>\n",
              "      <td>21</td>\n",
              "      <td>10</td>\n",
              "      <td>2365</td>\n",
              "      <td>8098</td>\n",
              "      <td>191509</td>\n",
              "    </tr>\n",
              "    <tr>\n",
              "      <th>...</th>\n",
              "      <td>...</td>\n",
              "      <td>...</td>\n",
              "      <td>...</td>\n",
              "      <td>...</td>\n",
              "      <td>...</td>\n",
              "      <td>...</td>\n",
              "      <td>...</td>\n",
              "      <td>...</td>\n",
              "      <td>...</td>\n",
              "      <td>...</td>\n",
              "      <td>...</td>\n",
              "    </tr>\n",
              "    <tr>\n",
              "      <th>43654</th>\n",
              "      <td>기타</td>\n",
              "      <td>안산도매</td>\n",
              "      <td>안산농산물</td>\n",
              "      <td>인천</td>\n",
              "      <td>연수</td>\n",
              "      <td>509.33</td>\n",
              "      <td>14</td>\n",
              "      <td>3</td>\n",
              "      <td>25</td>\n",
              "      <td>2294</td>\n",
              "      <td>573</td>\n",
              "    </tr>\n",
              "    <tr>\n",
              "      <th>43655</th>\n",
              "      <td>기타</td>\n",
              "      <td>서울강서도매</td>\n",
              "      <td>서부청과</td>\n",
              "      <td>대전</td>\n",
              "      <td>대전중구</td>\n",
              "      <td>251.76</td>\n",
              "      <td>14</td>\n",
              "      <td>7</td>\n",
              "      <td>3</td>\n",
              "      <td>4191</td>\n",
              "      <td>126</td>\n",
              "    </tr>\n",
              "    <tr>\n",
              "      <th>43656</th>\n",
              "      <td>만생양파</td>\n",
              "      <td>수원도매</td>\n",
              "      <td>수원청과물</td>\n",
              "      <td>대전</td>\n",
              "      <td>대덕</td>\n",
              "      <td>375.00</td>\n",
              "      <td>14</td>\n",
              "      <td>7</td>\n",
              "      <td>3</td>\n",
              "      <td>4191</td>\n",
              "      <td>126</td>\n",
              "    </tr>\n",
              "    <tr>\n",
              "      <th>43657</th>\n",
              "      <td>기타</td>\n",
              "      <td>서울강서도매</td>\n",
              "      <td>서부청과</td>\n",
              "      <td>대전</td>\n",
              "      <td>대전중구</td>\n",
              "      <td>264.77</td>\n",
              "      <td>14</td>\n",
              "      <td>6</td>\n",
              "      <td>3</td>\n",
              "      <td>4191</td>\n",
              "      <td>126</td>\n",
              "    </tr>\n",
              "    <tr>\n",
              "      <th>43658</th>\n",
              "      <td>조생양파</td>\n",
              "      <td>수원도매</td>\n",
              "      <td>수원청과물</td>\n",
              "      <td>대전</td>\n",
              "      <td>대덕</td>\n",
              "      <td>400.00</td>\n",
              "      <td>14</td>\n",
              "      <td>5</td>\n",
              "      <td>3</td>\n",
              "      <td>4191</td>\n",
              "      <td>126</td>\n",
              "    </tr>\n",
              "  </tbody>\n",
              "</table>\n",
              "<p>43659 rows × 11 columns</p>\n",
              "</div>"
            ],
            "text/plain": [
              "           품종      시장     법인 광역산지  시군산지  도매가격(원/kg)   연   월  재배면적  재배비율     생산량\n",
              "0      양파(일반)  대구북부도매   대양청과   경북    영천      793.00  21  10  2365  8098  191509\n",
              "1      양파(일반)  대구북부도매   효성청과   경북    의성      803.03  21  10  2365  8098  191509\n",
              "2      양파(일반)  대구북부도매   효성청과   경북    영천      843.43  21  10  2365  8098  191509\n",
              "3      양파(일반)  대구북부도매   대양청과   경북    성주      781.82  21  10  2365  8098  191509\n",
              "4      양파(일반)  대구북부도매   대양청과   경북    고령      800.00  21  10  2365  8098  191509\n",
              "...       ...     ...    ...  ...   ...         ...  ..  ..   ...   ...     ...\n",
              "43654      기타    안산도매  안산농산물   인천    연수      509.33  14   3    25  2294     573\n",
              "43655      기타  서울강서도매   서부청과   대전  대전중구      251.76  14   7     3  4191     126\n",
              "43656    만생양파    수원도매  수원청과물   대전    대덕      375.00  14   7     3  4191     126\n",
              "43657      기타  서울강서도매   서부청과   대전  대전중구      264.77  14   6     3  4191     126\n",
              "43658    조생양파    수원도매  수원청과물   대전    대덕      400.00  14   5     3  4191     126\n",
              "\n",
              "[43659 rows x 11 columns]"
            ]
          },
          "metadata": {},
          "execution_count": 29
        }
      ]
    },
    {
      "cell_type": "code",
      "metadata": {
        "colab": {
          "base_uri": "https://localhost:8080/"
        },
        "id": "mrFQEVROxCkK",
        "outputId": "0cd42db8-ef26-4920-8784-81d61ac891f1"
      },
      "source": [
        "merge['광역산지'].unique()"
      ],
      "execution_count": null,
      "outputs": [
        {
          "output_type": "execute_result",
          "data": {
            "text/plain": [
              "array(['경북', '경남', '대구', '전남', '광주', '강원', '전북', '인천', '대전', '경기', '부산',\n",
              "       '충북', '충남', '서울', '울산', '제주'], dtype=object)"
            ]
          },
          "metadata": {},
          "execution_count": 30
        }
      ]
    },
    {
      "cell_type": "code",
      "metadata": {
        "id": "Q17OlsEARkP8"
      },
      "source": [
        "merge.to_csv('/content/drive/MyDrive/Colab Notebooks/2nd project/merge.csv', index = False)"
      ],
      "execution_count": null,
      "outputs": []
    },
    {
      "cell_type": "markdown",
      "metadata": {
        "id": "Dye0-zoVeNXg"
      },
      "source": [
        "## top 39만 추출"
      ]
    },
    {
      "cell_type": "code",
      "metadata": {
        "id": "6zifQYHCxbjN"
      },
      "source": [
        "merge = pd.read_csv('/content/drive/MyDrive/Colab Notebooks/2nd project/merge.csv')"
      ],
      "execution_count": null,
      "outputs": []
    },
    {
      "cell_type": "code",
      "metadata": {
        "colab": {
          "base_uri": "https://localhost:8080/",
          "height": 203
        },
        "id": "gPL2Vg3seUUI",
        "outputId": "fe5151ec-2f35-48e4-9e44-55b4ec16d92a"
      },
      "source": [
        "top = pd.read_csv('/content/drive/MyDrive/Colab Notebooks/2nd project/시군산지_기후관측소기준 TOP39.csv')\n",
        "top.drop(['광역산지', '합계 : 거래금액(백만원)', '합계 : 거래량(톤)'], axis=1, inplace=True)\n",
        "top.head()"
      ],
      "execution_count": null,
      "outputs": [
        {
          "output_type": "execute_result",
          "data": {
            "text/html": [
              "<div>\n",
              "<style scoped>\n",
              "    .dataframe tbody tr th:only-of-type {\n",
              "        vertical-align: middle;\n",
              "    }\n",
              "\n",
              "    .dataframe tbody tr th {\n",
              "        vertical-align: top;\n",
              "    }\n",
              "\n",
              "    .dataframe thead th {\n",
              "        text-align: right;\n",
              "    }\n",
              "</style>\n",
              "<table border=\"1\" class=\"dataframe\">\n",
              "  <thead>\n",
              "    <tr style=\"text-align: right;\">\n",
              "      <th></th>\n",
              "      <th>시군산지</th>\n",
              "      <th>기후관측소기준</th>\n",
              "    </tr>\n",
              "  </thead>\n",
              "  <tbody>\n",
              "    <tr>\n",
              "      <th>0</th>\n",
              "      <td>무안</td>\n",
              "      <td>목포</td>\n",
              "    </tr>\n",
              "    <tr>\n",
              "      <th>1</th>\n",
              "      <td>함평</td>\n",
              "      <td>영광</td>\n",
              "    </tr>\n",
              "    <tr>\n",
              "      <th>2</th>\n",
              "      <td>창녕</td>\n",
              "      <td>밀양</td>\n",
              "    </tr>\n",
              "    <tr>\n",
              "      <th>3</th>\n",
              "      <td>신안</td>\n",
              "      <td>목포</td>\n",
              "    </tr>\n",
              "    <tr>\n",
              "      <th>4</th>\n",
              "      <td>합천</td>\n",
              "      <td>합천</td>\n",
              "    </tr>\n",
              "  </tbody>\n",
              "</table>\n",
              "</div>"
            ],
            "text/plain": [
              "  시군산지 기후관측소기준\n",
              "0   무안      목포\n",
              "1   함평      영광\n",
              "2   창녕      밀양\n",
              "3   신안      목포\n",
              "4   합천      합천"
            ]
          },
          "metadata": {},
          "execution_count": 32
        }
      ]
    },
    {
      "cell_type": "code",
      "metadata": {
        "colab": {
          "base_uri": "https://localhost:8080/"
        },
        "id": "b30IaYNtefBs",
        "outputId": "02cb4edc-2f96-49b4-eb3a-6cad34150611"
      },
      "source": [
        "top['시군산지'].unique()"
      ],
      "execution_count": null,
      "outputs": [
        {
          "output_type": "execute_result",
          "data": {
            "text/plain": [
              "array(['무안', '함평', '창녕', '신안', '합천', '제주', '구리', '함양', '영천', '고흥', '해남',\n",
              "       '고령', '의성', '김천', '논산', '부안', '문경', '달성', '군위', '서귀포', '고창', '완주',\n",
              "       '의령', '서산', '익산', '장흥', '경산', '밀양', '창원의창', '대구중구', '영주', '안동',\n",
              "       '여수', '나주', '광주서구', '영암', '연제', '구미', '거창'], dtype=object)"
            ]
          },
          "metadata": {},
          "execution_count": 37
        }
      ]
    },
    {
      "cell_type": "code",
      "metadata": {
        "id": "cKMg8R4qKYA5"
      },
      "source": [
        "top.to_csv('/content/drive/MyDrive/Colab Notebooks/2nd project/시군산지_기후관측소기준 TOP39.csv', index = False)"
      ],
      "execution_count": null,
      "outputs": []
    },
    {
      "cell_type": "code",
      "metadata": {
        "id": "aOjvLBfGfUF8"
      },
      "source": [
        "top39 = merge[merge['시군산지'].str.contains('무안|함평|창녕|신안|합천|제주|구리|함양|영천|고흥|해남|\\\n",
        "       |고령|의성|김천|논산|부안|문경|달성|군위|서귀포|고창|완주|\\\n",
        "       |의령|서산|익산|장흥|경산|밀양|창원의창|대구중구|영주|안동|\\\n",
        "       |여수|나주|광주서구|영암|연제|구미|거창')]"
      ],
      "execution_count": null,
      "outputs": []
    },
    {
      "cell_type": "code",
      "metadata": {
        "colab": {
          "base_uri": "https://localhost:8080/"
        },
        "id": "4_bBCdbUg6oN",
        "outputId": "425a89f3-7076-4e81-a8fb-81046d7328a8"
      },
      "source": [
        "top39['시군산지'].unique()"
      ],
      "execution_count": null,
      "outputs": [
        {
          "output_type": "execute_result",
          "data": {
            "text/plain": [
              "array(['영천', '의성', '고령', '구미', '군위', '안동', '문경', '영주', '김천', '경산', '합천',\n",
              "       '밀양', '창녕', '함양', '의령', '창원의창', '거창', '대구중구', '달성', '무안', '해남',\n",
              "       '함평', '신안', '영암', '나주', '고흥', '여수', '장흥', '광주서구', '고창', '완주', '익산',\n",
              "       '부안', '구리', '연제', '서산', '논산', '천안동남', '제주', '서귀포'], dtype=object)"
            ]
          },
          "metadata": {},
          "execution_count": 43
        }
      ]
    },
    {
      "cell_type": "code",
      "metadata": {
        "colab": {
          "base_uri": "https://localhost:8080/"
        },
        "id": "o0SyVne9ipLD",
        "outputId": "a732351d-d2ff-4e02-b109-a50fcb78eeda"
      },
      "source": [
        "idx_천안동남 = top39[top39['시군산지'] == '천안동남'].index\n",
        "top39.drop(idx_천안동남, inplace=True)\n",
        "\n",
        "top39['시군산지'].unique()"
      ],
      "execution_count": null,
      "outputs": [
        {
          "output_type": "execute_result",
          "data": {
            "text/plain": [
              "array(['영천', '의성', '고령', '구미', '군위', '안동', '문경', '영주', '김천', '경산', '합천',\n",
              "       '밀양', '창녕', '함양', '의령', '창원의창', '거창', '대구중구', '달성', '무안', '해남',\n",
              "       '함평', '신안', '영암', '나주', '고흥', '여수', '장흥', '광주서구', '고창', '완주', '익산',\n",
              "       '부안', '구리', '연제', '서산', '논산', '제주', '서귀포'], dtype=object)"
            ]
          },
          "metadata": {},
          "execution_count": 44
        }
      ]
    },
    {
      "cell_type": "code",
      "metadata": {
        "id": "njvES4-GyK4Q"
      },
      "source": [
        "top_merge = pd.merge(top39, top, on = ['시군산지'])"
      ],
      "execution_count": null,
      "outputs": []
    },
    {
      "cell_type": "code",
      "metadata": {
        "id": "SgJp9B9lyaGM"
      },
      "source": [
        "top_merge[top_merge['시군산지'] == '무안']"
      ],
      "execution_count": null,
      "outputs": []
    },
    {
      "cell_type": "code",
      "metadata": {
        "id": "BVU9_rqEylCc"
      },
      "source": [
        "top_merge.to_csv('/content/drive/MyDrive/Colab Notebooks/2nd project/top_merge.csv', index = False)"
      ],
      "execution_count": null,
      "outputs": []
    },
    {
      "cell_type": "markdown",
      "metadata": {
        "id": "UEDDAgHuWcCA"
      },
      "source": [
        "# 2. Modeling - sklearn Package"
      ]
    },
    {
      "cell_type": "code",
      "metadata": {
        "colab": {
          "base_uri": "https://localhost:8080/",
          "height": 552
        },
        "id": "qBi6oy19O0vL",
        "outputId": "976aaf15-16d2-4666-dd51-47458a4bddba"
      },
      "source": [
        "import seaborn as sns\n",
        "import matplotlib.pyplot as plt\n",
        "\n",
        "sns.pairplot(merge)\n",
        "plt.show()"
      ],
      "execution_count": null,
      "outputs": [
        {
          "output_type": "display_data",
          "data": {
            "image/png": "[encoded data removed]",
            "text/plain": [
              "<Figure size 540x540 with 12 Axes>"
            ]
          },
          "metadata": {
            "image/png": {
              "width": 534,
              "height": 535
            },
            "needs_background": "light"
          }
        }
      ]
    },
    {
      "cell_type": "code",
      "metadata": {
        "colab": {
          "base_uri": "https://localhost:8080/",
          "height": 304
        },
        "id": "py_7TTYD2hHg",
        "outputId": "dfb15c80-f656-44c4-d82a-ad00cc2aed6b"
      },
      "source": [
        "top_merge.head()"
      ],
      "execution_count": null,
      "outputs": [
        {
          "output_type": "execute_result",
          "data": {
            "text/html": [
              "<div>\n",
              "<style scoped>\n",
              "    .dataframe tbody tr th:only-of-type {\n",
              "        vertical-align: middle;\n",
              "    }\n",
              "\n",
              "    .dataframe tbody tr th {\n",
              "        vertical-align: top;\n",
              "    }\n",
              "\n",
              "    .dataframe thead th {\n",
              "        text-align: right;\n",
              "    }\n",
              "</style>\n",
              "<table border=\"1\" class=\"dataframe\">\n",
              "  <thead>\n",
              "    <tr style=\"text-align: right;\">\n",
              "      <th></th>\n",
              "      <th>품종</th>\n",
              "      <th>시장</th>\n",
              "      <th>법인</th>\n",
              "      <th>광역산지</th>\n",
              "      <th>시군산지</th>\n",
              "      <th>도매가격(원/kg)</th>\n",
              "      <th>연</th>\n",
              "      <th>월</th>\n",
              "      <th>재배면적</th>\n",
              "      <th>재배비율</th>\n",
              "      <th>생산량</th>\n",
              "      <th>기후관측소기준</th>\n",
              "    </tr>\n",
              "  </thead>\n",
              "  <tbody>\n",
              "    <tr>\n",
              "      <th>0</th>\n",
              "      <td>양파(일반)</td>\n",
              "      <td>대구북부도매</td>\n",
              "      <td>대양청과</td>\n",
              "      <td>경북</td>\n",
              "      <td>영천</td>\n",
              "      <td>793.00</td>\n",
              "      <td>21</td>\n",
              "      <td>10</td>\n",
              "      <td>3159</td>\n",
              "      <td>9739</td>\n",
              "      <td>307653</td>\n",
              "      <td>영천</td>\n",
              "    </tr>\n",
              "    <tr>\n",
              "      <th>1</th>\n",
              "      <td>양파(일반)</td>\n",
              "      <td>대구북부도매</td>\n",
              "      <td>효성청과</td>\n",
              "      <td>경북</td>\n",
              "      <td>영천</td>\n",
              "      <td>843.43</td>\n",
              "      <td>21</td>\n",
              "      <td>10</td>\n",
              "      <td>3159</td>\n",
              "      <td>9739</td>\n",
              "      <td>307653</td>\n",
              "      <td>영천</td>\n",
              "    </tr>\n",
              "    <tr>\n",
              "      <th>2</th>\n",
              "      <td>기타</td>\n",
              "      <td>포항도매</td>\n",
              "      <td>대구경북능금원협</td>\n",
              "      <td>경북</td>\n",
              "      <td>영천</td>\n",
              "      <td>725.00</td>\n",
              "      <td>21</td>\n",
              "      <td>10</td>\n",
              "      <td>3159</td>\n",
              "      <td>9739</td>\n",
              "      <td>307653</td>\n",
              "      <td>영천</td>\n",
              "    </tr>\n",
              "    <tr>\n",
              "      <th>3</th>\n",
              "      <td>양파(일반)</td>\n",
              "      <td>대구북부도매</td>\n",
              "      <td>대양청과</td>\n",
              "      <td>경북</td>\n",
              "      <td>영천</td>\n",
              "      <td>804.59</td>\n",
              "      <td>21</td>\n",
              "      <td>9</td>\n",
              "      <td>3159</td>\n",
              "      <td>9739</td>\n",
              "      <td>307653</td>\n",
              "      <td>영천</td>\n",
              "    </tr>\n",
              "    <tr>\n",
              "      <th>4</th>\n",
              "      <td>양파(일반)</td>\n",
              "      <td>대구북부도매</td>\n",
              "      <td>효성청과</td>\n",
              "      <td>경북</td>\n",
              "      <td>영천</td>\n",
              "      <td>890.58</td>\n",
              "      <td>21</td>\n",
              "      <td>9</td>\n",
              "      <td>3159</td>\n",
              "      <td>9739</td>\n",
              "      <td>307653</td>\n",
              "      <td>영천</td>\n",
              "    </tr>\n",
              "  </tbody>\n",
              "</table>\n",
              "</div>"
            ],
            "text/plain": [
              "       품종      시장        법인 광역산지 시군산지  ...   월  재배면적  재배비율     생산량  기후관측소기준\n",
              "0  양파(일반)  대구북부도매      대양청과   경북   영천  ...  10  3159  9739  307653       영천\n",
              "1  양파(일반)  대구북부도매      효성청과   경북   영천  ...  10  3159  9739  307653       영천\n",
              "2      기타    포항도매  대구경북능금원협   경북   영천  ...  10  3159  9739  307653       영천\n",
              "3  양파(일반)  대구북부도매      대양청과   경북   영천  ...   9  3159  9739  307653       영천\n",
              "4  양파(일반)  대구북부도매      효성청과   경북   영천  ...   9  3159  9739  307653       영천\n",
              "\n",
              "[5 rows x 12 columns]"
            ]
          },
          "metadata": {},
          "execution_count": 31
        }
      ]
    },
    {
      "cell_type": "code",
      "metadata": {
        "colab": {
          "base_uri": "https://localhost:8080/"
        },
        "id": "08vskf9Z1Xqo",
        "outputId": "f7222a3d-533d-4ac5-f839-404c7eb9b8b0"
      },
      "source": [
        "top_merge = top_merge.astype({'품종':'str'})\n",
        "top_merge.info()"
      ],
      "execution_count": null,
      "outputs": [
        {
          "output_type": "stream",
          "name": "stdout",
          "text": [
            "<class 'pandas.core.frame.DataFrame'>\n",
            "Int64Index: 29979 entries, 0 to 29978\n",
            "Data columns (total 12 columns):\n",
            " #   Column      Non-Null Count  Dtype  \n",
            "---  ------      --------------  -----  \n",
            " 0   품종          29979 non-null  object \n",
            " 1   시장          29979 non-null  object \n",
            " 2   법인          29979 non-null  object \n",
            " 3   광역산지        29979 non-null  object \n",
            " 4   시군산지        29979 non-null  object \n",
            " 5   도매가격(원/kg)  29979 non-null  float64\n",
            " 6   연           29979 non-null  int64  \n",
            " 7   월           29979 non-null  int64  \n",
            " 8   재배면적        29979 non-null  int64  \n",
            " 9   재배비율        29979 non-null  int64  \n",
            " 10  생산량         29979 non-null  int64  \n",
            " 11  기후관측소기준     29979 non-null  object \n",
            "dtypes: float64(1), int64(5), object(6)\n",
            "memory usage: 3.0+ MB\n"
          ]
        }
      ]
    },
    {
      "cell_type": "code",
      "metadata": {
        "colab": {
          "base_uri": "https://localhost:8080/",
          "height": 203
        },
        "id": "yyCVizMN7J1d",
        "outputId": "e9a6bab9-3a5d-4f99-d411-88926b3bd503"
      },
      "source": [
        "top_merge.columns = ['kind', 'market', 'corp', 'wide', 'city', 'price', 'year', 'month', 'area', 'ratio', 'amount', 'weather']\n",
        "top_merge.head()"
      ],
      "execution_count": null,
      "outputs": [
        {
          "output_type": "execute_result",
          "data": {
            "text/html": [
              "<div>\n",
              "<style scoped>\n",
              "    .dataframe tbody tr th:only-of-type {\n",
              "        vertical-align: middle;\n",
              "    }\n",
              "\n",
              "    .dataframe tbody tr th {\n",
              "        vertical-align: top;\n",
              "    }\n",
              "\n",
              "    .dataframe thead th {\n",
              "        text-align: right;\n",
              "    }\n",
              "</style>\n",
              "<table border=\"1\" class=\"dataframe\">\n",
              "  <thead>\n",
              "    <tr style=\"text-align: right;\">\n",
              "      <th></th>\n",
              "      <th>kind</th>\n",
              "      <th>market</th>\n",
              "      <th>corp</th>\n",
              "      <th>wide</th>\n",
              "      <th>city</th>\n",
              "      <th>price</th>\n",
              "      <th>year</th>\n",
              "      <th>month</th>\n",
              "      <th>area</th>\n",
              "      <th>ratio</th>\n",
              "      <th>amount</th>\n",
              "      <th>weather</th>\n",
              "    </tr>\n",
              "  </thead>\n",
              "  <tbody>\n",
              "    <tr>\n",
              "      <th>0</th>\n",
              "      <td>양파(일반)</td>\n",
              "      <td>대구북부도매</td>\n",
              "      <td>대양청과</td>\n",
              "      <td>경북</td>\n",
              "      <td>영천</td>\n",
              "      <td>793.00</td>\n",
              "      <td>21</td>\n",
              "      <td>10</td>\n",
              "      <td>2365</td>\n",
              "      <td>8098</td>\n",
              "      <td>191509</td>\n",
              "      <td>영천</td>\n",
              "    </tr>\n",
              "    <tr>\n",
              "      <th>1</th>\n",
              "      <td>양파(일반)</td>\n",
              "      <td>대구북부도매</td>\n",
              "      <td>효성청과</td>\n",
              "      <td>경북</td>\n",
              "      <td>영천</td>\n",
              "      <td>843.43</td>\n",
              "      <td>21</td>\n",
              "      <td>10</td>\n",
              "      <td>2365</td>\n",
              "      <td>8098</td>\n",
              "      <td>191509</td>\n",
              "      <td>영천</td>\n",
              "    </tr>\n",
              "    <tr>\n",
              "      <th>2</th>\n",
              "      <td>기타</td>\n",
              "      <td>포항도매</td>\n",
              "      <td>대구경북능금원협</td>\n",
              "      <td>경북</td>\n",
              "      <td>영천</td>\n",
              "      <td>725.00</td>\n",
              "      <td>21</td>\n",
              "      <td>10</td>\n",
              "      <td>2365</td>\n",
              "      <td>8098</td>\n",
              "      <td>191509</td>\n",
              "      <td>영천</td>\n",
              "    </tr>\n",
              "    <tr>\n",
              "      <th>3</th>\n",
              "      <td>양파(일반)</td>\n",
              "      <td>대구북부도매</td>\n",
              "      <td>대양청과</td>\n",
              "      <td>경북</td>\n",
              "      <td>영천</td>\n",
              "      <td>804.59</td>\n",
              "      <td>21</td>\n",
              "      <td>9</td>\n",
              "      <td>2365</td>\n",
              "      <td>8098</td>\n",
              "      <td>191509</td>\n",
              "      <td>영천</td>\n",
              "    </tr>\n",
              "    <tr>\n",
              "      <th>4</th>\n",
              "      <td>양파(일반)</td>\n",
              "      <td>대구북부도매</td>\n",
              "      <td>효성청과</td>\n",
              "      <td>경북</td>\n",
              "      <td>영천</td>\n",
              "      <td>890.58</td>\n",
              "      <td>21</td>\n",
              "      <td>9</td>\n",
              "      <td>2365</td>\n",
              "      <td>8098</td>\n",
              "      <td>191509</td>\n",
              "      <td>영천</td>\n",
              "    </tr>\n",
              "  </tbody>\n",
              "</table>\n",
              "</div>"
            ],
            "text/plain": [
              "     kind  market      corp wide city  ...  month  area  ratio  amount  weather\n",
              "0  양파(일반)  대구북부도매      대양청과   경북   영천  ...     10  2365   8098  191509       영천\n",
              "1  양파(일반)  대구북부도매      효성청과   경북   영천  ...     10  2365   8098  191509       영천\n",
              "2      기타    포항도매  대구경북능금원협   경북   영천  ...     10  2365   8098  191509       영천\n",
              "3  양파(일반)  대구북부도매      대양청과   경북   영천  ...      9  2365   8098  191509       영천\n",
              "4  양파(일반)  대구북부도매      효성청과   경북   영천  ...      9  2365   8098  191509       영천\n",
              "\n",
              "[5 rows x 12 columns]"
            ]
          },
          "metadata": {},
          "execution_count": 56
        }
      ]
    },
    {
      "cell_type": "code",
      "metadata": {
        "id": "0hNaBxY6W7eC"
      },
      "source": [
        "from sklearn.preprocessing import LabelEncoder\n",
        "\n",
        "encoder1 = LabelEncoder()\n",
        "top_merge['kind'] = encoder1.fit_transform(top_merge.kind)"
      ],
      "execution_count": null,
      "outputs": []
    },
    {
      "cell_type": "code",
      "metadata": {
        "id": "oj8v2oyu73B9"
      },
      "source": [
        "encoder2 = LabelEncoder()\n",
        "top_merge['market'] = encoder2.fit_transform(top_merge.market)"
      ],
      "execution_count": null,
      "outputs": []
    },
    {
      "cell_type": "code",
      "metadata": {
        "id": "Y5mumR2176xo"
      },
      "source": [
        "encoder3 = LabelEncoder()\n",
        "top_merge['corp'] = encoder3.fit_transform(top_merge.corp)"
      ],
      "execution_count": null,
      "outputs": []
    },
    {
      "cell_type": "code",
      "metadata": {
        "id": "LjnV1lPM8DbR"
      },
      "source": [
        "encoder4 = LabelEncoder()\n",
        "top_merge['wide'] = encoder4.fit_transform(top_merge.wide)"
      ],
      "execution_count": null,
      "outputs": []
    },
    {
      "cell_type": "code",
      "metadata": {
        "id": "QKNw4-t58KlI"
      },
      "source": [
        "encoder5 = LabelEncoder()\n",
        "top_merge['city'] = encoder5.fit_transform(top_merge.city)"
      ],
      "execution_count": null,
      "outputs": []
    },
    {
      "cell_type": "code",
      "metadata": {
        "colab": {
          "base_uri": "https://localhost:8080/"
        },
        "id": "MWO7qbPc8eF2",
        "outputId": "ef855929-4623-4e83-d563-2548dd28a180"
      },
      "source": [
        "top_merge.columns"
      ],
      "execution_count": null,
      "outputs": [
        {
          "output_type": "execute_result",
          "data": {
            "text/plain": [
              "Index(['kind', 'market', 'corp', 'wide', 'city', 'price', 'year', 'month',\n",
              "       'area', 'ratio', 'amount', 'weather'],\n",
              "      dtype='object')"
            ]
          },
          "metadata": {},
          "execution_count": 41
        }
      ]
    },
    {
      "cell_type": "code",
      "metadata": {
        "colab": {
          "base_uri": "https://localhost:8080/"
        },
        "id": "z2z7isuBTMDS",
        "outputId": "53b71812-c40e-4232-dd35-6e583b1276ef"
      },
      "source": [
        "from sklearn.model_selection import train_test_split\n",
        "\n",
        "X = top_merge[['kind', 'market', 'corp', 'wide', 'city', 'year', 'month', 'area', 'ratio', 'amount']]\n",
        "y = top_merge['price']\n",
        "\n",
        "X_train, X_test, y_train, y_test = train_test_split(X, y,\n",
        "                                                    test_size = 0.3,\n",
        "                                                    random_state = 2045)\n",
        "\n",
        "print('Train Data : ', X_train.shape, y_train.shape)\n",
        "print('Test Data : ', X_test.shape, y_test.shape)"
      ],
      "execution_count": null,
      "outputs": [
        {
          "output_type": "stream",
          "name": "stdout",
          "text": [
            "Train Data :  (20997, 10) (20997,)\n",
            "Test Data :  (9000, 10) (9000,)\n"
          ]
        }
      ]
    },
    {
      "cell_type": "code",
      "metadata": {
        "colab": {
          "base_uri": "https://localhost:8080/"
        },
        "id": "VLQNo1tCT4QM",
        "outputId": "12b6a193-3991-42f6-9da6-e609d49b1e63"
      },
      "source": [
        "from sklearn.linear_model import LinearRegression\n",
        "\n",
        "RA = LinearRegression()\n",
        "RA.fit(X_train, y_train)"
      ],
      "execution_count": null,
      "outputs": [
        {
          "output_type": "execute_result",
          "data": {
            "text/plain": [
              "LinearRegression(copy_X=True, fit_intercept=True, n_jobs=None, normalize=False)"
            ]
          },
          "metadata": {},
          "execution_count": 43
        }
      ]
    },
    {
      "cell_type": "code",
      "metadata": {
        "id": "eISpbYcZ8znY"
      },
      "source": [
        "y_hat = RA.predict(X_test)"
      ],
      "execution_count": null,
      "outputs": []
    },
    {
      "cell_type": "code",
      "metadata": {
        "colab": {
          "base_uri": "https://localhost:8080/"
        },
        "id": "6PmO0FTB82tJ",
        "outputId": "cc876fa2-ab4a-4cb0-e222-bb8f1d2ace03"
      },
      "source": [
        "from sklearn.metrics import mean_squared_error\n",
        "import numpy as np\n",
        "\n",
        "mse = mean_squared_error(y_test, y_hat)\n",
        "\n",
        "np.sqrt(mse)"
      ],
      "execution_count": null,
      "outputs": [
        {
          "output_type": "execute_result",
          "data": {
            "text/plain": [
              "845.0931083436058"
            ]
          },
          "metadata": {},
          "execution_count": 46
        }
      ]
    },
    {
      "cell_type": "markdown",
      "metadata": {
        "id": "WzeJIUYG9zuO"
      },
      "source": [
        "# 3. Modeling - statsmodels package"
      ]
    },
    {
      "cell_type": "code",
      "metadata": {
        "colab": {
          "base_uri": "https://localhost:8080/"
        },
        "id": "KCrw2v709_Gs",
        "outputId": "1c557a28-d34c-4741-8341-079d31375fd9"
      },
      "source": [
        "from sklearn.model_selection import train_test_split\n",
        "\n",
        "train_set, test_set = train_test_split(top_merge,\n",
        "                                       test_size = 0.3,\n",
        "                                       random_state = 2045)\n",
        "\n",
        "train_set.shape, test_set.shape"
      ],
      "execution_count": null,
      "outputs": [
        {
          "output_type": "execute_result",
          "data": {
            "text/plain": [
              "((20997, 12), (9000, 12))"
            ]
          },
          "metadata": {},
          "execution_count": 47
        }
      ]
    },
    {
      "cell_type": "code",
      "metadata": {
        "colab": {
          "base_uri": "https://localhost:8080/"
        },
        "id": "ya1a0erT-Oj9",
        "outputId": "834c4c18-b9f3-4f85-eb9c-11e57ca0218d"
      },
      "source": [
        "train_set.info()"
      ],
      "execution_count": null,
      "outputs": [
        {
          "output_type": "stream",
          "name": "stdout",
          "text": [
            "<class 'pandas.core.frame.DataFrame'>\n",
            "Int64Index: 20997 entries, 18120 to 7031\n",
            "Data columns (total 12 columns):\n",
            " #   Column   Non-Null Count  Dtype  \n",
            "---  ------   --------------  -----  \n",
            " 0   kind     20997 non-null  int64  \n",
            " 1   market   20997 non-null  int64  \n",
            " 2   corp     20997 non-null  int64  \n",
            " 3   wide     20997 non-null  int64  \n",
            " 4   city     20997 non-null  int64  \n",
            " 5   price    20997 non-null  float64\n",
            " 6   year     20997 non-null  int64  \n",
            " 7   month    20997 non-null  int64  \n",
            " 8   area     20997 non-null  int64  \n",
            " 9   ratio    20997 non-null  int64  \n",
            " 10  amount   20997 non-null  int64  \n",
            " 11  weather  20997 non-null  object \n",
            "dtypes: float64(1), int64(10), object(1)\n",
            "memory usage: 2.1+ MB\n"
          ]
        }
      ]
    },
    {
      "cell_type": "code",
      "metadata": {
        "id": "38cK9oDi-S2Y"
      },
      "source": [
        "import statsmodels.formula.api as smf\n",
        "\n",
        "Model = smf.ols(formula = 'price ~ kind + market + corp + wide + city + year + month + area + ratio + amount',\n",
        "                data = train_set).fit()"
      ],
      "execution_count": null,
      "outputs": []
    },
    {
      "cell_type": "code",
      "metadata": {
        "id": "bkU3zTnK-v9S"
      },
      "source": [
        "y_hat_1 = Model.predict(test_set[['kind', 'market', 'corp', 'wide', 'city', 'year', 'month', 'area', 'ratio', 'amount']])"
      ],
      "execution_count": null,
      "outputs": []
    },
    {
      "cell_type": "code",
      "metadata": {
        "colab": {
          "base_uri": "https://localhost:8080/"
        },
        "id": "d8netgbn_ATI",
        "outputId": "efe8b195-0808-49ac-b518-2589331320b2"
      },
      "source": [
        "mse1 = mean_squared_error(test_set.price, y_hat_1)\n",
        "np.sqrt(mse1)"
      ],
      "execution_count": null,
      "outputs": [
        {
          "output_type": "execute_result",
          "data": {
            "text/plain": [
              "845.0931083436055"
            ]
          },
          "metadata": {},
          "execution_count": 52
        }
      ]
    },
    {
      "cell_type": "markdown",
      "metadata": {
        "id": "Oh4Eq9iy_7aS"
      },
      "source": [
        "* sklearn과 statsmodel 비교"
      ]
    },
    {
      "cell_type": "code",
      "metadata": {
        "colab": {
          "base_uri": "https://localhost:8080/"
        },
        "id": "1Nn1Sx8M_IKI",
        "outputId": "f3a13874-1f44-445b-e7fd-209ca9fc247d"
      },
      "source": [
        "print('statsmodels :', np.sqrt(mse1))\n",
        "print('sklearn     :', np.sqrt(mse))"
      ],
      "execution_count": null,
      "outputs": [
        {
          "output_type": "stream",
          "name": "stdout",
          "text": [
            "statsmodels : 845.0931083436055\n",
            "sklearn     : 845.0931083436058\n"
          ]
        }
      ]
    },
    {
      "cell_type": "markdown",
      "metadata": {
        "id": "j22tdVAT__Ky"
      },
      "source": [
        "* 더 큰 범위인 market과 wide 제거"
      ]
    },
    {
      "cell_type": "code",
      "metadata": {
        "id": "mBbTKFib_Tku"
      },
      "source": [
        "import statsmodels.formula.api as smf\n",
        "\n",
        "Model_2 = smf.ols(formula = 'price ~ kind + corp + city + year + month + area + ratio + amount',\n",
        "                data = train_set).fit()"
      ],
      "execution_count": null,
      "outputs": []
    },
    {
      "cell_type": "code",
      "metadata": {
        "id": "Wuo6ZJGx_caI"
      },
      "source": [
        "y_hat_2 = Model_2.predict(test_set[['kind', 'corp', 'city', 'year', 'month', 'area', 'ratio', 'amount']])"
      ],
      "execution_count": null,
      "outputs": []
    },
    {
      "cell_type": "code",
      "metadata": {
        "colab": {
          "base_uri": "https://localhost:8080/"
        },
        "id": "ruhMf6t9_i6R",
        "outputId": "75a3b513-c1e9-44ed-c3ed-e10a5b02a978"
      },
      "source": [
        "mse2 = mean_squared_error(test_set.price, y_hat_2)\n",
        "np.sqrt(mse2)"
      ],
      "execution_count": null,
      "outputs": [
        {
          "output_type": "execute_result",
          "data": {
            "text/plain": [
              "845.1827778975137"
            ]
          },
          "metadata": {},
          "execution_count": 56
        }
      ]
    },
    {
      "cell_type": "markdown",
      "metadata": {
        "id": "lp8Aes9ZADCB"
      },
      "source": [
        "* 생산량이 의미 있는지 확인하기 위해 제거"
      ]
    },
    {
      "cell_type": "code",
      "metadata": {
        "id": "tjs5Xn3f_sXt"
      },
      "source": [
        "import statsmodels.formula.api as smf\n",
        "\n",
        "Model_3 = smf.ols(formula = 'price ~ kind + corp + city + year + month',\n",
        "                data = train_set).fit()"
      ],
      "execution_count": null,
      "outputs": []
    },
    {
      "cell_type": "code",
      "metadata": {
        "id": "gf1Bsq4X_t3A"
      },
      "source": [
        "y_hat_3 = Model_3.predict(test_set[['kind', 'corp', 'city', 'year', 'month']])"
      ],
      "execution_count": null,
      "outputs": []
    },
    {
      "cell_type": "code",
      "metadata": {
        "colab": {
          "base_uri": "https://localhost:8080/"
        },
        "id": "3mxf2nI1_vRv",
        "outputId": "1f568f7b-4ca3-4f6b-eef1-b47ebf1ca94d"
      },
      "source": [
        "mse3 = mean_squared_error(test_set.price, y_hat_3)\n",
        "np.sqrt(mse3)"
      ],
      "execution_count": null,
      "outputs": [
        {
          "output_type": "execute_result",
          "data": {
            "text/plain": [
              "846.3149259546749"
            ]
          },
          "metadata": {},
          "execution_count": 59
        }
      ]
    },
    {
      "cell_type": "markdown",
      "metadata": {
        "id": "2VvB0_2cQk0S"
      },
      "source": [
        "# 전처리 2"
      ]
    },
    {
      "cell_type": "code",
      "metadata": {
        "id": "3RD_0REIQnAt"
      },
      "source": [
        "inn = pd.read_excel('/content/drive/MyDrive/Colab Notebooks/2nd project/1601-2108_수입량.xlsx', thousands=',')\n",
        "out = pd.read_excel('/content/drive/MyDrive/Colab Notebooks/2nd project/1601-2108_수출량.xlsx', thousands=',')"
      ],
      "execution_count": null,
      "outputs": []
    },
    {
      "cell_type": "code",
      "metadata": {
        "id": "s7Gw9kqUR4LY"
      },
      "source": [
        "inn.drop(['수출입구분', '품목', '품종', '국가', '거래금액(천달러)', '단가(달러/톤)'], axis=1, inplace=True)\n",
        "inn.head()"
      ],
      "execution_count": null,
      "outputs": []
    },
    {
      "cell_type": "code",
      "metadata": {
        "id": "MKLmE8cqRVrk"
      },
      "source": [
        "inns = inn.groupby(by=['년월'], as_index=False).sum()\n",
        "inns"
      ],
      "execution_count": null,
      "outputs": []
    },
    {
      "cell_type": "code",
      "metadata": {
        "id": "Cb4no92SVTYc"
      },
      "source": [
        "out.drop(['수출입구분', '품목', '품종', '국가', '거래금액(천달러)', '단가(달러/톤)'], axis=1, inplace=True)\n",
        "out.head()"
      ],
      "execution_count": null,
      "outputs": []
    },
    {
      "cell_type": "code",
      "metadata": {
        "id": "gQ2vFFqDVzwW"
      },
      "source": [
        "outs = out.groupby(by=['년월'], as_index=False).sum()\n",
        "outs"
      ],
      "execution_count": null,
      "outputs": []
    },
    {
      "cell_type": "code",
      "metadata": {
        "id": "r4PJikqMV6CL"
      },
      "source": [
        "inout = pd.merge(inns, outs, on = ['년월'])\n",
        "inout.head()"
      ],
      "execution_count": null,
      "outputs": []
    },
    {
      "cell_type": "code",
      "metadata": {
        "id": "RZ-nhcXgWTRc"
      },
      "source": [
        "inout['연'] = inout['년월'].astype(str).map(lambda x: x[:2])\n",
        "inout['월'] = inout['년월'].astype(str).map(lambda x: x[4:])\n",
        "inout.head()"
      ],
      "execution_count": null,
      "outputs": []
    },
    {
      "cell_type": "code",
      "metadata": {
        "colab": {
          "base_uri": "https://localhost:8080/",
          "height": 203
        },
        "id": "Erqhi01FWlAL",
        "outputId": "78b31869-a57c-4478-d393-87f12cb49357"
      },
      "source": [
        "inout.drop(['년월'], axis=1, inplace=True)\n",
        "inout.columns = ['inn', 'out', 'year', 'month']\n",
        "inout.head()"
      ],
      "execution_count": null,
      "outputs": [
        {
          "output_type": "execute_result",
          "data": {
            "text/html": [
              "<div>\n",
              "<style scoped>\n",
              "    .dataframe tbody tr th:only-of-type {\n",
              "        vertical-align: middle;\n",
              "    }\n",
              "\n",
              "    .dataframe tbody tr th {\n",
              "        vertical-align: top;\n",
              "    }\n",
              "\n",
              "    .dataframe thead th {\n",
              "        text-align: right;\n",
              "    }\n",
              "</style>\n",
              "<table border=\"1\" class=\"dataframe\">\n",
              "  <thead>\n",
              "    <tr style=\"text-align: right;\">\n",
              "      <th></th>\n",
              "      <th>inn</th>\n",
              "      <th>out</th>\n",
              "      <th>year</th>\n",
              "      <th>month</th>\n",
              "    </tr>\n",
              "  </thead>\n",
              "  <tbody>\n",
              "    <tr>\n",
              "      <th>0</th>\n",
              "      <td>24407.001</td>\n",
              "      <td>1.000</td>\n",
              "      <td>16</td>\n",
              "      <td>1</td>\n",
              "    </tr>\n",
              "    <tr>\n",
              "      <th>1</th>\n",
              "      <td>1417.701</td>\n",
              "      <td>26.206</td>\n",
              "      <td>16</td>\n",
              "      <td>10</td>\n",
              "    </tr>\n",
              "    <tr>\n",
              "      <th>2</th>\n",
              "      <td>2110.050</td>\n",
              "      <td>10.300</td>\n",
              "      <td>16</td>\n",
              "      <td>11</td>\n",
              "    </tr>\n",
              "    <tr>\n",
              "      <th>3</th>\n",
              "      <td>2619.802</td>\n",
              "      <td>4.100</td>\n",
              "      <td>16</td>\n",
              "      <td>12</td>\n",
              "    </tr>\n",
              "    <tr>\n",
              "      <th>4</th>\n",
              "      <td>6681.080</td>\n",
              "      <td>0.305</td>\n",
              "      <td>16</td>\n",
              "      <td>2</td>\n",
              "    </tr>\n",
              "  </tbody>\n",
              "</table>\n",
              "</div>"
            ],
            "text/plain": [
              "         inn     out year month\n",
              "0  24407.001   1.000   16     1\n",
              "1   1417.701  26.206   16    10\n",
              "2   2110.050  10.300   16    11\n",
              "3   2619.802   4.100   16    12\n",
              "4   6681.080   0.305   16     2"
            ]
          },
          "metadata": {},
          "execution_count": 20
        }
      ]
    },
    {
      "cell_type": "code",
      "metadata": {
        "id": "RwU2ROCVXuJj"
      },
      "source": [
        "inout = inout.astype({'year':'int', 'month':'int'})"
      ],
      "execution_count": null,
      "outputs": []
    },
    {
      "cell_type": "code",
      "metadata": {
        "colab": {
          "base_uri": "https://localhost:8080/",
          "height": 203
        },
        "id": "ELJRqsMDIzvB",
        "outputId": "2f0eaf3d-ad8b-4553-e98d-6a368534b9e5"
      },
      "source": [
        "inout['year'] = inout['year'] + 1\n",
        "inout.head()"
      ],
      "execution_count": null,
      "outputs": [
        {
          "output_type": "execute_result",
          "data": {
            "text/html": [
              "<div>\n",
              "<style scoped>\n",
              "    .dataframe tbody tr th:only-of-type {\n",
              "        vertical-align: middle;\n",
              "    }\n",
              "\n",
              "    .dataframe tbody tr th {\n",
              "        vertical-align: top;\n",
              "    }\n",
              "\n",
              "    .dataframe thead th {\n",
              "        text-align: right;\n",
              "    }\n",
              "</style>\n",
              "<table border=\"1\" class=\"dataframe\">\n",
              "  <thead>\n",
              "    <tr style=\"text-align: right;\">\n",
              "      <th></th>\n",
              "      <th>inn</th>\n",
              "      <th>out</th>\n",
              "      <th>year</th>\n",
              "      <th>month</th>\n",
              "    </tr>\n",
              "  </thead>\n",
              "  <tbody>\n",
              "    <tr>\n",
              "      <th>0</th>\n",
              "      <td>24407.001</td>\n",
              "      <td>1.000</td>\n",
              "      <td>17</td>\n",
              "      <td>1</td>\n",
              "    </tr>\n",
              "    <tr>\n",
              "      <th>1</th>\n",
              "      <td>1417.701</td>\n",
              "      <td>26.206</td>\n",
              "      <td>17</td>\n",
              "      <td>10</td>\n",
              "    </tr>\n",
              "    <tr>\n",
              "      <th>2</th>\n",
              "      <td>2110.050</td>\n",
              "      <td>10.300</td>\n",
              "      <td>17</td>\n",
              "      <td>11</td>\n",
              "    </tr>\n",
              "    <tr>\n",
              "      <th>3</th>\n",
              "      <td>2619.802</td>\n",
              "      <td>4.100</td>\n",
              "      <td>17</td>\n",
              "      <td>12</td>\n",
              "    </tr>\n",
              "    <tr>\n",
              "      <th>4</th>\n",
              "      <td>6681.080</td>\n",
              "      <td>0.305</td>\n",
              "      <td>17</td>\n",
              "      <td>2</td>\n",
              "    </tr>\n",
              "  </tbody>\n",
              "</table>\n",
              "</div>"
            ],
            "text/plain": [
              "         inn     out  year  month\n",
              "0  24407.001   1.000    17      1\n",
              "1   1417.701  26.206    17     10\n",
              "2   2110.050  10.300    17     11\n",
              "3   2619.802   4.100    17     12\n",
              "4   6681.080   0.305    17      2"
            ]
          },
          "metadata": {},
          "execution_count": 22
        }
      ]
    },
    {
      "cell_type": "code",
      "metadata": {
        "id": "2yR05NSNK4z0"
      },
      "source": [
        "inout.to_csv('/content/drive/MyDrive/Colab Notebooks/2nd project/inout.csv', index = False)"
      ],
      "execution_count": null,
      "outputs": []
    },
    {
      "cell_type": "code",
      "metadata": {
        "colab": {
          "base_uri": "https://localhost:8080/",
          "height": 203
        },
        "id": "R4AkCxYves5q",
        "outputId": "9fe422ae-2328-4e8d-e47a-a594003a6869"
      },
      "source": [
        "top_merge.head()"
      ],
      "execution_count": null,
      "outputs": [
        {
          "output_type": "execute_result",
          "data": {
            "text/html": [
              "<div>\n",
              "<style scoped>\n",
              "    .dataframe tbody tr th:only-of-type {\n",
              "        vertical-align: middle;\n",
              "    }\n",
              "\n",
              "    .dataframe tbody tr th {\n",
              "        vertical-align: top;\n",
              "    }\n",
              "\n",
              "    .dataframe thead th {\n",
              "        text-align: right;\n",
              "    }\n",
              "</style>\n",
              "<table border=\"1\" class=\"dataframe\">\n",
              "  <thead>\n",
              "    <tr style=\"text-align: right;\">\n",
              "      <th></th>\n",
              "      <th>kind</th>\n",
              "      <th>market</th>\n",
              "      <th>corp</th>\n",
              "      <th>wide</th>\n",
              "      <th>city</th>\n",
              "      <th>price</th>\n",
              "      <th>year</th>\n",
              "      <th>month</th>\n",
              "      <th>area</th>\n",
              "      <th>ratio</th>\n",
              "      <th>amount</th>\n",
              "      <th>weather</th>\n",
              "    </tr>\n",
              "  </thead>\n",
              "  <tbody>\n",
              "    <tr>\n",
              "      <th>0</th>\n",
              "      <td>양파(일반)</td>\n",
              "      <td>대구북부도매</td>\n",
              "      <td>대양청과</td>\n",
              "      <td>경북</td>\n",
              "      <td>영천</td>\n",
              "      <td>793.00</td>\n",
              "      <td>21</td>\n",
              "      <td>10</td>\n",
              "      <td>2365</td>\n",
              "      <td>8098</td>\n",
              "      <td>191509</td>\n",
              "      <td>영천</td>\n",
              "    </tr>\n",
              "    <tr>\n",
              "      <th>1</th>\n",
              "      <td>양파(일반)</td>\n",
              "      <td>대구북부도매</td>\n",
              "      <td>효성청과</td>\n",
              "      <td>경북</td>\n",
              "      <td>영천</td>\n",
              "      <td>843.43</td>\n",
              "      <td>21</td>\n",
              "      <td>10</td>\n",
              "      <td>2365</td>\n",
              "      <td>8098</td>\n",
              "      <td>191509</td>\n",
              "      <td>영천</td>\n",
              "    </tr>\n",
              "    <tr>\n",
              "      <th>2</th>\n",
              "      <td>기타</td>\n",
              "      <td>포항도매</td>\n",
              "      <td>대구경북능금원협</td>\n",
              "      <td>경북</td>\n",
              "      <td>영천</td>\n",
              "      <td>725.00</td>\n",
              "      <td>21</td>\n",
              "      <td>10</td>\n",
              "      <td>2365</td>\n",
              "      <td>8098</td>\n",
              "      <td>191509</td>\n",
              "      <td>영천</td>\n",
              "    </tr>\n",
              "    <tr>\n",
              "      <th>3</th>\n",
              "      <td>양파(일반)</td>\n",
              "      <td>대구북부도매</td>\n",
              "      <td>대양청과</td>\n",
              "      <td>경북</td>\n",
              "      <td>영천</td>\n",
              "      <td>804.59</td>\n",
              "      <td>21</td>\n",
              "      <td>9</td>\n",
              "      <td>2365</td>\n",
              "      <td>8098</td>\n",
              "      <td>191509</td>\n",
              "      <td>영천</td>\n",
              "    </tr>\n",
              "    <tr>\n",
              "      <th>4</th>\n",
              "      <td>양파(일반)</td>\n",
              "      <td>대구북부도매</td>\n",
              "      <td>효성청과</td>\n",
              "      <td>경북</td>\n",
              "      <td>영천</td>\n",
              "      <td>890.58</td>\n",
              "      <td>21</td>\n",
              "      <td>9</td>\n",
              "      <td>2365</td>\n",
              "      <td>8098</td>\n",
              "      <td>191509</td>\n",
              "      <td>영천</td>\n",
              "    </tr>\n",
              "  </tbody>\n",
              "</table>\n",
              "</div>"
            ],
            "text/plain": [
              "     kind  market      corp wide city  ...  month  area  ratio  amount  weather\n",
              "0  양파(일반)  대구북부도매      대양청과   경북   영천  ...     10  2365   8098  191509       영천\n",
              "1  양파(일반)  대구북부도매      효성청과   경북   영천  ...     10  2365   8098  191509       영천\n",
              "2      기타    포항도매  대구경북능금원협   경북   영천  ...     10  2365   8098  191509       영천\n",
              "3  양파(일반)  대구북부도매      대양청과   경북   영천  ...      9  2365   8098  191509       영천\n",
              "4  양파(일반)  대구북부도매      효성청과   경북   영천  ...      9  2365   8098  191509       영천\n",
              "\n",
              "[5 rows x 12 columns]"
            ]
          },
          "metadata": {},
          "execution_count": 58
        }
      ]
    },
    {
      "cell_type": "code",
      "metadata": {
        "colab": {
          "base_uri": "https://localhost:8080/",
          "height": 602
        },
        "id": "XDbQnHj3XDxm",
        "outputId": "f03cf3e1-fa0b-49ca-be01-eabd79262f76"
      },
      "source": [
        "inout_merge = pd.merge(top_merge, inout, on = ['year', 'month'])\n",
        "inout_merge"
      ],
      "execution_count": null,
      "outputs": [
        {
          "output_type": "execute_result",
          "data": {
            "text/html": [
              "<div>\n",
              "<style scoped>\n",
              "    .dataframe tbody tr th:only-of-type {\n",
              "        vertical-align: middle;\n",
              "    }\n",
              "\n",
              "    .dataframe tbody tr th {\n",
              "        vertical-align: top;\n",
              "    }\n",
              "\n",
              "    .dataframe thead th {\n",
              "        text-align: right;\n",
              "    }\n",
              "</style>\n",
              "<table border=\"1\" class=\"dataframe\">\n",
              "  <thead>\n",
              "    <tr style=\"text-align: right;\">\n",
              "      <th></th>\n",
              "      <th>kind</th>\n",
              "      <th>market</th>\n",
              "      <th>corp</th>\n",
              "      <th>wide</th>\n",
              "      <th>city</th>\n",
              "      <th>price</th>\n",
              "      <th>year</th>\n",
              "      <th>month</th>\n",
              "      <th>area</th>\n",
              "      <th>ratio</th>\n",
              "      <th>amount</th>\n",
              "      <th>weather</th>\n",
              "      <th>inn</th>\n",
              "      <th>out</th>\n",
              "    </tr>\n",
              "  </thead>\n",
              "  <tbody>\n",
              "    <tr>\n",
              "      <th>0</th>\n",
              "      <td>양파(일반)</td>\n",
              "      <td>대구북부도매</td>\n",
              "      <td>대양청과</td>\n",
              "      <td>경북</td>\n",
              "      <td>영천</td>\n",
              "      <td>793.00</td>\n",
              "      <td>21</td>\n",
              "      <td>10</td>\n",
              "      <td>2365</td>\n",
              "      <td>8098</td>\n",
              "      <td>191509</td>\n",
              "      <td>영천</td>\n",
              "      <td>5213.902</td>\n",
              "      <td>7.88</td>\n",
              "    </tr>\n",
              "    <tr>\n",
              "      <th>1</th>\n",
              "      <td>양파(일반)</td>\n",
              "      <td>대구북부도매</td>\n",
              "      <td>효성청과</td>\n",
              "      <td>경북</td>\n",
              "      <td>영천</td>\n",
              "      <td>843.43</td>\n",
              "      <td>21</td>\n",
              "      <td>10</td>\n",
              "      <td>2365</td>\n",
              "      <td>8098</td>\n",
              "      <td>191509</td>\n",
              "      <td>영천</td>\n",
              "      <td>5213.902</td>\n",
              "      <td>7.88</td>\n",
              "    </tr>\n",
              "    <tr>\n",
              "      <th>2</th>\n",
              "      <td>기타</td>\n",
              "      <td>포항도매</td>\n",
              "      <td>대구경북능금원협</td>\n",
              "      <td>경북</td>\n",
              "      <td>영천</td>\n",
              "      <td>725.00</td>\n",
              "      <td>21</td>\n",
              "      <td>10</td>\n",
              "      <td>2365</td>\n",
              "      <td>8098</td>\n",
              "      <td>191509</td>\n",
              "      <td>영천</td>\n",
              "      <td>5213.902</td>\n",
              "      <td>7.88</td>\n",
              "    </tr>\n",
              "    <tr>\n",
              "      <th>3</th>\n",
              "      <td>양파(일반)</td>\n",
              "      <td>대구북부도매</td>\n",
              "      <td>효성청과</td>\n",
              "      <td>경북</td>\n",
              "      <td>의성</td>\n",
              "      <td>803.03</td>\n",
              "      <td>21</td>\n",
              "      <td>10</td>\n",
              "      <td>2365</td>\n",
              "      <td>8098</td>\n",
              "      <td>191509</td>\n",
              "      <td>의성</td>\n",
              "      <td>5213.902</td>\n",
              "      <td>7.88</td>\n",
              "    </tr>\n",
              "    <tr>\n",
              "      <th>4</th>\n",
              "      <td>양파(일반)</td>\n",
              "      <td>부산엄궁도매</td>\n",
              "      <td>부산청과</td>\n",
              "      <td>경북</td>\n",
              "      <td>의성</td>\n",
              "      <td>785.80</td>\n",
              "      <td>21</td>\n",
              "      <td>10</td>\n",
              "      <td>2365</td>\n",
              "      <td>8098</td>\n",
              "      <td>191509</td>\n",
              "      <td>의성</td>\n",
              "      <td>5213.902</td>\n",
              "      <td>7.88</td>\n",
              "    </tr>\n",
              "    <tr>\n",
              "      <th>...</th>\n",
              "      <td>...</td>\n",
              "      <td>...</td>\n",
              "      <td>...</td>\n",
              "      <td>...</td>\n",
              "      <td>...</td>\n",
              "      <td>...</td>\n",
              "      <td>...</td>\n",
              "      <td>...</td>\n",
              "      <td>...</td>\n",
              "      <td>...</td>\n",
              "      <td>...</td>\n",
              "      <td>...</td>\n",
              "      <td>...</td>\n",
              "      <td>...</td>\n",
              "    </tr>\n",
              "    <tr>\n",
              "      <th>25121</th>\n",
              "      <td>양파(수입)</td>\n",
              "      <td>구리도매</td>\n",
              "      <td>구리청과</td>\n",
              "      <td>경기</td>\n",
              "      <td>구리</td>\n",
              "      <td>1066.64</td>\n",
              "      <td>17</td>\n",
              "      <td>1</td>\n",
              "      <td>217</td>\n",
              "      <td>6046</td>\n",
              "      <td>13120</td>\n",
              "      <td>서울</td>\n",
              "      <td>24407.001</td>\n",
              "      <td>1.00</td>\n",
              "    </tr>\n",
              "    <tr>\n",
              "      <th>25122</th>\n",
              "      <td>기타</td>\n",
              "      <td>서울가락도매</td>\n",
              "      <td>중앙청과</td>\n",
              "      <td>충남</td>\n",
              "      <td>서산</td>\n",
              "      <td>924.17</td>\n",
              "      <td>17</td>\n",
              "      <td>1</td>\n",
              "      <td>453</td>\n",
              "      <td>6270</td>\n",
              "      <td>28405</td>\n",
              "      <td>서산</td>\n",
              "      <td>24407.001</td>\n",
              "      <td>1.00</td>\n",
              "    </tr>\n",
              "    <tr>\n",
              "      <th>25123</th>\n",
              "      <td>자주양파</td>\n",
              "      <td>서울가락도매</td>\n",
              "      <td>중앙청과</td>\n",
              "      <td>충남</td>\n",
              "      <td>서산</td>\n",
              "      <td>775.00</td>\n",
              "      <td>17</td>\n",
              "      <td>1</td>\n",
              "      <td>453</td>\n",
              "      <td>6270</td>\n",
              "      <td>28405</td>\n",
              "      <td>서산</td>\n",
              "      <td>24407.001</td>\n",
              "      <td>1.00</td>\n",
              "    </tr>\n",
              "    <tr>\n",
              "      <th>25124</th>\n",
              "      <td>깐양파</td>\n",
              "      <td>안산도매</td>\n",
              "      <td>안산농산물</td>\n",
              "      <td>충남</td>\n",
              "      <td>서산</td>\n",
              "      <td>1066.67</td>\n",
              "      <td>17</td>\n",
              "      <td>1</td>\n",
              "      <td>453</td>\n",
              "      <td>6270</td>\n",
              "      <td>28405</td>\n",
              "      <td>서산</td>\n",
              "      <td>24407.001</td>\n",
              "      <td>1.00</td>\n",
              "    </tr>\n",
              "    <tr>\n",
              "      <th>25125</th>\n",
              "      <td>저장양파</td>\n",
              "      <td>서울가락도매</td>\n",
              "      <td>동화청과</td>\n",
              "      <td>충남</td>\n",
              "      <td>논산</td>\n",
              "      <td>1150.00</td>\n",
              "      <td>17</td>\n",
              "      <td>1</td>\n",
              "      <td>453</td>\n",
              "      <td>6270</td>\n",
              "      <td>28405</td>\n",
              "      <td>부여</td>\n",
              "      <td>24407.001</td>\n",
              "      <td>1.00</td>\n",
              "    </tr>\n",
              "  </tbody>\n",
              "</table>\n",
              "<p>25126 rows × 14 columns</p>\n",
              "</div>"
            ],
            "text/plain": [
              "         kind  market      corp wide  ...  amount  weather        inn   out\n",
              "0      양파(일반)  대구북부도매      대양청과   경북  ...  191509       영천   5213.902  7.88\n",
              "1      양파(일반)  대구북부도매      효성청과   경북  ...  191509       영천   5213.902  7.88\n",
              "2          기타    포항도매  대구경북능금원협   경북  ...  191509       영천   5213.902  7.88\n",
              "3      양파(일반)  대구북부도매      효성청과   경북  ...  191509       의성   5213.902  7.88\n",
              "4      양파(일반)  부산엄궁도매      부산청과   경북  ...  191509       의성   5213.902  7.88\n",
              "...       ...     ...       ...  ...  ...     ...      ...        ...   ...\n",
              "25121  양파(수입)    구리도매      구리청과   경기  ...   13120       서울  24407.001  1.00\n",
              "25122      기타  서울가락도매      중앙청과   충남  ...   28405       서산  24407.001  1.00\n",
              "25123    자주양파  서울가락도매      중앙청과   충남  ...   28405       서산  24407.001  1.00\n",
              "25124     깐양파    안산도매     안산농산물   충남  ...   28405       서산  24407.001  1.00\n",
              "25125    저장양파  서울가락도매      동화청과   충남  ...   28405       부여  24407.001  1.00\n",
              "\n",
              "[25126 rows x 14 columns]"
            ]
          },
          "metadata": {},
          "execution_count": 69
        }
      ]
    },
    {
      "cell_type": "code",
      "metadata": {
        "id": "HPQkfhDdxrVM"
      },
      "source": [
        "inout_merge.to_csv('/content/drive/MyDrive/Colab Notebooks/2nd project/inout_merge.csv', index = False)"
      ],
      "execution_count": null,
      "outputs": []
    },
    {
      "cell_type": "markdown",
      "metadata": {
        "id": "6uQ-dEFaZms9"
      },
      "source": [
        "# 4. Modeling - 수입수출량 포함"
      ]
    },
    {
      "cell_type": "code",
      "metadata": {
        "colab": {
          "base_uri": "https://localhost:8080/"
        },
        "id": "Hmf9740eYRws",
        "outputId": "b327bca3-9d2f-4c1c-e695-85aaef6e91bb"
      },
      "source": [
        "from sklearn.model_selection import train_test_split\n",
        "\n",
        "train_set, test_set = train_test_split(inout_merge,\n",
        "                                       test_size = 0.3,\n",
        "                                       random_state = 2045)\n",
        "\n",
        "train_set.shape, test_set.shape"
      ],
      "execution_count": null,
      "outputs": [
        {
          "output_type": "execute_result",
          "data": {
            "text/plain": [
              "((18323, 14), (7853, 14))"
            ]
          },
          "metadata": {},
          "execution_count": 120
        }
      ]
    },
    {
      "cell_type": "code",
      "metadata": {
        "id": "_4nuvWDqXaOi"
      },
      "source": [
        "import statsmodels.formula.api as smf\n",
        "\n",
        "Model_4 = smf.ols(formula = 'price ~ kind + market + corp + wide + city + year + month + area + ratio + amount + inn + out',\n",
        "                data = train_set).fit()"
      ],
      "execution_count": null,
      "outputs": []
    },
    {
      "cell_type": "code",
      "metadata": {
        "id": "k_ZOXIPWYInK"
      },
      "source": [
        "y_hat_4 = Model_4.predict(test_set[['kind',\t'market',\t'corp',\t'wide',\t'city',\t'year',\n",
        "                                    'month',\t'area',\t'ratio',\t'amount', 'inn',\t'out']])"
      ],
      "execution_count": null,
      "outputs": []
    },
    {
      "cell_type": "code",
      "metadata": {
        "colab": {
          "base_uri": "https://localhost:8080/"
        },
        "id": "IaikLmeTYLC4",
        "outputId": "a39ad5ce-5c7f-457c-ef96-f7ebc6a3e1f4"
      },
      "source": [
        "mse4 = mean_squared_error(test_set.price, y_hat_4)\n",
        "np.sqrt(mse4)"
      ],
      "execution_count": null,
      "outputs": [
        {
          "output_type": "execute_result",
          "data": {
            "text/plain": [
              "300.71958637369437"
            ]
          },
          "metadata": {},
          "execution_count": 123
        }
      ]
    },
    {
      "cell_type": "code",
      "metadata": {
        "colab": {
          "base_uri": "https://localhost:8080/"
        },
        "id": "wddpyH7YwtIu",
        "outputId": "d8906487-0ee7-45ca-c8c1-c8ddafa7ef35"
      },
      "source": [
        "from sklearn.metrics import mean_absolute_error\n",
        "import numpy as np\n",
        "mae = mean_absolute_error(test_set.price, y_hat_4)\n",
        "norm=(abs(test_set.price).sum())/len(test_set.price)\n",
        "nmae=mae/norm\n",
        "print('nmae:', nmae)"
      ],
      "execution_count": null,
      "outputs": [
        {
          "output_type": "stream",
          "name": "stdout",
          "text": [
            "nmae: 0.2923236358273176\n"
          ]
        }
      ]
    },
    {
      "cell_type": "markdown",
      "metadata": {
        "id": "BgpIvKnRyAtX"
      },
      "source": [
        "# 전처리 3"
      ]
    },
    {
      "cell_type": "code",
      "metadata": {
        "colab": {
          "base_uri": "https://localhost:8080/",
          "height": 223
        },
        "id": "ht8ITQZYyGgJ",
        "outputId": "222c4641-4c01-4ad5-cb8d-546f7e1cd4ad"
      },
      "source": [
        "import pandas as pd\n",
        "\n",
        "weather3 = pd.read_csv('/content/drive/MyDrive/Colab Notebooks/2nd project/기후관측(21.10~12).csv', encoding = 'cp949')\n",
        "weather3['year'] = weather3['연'].astype(str).map(lambda x: x[2:])\n",
        "weather3.rename(columns = {'기상관측소':'weather'}, inplace = True)\n",
        "weather3.drop(['연'], axis=1, inplace=True)\n",
        "weather3.head()"
      ],
      "execution_count": null,
      "outputs": [
        {
          "output_type": "execute_result",
          "data": {
            "text/html": [
              "<div>\n",
              "<style scoped>\n",
              "    .dataframe tbody tr th:only-of-type {\n",
              "        vertical-align: middle;\n",
              "    }\n",
              "\n",
              "    .dataframe tbody tr th {\n",
              "        vertical-align: top;\n",
              "    }\n",
              "\n",
              "    .dataframe thead th {\n",
              "        text-align: right;\n",
              "    }\n",
              "</style>\n",
              "<table border=\"1\" class=\"dataframe\">\n",
              "  <thead>\n",
              "    <tr style=\"text-align: right;\">\n",
              "      <th></th>\n",
              "      <th>weather</th>\n",
              "      <th>AT_1</th>\n",
              "      <th>AT_2</th>\n",
              "      <th>AT_3</th>\n",
              "      <th>AT_4</th>\n",
              "      <th>AT_5</th>\n",
              "      <th>AT_6</th>\n",
              "      <th>AT_7</th>\n",
              "      <th>AT_8</th>\n",
              "      <th>AT_9</th>\n",
              "      <th>AT_10</th>\n",
              "      <th>AT_11</th>\n",
              "      <th>AT_12</th>\n",
              "      <th>HT_1</th>\n",
              "      <th>HT_2</th>\n",
              "      <th>HT_3</th>\n",
              "      <th>HT_4</th>\n",
              "      <th>HT_5</th>\n",
              "      <th>HT_6</th>\n",
              "      <th>HT_7</th>\n",
              "      <th>HT_8</th>\n",
              "      <th>HT_9</th>\n",
              "      <th>HT_10</th>\n",
              "      <th>HT_11</th>\n",
              "      <th>HT_12</th>\n",
              "      <th>LT_1</th>\n",
              "      <th>LT_2</th>\n",
              "      <th>LT_3</th>\n",
              "      <th>LT_4</th>\n",
              "      <th>LT_5</th>\n",
              "      <th>LT_6</th>\n",
              "      <th>LT_7</th>\n",
              "      <th>LT_8</th>\n",
              "      <th>LT_9</th>\n",
              "      <th>LT_10</th>\n",
              "      <th>LT_11</th>\n",
              "      <th>LT_12</th>\n",
              "      <th>RAIN_1</th>\n",
              "      <th>RAIN_2</th>\n",
              "      <th>RAIN_3</th>\n",
              "      <th>RAIN_4</th>\n",
              "      <th>RAIN_5</th>\n",
              "      <th>RAIN_6</th>\n",
              "      <th>RAIN_7</th>\n",
              "      <th>RAIN_8</th>\n",
              "      <th>RAIN_9</th>\n",
              "      <th>RAIN_10</th>\n",
              "      <th>RAIN_11</th>\n",
              "      <th>RAIN_12</th>\n",
              "      <th>SUN_1</th>\n",
              "      <th>SUN_2</th>\n",
              "      <th>SUN_3</th>\n",
              "      <th>SUN_4</th>\n",
              "      <th>SUN_5</th>\n",
              "      <th>SUN_6</th>\n",
              "      <th>SUN_7</th>\n",
              "      <th>SUN_8</th>\n",
              "      <th>SUN_9</th>\n",
              "      <th>SUN_10</th>\n",
              "      <th>SUN_11</th>\n",
              "      <th>SUN_12</th>\n",
              "      <th>year</th>\n",
              "    </tr>\n",
              "  </thead>\n",
              "  <tbody>\n",
              "    <tr>\n",
              "      <th>0</th>\n",
              "      <td>강릉</td>\n",
              "      <td>-0.1</td>\n",
              "      <td>0.4</td>\n",
              "      <td>5.7</td>\n",
              "      <td>13.3</td>\n",
              "      <td>17.6</td>\n",
              "      <td>20.6</td>\n",
              "      <td>25.3</td>\n",
              "      <td>25.1</td>\n",
              "      <td>20.2</td>\n",
              "      <td>15.8</td>\n",
              "      <td>7.8</td>\n",
              "      <td>-0.1</td>\n",
              "      <td>4.1</td>\n",
              "      <td>5.1</td>\n",
              "      <td>9.6</td>\n",
              "      <td>18.3</td>\n",
              "      <td>21.9</td>\n",
              "      <td>24.1</td>\n",
              "      <td>28.9</td>\n",
              "      <td>28.4</td>\n",
              "      <td>24.1</td>\n",
              "      <td>20.8</td>\n",
              "      <td>12.3</td>\n",
              "      <td>4.4</td>\n",
              "      <td>-3.2</td>\n",
              "      <td>-3.8</td>\n",
              "      <td>1.9</td>\n",
              "      <td>8.6</td>\n",
              "      <td>13.6</td>\n",
              "      <td>17.5</td>\n",
              "      <td>22.1</td>\n",
              "      <td>22.3</td>\n",
              "      <td>16.9</td>\n",
              "      <td>11.4</td>\n",
              "      <td>4.0</td>\n",
              "      <td>-3.8</td>\n",
              "      <td>39.0</td>\n",
              "      <td>23.1</td>\n",
              "      <td>126.7</td>\n",
              "      <td>126.5</td>\n",
              "      <td>52.7</td>\n",
              "      <td>26.8</td>\n",
              "      <td>261.2</td>\n",
              "      <td>295.3</td>\n",
              "      <td>290.7</td>\n",
              "      <td>10.6</td>\n",
              "      <td>25.6</td>\n",
              "      <td>43.2</td>\n",
              "      <td>196.6</td>\n",
              "      <td>208.4</td>\n",
              "      <td>180.2</td>\n",
              "      <td>211.1</td>\n",
              "      <td>219.3</td>\n",
              "      <td>121.2</td>\n",
              "      <td>182.7</td>\n",
              "      <td>91.5</td>\n",
              "      <td>176.7</td>\n",
              "      <td>232.3</td>\n",
              "      <td>203.6</td>\n",
              "      <td>194.9</td>\n",
              "      <td>12</td>\n",
              "    </tr>\n",
              "    <tr>\n",
              "      <th>1</th>\n",
              "      <td>강릉</td>\n",
              "      <td>-0.5</td>\n",
              "      <td>1.8</td>\n",
              "      <td>7.4</td>\n",
              "      <td>10.8</td>\n",
              "      <td>18.1</td>\n",
              "      <td>21.5</td>\n",
              "      <td>27.0</td>\n",
              "      <td>28.5</td>\n",
              "      <td>20.8</td>\n",
              "      <td>15.8</td>\n",
              "      <td>8.8</td>\n",
              "      <td>3.1</td>\n",
              "      <td>4.0</td>\n",
              "      <td>6.7</td>\n",
              "      <td>12.2</td>\n",
              "      <td>15.3</td>\n",
              "      <td>23.1</td>\n",
              "      <td>25.0</td>\n",
              "      <td>30.7</td>\n",
              "      <td>32.5</td>\n",
              "      <td>24.6</td>\n",
              "      <td>20.4</td>\n",
              "      <td>13.1</td>\n",
              "      <td>7.2</td>\n",
              "      <td>-4.3</td>\n",
              "      <td>-2.5</td>\n",
              "      <td>2.7</td>\n",
              "      <td>6.1</td>\n",
              "      <td>13.6</td>\n",
              "      <td>18.4</td>\n",
              "      <td>23.9</td>\n",
              "      <td>25.3</td>\n",
              "      <td>17.7</td>\n",
              "      <td>11.9</td>\n",
              "      <td>4.8</td>\n",
              "      <td>-0.3</td>\n",
              "      <td>54.6</td>\n",
              "      <td>13.6</td>\n",
              "      <td>81.8</td>\n",
              "      <td>58.0</td>\n",
              "      <td>78.7</td>\n",
              "      <td>36.0</td>\n",
              "      <td>241.9</td>\n",
              "      <td>54.6</td>\n",
              "      <td>135.5</td>\n",
              "      <td>130.8</td>\n",
              "      <td>9.8</td>\n",
              "      <td>26.4</td>\n",
              "      <td>194.3</td>\n",
              "      <td>203.0</td>\n",
              "      <td>238.7</td>\n",
              "      <td>229.7</td>\n",
              "      <td>244.4</td>\n",
              "      <td>173.6</td>\n",
              "      <td>166.0</td>\n",
              "      <td>240.5</td>\n",
              "      <td>142.8</td>\n",
              "      <td>193.5</td>\n",
              "      <td>214.3</td>\n",
              "      <td>197.9</td>\n",
              "      <td>13</td>\n",
              "    </tr>\n",
              "    <tr>\n",
              "      <th>2</th>\n",
              "      <td>강릉</td>\n",
              "      <td>2.3</td>\n",
              "      <td>1.3</td>\n",
              "      <td>8.3</td>\n",
              "      <td>14.1</td>\n",
              "      <td>20.0</td>\n",
              "      <td>20.9</td>\n",
              "      <td>26.1</td>\n",
              "      <td>23.7</td>\n",
              "      <td>20.9</td>\n",
              "      <td>15.9</td>\n",
              "      <td>10.5</td>\n",
              "      <td>1.1</td>\n",
              "      <td>6.4</td>\n",
              "      <td>5.3</td>\n",
              "      <td>12.7</td>\n",
              "      <td>18.7</td>\n",
              "      <td>24.8</td>\n",
              "      <td>24.3</td>\n",
              "      <td>30.1</td>\n",
              "      <td>26.7</td>\n",
              "      <td>25.1</td>\n",
              "      <td>20.6</td>\n",
              "      <td>14.5</td>\n",
              "      <td>5.6</td>\n",
              "      <td>-2.0</td>\n",
              "      <td>-1.8</td>\n",
              "      <td>3.6</td>\n",
              "      <td>9.5</td>\n",
              "      <td>14.9</td>\n",
              "      <td>17.9</td>\n",
              "      <td>22.5</td>\n",
              "      <td>20.9</td>\n",
              "      <td>17.4</td>\n",
              "      <td>11.8</td>\n",
              "      <td>6.8</td>\n",
              "      <td>-3.2</td>\n",
              "      <td>45.6</td>\n",
              "      <td>169.4</td>\n",
              "      <td>55.3</td>\n",
              "      <td>189.3</td>\n",
              "      <td>9.9</td>\n",
              "      <td>55.7</td>\n",
              "      <td>109.5</td>\n",
              "      <td>336.9</td>\n",
              "      <td>212.1</td>\n",
              "      <td>120.2</td>\n",
              "      <td>84.5</td>\n",
              "      <td>0.4</td>\n",
              "      <td>183.3</td>\n",
              "      <td>107.9</td>\n",
              "      <td>192.9</td>\n",
              "      <td>190.7</td>\n",
              "      <td>259.0</td>\n",
              "      <td>122.5</td>\n",
              "      <td>220.7</td>\n",
              "      <td>123.9</td>\n",
              "      <td>189.9</td>\n",
              "      <td>206.1</td>\n",
              "      <td>173.5</td>\n",
              "      <td>227.9</td>\n",
              "      <td>14</td>\n",
              "    </tr>\n",
              "    <tr>\n",
              "      <th>3</th>\n",
              "      <td>강릉</td>\n",
              "      <td>2.2</td>\n",
              "      <td>3.1</td>\n",
              "      <td>8.2</td>\n",
              "      <td>12.1</td>\n",
              "      <td>20.0</td>\n",
              "      <td>21.0</td>\n",
              "      <td>23.8</td>\n",
              "      <td>25.8</td>\n",
              "      <td>20.2</td>\n",
              "      <td>16.0</td>\n",
              "      <td>9.9</td>\n",
              "      <td>4.9</td>\n",
              "      <td>6.4</td>\n",
              "      <td>7.4</td>\n",
              "      <td>13.4</td>\n",
              "      <td>16.7</td>\n",
              "      <td>25.1</td>\n",
              "      <td>25.1</td>\n",
              "      <td>27.2</td>\n",
              "      <td>29.7</td>\n",
              "      <td>24.4</td>\n",
              "      <td>21.0</td>\n",
              "      <td>12.9</td>\n",
              "      <td>8.9</td>\n",
              "      <td>-1.5</td>\n",
              "      <td>-0.6</td>\n",
              "      <td>2.9</td>\n",
              "      <td>7.5</td>\n",
              "      <td>14.8</td>\n",
              "      <td>17.2</td>\n",
              "      <td>20.7</td>\n",
              "      <td>22.4</td>\n",
              "      <td>16.6</td>\n",
              "      <td>11.5</td>\n",
              "      <td>7.2</td>\n",
              "      <td>1.6</td>\n",
              "      <td>20.4</td>\n",
              "      <td>13.1</td>\n",
              "      <td>22.1</td>\n",
              "      <td>76.8</td>\n",
              "      <td>3.1</td>\n",
              "      <td>175.0</td>\n",
              "      <td>62.9</td>\n",
              "      <td>224.8</td>\n",
              "      <td>70.0</td>\n",
              "      <td>21.0</td>\n",
              "      <td>348.9</td>\n",
              "      <td>9.3</td>\n",
              "      <td>185.5</td>\n",
              "      <td>186.3</td>\n",
              "      <td>277.1</td>\n",
              "      <td>188.8</td>\n",
              "      <td>288.3</td>\n",
              "      <td>184.0</td>\n",
              "      <td>173.7</td>\n",
              "      <td>235.7</td>\n",
              "      <td>206.3</td>\n",
              "      <td>255.4</td>\n",
              "      <td>97.7</td>\n",
              "      <td>174.2</td>\n",
              "      <td>15</td>\n",
              "    </tr>\n",
              "    <tr>\n",
              "      <th>4</th>\n",
              "      <td>강릉</td>\n",
              "      <td>0.4</td>\n",
              "      <td>1.9</td>\n",
              "      <td>7.9</td>\n",
              "      <td>14.1</td>\n",
              "      <td>19.3</td>\n",
              "      <td>21.9</td>\n",
              "      <td>24.1</td>\n",
              "      <td>25.8</td>\n",
              "      <td>20.6</td>\n",
              "      <td>15.6</td>\n",
              "      <td>9.1</td>\n",
              "      <td>5.0</td>\n",
              "      <td>4.7</td>\n",
              "      <td>6.0</td>\n",
              "      <td>12.4</td>\n",
              "      <td>19.3</td>\n",
              "      <td>24.9</td>\n",
              "      <td>25.9</td>\n",
              "      <td>27.6</td>\n",
              "      <td>29.8</td>\n",
              "      <td>24.3</td>\n",
              "      <td>19.8</td>\n",
              "      <td>13.6</td>\n",
              "      <td>9.2</td>\n",
              "      <td>-3.1</td>\n",
              "      <td>-1.6</td>\n",
              "      <td>3.7</td>\n",
              "      <td>9.2</td>\n",
              "      <td>14.2</td>\n",
              "      <td>18.3</td>\n",
              "      <td>21.2</td>\n",
              "      <td>22.2</td>\n",
              "      <td>17.6</td>\n",
              "      <td>12.2</td>\n",
              "      <td>4.7</td>\n",
              "      <td>1.2</td>\n",
              "      <td>27.4</td>\n",
              "      <td>48.5</td>\n",
              "      <td>29.3</td>\n",
              "      <td>73.0</td>\n",
              "      <td>33.6</td>\n",
              "      <td>40.7</td>\n",
              "      <td>424.2</td>\n",
              "      <td>282.6</td>\n",
              "      <td>104.8</td>\n",
              "      <td>78.1</td>\n",
              "      <td>33.5</td>\n",
              "      <td>82.5</td>\n",
              "      <td>232.8</td>\n",
              "      <td>213.9</td>\n",
              "      <td>207.0</td>\n",
              "      <td>237.6</td>\n",
              "      <td>285.9</td>\n",
              "      <td>205.1</td>\n",
              "      <td>141.2</td>\n",
              "      <td>235.5</td>\n",
              "      <td>125.4</td>\n",
              "      <td>151.3</td>\n",
              "      <td>189.8</td>\n",
              "      <td>183.9</td>\n",
              "      <td>16</td>\n",
              "    </tr>\n",
              "  </tbody>\n",
              "</table>\n",
              "</div>"
            ],
            "text/plain": [
              "  weather  AT_1  AT_2  AT_3  AT_4  ...  SUN_9  SUN_10  SUN_11  SUN_12  year\n",
              "0      강릉  -0.1   0.4   5.7  13.3  ...  176.7   232.3   203.6   194.9    12\n",
              "1      강릉  -0.5   1.8   7.4  10.8  ...  142.8   193.5   214.3   197.9    13\n",
              "2      강릉   2.3   1.3   8.3  14.1  ...  189.9   206.1   173.5   227.9    14\n",
              "3      강릉   2.2   3.1   8.2  12.1  ...  206.3   255.4    97.7   174.2    15\n",
              "4      강릉   0.4   1.9   7.9  14.1  ...  125.4   151.3   189.8   183.9    16\n",
              "\n",
              "[5 rows x 62 columns]"
            ]
          },
          "metadata": {},
          "execution_count": 4
        }
      ]
    },
    {
      "cell_type": "code",
      "metadata": {
        "id": "NlRrY2nk0XBy",
        "colab": {
          "base_uri": "https://localhost:8080/"
        },
        "outputId": "1a8b3c52-296d-4ef8-cf91-55b66899a00d"
      },
      "source": [
        "weather3 = weather3.astype({'year':'int'})\n",
        "weather3.dtypes"
      ],
      "execution_count": null,
      "outputs": [
        {
          "output_type": "execute_result",
          "data": {
            "text/plain": [
              "weather     object\n",
              "AT_1       float64\n",
              "AT_2       float64\n",
              "AT_3       float64\n",
              "AT_4       float64\n",
              "            ...   \n",
              "SUN_9      float64\n",
              "SUN_10     float64\n",
              "SUN_11     float64\n",
              "SUN_12     float64\n",
              "year         int64\n",
              "Length: 62, dtype: object"
            ]
          },
          "metadata": {},
          "execution_count": 5
        }
      ]
    },
    {
      "cell_type": "code",
      "metadata": {
        "id": "v2s6RmB25fNE"
      },
      "source": [
        "weather3['year'] = weather3['year'] + 1"
      ],
      "execution_count": null,
      "outputs": []
    },
    {
      "cell_type": "code",
      "metadata": {
        "colab": {
          "base_uri": "https://localhost:8080/"
        },
        "id": "9m_sJNcLJuX2",
        "outputId": "6fbc9470-8028-4d6e-e782-332ea6394ca5"
      },
      "source": [
        "weather3['AT_7'].isnull().sum(axis = 0) # 6 (강진군, 대구(기), 북춘천, 주암, 홍천)"
      ],
      "execution_count": null,
      "outputs": [
        {
          "output_type": "execute_result",
          "data": {
            "text/plain": [
              "6"
            ]
          },
          "metadata": {},
          "execution_count": 7
        }
      ]
    },
    {
      "cell_type": "code",
      "metadata": {
        "id": "k1ykB7hwLDTn"
      },
      "source": [
        "weather3['AT_7'].fillna(int(weather3['AT_7'].mean(axis = 0)), inplace = True)"
      ],
      "execution_count": null,
      "outputs": []
    },
    {
      "cell_type": "code",
      "metadata": {
        "colab": {
          "base_uri": "https://localhost:8080/",
          "height": 377
        },
        "id": "lziRPGYT_XBB",
        "outputId": "585f9336-89cf-4bdf-e901-d7274b10b263"
      },
      "source": [
        "weather3[weather3['weather'] == '강진군']"
      ],
      "execution_count": null,
      "outputs": [
        {
          "output_type": "execute_result",
          "data": {
            "text/html": [
              "<div>\n",
              "<style scoped>\n",
              "    .dataframe tbody tr th:only-of-type {\n",
              "        vertical-align: middle;\n",
              "    }\n",
              "\n",
              "    .dataframe tbody tr th {\n",
              "        vertical-align: top;\n",
              "    }\n",
              "\n",
              "    .dataframe thead th {\n",
              "        text-align: right;\n",
              "    }\n",
              "</style>\n",
              "<table border=\"1\" class=\"dataframe\">\n",
              "  <thead>\n",
              "    <tr style=\"text-align: right;\">\n",
              "      <th></th>\n",
              "      <th>weather</th>\n",
              "      <th>AT_1</th>\n",
              "      <th>AT_2</th>\n",
              "      <th>AT_3</th>\n",
              "      <th>AT_4</th>\n",
              "      <th>AT_5</th>\n",
              "      <th>AT_6</th>\n",
              "      <th>AT_7</th>\n",
              "      <th>AT_8</th>\n",
              "      <th>AT_9</th>\n",
              "      <th>AT_10</th>\n",
              "      <th>AT_11</th>\n",
              "      <th>AT_12</th>\n",
              "      <th>HT_1</th>\n",
              "      <th>HT_2</th>\n",
              "      <th>HT_3</th>\n",
              "      <th>HT_4</th>\n",
              "      <th>HT_5</th>\n",
              "      <th>HT_6</th>\n",
              "      <th>HT_7</th>\n",
              "      <th>HT_8</th>\n",
              "      <th>HT_9</th>\n",
              "      <th>HT_10</th>\n",
              "      <th>HT_11</th>\n",
              "      <th>HT_12</th>\n",
              "      <th>LT_1</th>\n",
              "      <th>LT_2</th>\n",
              "      <th>LT_3</th>\n",
              "      <th>LT_4</th>\n",
              "      <th>LT_5</th>\n",
              "      <th>LT_6</th>\n",
              "      <th>LT_7</th>\n",
              "      <th>LT_8</th>\n",
              "      <th>LT_9</th>\n",
              "      <th>LT_10</th>\n",
              "      <th>LT_11</th>\n",
              "      <th>LT_12</th>\n",
              "      <th>RAIN_1</th>\n",
              "      <th>RAIN_2</th>\n",
              "      <th>RAIN_3</th>\n",
              "      <th>RAIN_4</th>\n",
              "      <th>RAIN_5</th>\n",
              "      <th>RAIN_6</th>\n",
              "      <th>RAIN_7</th>\n",
              "      <th>RAIN_8</th>\n",
              "      <th>RAIN_9</th>\n",
              "      <th>RAIN_10</th>\n",
              "      <th>RAIN_11</th>\n",
              "      <th>RAIN_12</th>\n",
              "      <th>SUN_1</th>\n",
              "      <th>SUN_2</th>\n",
              "      <th>SUN_3</th>\n",
              "      <th>SUN_4</th>\n",
              "      <th>SUN_5</th>\n",
              "      <th>SUN_6</th>\n",
              "      <th>SUN_7</th>\n",
              "      <th>SUN_8</th>\n",
              "      <th>SUN_9</th>\n",
              "      <th>SUN_10</th>\n",
              "      <th>SUN_11</th>\n",
              "      <th>SUN_12</th>\n",
              "      <th>year</th>\n",
              "    </tr>\n",
              "  </thead>\n",
              "  <tbody>\n",
              "    <tr>\n",
              "      <th>10</th>\n",
              "      <td>강진군</td>\n",
              "      <td>0.6</td>\n",
              "      <td>0.5</td>\n",
              "      <td>6.2</td>\n",
              "      <td>12.3</td>\n",
              "      <td>18.5</td>\n",
              "      <td>22.1</td>\n",
              "      <td>25.4</td>\n",
              "      <td>26.7</td>\n",
              "      <td>20.5</td>\n",
              "      <td>15.100000</td>\n",
              "      <td>8.000000</td>\n",
              "      <td>1.2</td>\n",
              "      <td>5.5</td>\n",
              "      <td>5.1</td>\n",
              "      <td>11.2</td>\n",
              "      <td>17.9</td>\n",
              "      <td>24.4</td>\n",
              "      <td>26.5</td>\n",
              "      <td>28.9</td>\n",
              "      <td>30.3</td>\n",
              "      <td>25.6</td>\n",
              "      <td>21.7</td>\n",
              "      <td>13.000000</td>\n",
              "      <td>5.600000</td>\n",
              "      <td>-3.7</td>\n",
              "      <td>-3.5</td>\n",
              "      <td>1.8</td>\n",
              "      <td>6.3</td>\n",
              "      <td>13.4</td>\n",
              "      <td>18.5</td>\n",
              "      <td>22.4</td>\n",
              "      <td>23.7</td>\n",
              "      <td>16.3</td>\n",
              "      <td>9.200000</td>\n",
              "      <td>3.0</td>\n",
              "      <td>-2.9</td>\n",
              "      <td>12.6</td>\n",
              "      <td>36.2</td>\n",
              "      <td>157.8</td>\n",
              "      <td>179.4</td>\n",
              "      <td>41.8</td>\n",
              "      <td>58.9</td>\n",
              "      <td>259.8</td>\n",
              "      <td>480.5</td>\n",
              "      <td>289.6</td>\n",
              "      <td>64.600000</td>\n",
              "      <td>52.0</td>\n",
              "      <td>70.200000</td>\n",
              "      <td>154.7</td>\n",
              "      <td>132.9</td>\n",
              "      <td>180.9</td>\n",
              "      <td>208.0</td>\n",
              "      <td>224.8</td>\n",
              "      <td>151.3</td>\n",
              "      <td>140.3</td>\n",
              "      <td>164.2</td>\n",
              "      <td>175.6</td>\n",
              "      <td>244.000000</td>\n",
              "      <td>177.100000</td>\n",
              "      <td>175.900000</td>\n",
              "      <td>13</td>\n",
              "    </tr>\n",
              "    <tr>\n",
              "      <th>11</th>\n",
              "      <td>강진군</td>\n",
              "      <td>0.1</td>\n",
              "      <td>2.2</td>\n",
              "      <td>6.8</td>\n",
              "      <td>10.6</td>\n",
              "      <td>17.6</td>\n",
              "      <td>22.4</td>\n",
              "      <td>26.3</td>\n",
              "      <td>27.2</td>\n",
              "      <td>21.9</td>\n",
              "      <td>16.400000</td>\n",
              "      <td>8.400000</td>\n",
              "      <td>2.9</td>\n",
              "      <td>5.0</td>\n",
              "      <td>7.1</td>\n",
              "      <td>14.2</td>\n",
              "      <td>16.8</td>\n",
              "      <td>23.9</td>\n",
              "      <td>26.7</td>\n",
              "      <td>29.6</td>\n",
              "      <td>31.9</td>\n",
              "      <td>27.5</td>\n",
              "      <td>22.6</td>\n",
              "      <td>14.500000</td>\n",
              "      <td>8.100000</td>\n",
              "      <td>-4.4</td>\n",
              "      <td>-2.5</td>\n",
              "      <td>0.4</td>\n",
              "      <td>4.3</td>\n",
              "      <td>11.7</td>\n",
              "      <td>19.0</td>\n",
              "      <td>23.6</td>\n",
              "      <td>23.3</td>\n",
              "      <td>17.2</td>\n",
              "      <td>11.200000</td>\n",
              "      <td>3.4</td>\n",
              "      <td>-1.4</td>\n",
              "      <td>22.8</td>\n",
              "      <td>65.0</td>\n",
              "      <td>93.5</td>\n",
              "      <td>68.8</td>\n",
              "      <td>197.4</td>\n",
              "      <td>85.0</td>\n",
              "      <td>193.7</td>\n",
              "      <td>226.9</td>\n",
              "      <td>99.7</td>\n",
              "      <td>25.300000</td>\n",
              "      <td>114.5</td>\n",
              "      <td>12.700000</td>\n",
              "      <td>190.0</td>\n",
              "      <td>173.6</td>\n",
              "      <td>240.6</td>\n",
              "      <td>224.1</td>\n",
              "      <td>249.0</td>\n",
              "      <td>173.7</td>\n",
              "      <td>183.8</td>\n",
              "      <td>269.5</td>\n",
              "      <td>209.1</td>\n",
              "      <td>234.200000</td>\n",
              "      <td>194.300000</td>\n",
              "      <td>181.500000</td>\n",
              "      <td>14</td>\n",
              "    </tr>\n",
              "    <tr>\n",
              "      <th>12</th>\n",
              "      <td>강진군</td>\n",
              "      <td>1.6</td>\n",
              "      <td>3.8</td>\n",
              "      <td>7.6</td>\n",
              "      <td>13.4</td>\n",
              "      <td>17.7</td>\n",
              "      <td>21.8</td>\n",
              "      <td>24.4</td>\n",
              "      <td>24.0</td>\n",
              "      <td>21.3</td>\n",
              "      <td>15.700000</td>\n",
              "      <td>10.000000</td>\n",
              "      <td>1.8</td>\n",
              "      <td>8.0</td>\n",
              "      <td>9.3</td>\n",
              "      <td>13.6</td>\n",
              "      <td>20.0</td>\n",
              "      <td>24.1</td>\n",
              "      <td>26.4</td>\n",
              "      <td>28.2</td>\n",
              "      <td>27.6</td>\n",
              "      <td>26.9</td>\n",
              "      <td>22.7</td>\n",
              "      <td>15.900000</td>\n",
              "      <td>6.500000</td>\n",
              "      <td>-4.0</td>\n",
              "      <td>-1.0</td>\n",
              "      <td>1.9</td>\n",
              "      <td>7.6</td>\n",
              "      <td>11.3</td>\n",
              "      <td>18.3</td>\n",
              "      <td>21.5</td>\n",
              "      <td>21.3</td>\n",
              "      <td>16.7</td>\n",
              "      <td>9.700000</td>\n",
              "      <td>4.9</td>\n",
              "      <td>-2.2</td>\n",
              "      <td>13.2</td>\n",
              "      <td>26.0</td>\n",
              "      <td>94.4</td>\n",
              "      <td>57.9</td>\n",
              "      <td>149.1</td>\n",
              "      <td>81.5</td>\n",
              "      <td>250.1</td>\n",
              "      <td>473.4</td>\n",
              "      <td>138.5</td>\n",
              "      <td>102.300000</td>\n",
              "      <td>89.7</td>\n",
              "      <td>37.100000</td>\n",
              "      <td>220.2</td>\n",
              "      <td>157.3</td>\n",
              "      <td>201.7</td>\n",
              "      <td>211.6</td>\n",
              "      <td>296.5</td>\n",
              "      <td>166.0</td>\n",
              "      <td>143.7</td>\n",
              "      <td>115.8</td>\n",
              "      <td>195.1</td>\n",
              "      <td>228.300000</td>\n",
              "      <td>158.100000</td>\n",
              "      <td>159.900000</td>\n",
              "      <td>15</td>\n",
              "    </tr>\n",
              "    <tr>\n",
              "      <th>13</th>\n",
              "      <td>강진군</td>\n",
              "      <td>2.1</td>\n",
              "      <td>3.0</td>\n",
              "      <td>7.2</td>\n",
              "      <td>12.7</td>\n",
              "      <td>18.3</td>\n",
              "      <td>21.1</td>\n",
              "      <td>24.4</td>\n",
              "      <td>24.9</td>\n",
              "      <td>20.8</td>\n",
              "      <td>15.600000</td>\n",
              "      <td>11.600000</td>\n",
              "      <td>5.6</td>\n",
              "      <td>7.1</td>\n",
              "      <td>8.1</td>\n",
              "      <td>14.4</td>\n",
              "      <td>18.8</td>\n",
              "      <td>24.5</td>\n",
              "      <td>25.5</td>\n",
              "      <td>28.3</td>\n",
              "      <td>29.7</td>\n",
              "      <td>26.7</td>\n",
              "      <td>22.6</td>\n",
              "      <td>16.100000</td>\n",
              "      <td>10.100000</td>\n",
              "      <td>-2.3</td>\n",
              "      <td>-1.5</td>\n",
              "      <td>0.9</td>\n",
              "      <td>7.5</td>\n",
              "      <td>12.4</td>\n",
              "      <td>17.8</td>\n",
              "      <td>21.2</td>\n",
              "      <td>21.1</td>\n",
              "      <td>15.9</td>\n",
              "      <td>10.000000</td>\n",
              "      <td>7.8</td>\n",
              "      <td>1.2</td>\n",
              "      <td>28.8</td>\n",
              "      <td>28.7</td>\n",
              "      <td>41.0</td>\n",
              "      <td>188.7</td>\n",
              "      <td>121.6</td>\n",
              "      <td>125.8</td>\n",
              "      <td>203.0</td>\n",
              "      <td>166.2</td>\n",
              "      <td>97.9</td>\n",
              "      <td>77.800000</td>\n",
              "      <td>100.6</td>\n",
              "      <td>60.300000</td>\n",
              "      <td>171.6</td>\n",
              "      <td>152.3</td>\n",
              "      <td>237.7</td>\n",
              "      <td>174.5</td>\n",
              "      <td>271.7</td>\n",
              "      <td>158.3</td>\n",
              "      <td>170.8</td>\n",
              "      <td>194.8</td>\n",
              "      <td>211.6</td>\n",
              "      <td>234.700000</td>\n",
              "      <td>96.000000</td>\n",
              "      <td>134.900000</td>\n",
              "      <td>16</td>\n",
              "    </tr>\n",
              "    <tr>\n",
              "      <th>14</th>\n",
              "      <td>강진군</td>\n",
              "      <td>1.1</td>\n",
              "      <td>3.1</td>\n",
              "      <td>7.5</td>\n",
              "      <td>14.2</td>\n",
              "      <td>18.5</td>\n",
              "      <td>22.1</td>\n",
              "      <td>25.8</td>\n",
              "      <td>27.0</td>\n",
              "      <td>22.3</td>\n",
              "      <td>17.200000</td>\n",
              "      <td>9.200000</td>\n",
              "      <td>4.9</td>\n",
              "      <td>5.4</td>\n",
              "      <td>8.4</td>\n",
              "      <td>13.7</td>\n",
              "      <td>20.2</td>\n",
              "      <td>24.4</td>\n",
              "      <td>26.1</td>\n",
              "      <td>29.7</td>\n",
              "      <td>32.8</td>\n",
              "      <td>27.2</td>\n",
              "      <td>21.8</td>\n",
              "      <td>14.900000</td>\n",
              "      <td>10.400000</td>\n",
              "      <td>-2.5</td>\n",
              "      <td>-1.8</td>\n",
              "      <td>1.7</td>\n",
              "      <td>8.8</td>\n",
              "      <td>12.7</td>\n",
              "      <td>19.0</td>\n",
              "      <td>22.7</td>\n",
              "      <td>22.6</td>\n",
              "      <td>18.5</td>\n",
              "      <td>13.300000</td>\n",
              "      <td>4.4</td>\n",
              "      <td>0.3</td>\n",
              "      <td>59.6</td>\n",
              "      <td>46.0</td>\n",
              "      <td>99.3</td>\n",
              "      <td>244.5</td>\n",
              "      <td>159.6</td>\n",
              "      <td>142.1</td>\n",
              "      <td>220.9</td>\n",
              "      <td>39.0</td>\n",
              "      <td>241.1</td>\n",
              "      <td>215.800000</td>\n",
              "      <td>90.8</td>\n",
              "      <td>60.700000</td>\n",
              "      <td>139.6</td>\n",
              "      <td>169.6</td>\n",
              "      <td>218.7</td>\n",
              "      <td>195.9</td>\n",
              "      <td>236.7</td>\n",
              "      <td>137.5</td>\n",
              "      <td>220.3</td>\n",
              "      <td>270.2</td>\n",
              "      <td>141.5</td>\n",
              "      <td>112.400000</td>\n",
              "      <td>161.800000</td>\n",
              "      <td>139.200000</td>\n",
              "      <td>17</td>\n",
              "    </tr>\n",
              "    <tr>\n",
              "      <th>15</th>\n",
              "      <td>강진군</td>\n",
              "      <td>2.2</td>\n",
              "      <td>2.8</td>\n",
              "      <td>6.7</td>\n",
              "      <td>13.7</td>\n",
              "      <td>18.4</td>\n",
              "      <td>21.7</td>\n",
              "      <td>25.0</td>\n",
              "      <td>26.5</td>\n",
              "      <td>21.5</td>\n",
              "      <td>16.500000</td>\n",
              "      <td>8.100000</td>\n",
              "      <td>2.0</td>\n",
              "      <td>7.4</td>\n",
              "      <td>8.6</td>\n",
              "      <td>13.5</td>\n",
              "      <td>20.9</td>\n",
              "      <td>25.2</td>\n",
              "      <td>27.0</td>\n",
              "      <td>30.3</td>\n",
              "      <td>31.4</td>\n",
              "      <td>27.2</td>\n",
              "      <td>22.4</td>\n",
              "      <td>15.100000</td>\n",
              "      <td>7.600000</td>\n",
              "      <td>-2.4</td>\n",
              "      <td>-2.5</td>\n",
              "      <td>0.4</td>\n",
              "      <td>7.2</td>\n",
              "      <td>12.0</td>\n",
              "      <td>17.1</td>\n",
              "      <td>23.8</td>\n",
              "      <td>22.6</td>\n",
              "      <td>16.7</td>\n",
              "      <td>11.800000</td>\n",
              "      <td>2.1</td>\n",
              "      <td>-3.3</td>\n",
              "      <td>9.7</td>\n",
              "      <td>27.4</td>\n",
              "      <td>25.0</td>\n",
              "      <td>51.4</td>\n",
              "      <td>17.1</td>\n",
              "      <td>62.0</td>\n",
              "      <td>182.1</td>\n",
              "      <td>199.2</td>\n",
              "      <td>98.1</td>\n",
              "      <td>115.400000</td>\n",
              "      <td>2.4</td>\n",
              "      <td>26.400000</td>\n",
              "      <td>188.8</td>\n",
              "      <td>186.9</td>\n",
              "      <td>212.3</td>\n",
              "      <td>254.5</td>\n",
              "      <td>275.9</td>\n",
              "      <td>219.0</td>\n",
              "      <td>114.0</td>\n",
              "      <td>212.3</td>\n",
              "      <td>195.1</td>\n",
              "      <td>167.600000</td>\n",
              "      <td>187.500000</td>\n",
              "      <td>153.400000</td>\n",
              "      <td>18</td>\n",
              "    </tr>\n",
              "    <tr>\n",
              "      <th>16</th>\n",
              "      <td>강진군</td>\n",
              "      <td>0.0</td>\n",
              "      <td>1.6</td>\n",
              "      <td>8.6</td>\n",
              "      <td>13.7</td>\n",
              "      <td>18.3</td>\n",
              "      <td>22.6</td>\n",
              "      <td>27.3</td>\n",
              "      <td>27.8</td>\n",
              "      <td>21.2</td>\n",
              "      <td>14.500000</td>\n",
              "      <td>9.400000</td>\n",
              "      <td>3.5</td>\n",
              "      <td>4.9</td>\n",
              "      <td>7.6</td>\n",
              "      <td>14.8</td>\n",
              "      <td>19.7</td>\n",
              "      <td>23.5</td>\n",
              "      <td>27.7</td>\n",
              "      <td>32.0</td>\n",
              "      <td>32.3</td>\n",
              "      <td>26.3</td>\n",
              "      <td>20.7</td>\n",
              "      <td>16.400000</td>\n",
              "      <td>8.400000</td>\n",
              "      <td>-4.2</td>\n",
              "      <td>-3.9</td>\n",
              "      <td>3.0</td>\n",
              "      <td>7.7</td>\n",
              "      <td>13.4</td>\n",
              "      <td>18.5</td>\n",
              "      <td>23.4</td>\n",
              "      <td>24.3</td>\n",
              "      <td>17.0</td>\n",
              "      <td>9.100000</td>\n",
              "      <td>3.7</td>\n",
              "      <td>-0.9</td>\n",
              "      <td>35.7</td>\n",
              "      <td>24.3</td>\n",
              "      <td>149.1</td>\n",
              "      <td>153.1</td>\n",
              "      <td>95.7</td>\n",
              "      <td>252.3</td>\n",
              "      <td>44.0</td>\n",
              "      <td>384.0</td>\n",
              "      <td>166.5</td>\n",
              "      <td>260.600000</td>\n",
              "      <td>38.8</td>\n",
              "      <td>30.400000</td>\n",
              "      <td>174.7</td>\n",
              "      <td>171.8</td>\n",
              "      <td>199.7</td>\n",
              "      <td>213.0</td>\n",
              "      <td>189.6</td>\n",
              "      <td>223.0</td>\n",
              "      <td>253.6</td>\n",
              "      <td>219.6</td>\n",
              "      <td>155.9</td>\n",
              "      <td>221.000000</td>\n",
              "      <td>182.900000</td>\n",
              "      <td>143.500000</td>\n",
              "      <td>19</td>\n",
              "    </tr>\n",
              "    <tr>\n",
              "      <th>17</th>\n",
              "      <td>강진군</td>\n",
              "      <td>2.3</td>\n",
              "      <td>3.8</td>\n",
              "      <td>8.1</td>\n",
              "      <td>12.2</td>\n",
              "      <td>18.1</td>\n",
              "      <td>21.5</td>\n",
              "      <td>24.7</td>\n",
              "      <td>26.4</td>\n",
              "      <td>22.7</td>\n",
              "      <td>16.600000</td>\n",
              "      <td>10.600000</td>\n",
              "      <td>4.4</td>\n",
              "      <td>7.5</td>\n",
              "      <td>9.3</td>\n",
              "      <td>14.7</td>\n",
              "      <td>18.1</td>\n",
              "      <td>25.2</td>\n",
              "      <td>26.5</td>\n",
              "      <td>28.6</td>\n",
              "      <td>30.8</td>\n",
              "      <td>27.3</td>\n",
              "      <td>22.6</td>\n",
              "      <td>17.200000</td>\n",
              "      <td>10.200000</td>\n",
              "      <td>-2.2</td>\n",
              "      <td>-1.0</td>\n",
              "      <td>2.0</td>\n",
              "      <td>6.5</td>\n",
              "      <td>11.3</td>\n",
              "      <td>17.3</td>\n",
              "      <td>21.8</td>\n",
              "      <td>22.7</td>\n",
              "      <td>19.1</td>\n",
              "      <td>11.600000</td>\n",
              "      <td>4.8</td>\n",
              "      <td>-0.7</td>\n",
              "      <td>10.1</td>\n",
              "      <td>35.2</td>\n",
              "      <td>56.8</td>\n",
              "      <td>96.3</td>\n",
              "      <td>137.0</td>\n",
              "      <td>275.1</td>\n",
              "      <td>247.4</td>\n",
              "      <td>94.0</td>\n",
              "      <td>285.6</td>\n",
              "      <td>183.100000</td>\n",
              "      <td>22.0</td>\n",
              "      <td>39.000000</td>\n",
              "      <td>190.8</td>\n",
              "      <td>157.0</td>\n",
              "      <td>217.9</td>\n",
              "      <td>184.0</td>\n",
              "      <td>292.4</td>\n",
              "      <td>212.9</td>\n",
              "      <td>156.6</td>\n",
              "      <td>213.4</td>\n",
              "      <td>148.2</td>\n",
              "      <td>203.600000</td>\n",
              "      <td>172.900000</td>\n",
              "      <td>156.300000</td>\n",
              "      <td>20</td>\n",
              "    </tr>\n",
              "    <tr>\n",
              "      <th>18</th>\n",
              "      <td>강진군</td>\n",
              "      <td>4.7</td>\n",
              "      <td>5.1</td>\n",
              "      <td>8.4</td>\n",
              "      <td>11.0</td>\n",
              "      <td>17.9</td>\n",
              "      <td>22.7</td>\n",
              "      <td>23.2</td>\n",
              "      <td>27.6</td>\n",
              "      <td>21.3</td>\n",
              "      <td>15.300000</td>\n",
              "      <td>10.700000</td>\n",
              "      <td>2.5</td>\n",
              "      <td>9.4</td>\n",
              "      <td>10.6</td>\n",
              "      <td>14.6</td>\n",
              "      <td>17.4</td>\n",
              "      <td>23.0</td>\n",
              "      <td>27.4</td>\n",
              "      <td>26.7</td>\n",
              "      <td>31.5</td>\n",
              "      <td>26.2</td>\n",
              "      <td>21.8</td>\n",
              "      <td>16.200000</td>\n",
              "      <td>8.600000</td>\n",
              "      <td>0.8</td>\n",
              "      <td>0.0</td>\n",
              "      <td>2.4</td>\n",
              "      <td>4.8</td>\n",
              "      <td>13.3</td>\n",
              "      <td>18.6</td>\n",
              "      <td>20.7</td>\n",
              "      <td>24.4</td>\n",
              "      <td>17.5</td>\n",
              "      <td>10.000000</td>\n",
              "      <td>5.5</td>\n",
              "      <td>-2.7</td>\n",
              "      <td>95.0</td>\n",
              "      <td>40.9</td>\n",
              "      <td>37.9</td>\n",
              "      <td>63.6</td>\n",
              "      <td>161.5</td>\n",
              "      <td>332.1</td>\n",
              "      <td>398.5</td>\n",
              "      <td>253.1</td>\n",
              "      <td>221.0</td>\n",
              "      <td>24.700000</td>\n",
              "      <td>12.1</td>\n",
              "      <td>14.000000</td>\n",
              "      <td>138.0</td>\n",
              "      <td>166.7</td>\n",
              "      <td>230.6</td>\n",
              "      <td>277.7</td>\n",
              "      <td>201.3</td>\n",
              "      <td>205.4</td>\n",
              "      <td>71.6</td>\n",
              "      <td>193.6</td>\n",
              "      <td>161.4</td>\n",
              "      <td>218.500000</td>\n",
              "      <td>159.600000</td>\n",
              "      <td>172.200000</td>\n",
              "      <td>21</td>\n",
              "    </tr>\n",
              "    <tr>\n",
              "      <th>19</th>\n",
              "      <td>강진군</td>\n",
              "      <td>1.4</td>\n",
              "      <td>5.2</td>\n",
              "      <td>10.1</td>\n",
              "      <td>13.9</td>\n",
              "      <td>17.8</td>\n",
              "      <td>22.8</td>\n",
              "      <td>26.6</td>\n",
              "      <td>26.3</td>\n",
              "      <td>22.9</td>\n",
              "      <td>15.877778</td>\n",
              "      <td>9.555556</td>\n",
              "      <td>3.2</td>\n",
              "      <td>7.3</td>\n",
              "      <td>11.1</td>\n",
              "      <td>16.3</td>\n",
              "      <td>20.1</td>\n",
              "      <td>23.6</td>\n",
              "      <td>27.9</td>\n",
              "      <td>31.0</td>\n",
              "      <td>31.1</td>\n",
              "      <td>27.3</td>\n",
              "      <td>22.1</td>\n",
              "      <td>15.477778</td>\n",
              "      <td>8.388889</td>\n",
              "      <td>-3.5</td>\n",
              "      <td>-0.1</td>\n",
              "      <td>4.5</td>\n",
              "      <td>8.2</td>\n",
              "      <td>12.4</td>\n",
              "      <td>18.4</td>\n",
              "      <td>23.0</td>\n",
              "      <td>22.6</td>\n",
              "      <td>19.4</td>\n",
              "      <td>10.655556</td>\n",
              "      <td>4.4</td>\n",
              "      <td>-1.4</td>\n",
              "      <td>38.4</td>\n",
              "      <td>33.7</td>\n",
              "      <td>153.3</td>\n",
              "      <td>50.5</td>\n",
              "      <td>130.8</td>\n",
              "      <td>134.3</td>\n",
              "      <td>498.1</td>\n",
              "      <td>269.9</td>\n",
              "      <td>105.6</td>\n",
              "      <td>118.844444</td>\n",
              "      <td>58.1</td>\n",
              "      <td>38.977778</td>\n",
              "      <td>167.5</td>\n",
              "      <td>155.6</td>\n",
              "      <td>203.9</td>\n",
              "      <td>224.5</td>\n",
              "      <td>201.4</td>\n",
              "      <td>203.6</td>\n",
              "      <td>172.0</td>\n",
              "      <td>152.9</td>\n",
              "      <td>103.8</td>\n",
              "      <td>207.144444</td>\n",
              "      <td>165.577778</td>\n",
              "      <td>157.422222</td>\n",
              "      <td>22</td>\n",
              "    </tr>\n",
              "  </tbody>\n",
              "</table>\n",
              "</div>"
            ],
            "text/plain": [
              "   weather  AT_1  AT_2  AT_3  ...      SUN_10      SUN_11      SUN_12  year\n",
              "10     강진군   0.6   0.5   6.2  ...  244.000000  177.100000  175.900000    13\n",
              "11     강진군   0.1   2.2   6.8  ...  234.200000  194.300000  181.500000    14\n",
              "12     강진군   1.6   3.8   7.6  ...  228.300000  158.100000  159.900000    15\n",
              "13     강진군   2.1   3.0   7.2  ...  234.700000   96.000000  134.900000    16\n",
              "14     강진군   1.1   3.1   7.5  ...  112.400000  161.800000  139.200000    17\n",
              "15     강진군   2.2   2.8   6.7  ...  167.600000  187.500000  153.400000    18\n",
              "16     강진군   0.0   1.6   8.6  ...  221.000000  182.900000  143.500000    19\n",
              "17     강진군   2.3   3.8   8.1  ...  203.600000  172.900000  156.300000    20\n",
              "18     강진군   4.7   5.1   8.4  ...  218.500000  159.600000  172.200000    21\n",
              "19     강진군   1.4   5.2  10.1  ...  207.144444  165.577778  157.422222    22\n",
              "\n",
              "[10 rows x 62 columns]"
            ]
          },
          "metadata": {},
          "execution_count": 10
        }
      ]
    },
    {
      "cell_type": "code",
      "metadata": {
        "id": "GSR_9c9-LUWS"
      },
      "source": [
        "weather3.to_csv('/content/drive/MyDrive/Colab Notebooks/2nd project/weather3.csv', index = False)"
      ],
      "execution_count": null,
      "outputs": []
    },
    {
      "cell_type": "code",
      "metadata": {
        "colab": {
          "base_uri": "https://localhost:8080/",
          "height": 408
        },
        "id": "-1sv8ALnyyV3",
        "outputId": "6ea2a245-88d0-48d0-91fb-aeada492dfd5"
      },
      "source": [
        "weather_merge = pd.merge(inout_merge, weather2, on = ['year', 'weather'])\n",
        "weather_merge.head()"
      ],
      "execution_count": null,
      "outputs": [
        {
          "output_type": "execute_result",
          "data": {
            "text/html": [
              "<div>\n",
              "<style scoped>\n",
              "    .dataframe tbody tr th:only-of-type {\n",
              "        vertical-align: middle;\n",
              "    }\n",
              "\n",
              "    .dataframe tbody tr th {\n",
              "        vertical-align: top;\n",
              "    }\n",
              "\n",
              "    .dataframe thead th {\n",
              "        text-align: right;\n",
              "    }\n",
              "</style>\n",
              "<table border=\"1\" class=\"dataframe\">\n",
              "  <thead>\n",
              "    <tr style=\"text-align: right;\">\n",
              "      <th></th>\n",
              "      <th>kind</th>\n",
              "      <th>market</th>\n",
              "      <th>corp</th>\n",
              "      <th>wide</th>\n",
              "      <th>city</th>\n",
              "      <th>price</th>\n",
              "      <th>year</th>\n",
              "      <th>month</th>\n",
              "      <th>area</th>\n",
              "      <th>ratio</th>\n",
              "      <th>amount</th>\n",
              "      <th>weather</th>\n",
              "      <th>inn</th>\n",
              "      <th>out</th>\n",
              "      <th>AT_1</th>\n",
              "      <th>AT_2</th>\n",
              "      <th>AT_3</th>\n",
              "      <th>AT_4</th>\n",
              "      <th>AT_5</th>\n",
              "      <th>AT_6</th>\n",
              "      <th>AT_7</th>\n",
              "      <th>AT_8</th>\n",
              "      <th>AT_9</th>\n",
              "      <th>AT_10</th>\n",
              "      <th>AT_11</th>\n",
              "      <th>AT_12</th>\n",
              "      <th>HT_1</th>\n",
              "      <th>HT_2</th>\n",
              "      <th>HT_3</th>\n",
              "      <th>HT_4</th>\n",
              "      <th>HT_5</th>\n",
              "      <th>HT_6</th>\n",
              "      <th>HT_7</th>\n",
              "      <th>HT_8</th>\n",
              "      <th>HT_9</th>\n",
              "      <th>HT_10</th>\n",
              "      <th>HT_11</th>\n",
              "      <th>HT_12</th>\n",
              "      <th>LT_1</th>\n",
              "      <th>LT_2</th>\n",
              "      <th>LT_3</th>\n",
              "      <th>LT_4</th>\n",
              "      <th>LT_5</th>\n",
              "      <th>LT_6</th>\n",
              "      <th>LT_7</th>\n",
              "      <th>LT_8</th>\n",
              "      <th>LT_9</th>\n",
              "      <th>LT_10</th>\n",
              "      <th>LT_11</th>\n",
              "      <th>LT_12</th>\n",
              "      <th>RAIN_1</th>\n",
              "      <th>RAIN_2</th>\n",
              "      <th>RAIN_3</th>\n",
              "      <th>RAIN_4</th>\n",
              "      <th>RAIN_5</th>\n",
              "      <th>RAIN_6</th>\n",
              "      <th>RAIN_7</th>\n",
              "      <th>RAIN_8</th>\n",
              "      <th>RAIN_9</th>\n",
              "      <th>RAIN_10</th>\n",
              "      <th>RAIN_11</th>\n",
              "      <th>RAIN_12</th>\n",
              "      <th>SUN_1</th>\n",
              "      <th>SUN_2</th>\n",
              "      <th>SUN_3</th>\n",
              "      <th>SUN_4</th>\n",
              "      <th>SUN_5</th>\n",
              "      <th>SUN_6</th>\n",
              "      <th>SUN_7</th>\n",
              "      <th>SUN_8</th>\n",
              "      <th>SUN_9</th>\n",
              "      <th>SUN_10</th>\n",
              "      <th>SUN_11</th>\n",
              "      <th>SUN_12</th>\n",
              "    </tr>\n",
              "  </thead>\n",
              "  <tbody>\n",
              "    <tr>\n",
              "      <th>0</th>\n",
              "      <td>양파(일반)</td>\n",
              "      <td>대구북부도매</td>\n",
              "      <td>대양청과</td>\n",
              "      <td>경북</td>\n",
              "      <td>영천</td>\n",
              "      <td>793.00</td>\n",
              "      <td>21</td>\n",
              "      <td>10</td>\n",
              "      <td>2365</td>\n",
              "      <td>8098</td>\n",
              "      <td>191509</td>\n",
              "      <td>영천</td>\n",
              "      <td>5213.902</td>\n",
              "      <td>7.88</td>\n",
              "      <td>1.1</td>\n",
              "      <td>3.3</td>\n",
              "      <td>8.5</td>\n",
              "      <td>12.8</td>\n",
              "      <td>19.5</td>\n",
              "      <td>21.9</td>\n",
              "      <td>25.4</td>\n",
              "      <td>26.7</td>\n",
              "      <td>22.1</td>\n",
              "      <td>15.9</td>\n",
              "      <td>8.8</td>\n",
              "      <td>2.6</td>\n",
              "      <td>7.7</td>\n",
              "      <td>9.8</td>\n",
              "      <td>15.9</td>\n",
              "      <td>19.6</td>\n",
              "      <td>27.7</td>\n",
              "      <td>28.2</td>\n",
              "      <td>30.0</td>\n",
              "      <td>32.1</td>\n",
              "      <td>27.2</td>\n",
              "      <td>22.2</td>\n",
              "      <td>16.4</td>\n",
              "      <td>9.6</td>\n",
              "      <td>-4.8</td>\n",
              "      <td>-2.3</td>\n",
              "      <td>1.3</td>\n",
              "      <td>5.9</td>\n",
              "      <td>11.3</td>\n",
              "      <td>16.3</td>\n",
              "      <td>21.4</td>\n",
              "      <td>22.5</td>\n",
              "      <td>17.9</td>\n",
              "      <td>10.6</td>\n",
              "      <td>2.4</td>\n",
              "      <td>-2.9</td>\n",
              "      <td>11.9</td>\n",
              "      <td>25.3</td>\n",
              "      <td>20.2</td>\n",
              "      <td>79.5</td>\n",
              "      <td>23.0</td>\n",
              "      <td>242.1</td>\n",
              "      <td>105.7</td>\n",
              "      <td>174.4</td>\n",
              "      <td>157.0</td>\n",
              "      <td>142.4</td>\n",
              "      <td>26.0</td>\n",
              "      <td>30.5</td>\n",
              "      <td>198.9</td>\n",
              "      <td>191.7</td>\n",
              "      <td>237.7</td>\n",
              "      <td>200.2</td>\n",
              "      <td>298.3</td>\n",
              "      <td>238.9</td>\n",
              "      <td>162.3</td>\n",
              "      <td>216.4</td>\n",
              "      <td>135.3</td>\n",
              "      <td>189.7</td>\n",
              "      <td>163.8</td>\n",
              "      <td>174.9</td>\n",
              "    </tr>\n",
              "    <tr>\n",
              "      <th>1</th>\n",
              "      <td>양파(일반)</td>\n",
              "      <td>대구북부도매</td>\n",
              "      <td>효성청과</td>\n",
              "      <td>경북</td>\n",
              "      <td>영천</td>\n",
              "      <td>843.43</td>\n",
              "      <td>21</td>\n",
              "      <td>10</td>\n",
              "      <td>2365</td>\n",
              "      <td>8098</td>\n",
              "      <td>191509</td>\n",
              "      <td>영천</td>\n",
              "      <td>5213.902</td>\n",
              "      <td>7.88</td>\n",
              "      <td>1.1</td>\n",
              "      <td>3.3</td>\n",
              "      <td>8.5</td>\n",
              "      <td>12.8</td>\n",
              "      <td>19.5</td>\n",
              "      <td>21.9</td>\n",
              "      <td>25.4</td>\n",
              "      <td>26.7</td>\n",
              "      <td>22.1</td>\n",
              "      <td>15.9</td>\n",
              "      <td>8.8</td>\n",
              "      <td>2.6</td>\n",
              "      <td>7.7</td>\n",
              "      <td>9.8</td>\n",
              "      <td>15.9</td>\n",
              "      <td>19.6</td>\n",
              "      <td>27.7</td>\n",
              "      <td>28.2</td>\n",
              "      <td>30.0</td>\n",
              "      <td>32.1</td>\n",
              "      <td>27.2</td>\n",
              "      <td>22.2</td>\n",
              "      <td>16.4</td>\n",
              "      <td>9.6</td>\n",
              "      <td>-4.8</td>\n",
              "      <td>-2.3</td>\n",
              "      <td>1.3</td>\n",
              "      <td>5.9</td>\n",
              "      <td>11.3</td>\n",
              "      <td>16.3</td>\n",
              "      <td>21.4</td>\n",
              "      <td>22.5</td>\n",
              "      <td>17.9</td>\n",
              "      <td>10.6</td>\n",
              "      <td>2.4</td>\n",
              "      <td>-2.9</td>\n",
              "      <td>11.9</td>\n",
              "      <td>25.3</td>\n",
              "      <td>20.2</td>\n",
              "      <td>79.5</td>\n",
              "      <td>23.0</td>\n",
              "      <td>242.1</td>\n",
              "      <td>105.7</td>\n",
              "      <td>174.4</td>\n",
              "      <td>157.0</td>\n",
              "      <td>142.4</td>\n",
              "      <td>26.0</td>\n",
              "      <td>30.5</td>\n",
              "      <td>198.9</td>\n",
              "      <td>191.7</td>\n",
              "      <td>237.7</td>\n",
              "      <td>200.2</td>\n",
              "      <td>298.3</td>\n",
              "      <td>238.9</td>\n",
              "      <td>162.3</td>\n",
              "      <td>216.4</td>\n",
              "      <td>135.3</td>\n",
              "      <td>189.7</td>\n",
              "      <td>163.8</td>\n",
              "      <td>174.9</td>\n",
              "    </tr>\n",
              "    <tr>\n",
              "      <th>2</th>\n",
              "      <td>기타</td>\n",
              "      <td>포항도매</td>\n",
              "      <td>대구경북능금원협</td>\n",
              "      <td>경북</td>\n",
              "      <td>영천</td>\n",
              "      <td>725.00</td>\n",
              "      <td>21</td>\n",
              "      <td>10</td>\n",
              "      <td>2365</td>\n",
              "      <td>8098</td>\n",
              "      <td>191509</td>\n",
              "      <td>영천</td>\n",
              "      <td>5213.902</td>\n",
              "      <td>7.88</td>\n",
              "      <td>1.1</td>\n",
              "      <td>3.3</td>\n",
              "      <td>8.5</td>\n",
              "      <td>12.8</td>\n",
              "      <td>19.5</td>\n",
              "      <td>21.9</td>\n",
              "      <td>25.4</td>\n",
              "      <td>26.7</td>\n",
              "      <td>22.1</td>\n",
              "      <td>15.9</td>\n",
              "      <td>8.8</td>\n",
              "      <td>2.6</td>\n",
              "      <td>7.7</td>\n",
              "      <td>9.8</td>\n",
              "      <td>15.9</td>\n",
              "      <td>19.6</td>\n",
              "      <td>27.7</td>\n",
              "      <td>28.2</td>\n",
              "      <td>30.0</td>\n",
              "      <td>32.1</td>\n",
              "      <td>27.2</td>\n",
              "      <td>22.2</td>\n",
              "      <td>16.4</td>\n",
              "      <td>9.6</td>\n",
              "      <td>-4.8</td>\n",
              "      <td>-2.3</td>\n",
              "      <td>1.3</td>\n",
              "      <td>5.9</td>\n",
              "      <td>11.3</td>\n",
              "      <td>16.3</td>\n",
              "      <td>21.4</td>\n",
              "      <td>22.5</td>\n",
              "      <td>17.9</td>\n",
              "      <td>10.6</td>\n",
              "      <td>2.4</td>\n",
              "      <td>-2.9</td>\n",
              "      <td>11.9</td>\n",
              "      <td>25.3</td>\n",
              "      <td>20.2</td>\n",
              "      <td>79.5</td>\n",
              "      <td>23.0</td>\n",
              "      <td>242.1</td>\n",
              "      <td>105.7</td>\n",
              "      <td>174.4</td>\n",
              "      <td>157.0</td>\n",
              "      <td>142.4</td>\n",
              "      <td>26.0</td>\n",
              "      <td>30.5</td>\n",
              "      <td>198.9</td>\n",
              "      <td>191.7</td>\n",
              "      <td>237.7</td>\n",
              "      <td>200.2</td>\n",
              "      <td>298.3</td>\n",
              "      <td>238.9</td>\n",
              "      <td>162.3</td>\n",
              "      <td>216.4</td>\n",
              "      <td>135.3</td>\n",
              "      <td>189.7</td>\n",
              "      <td>163.8</td>\n",
              "      <td>174.9</td>\n",
              "    </tr>\n",
              "    <tr>\n",
              "      <th>3</th>\n",
              "      <td>양파(일반)</td>\n",
              "      <td>대구북부도매</td>\n",
              "      <td>대양청과</td>\n",
              "      <td>경북</td>\n",
              "      <td>영천</td>\n",
              "      <td>804.59</td>\n",
              "      <td>21</td>\n",
              "      <td>9</td>\n",
              "      <td>2365</td>\n",
              "      <td>8098</td>\n",
              "      <td>191509</td>\n",
              "      <td>영천</td>\n",
              "      <td>3378.003</td>\n",
              "      <td>2.20</td>\n",
              "      <td>1.1</td>\n",
              "      <td>3.3</td>\n",
              "      <td>8.5</td>\n",
              "      <td>12.8</td>\n",
              "      <td>19.5</td>\n",
              "      <td>21.9</td>\n",
              "      <td>25.4</td>\n",
              "      <td>26.7</td>\n",
              "      <td>22.1</td>\n",
              "      <td>15.9</td>\n",
              "      <td>8.8</td>\n",
              "      <td>2.6</td>\n",
              "      <td>7.7</td>\n",
              "      <td>9.8</td>\n",
              "      <td>15.9</td>\n",
              "      <td>19.6</td>\n",
              "      <td>27.7</td>\n",
              "      <td>28.2</td>\n",
              "      <td>30.0</td>\n",
              "      <td>32.1</td>\n",
              "      <td>27.2</td>\n",
              "      <td>22.2</td>\n",
              "      <td>16.4</td>\n",
              "      <td>9.6</td>\n",
              "      <td>-4.8</td>\n",
              "      <td>-2.3</td>\n",
              "      <td>1.3</td>\n",
              "      <td>5.9</td>\n",
              "      <td>11.3</td>\n",
              "      <td>16.3</td>\n",
              "      <td>21.4</td>\n",
              "      <td>22.5</td>\n",
              "      <td>17.9</td>\n",
              "      <td>10.6</td>\n",
              "      <td>2.4</td>\n",
              "      <td>-2.9</td>\n",
              "      <td>11.9</td>\n",
              "      <td>25.3</td>\n",
              "      <td>20.2</td>\n",
              "      <td>79.5</td>\n",
              "      <td>23.0</td>\n",
              "      <td>242.1</td>\n",
              "      <td>105.7</td>\n",
              "      <td>174.4</td>\n",
              "      <td>157.0</td>\n",
              "      <td>142.4</td>\n",
              "      <td>26.0</td>\n",
              "      <td>30.5</td>\n",
              "      <td>198.9</td>\n",
              "      <td>191.7</td>\n",
              "      <td>237.7</td>\n",
              "      <td>200.2</td>\n",
              "      <td>298.3</td>\n",
              "      <td>238.9</td>\n",
              "      <td>162.3</td>\n",
              "      <td>216.4</td>\n",
              "      <td>135.3</td>\n",
              "      <td>189.7</td>\n",
              "      <td>163.8</td>\n",
              "      <td>174.9</td>\n",
              "    </tr>\n",
              "    <tr>\n",
              "      <th>4</th>\n",
              "      <td>양파(일반)</td>\n",
              "      <td>대구북부도매</td>\n",
              "      <td>효성청과</td>\n",
              "      <td>경북</td>\n",
              "      <td>영천</td>\n",
              "      <td>890.58</td>\n",
              "      <td>21</td>\n",
              "      <td>9</td>\n",
              "      <td>2365</td>\n",
              "      <td>8098</td>\n",
              "      <td>191509</td>\n",
              "      <td>영천</td>\n",
              "      <td>3378.003</td>\n",
              "      <td>2.20</td>\n",
              "      <td>1.1</td>\n",
              "      <td>3.3</td>\n",
              "      <td>8.5</td>\n",
              "      <td>12.8</td>\n",
              "      <td>19.5</td>\n",
              "      <td>21.9</td>\n",
              "      <td>25.4</td>\n",
              "      <td>26.7</td>\n",
              "      <td>22.1</td>\n",
              "      <td>15.9</td>\n",
              "      <td>8.8</td>\n",
              "      <td>2.6</td>\n",
              "      <td>7.7</td>\n",
              "      <td>9.8</td>\n",
              "      <td>15.9</td>\n",
              "      <td>19.6</td>\n",
              "      <td>27.7</td>\n",
              "      <td>28.2</td>\n",
              "      <td>30.0</td>\n",
              "      <td>32.1</td>\n",
              "      <td>27.2</td>\n",
              "      <td>22.2</td>\n",
              "      <td>16.4</td>\n",
              "      <td>9.6</td>\n",
              "      <td>-4.8</td>\n",
              "      <td>-2.3</td>\n",
              "      <td>1.3</td>\n",
              "      <td>5.9</td>\n",
              "      <td>11.3</td>\n",
              "      <td>16.3</td>\n",
              "      <td>21.4</td>\n",
              "      <td>22.5</td>\n",
              "      <td>17.9</td>\n",
              "      <td>10.6</td>\n",
              "      <td>2.4</td>\n",
              "      <td>-2.9</td>\n",
              "      <td>11.9</td>\n",
              "      <td>25.3</td>\n",
              "      <td>20.2</td>\n",
              "      <td>79.5</td>\n",
              "      <td>23.0</td>\n",
              "      <td>242.1</td>\n",
              "      <td>105.7</td>\n",
              "      <td>174.4</td>\n",
              "      <td>157.0</td>\n",
              "      <td>142.4</td>\n",
              "      <td>26.0</td>\n",
              "      <td>30.5</td>\n",
              "      <td>198.9</td>\n",
              "      <td>191.7</td>\n",
              "      <td>237.7</td>\n",
              "      <td>200.2</td>\n",
              "      <td>298.3</td>\n",
              "      <td>238.9</td>\n",
              "      <td>162.3</td>\n",
              "      <td>216.4</td>\n",
              "      <td>135.3</td>\n",
              "      <td>189.7</td>\n",
              "      <td>163.8</td>\n",
              "      <td>174.9</td>\n",
              "    </tr>\n",
              "  </tbody>\n",
              "</table>\n",
              "</div>"
            ],
            "text/plain": [
              "     kind  market      corp wide city  ...  SUN_8  SUN_9  SUN_10  SUN_11  SUN_12\n",
              "0  양파(일반)  대구북부도매      대양청과   경북   영천  ...  216.4  135.3   189.7   163.8   174.9\n",
              "1  양파(일반)  대구북부도매      효성청과   경북   영천  ...  216.4  135.3   189.7   163.8   174.9\n",
              "2      기타    포항도매  대구경북능금원협   경북   영천  ...  216.4  135.3   189.7   163.8   174.9\n",
              "3  양파(일반)  대구북부도매      대양청과   경북   영천  ...  216.4  135.3   189.7   163.8   174.9\n",
              "4  양파(일반)  대구북부도매      효성청과   경북   영천  ...  216.4  135.3   189.7   163.8   174.9\n",
              "\n",
              "[5 rows x 74 columns]"
            ]
          },
          "metadata": {},
          "execution_count": 79
        }
      ]
    },
    {
      "cell_type": "markdown",
      "metadata": {
        "id": "JN-bvsbl1B3k"
      },
      "source": [
        "# Modeling - 기후 포함"
      ]
    },
    {
      "cell_type": "code",
      "metadata": {
        "colab": {
          "base_uri": "https://localhost:8080/",
          "height": 223
        },
        "id": "y0EylKqU15Au",
        "outputId": "6d920c9d-ca96-4e35-cbc3-f8dd29dfba00"
      },
      "source": [
        "weather_merge = weather_merge[['price', 'weather', 'kind', 'market', 'corp', 'wide', 'city', 'year', 'month',\n",
        "       'area', 'ratio', 'amount', 'inn', 'out', 'AT_1', 'AT_2',\n",
        "       'AT_3', 'AT_4', 'AT_5', 'AT_6', 'AT_7', 'AT_8', 'AT_9', 'AT_10',\n",
        "       'AT_11', 'AT_12', 'HT_1', 'HT_2', 'HT_3', 'HT_4', 'HT_5', 'HT_6',\n",
        "       'HT_7', 'HT_8', 'HT_9', 'HT_10', 'HT_11', 'HT_12', 'LT_1', 'LT_2',\n",
        "       'LT_3', 'LT_4', 'LT_5', 'LT_6', 'LT_7', 'LT_8', 'LT_9', 'LT_10',\n",
        "       'LT_11', 'LT_12', 'RAIN_1', 'RAIN_2', 'RAIN_3', 'RAIN_4', 'RAIN_5',\n",
        "       'RAIN_6', 'RAIN_7', 'RAIN_8', 'RAIN_9', 'RAIN_10', 'RAIN_11', 'RAIN_12',\n",
        "       'SUN_1', 'SUN_2', 'SUN_3', 'SUN_4', 'SUN_5', 'SUN_6', 'SUN_7', 'SUN_8',\n",
        "       'SUN_9', 'SUN_10', 'SUN_11', 'SUN_12']]\n",
        "weather_merge.head()"
      ],
      "execution_count": null,
      "outputs": [
        {
          "output_type": "execute_result",
          "data": {
            "text/html": [
              "<div>\n",
              "<style scoped>\n",
              "    .dataframe tbody tr th:only-of-type {\n",
              "        vertical-align: middle;\n",
              "    }\n",
              "\n",
              "    .dataframe tbody tr th {\n",
              "        vertical-align: top;\n",
              "    }\n",
              "\n",
              "    .dataframe thead th {\n",
              "        text-align: right;\n",
              "    }\n",
              "</style>\n",
              "<table border=\"1\" class=\"dataframe\">\n",
              "  <thead>\n",
              "    <tr style=\"text-align: right;\">\n",
              "      <th></th>\n",
              "      <th>price</th>\n",
              "      <th>weather</th>\n",
              "      <th>kind</th>\n",
              "      <th>market</th>\n",
              "      <th>corp</th>\n",
              "      <th>wide</th>\n",
              "      <th>city</th>\n",
              "      <th>year</th>\n",
              "      <th>month</th>\n",
              "      <th>area</th>\n",
              "      <th>ratio</th>\n",
              "      <th>amount</th>\n",
              "      <th>inn</th>\n",
              "      <th>out</th>\n",
              "      <th>AT_1</th>\n",
              "      <th>AT_2</th>\n",
              "      <th>AT_3</th>\n",
              "      <th>AT_4</th>\n",
              "      <th>AT_5</th>\n",
              "      <th>AT_6</th>\n",
              "      <th>AT_7</th>\n",
              "      <th>AT_8</th>\n",
              "      <th>AT_9</th>\n",
              "      <th>AT_10</th>\n",
              "      <th>AT_11</th>\n",
              "      <th>AT_12</th>\n",
              "      <th>HT_1</th>\n",
              "      <th>HT_2</th>\n",
              "      <th>HT_3</th>\n",
              "      <th>HT_4</th>\n",
              "      <th>HT_5</th>\n",
              "      <th>HT_6</th>\n",
              "      <th>HT_7</th>\n",
              "      <th>HT_8</th>\n",
              "      <th>HT_9</th>\n",
              "      <th>HT_10</th>\n",
              "      <th>HT_11</th>\n",
              "      <th>HT_12</th>\n",
              "      <th>LT_1</th>\n",
              "      <th>LT_2</th>\n",
              "      <th>LT_3</th>\n",
              "      <th>LT_4</th>\n",
              "      <th>LT_5</th>\n",
              "      <th>LT_6</th>\n",
              "      <th>LT_7</th>\n",
              "      <th>LT_8</th>\n",
              "      <th>LT_9</th>\n",
              "      <th>LT_10</th>\n",
              "      <th>LT_11</th>\n",
              "      <th>LT_12</th>\n",
              "      <th>RAIN_1</th>\n",
              "      <th>RAIN_2</th>\n",
              "      <th>RAIN_3</th>\n",
              "      <th>RAIN_4</th>\n",
              "      <th>RAIN_5</th>\n",
              "      <th>RAIN_6</th>\n",
              "      <th>RAIN_7</th>\n",
              "      <th>RAIN_8</th>\n",
              "      <th>RAIN_9</th>\n",
              "      <th>RAIN_10</th>\n",
              "      <th>RAIN_11</th>\n",
              "      <th>RAIN_12</th>\n",
              "      <th>SUN_1</th>\n",
              "      <th>SUN_2</th>\n",
              "      <th>SUN_3</th>\n",
              "      <th>SUN_4</th>\n",
              "      <th>SUN_5</th>\n",
              "      <th>SUN_6</th>\n",
              "      <th>SUN_7</th>\n",
              "      <th>SUN_8</th>\n",
              "      <th>SUN_9</th>\n",
              "      <th>SUN_10</th>\n",
              "      <th>SUN_11</th>\n",
              "      <th>SUN_12</th>\n",
              "    </tr>\n",
              "  </thead>\n",
              "  <tbody>\n",
              "    <tr>\n",
              "      <th>0</th>\n",
              "      <td>598.39</td>\n",
              "      <td>영천</td>\n",
              "      <td>4</td>\n",
              "      <td>5</td>\n",
              "      <td>23</td>\n",
              "      <td>2</td>\n",
              "      <td>26</td>\n",
              "      <td>21</td>\n",
              "      <td>8</td>\n",
              "      <td>3159</td>\n",
              "      <td>9739</td>\n",
              "      <td>307653</td>\n",
              "      <td>2027.112</td>\n",
              "      <td>271.105</td>\n",
              "      <td>3.3</td>\n",
              "      <td>4.2</td>\n",
              "      <td>8.2</td>\n",
              "      <td>11.3</td>\n",
              "      <td>18.0</td>\n",
              "      <td>23.0</td>\n",
              "      <td>22.0</td>\n",
              "      <td>27.0</td>\n",
              "      <td>19.8</td>\n",
              "      <td>13.8</td>\n",
              "      <td>8.3</td>\n",
              "      <td>0.6</td>\n",
              "      <td>8.7</td>\n",
              "      <td>10.4</td>\n",
              "      <td>15.0</td>\n",
              "      <td>18.5</td>\n",
              "      <td>24.4</td>\n",
              "      <td>29.1</td>\n",
              "      <td>25.8</td>\n",
              "      <td>31.9</td>\n",
              "      <td>25.0</td>\n",
              "      <td>20.6</td>\n",
              "      <td>14.9</td>\n",
              "      <td>7.1</td>\n",
              "      <td>-1.1</td>\n",
              "      <td>-1.5</td>\n",
              "      <td>1.2</td>\n",
              "      <td>3.9</td>\n",
              "      <td>12.0</td>\n",
              "      <td>17.3</td>\n",
              "      <td>18.9</td>\n",
              "      <td>23.3</td>\n",
              "      <td>15.5</td>\n",
              "      <td>8.1</td>\n",
              "      <td>2.2</td>\n",
              "      <td>-5.1</td>\n",
              "      <td>101.3</td>\n",
              "      <td>55.4</td>\n",
              "      <td>21.1</td>\n",
              "      <td>36.5</td>\n",
              "      <td>46.4</td>\n",
              "      <td>142.0</td>\n",
              "      <td>338.5</td>\n",
              "      <td>246.9</td>\n",
              "      <td>201.6</td>\n",
              "      <td>11.1</td>\n",
              "      <td>32.8</td>\n",
              "      <td>0.9</td>\n",
              "      <td>130.5</td>\n",
              "      <td>179.9</td>\n",
              "      <td>224.0</td>\n",
              "      <td>258.5</td>\n",
              "      <td>228.3</td>\n",
              "      <td>217.1</td>\n",
              "      <td>93.8</td>\n",
              "      <td>190.0</td>\n",
              "      <td>140.2</td>\n",
              "      <td>198.3</td>\n",
              "      <td>160.8</td>\n",
              "      <td>172.4</td>\n",
              "    </tr>\n",
              "    <tr>\n",
              "      <th>1</th>\n",
              "      <td>662.87</td>\n",
              "      <td>영천</td>\n",
              "      <td>4</td>\n",
              "      <td>5</td>\n",
              "      <td>79</td>\n",
              "      <td>2</td>\n",
              "      <td>26</td>\n",
              "      <td>21</td>\n",
              "      <td>8</td>\n",
              "      <td>3159</td>\n",
              "      <td>9739</td>\n",
              "      <td>307653</td>\n",
              "      <td>2027.112</td>\n",
              "      <td>271.105</td>\n",
              "      <td>3.3</td>\n",
              "      <td>4.2</td>\n",
              "      <td>8.2</td>\n",
              "      <td>11.3</td>\n",
              "      <td>18.0</td>\n",
              "      <td>23.0</td>\n",
              "      <td>22.0</td>\n",
              "      <td>27.0</td>\n",
              "      <td>19.8</td>\n",
              "      <td>13.8</td>\n",
              "      <td>8.3</td>\n",
              "      <td>0.6</td>\n",
              "      <td>8.7</td>\n",
              "      <td>10.4</td>\n",
              "      <td>15.0</td>\n",
              "      <td>18.5</td>\n",
              "      <td>24.4</td>\n",
              "      <td>29.1</td>\n",
              "      <td>25.8</td>\n",
              "      <td>31.9</td>\n",
              "      <td>25.0</td>\n",
              "      <td>20.6</td>\n",
              "      <td>14.9</td>\n",
              "      <td>7.1</td>\n",
              "      <td>-1.1</td>\n",
              "      <td>-1.5</td>\n",
              "      <td>1.2</td>\n",
              "      <td>3.9</td>\n",
              "      <td>12.0</td>\n",
              "      <td>17.3</td>\n",
              "      <td>18.9</td>\n",
              "      <td>23.3</td>\n",
              "      <td>15.5</td>\n",
              "      <td>8.1</td>\n",
              "      <td>2.2</td>\n",
              "      <td>-5.1</td>\n",
              "      <td>101.3</td>\n",
              "      <td>55.4</td>\n",
              "      <td>21.1</td>\n",
              "      <td>36.5</td>\n",
              "      <td>46.4</td>\n",
              "      <td>142.0</td>\n",
              "      <td>338.5</td>\n",
              "      <td>246.9</td>\n",
              "      <td>201.6</td>\n",
              "      <td>11.1</td>\n",
              "      <td>32.8</td>\n",
              "      <td>0.9</td>\n",
              "      <td>130.5</td>\n",
              "      <td>179.9</td>\n",
              "      <td>224.0</td>\n",
              "      <td>258.5</td>\n",
              "      <td>228.3</td>\n",
              "      <td>217.1</td>\n",
              "      <td>93.8</td>\n",
              "      <td>190.0</td>\n",
              "      <td>140.2</td>\n",
              "      <td>198.3</td>\n",
              "      <td>160.8</td>\n",
              "      <td>172.4</td>\n",
              "    </tr>\n",
              "    <tr>\n",
              "      <th>2</th>\n",
              "      <td>586.33</td>\n",
              "      <td>영천</td>\n",
              "      <td>4</td>\n",
              "      <td>6</td>\n",
              "      <td>25</td>\n",
              "      <td>2</td>\n",
              "      <td>26</td>\n",
              "      <td>21</td>\n",
              "      <td>8</td>\n",
              "      <td>3159</td>\n",
              "      <td>9739</td>\n",
              "      <td>307653</td>\n",
              "      <td>2027.112</td>\n",
              "      <td>271.105</td>\n",
              "      <td>3.3</td>\n",
              "      <td>4.2</td>\n",
              "      <td>8.2</td>\n",
              "      <td>11.3</td>\n",
              "      <td>18.0</td>\n",
              "      <td>23.0</td>\n",
              "      <td>22.0</td>\n",
              "      <td>27.0</td>\n",
              "      <td>19.8</td>\n",
              "      <td>13.8</td>\n",
              "      <td>8.3</td>\n",
              "      <td>0.6</td>\n",
              "      <td>8.7</td>\n",
              "      <td>10.4</td>\n",
              "      <td>15.0</td>\n",
              "      <td>18.5</td>\n",
              "      <td>24.4</td>\n",
              "      <td>29.1</td>\n",
              "      <td>25.8</td>\n",
              "      <td>31.9</td>\n",
              "      <td>25.0</td>\n",
              "      <td>20.6</td>\n",
              "      <td>14.9</td>\n",
              "      <td>7.1</td>\n",
              "      <td>-1.1</td>\n",
              "      <td>-1.5</td>\n",
              "      <td>1.2</td>\n",
              "      <td>3.9</td>\n",
              "      <td>12.0</td>\n",
              "      <td>17.3</td>\n",
              "      <td>18.9</td>\n",
              "      <td>23.3</td>\n",
              "      <td>15.5</td>\n",
              "      <td>8.1</td>\n",
              "      <td>2.2</td>\n",
              "      <td>-5.1</td>\n",
              "      <td>101.3</td>\n",
              "      <td>55.4</td>\n",
              "      <td>21.1</td>\n",
              "      <td>36.5</td>\n",
              "      <td>46.4</td>\n",
              "      <td>142.0</td>\n",
              "      <td>338.5</td>\n",
              "      <td>246.9</td>\n",
              "      <td>201.6</td>\n",
              "      <td>11.1</td>\n",
              "      <td>32.8</td>\n",
              "      <td>0.9</td>\n",
              "      <td>130.5</td>\n",
              "      <td>179.9</td>\n",
              "      <td>224.0</td>\n",
              "      <td>258.5</td>\n",
              "      <td>228.3</td>\n",
              "      <td>217.1</td>\n",
              "      <td>93.8</td>\n",
              "      <td>190.0</td>\n",
              "      <td>140.2</td>\n",
              "      <td>198.3</td>\n",
              "      <td>160.8</td>\n",
              "      <td>172.4</td>\n",
              "    </tr>\n",
              "    <tr>\n",
              "      <th>3</th>\n",
              "      <td>766.64</td>\n",
              "      <td>영천</td>\n",
              "      <td>4</td>\n",
              "      <td>17</td>\n",
              "      <td>48</td>\n",
              "      <td>2</td>\n",
              "      <td>26</td>\n",
              "      <td>21</td>\n",
              "      <td>8</td>\n",
              "      <td>3159</td>\n",
              "      <td>9739</td>\n",
              "      <td>307653</td>\n",
              "      <td>2027.112</td>\n",
              "      <td>271.105</td>\n",
              "      <td>3.3</td>\n",
              "      <td>4.2</td>\n",
              "      <td>8.2</td>\n",
              "      <td>11.3</td>\n",
              "      <td>18.0</td>\n",
              "      <td>23.0</td>\n",
              "      <td>22.0</td>\n",
              "      <td>27.0</td>\n",
              "      <td>19.8</td>\n",
              "      <td>13.8</td>\n",
              "      <td>8.3</td>\n",
              "      <td>0.6</td>\n",
              "      <td>8.7</td>\n",
              "      <td>10.4</td>\n",
              "      <td>15.0</td>\n",
              "      <td>18.5</td>\n",
              "      <td>24.4</td>\n",
              "      <td>29.1</td>\n",
              "      <td>25.8</td>\n",
              "      <td>31.9</td>\n",
              "      <td>25.0</td>\n",
              "      <td>20.6</td>\n",
              "      <td>14.9</td>\n",
              "      <td>7.1</td>\n",
              "      <td>-1.1</td>\n",
              "      <td>-1.5</td>\n",
              "      <td>1.2</td>\n",
              "      <td>3.9</td>\n",
              "      <td>12.0</td>\n",
              "      <td>17.3</td>\n",
              "      <td>18.9</td>\n",
              "      <td>23.3</td>\n",
              "      <td>15.5</td>\n",
              "      <td>8.1</td>\n",
              "      <td>2.2</td>\n",
              "      <td>-5.1</td>\n",
              "      <td>101.3</td>\n",
              "      <td>55.4</td>\n",
              "      <td>21.1</td>\n",
              "      <td>36.5</td>\n",
              "      <td>46.4</td>\n",
              "      <td>142.0</td>\n",
              "      <td>338.5</td>\n",
              "      <td>246.9</td>\n",
              "      <td>201.6</td>\n",
              "      <td>11.1</td>\n",
              "      <td>32.8</td>\n",
              "      <td>0.9</td>\n",
              "      <td>130.5</td>\n",
              "      <td>179.9</td>\n",
              "      <td>224.0</td>\n",
              "      <td>258.5</td>\n",
              "      <td>228.3</td>\n",
              "      <td>217.1</td>\n",
              "      <td>93.8</td>\n",
              "      <td>190.0</td>\n",
              "      <td>140.2</td>\n",
              "      <td>198.3</td>\n",
              "      <td>160.8</td>\n",
              "      <td>172.4</td>\n",
              "    </tr>\n",
              "    <tr>\n",
              "      <th>4</th>\n",
              "      <td>709.49</td>\n",
              "      <td>영천</td>\n",
              "      <td>0</td>\n",
              "      <td>5</td>\n",
              "      <td>17</td>\n",
              "      <td>2</td>\n",
              "      <td>26</td>\n",
              "      <td>21</td>\n",
              "      <td>8</td>\n",
              "      <td>3159</td>\n",
              "      <td>9739</td>\n",
              "      <td>307653</td>\n",
              "      <td>2027.112</td>\n",
              "      <td>271.105</td>\n",
              "      <td>3.3</td>\n",
              "      <td>4.2</td>\n",
              "      <td>8.2</td>\n",
              "      <td>11.3</td>\n",
              "      <td>18.0</td>\n",
              "      <td>23.0</td>\n",
              "      <td>22.0</td>\n",
              "      <td>27.0</td>\n",
              "      <td>19.8</td>\n",
              "      <td>13.8</td>\n",
              "      <td>8.3</td>\n",
              "      <td>0.6</td>\n",
              "      <td>8.7</td>\n",
              "      <td>10.4</td>\n",
              "      <td>15.0</td>\n",
              "      <td>18.5</td>\n",
              "      <td>24.4</td>\n",
              "      <td>29.1</td>\n",
              "      <td>25.8</td>\n",
              "      <td>31.9</td>\n",
              "      <td>25.0</td>\n",
              "      <td>20.6</td>\n",
              "      <td>14.9</td>\n",
              "      <td>7.1</td>\n",
              "      <td>-1.1</td>\n",
              "      <td>-1.5</td>\n",
              "      <td>1.2</td>\n",
              "      <td>3.9</td>\n",
              "      <td>12.0</td>\n",
              "      <td>17.3</td>\n",
              "      <td>18.9</td>\n",
              "      <td>23.3</td>\n",
              "      <td>15.5</td>\n",
              "      <td>8.1</td>\n",
              "      <td>2.2</td>\n",
              "      <td>-5.1</td>\n",
              "      <td>101.3</td>\n",
              "      <td>55.4</td>\n",
              "      <td>21.1</td>\n",
              "      <td>36.5</td>\n",
              "      <td>46.4</td>\n",
              "      <td>142.0</td>\n",
              "      <td>338.5</td>\n",
              "      <td>246.9</td>\n",
              "      <td>201.6</td>\n",
              "      <td>11.1</td>\n",
              "      <td>32.8</td>\n",
              "      <td>0.9</td>\n",
              "      <td>130.5</td>\n",
              "      <td>179.9</td>\n",
              "      <td>224.0</td>\n",
              "      <td>258.5</td>\n",
              "      <td>228.3</td>\n",
              "      <td>217.1</td>\n",
              "      <td>93.8</td>\n",
              "      <td>190.0</td>\n",
              "      <td>140.2</td>\n",
              "      <td>198.3</td>\n",
              "      <td>160.8</td>\n",
              "      <td>172.4</td>\n",
              "    </tr>\n",
              "  </tbody>\n",
              "</table>\n",
              "</div>"
            ],
            "text/plain": [
              "    price weather  kind  market  corp  ...  SUN_8  SUN_9  SUN_10  SUN_11  SUN_12\n",
              "0  598.39      영천     4       5    23  ...  190.0  140.2   198.3   160.8   172.4\n",
              "1  662.87      영천     4       5    79  ...  190.0  140.2   198.3   160.8   172.4\n",
              "2  586.33      영천     4       6    25  ...  190.0  140.2   198.3   160.8   172.4\n",
              "3  766.64      영천     4      17    48  ...  190.0  140.2   198.3   160.8   172.4\n",
              "4  709.49      영천     0       5    17  ...  190.0  140.2   198.3   160.8   172.4\n",
              "\n",
              "[5 rows x 74 columns]"
            ]
          },
          "metadata": {},
          "execution_count": 296
        }
      ]
    },
    {
      "cell_type": "code",
      "metadata": {
        "id": "RkeeWIGc3-QF"
      },
      "source": [
        "weather_merge.info()"
      ],
      "execution_count": null,
      "outputs": []
    },
    {
      "cell_type": "code",
      "metadata": {
        "colab": {
          "base_uri": "https://localhost:8080/"
        },
        "id": "cHrfE6g_2ZbH",
        "outputId": "4acaf205-2f85-4617-e207-1c3837564820"
      },
      "source": [
        "from sklearn.model_selection import train_test_split\n",
        "\n",
        "X = weather_merge.iloc[:, 2:]\n",
        "y = weather_merge.iloc[:, 0]\n",
        "\n",
        "X_train, X_test, y_train, y_test = train_test_split(X, y,\n",
        "                                                    test_size = 0.3,\n",
        "                                                    random_state = 2045)\n",
        "\n",
        "print('Train Data : ', X_train.shape, y_train.shape)\n",
        "print('Test Data : ', X_test.shape, y_test.shape)"
      ],
      "execution_count": null,
      "outputs": [
        {
          "output_type": "stream",
          "name": "stdout",
          "text": [
            "Train Data :  (17321, 72) (17321,)\n",
            "Test Data :  (7424, 72) (7424,)\n"
          ]
        }
      ]
    },
    {
      "cell_type": "code",
      "metadata": {
        "colab": {
          "base_uri": "https://localhost:8080/"
        },
        "id": "PhNSzrzq2dC9",
        "outputId": "49bbd98c-2dbc-4b27-8ee5-e0c00616fb5c"
      },
      "source": [
        "from sklearn.linear_model import LinearRegression\n",
        "\n",
        "RA = LinearRegression()\n",
        "RA.fit(X_train, y_train)"
      ],
      "execution_count": null,
      "outputs": [
        {
          "output_type": "execute_result",
          "data": {
            "text/plain": [
              "LinearRegression(copy_X=True, fit_intercept=True, n_jobs=None, normalize=False)"
            ]
          },
          "metadata": {},
          "execution_count": 299
        }
      ]
    },
    {
      "cell_type": "code",
      "metadata": {
        "id": "bpgvkyot2gTS"
      },
      "source": [
        "y_hat_5 = RA.predict(X_test)"
      ],
      "execution_count": null,
      "outputs": []
    },
    {
      "cell_type": "code",
      "metadata": {
        "colab": {
          "base_uri": "https://localhost:8080/"
        },
        "id": "P6h9k_lc2jnQ",
        "outputId": "0cbf7259-0f07-49db-aedd-355ee876afb9"
      },
      "source": [
        "from sklearn.metrics import mean_squared_error\n",
        "import numpy as np\n",
        "\n",
        "mse = mean_squared_error(y_test, y_hat_5)\n",
        "\n",
        "np.sqrt(mse)"
      ],
      "execution_count": null,
      "outputs": [
        {
          "output_type": "execute_result",
          "data": {
            "text/plain": [
              "234.47078383890204"
            ]
          },
          "metadata": {},
          "execution_count": 301
        }
      ]
    },
    {
      "cell_type": "code",
      "metadata": {
        "colab": {
          "base_uri": "https://localhost:8080/"
        },
        "id": "BRbR6qr2MY23",
        "outputId": "da72bdb5-49ba-4ebe-b7b2-aec03afa162f"
      },
      "source": [
        "from sklearn.metrics import mean_absolute_error\n",
        "import numpy as np\n",
        "mae = mean_absolute_error(y_test, y_hat_5)\n",
        "norm=(abs(y_test).sum())/len(y_test)\n",
        "nmae=mae/norm\n",
        "print('nmae:', nmae)"
      ],
      "execution_count": null,
      "outputs": [
        {
          "output_type": "stream",
          "name": "stdout",
          "text": [
            "nmae: 0.2540159737455613\n"
          ]
        }
      ]
    },
    {
      "cell_type": "markdown",
      "metadata": {
        "id": "uWSLEX1Zqcow"
      },
      "source": [
        ""
      ]
    },
    {
      "cell_type": "code",
      "metadata": {
        "id": "e_F_FMWVfzPa"
      },
      "source": [
        ""
      ],
      "execution_count": null,
      "outputs": []
    }
  ]
}