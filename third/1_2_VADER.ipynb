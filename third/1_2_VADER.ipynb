{
  "nbformat": 4,
  "nbformat_minor": 0,
  "metadata": {
    "colab": {
      "name": "1-2. VADER",
      "provenance": [],
      "collapsed_sections": []
    },
    "kernelspec": {
      "name": "python3",
      "display_name": "Python 3"
    },
    "language_info": {
      "name": "python"
    }
  },
  "cells": [
    {
      "cell_type": "code",
      "metadata": {
        "id": "NNn4dhaf2hFi"
      },
      "source": [
        "import warnings\n",
        "warnings.filterwarnings('ignore')"
      ],
      "execution_count": null,
      "outputs": []
    },
    {
      "cell_type": "code",
      "metadata": {
        "id": "jdE_-DEP3SPq"
      },
      "source": [
        "import pandas as pd\n",
        "import numpy as np\n",
        "\n",
        "import matplotlib.pyplot as plt\n",
        "import seaborn as sns\n",
        "\n",
        "from pprint import pprint\n",
        "from datetime import datetime\n",
        "import collections\n",
        "import re\n",
        "\n",
        "import nltk\n",
        "nltk.download('all')\n",
        "from nltk.stem import WordNetLemmatizer\n",
        "from nltk.corpus import wordnet as wn\n",
        "from nltk.corpus import sentiwordnet as swn\n",
        "from nltk.corpus import stopwords\n",
        "from nltk import sent_tokenize, word_tokenize, pos_tag\n",
        "\n",
        "from wordcloud import WordCloud"
      ],
      "execution_count": null,
      "outputs": []
    },
    {
      "cell_type": "code",
      "metadata": {
        "colab": {
          "base_uri": "https://localhost:8080/"
        },
        "id": "_ucR3cAN3Wq6",
        "outputId": "10b59d8d-8dd8-4a16-c627-fecf4ddbc93e"
      },
      "source": [
        "eng = pd.read_csv('/content/drive/MyDrive/Colab Notebooks/3rd project/data/eng/tweets_labelled_09042020_16072020.csv', sep=';').set_index('id')\n",
        "eng.shape"
      ],
      "execution_count": null,
      "outputs": [
        {
          "output_type": "execute_result",
          "data": {
            "text/plain": [
              "(5000, 3)"
            ]
          },
          "metadata": {},
          "execution_count": 3
        }
      ]
    },
    {
      "cell_type": "code",
      "metadata": {
        "id": "gyq6pZ-Jtfvg"
      },
      "source": [
        "eng = eng[eng['sentiment'].notnull()]"
      ],
      "execution_count": null,
      "outputs": []
    },
    {
      "cell_type": "code",
      "metadata": {
        "id": "yf7Awluy-DJ0"
      },
      "source": [
        "ticker_pattern = re.compile(r'(^\\$[A-Z]+|^\\$ES_F)')\n",
        "ht_pattern = re.compile(r'#\\w+')\n",
        "\n",
        "ticker_dic = collections.defaultdict(int)\n",
        "ht_dic = collections.defaultdict(int)\n",
        "\n",
        "for text in eng['text']:\n",
        "    for word in text.split():\n",
        "        if ticker_pattern.fullmatch(word) is not None:\n",
        "            ticker_dic[word[1:]] += 1\n",
        "\n",
        "            word = word.lower()\n",
        "            if ht_pattern.fullmatch(word) is not None:\n",
        "                ht_dic[word] += 1"
      ],
      "execution_count": null,
      "outputs": []
    },
    {
      "cell_type": "code",
      "metadata": {
        "id": "IpH4vKfyH8MP"
      },
      "source": [
        "charonly = re.compile(r'[^a-zA-Z\\s]')\n",
        "handle_pattern = re.compile(r'@\\w+')\n",
        "emoji_pattern = re.compile(\"[\"\n",
        "                        u\"\\U0001F600-\\U0001F64F\"  # emoticons\n",
        "                        u\"\\U0001F300-\\U0001F5FF\"  # symbols & pictographs\n",
        "                        u\"\\U0001F680-\\U0001F6FF\"  # transport & map symbols\n",
        "                        u\"\\U0001F1E0-\\U0001F1FF\"  # flags (iOS)\n",
        "                        u\"\\U00002702-\\U000027B0\"\n",
        "                        u\"\\U000024C2-\\U0001F251\"\n",
        "                        \"]+\", flags=re.UNICODE)\n",
        "url_pattern = re.compile(\n",
        "    'http[s]?://(?:[a-zA-Z]|[0-9]|[$-_@.&+]|[!*\\(\\),]|(?:%[0-9a-fA-F][0-9a-fA-F]))+')\n",
        "pic_pattern = re.compile('pic\\.twitter\\.com/.{10}')\n",
        "special_code = re.compile(r'(&amp;|&gt;|&lt;)')\n",
        "tag_pattern = re.compile(r'<.*?>')\n",
        "\n",
        "STOPWORDS = set(stopwords.words('english')).union(\n",
        "    {'rt', 'retweet', 'RT', 'Retweet', 'RETWEET'})\n",
        "\n",
        "lemmatizer = WordNetLemmatizer()\n",
        "\n",
        "def hashtag(phrase):\n",
        "    return ht_pattern.sub(' ', phrase)\n",
        "\n",
        "def remove_ticker(phrase):\n",
        "    return ticker_pattern.sub('', phrase)\n",
        "    \n",
        "def specialcode(phrase):\n",
        "    return special_code.sub(' ', phrase)\n",
        "\n",
        "def emoji(phrase):\n",
        "    return emoji_pattern.sub(' ', phrase)\n",
        "\n",
        "def url(phrase):\n",
        "    return url_pattern.sub('', phrase)\n",
        "\n",
        "def pic(phrase):\n",
        "    return pic_pattern.sub('', phrase)\n",
        "\n",
        "def html_tag(phrase):\n",
        "    return tag_pattern.sub(' ', phrase)\n",
        "\n",
        "def handle(phrase):\n",
        "    return handle_pattern.sub('', phrase)\n",
        "\n",
        "def decontracted(phrase):\n",
        "    # specific\n",
        "    phrase = re.sub(r\"won\\'t\", \"will not\", phrase)\n",
        "    phrase = re.sub(r\"can\\'t\", \"can not\", phrase)\n",
        "    \n",
        "    # DIS, ticker symbol of Disney, is interpreted as the plural of \"DI\" \n",
        "    # in WordCloud, so I converted it to Disney\n",
        "    phrase = re.sub('DIS', 'Disney', phrase)\n",
        "\n",
        "    # general\n",
        "    phrase = re.sub(r\"n\\'t\", \" not\", phrase)\n",
        "    phrase = re.sub(r\"\\'re\", \" are\", phrase)\n",
        "    phrase = re.sub(r\"(he|He)\\'s\", \"he is\", phrase)\n",
        "    phrase = re.sub(r\"(she|She)\\'s\", \"she is\", phrase)\n",
        "    phrase = re.sub(r\"(it|It)\\'s\", \"it is\", phrase)\n",
        "    phrase = re.sub(r\"\\'d\", \" would\", phrase)\n",
        "    phrase = re.sub(r\"\\'ll\", \" will\", phrase)\n",
        "    phrase = re.sub(r\"\\'t\", \" not\", phrase)\n",
        "    phrase = re.sub(r\"(\\'ve|has)\", \" have\", phrase)\n",
        "    phrase = re.sub(r\"\\'m\", \" am\", phrase)\n",
        "    return phrase\n",
        "\n",
        "def onlychar(phrase):\n",
        "    return charonly.sub('', phrase)\n",
        "\n",
        "def remove_stopwords(phrase):\n",
        "    return \" \".join([word for word in str(phrase).split()\\\n",
        "                     if word not in STOPWORDS])\n",
        "\n",
        "def tokenize_stem(phrase):   \n",
        "    tokens = word_tokenize(phrase)\n",
        "    stem_words =[]\n",
        "    for token in tokens:\n",
        "        word = lemmatizer.lemmatize(token)\n",
        "        stem_words.append(word)        \n",
        "    buf = ' '.join(stem_words)    \n",
        "    return buf"
      ],
      "execution_count": null,
      "outputs": []
    },
    {
      "cell_type": "code",
      "metadata": {
        "id": "wARDi25oYR0E"
      },
      "source": [
        "def arrange_text(ds):\n",
        "    ds['text2'] = ds['text'].apply(emoji)\n",
        "    ds['text2'] = ds['text2'].apply(handle)\n",
        "    ds['text2'] = ds['text2'].apply(specialcode)\n",
        "    ds['text2'] = ds['text2'].apply(hashtag)\n",
        "    ds['text2'] = ds['text2'].apply(url)\n",
        "    ds['text2'] = ds['text2'].apply(pic)\n",
        "    ds['text2'] = ds['text2'].apply(html_tag)\n",
        "    ds['text2'] = ds['text2'].apply(onlychar)\n",
        "    ds['text2'] = ds['text2'].apply(decontracted)\n",
        "    ds['text2'] = ds['text2'].apply(onlychar)\n",
        "    ds['text2'] = ds['text2'].apply(tokenize_stem)\n",
        "    ds['text2'] = ds['text2'].apply(remove_stopwords)"
      ],
      "execution_count": null,
      "outputs": []
    },
    {
      "cell_type": "code",
      "metadata": {
        "id": "ABiZYts2YVqf",
        "colab": {
          "base_uri": "https://localhost:8080/",
          "height": 234
        },
        "outputId": "4045e6b3-4725-44b0-c64f-3025c341dddc"
      },
      "source": [
        "arrange_text(eng)\n",
        "eng.head()"
      ],
      "execution_count": null,
      "outputs": [
        {
          "output_type": "execute_result",
          "data": {
            "text/html": [
              "<div>\n",
              "<style scoped>\n",
              "    .dataframe tbody tr th:only-of-type {\n",
              "        vertical-align: middle;\n",
              "    }\n",
              "\n",
              "    .dataframe tbody tr th {\n",
              "        vertical-align: top;\n",
              "    }\n",
              "\n",
              "    .dataframe thead th {\n",
              "        text-align: right;\n",
              "    }\n",
              "</style>\n",
              "<table border=\"1\" class=\"dataframe\">\n",
              "  <thead>\n",
              "    <tr style=\"text-align: right;\">\n",
              "      <th></th>\n",
              "      <th>created_at</th>\n",
              "      <th>text</th>\n",
              "      <th>sentiment</th>\n",
              "      <th>text2</th>\n",
              "    </tr>\n",
              "    <tr>\n",
              "      <th>id</th>\n",
              "      <th></th>\n",
              "      <th></th>\n",
              "      <th></th>\n",
              "      <th></th>\n",
              "    </tr>\n",
              "  </thead>\n",
              "  <tbody>\n",
              "    <tr>\n",
              "      <th>77522</th>\n",
              "      <td>2020-04-15 01:03:46+00:00</td>\n",
              "      <td>RT @RobertBeadles: Yo💥\\nEnter to WIN 1,000 Mon...</td>\n",
              "      <td>positive</td>\n",
              "      <td>Yo Enter WIN Monarch Tokens US Stock Market Cr...</td>\n",
              "    </tr>\n",
              "    <tr>\n",
              "      <th>661634</th>\n",
              "      <td>2020-06-25 06:20:06+00:00</td>\n",
              "      <td>#SriLanka surcharge on fuel removed!\\n⛽📉\\nThe ...</td>\n",
              "      <td>negative</td>\n",
              "      <td>surcharge fuel removed The surcharge Rs impose...</td>\n",
              "    </tr>\n",
              "    <tr>\n",
              "      <th>413231</th>\n",
              "      <td>2020-06-04 15:41:45+00:00</td>\n",
              "      <td>Net issuance increases to fund fiscal programs...</td>\n",
              "      <td>positive</td>\n",
              "      <td>Net issuance increase fund fiscal program yiel...</td>\n",
              "    </tr>\n",
              "    <tr>\n",
              "      <th>760262</th>\n",
              "      <td>2020-07-03 19:39:35+00:00</td>\n",
              "      <td>RT @bentboolean: How much of Amazon's traffic ...</td>\n",
              "      <td>positive</td>\n",
              "      <td>How much Amazons traffic served Fastly Help u ...</td>\n",
              "    </tr>\n",
              "    <tr>\n",
              "      <th>830153</th>\n",
              "      <td>2020-07-09 14:39:14+00:00</td>\n",
              "      <td>$AMD Ryzen 4000 desktop CPUs looking ‘great’ a...</td>\n",
              "      <td>positive</td>\n",
              "      <td>AMD Ryzen desktop CPUs looking great track launch</td>\n",
              "    </tr>\n",
              "  </tbody>\n",
              "</table>\n",
              "</div>"
            ],
            "text/plain": [
              "                       created_at  ...                                              text2\n",
              "id                                 ...                                                   \n",
              "77522   2020-04-15 01:03:46+00:00  ...  Yo Enter WIN Monarch Tokens US Stock Market Cr...\n",
              "661634  2020-06-25 06:20:06+00:00  ...  surcharge fuel removed The surcharge Rs impose...\n",
              "413231  2020-06-04 15:41:45+00:00  ...  Net issuance increase fund fiscal program yiel...\n",
              "760262  2020-07-03 19:39:35+00:00  ...  How much Amazons traffic served Fastly Help u ...\n",
              "830153  2020-07-09 14:39:14+00:00  ...  AMD Ryzen desktop CPUs looking great track launch\n",
              "\n",
              "[5 rows x 4 columns]"
            ]
          },
          "metadata": {},
          "execution_count": 8
        }
      ]
    },
    {
      "cell_type": "code",
      "metadata": {
        "colab": {
          "base_uri": "https://localhost:8080/",
          "height": 234
        },
        "id": "Qx8aGvhJAueE",
        "outputId": "2f8d9e0d-ed1c-49b3-c827-7408f40dbc36"
      },
      "source": [
        "eng = eng.replace({'sentiment': 'positive'}, {'sentiment': 0})\n",
        "eng = eng.replace({'sentiment': 'neutral'}, {'sentiment': 1})\n",
        "eng = eng.replace({'sentiment': 'negative'}, {'sentiment': 2})\n",
        "\n",
        "eng.head()"
      ],
      "execution_count": null,
      "outputs": [
        {
          "output_type": "execute_result",
          "data": {
            "text/html": [
              "<div>\n",
              "<style scoped>\n",
              "    .dataframe tbody tr th:only-of-type {\n",
              "        vertical-align: middle;\n",
              "    }\n",
              "\n",
              "    .dataframe tbody tr th {\n",
              "        vertical-align: top;\n",
              "    }\n",
              "\n",
              "    .dataframe thead th {\n",
              "        text-align: right;\n",
              "    }\n",
              "</style>\n",
              "<table border=\"1\" class=\"dataframe\">\n",
              "  <thead>\n",
              "    <tr style=\"text-align: right;\">\n",
              "      <th></th>\n",
              "      <th>created_at</th>\n",
              "      <th>text</th>\n",
              "      <th>sentiment</th>\n",
              "      <th>text2</th>\n",
              "    </tr>\n",
              "    <tr>\n",
              "      <th>id</th>\n",
              "      <th></th>\n",
              "      <th></th>\n",
              "      <th></th>\n",
              "      <th></th>\n",
              "    </tr>\n",
              "  </thead>\n",
              "  <tbody>\n",
              "    <tr>\n",
              "      <th>77522</th>\n",
              "      <td>2020-04-15 01:03:46+00:00</td>\n",
              "      <td>RT @RobertBeadles: Yo💥\\nEnter to WIN 1,000 Mon...</td>\n",
              "      <td>0</td>\n",
              "      <td>Yo Enter WIN Monarch Tokens US Stock Market Cr...</td>\n",
              "    </tr>\n",
              "    <tr>\n",
              "      <th>661634</th>\n",
              "      <td>2020-06-25 06:20:06+00:00</td>\n",
              "      <td>#SriLanka surcharge on fuel removed!\\n⛽📉\\nThe ...</td>\n",
              "      <td>2</td>\n",
              "      <td>surcharge fuel removed The surcharge Rs impose...</td>\n",
              "    </tr>\n",
              "    <tr>\n",
              "      <th>413231</th>\n",
              "      <td>2020-06-04 15:41:45+00:00</td>\n",
              "      <td>Net issuance increases to fund fiscal programs...</td>\n",
              "      <td>0</td>\n",
              "      <td>Net issuance increase fund fiscal program yiel...</td>\n",
              "    </tr>\n",
              "    <tr>\n",
              "      <th>760262</th>\n",
              "      <td>2020-07-03 19:39:35+00:00</td>\n",
              "      <td>RT @bentboolean: How much of Amazon's traffic ...</td>\n",
              "      <td>0</td>\n",
              "      <td>How much Amazons traffic served Fastly Help u ...</td>\n",
              "    </tr>\n",
              "    <tr>\n",
              "      <th>830153</th>\n",
              "      <td>2020-07-09 14:39:14+00:00</td>\n",
              "      <td>$AMD Ryzen 4000 desktop CPUs looking ‘great’ a...</td>\n",
              "      <td>0</td>\n",
              "      <td>AMD Ryzen desktop CPUs looking great track launch</td>\n",
              "    </tr>\n",
              "  </tbody>\n",
              "</table>\n",
              "</div>"
            ],
            "text/plain": [
              "                       created_at  ...                                              text2\n",
              "id                                 ...                                                   \n",
              "77522   2020-04-15 01:03:46+00:00  ...  Yo Enter WIN Monarch Tokens US Stock Market Cr...\n",
              "661634  2020-06-25 06:20:06+00:00  ...  surcharge fuel removed The surcharge Rs impose...\n",
              "413231  2020-06-04 15:41:45+00:00  ...  Net issuance increase fund fiscal program yiel...\n",
              "760262  2020-07-03 19:39:35+00:00  ...  How much Amazons traffic served Fastly Help u ...\n",
              "830153  2020-07-09 14:39:14+00:00  ...  AMD Ryzen desktop CPUs looking great track launch\n",
              "\n",
              "[5 rows x 4 columns]"
            ]
          },
          "metadata": {},
          "execution_count": 9
        }
      ]
    },
    {
      "cell_type": "code",
      "metadata": {
        "colab": {
          "base_uri": "https://localhost:8080/",
          "height": 234
        },
        "id": "HXr9Wc-yilwO",
        "outputId": "72c02a90-a8fc-4c1b-91cb-b0793f1fc5c8"
      },
      "source": [
        "eng['dic_s'] = \"\"\n",
        "eng.head()"
      ],
      "execution_count": null,
      "outputs": [
        {
          "output_type": "execute_result",
          "data": {
            "text/html": [
              "<div>\n",
              "<style scoped>\n",
              "    .dataframe tbody tr th:only-of-type {\n",
              "        vertical-align: middle;\n",
              "    }\n",
              "\n",
              "    .dataframe tbody tr th {\n",
              "        vertical-align: top;\n",
              "    }\n",
              "\n",
              "    .dataframe thead th {\n",
              "        text-align: right;\n",
              "    }\n",
              "</style>\n",
              "<table border=\"1\" class=\"dataframe\">\n",
              "  <thead>\n",
              "    <tr style=\"text-align: right;\">\n",
              "      <th></th>\n",
              "      <th>created_at</th>\n",
              "      <th>text</th>\n",
              "      <th>sentiment</th>\n",
              "      <th>text2</th>\n",
              "      <th>dic_s</th>\n",
              "    </tr>\n",
              "    <tr>\n",
              "      <th>id</th>\n",
              "      <th></th>\n",
              "      <th></th>\n",
              "      <th></th>\n",
              "      <th></th>\n",
              "      <th></th>\n",
              "    </tr>\n",
              "  </thead>\n",
              "  <tbody>\n",
              "    <tr>\n",
              "      <th>77522</th>\n",
              "      <td>2020-04-15 01:03:46+00:00</td>\n",
              "      <td>RT @RobertBeadles: Yo💥\\nEnter to WIN 1,000 Mon...</td>\n",
              "      <td>0</td>\n",
              "      <td>Yo Enter WIN Monarch Tokens US Stock Market Cr...</td>\n",
              "      <td></td>\n",
              "    </tr>\n",
              "    <tr>\n",
              "      <th>661634</th>\n",
              "      <td>2020-06-25 06:20:06+00:00</td>\n",
              "      <td>#SriLanka surcharge on fuel removed!\\n⛽📉\\nThe ...</td>\n",
              "      <td>2</td>\n",
              "      <td>surcharge fuel removed The surcharge Rs impose...</td>\n",
              "      <td></td>\n",
              "    </tr>\n",
              "    <tr>\n",
              "      <th>413231</th>\n",
              "      <td>2020-06-04 15:41:45+00:00</td>\n",
              "      <td>Net issuance increases to fund fiscal programs...</td>\n",
              "      <td>0</td>\n",
              "      <td>Net issuance increase fund fiscal program yiel...</td>\n",
              "      <td></td>\n",
              "    </tr>\n",
              "    <tr>\n",
              "      <th>760262</th>\n",
              "      <td>2020-07-03 19:39:35+00:00</td>\n",
              "      <td>RT @bentboolean: How much of Amazon's traffic ...</td>\n",
              "      <td>0</td>\n",
              "      <td>How much Amazons traffic served Fastly Help u ...</td>\n",
              "      <td></td>\n",
              "    </tr>\n",
              "    <tr>\n",
              "      <th>830153</th>\n",
              "      <td>2020-07-09 14:39:14+00:00</td>\n",
              "      <td>$AMD Ryzen 4000 desktop CPUs looking ‘great’ a...</td>\n",
              "      <td>0</td>\n",
              "      <td>AMD Ryzen desktop CPUs looking great track launch</td>\n",
              "      <td></td>\n",
              "    </tr>\n",
              "  </tbody>\n",
              "</table>\n",
              "</div>"
            ],
            "text/plain": [
              "                       created_at  ... dic_s\n",
              "id                                 ...      \n",
              "77522   2020-04-15 01:03:46+00:00  ...      \n",
              "661634  2020-06-25 06:20:06+00:00  ...      \n",
              "413231  2020-06-04 15:41:45+00:00  ...      \n",
              "760262  2020-07-03 19:39:35+00:00  ...      \n",
              "830153  2020-07-09 14:39:14+00:00  ...      \n",
              "\n",
              "[5 rows x 5 columns]"
            ]
          },
          "metadata": {},
          "execution_count": 10
        }
      ]
    },
    {
      "cell_type": "markdown",
      "metadata": {
        "id": "eV3Gh122qyXu"
      },
      "source": [
        "* https://techblog-history-younghunjo1.tistory.com/111"
      ]
    },
    {
      "cell_type": "code",
      "metadata": {
        "colab": {
          "base_uri": "https://localhost:8080/"
        },
        "id": "-WD-oOUFkWOz",
        "outputId": "89dd3bf9-8fae-4718-cc74-d3997fcd1b63"
      },
      "source": [
        "from nltk.sentiment.vader import SentimentIntensityAnalyzer\n",
        "\n",
        "eng['text2'] = eng['text2'].str.replace('<br />', ' ')\n",
        "eng['text2'] = eng['text2'].apply(lambda x : re.sub(\"[^a-zA-Z]\", ' ', x))\n",
        "print(eng['text2'][77522])\n",
        "\n",
        "senti_analyzer = SentimentIntensityAnalyzer()\n",
        "senti_scores = senti_analyzer.polarity_scores(eng['text2'][77522])\n",
        "print(senti_scores)"
      ],
      "execution_count": null,
      "outputs": [
        {
          "output_type": "stream",
          "name": "stdout",
          "text": [
            "Yo Enter WIN Monarch Tokens US Stock Market Crashes LEARN PT WATCH video\n",
            "{'neg': 0.0, 'neu': 0.726, 'pos': 0.274, 'compound': 0.6739}\n"
          ]
        }
      ]
    },
    {
      "cell_type": "code",
      "metadata": {
        "colab": {
          "base_uri": "https://localhost:8080/"
        },
        "id": "J1zRy2__npRe",
        "outputId": "c64b49f4-108c-4d2a-9b5f-df279e6a9add"
      },
      "source": [
        "senti_scores['compound']"
      ],
      "execution_count": null,
      "outputs": [
        {
          "output_type": "execute_result",
          "data": {
            "text/plain": [
              "0.6739"
            ]
          },
          "metadata": {},
          "execution_count": 12
        }
      ]
    },
    {
      "cell_type": "code",
      "metadata": {
        "colab": {
          "base_uri": "https://localhost:8080/"
        },
        "id": "90i5XQJIzhOs",
        "outputId": "149da798-c8b7-43b6-9b22-6fe16ef9bec5"
      },
      "source": [
        "eng['sentiment'].values"
      ],
      "execution_count": null,
      "outputs": [
        {
          "output_type": "execute_result",
          "data": {
            "text/plain": [
              "array([0, 2, 0, ..., 1, 0, 2])"
            ]
          },
          "metadata": {},
          "execution_count": 13
        }
      ]
    },
    {
      "cell_type": "code",
      "metadata": {
        "colab": {
          "base_uri": "https://localhost:8080/"
        },
        "id": "s_E-aDJKmzN9",
        "outputId": "378949b4-bb7c-41dd-968a-4cdc32ae1ced"
      },
      "source": [
        "from sklearn.metrics import accuracy_score, confusion_matrix, precision_score\n",
        "from sklearn.metrics import recall_score, f1_score\n",
        "\n",
        "def get_sentiment(review):\n",
        "    analyzer = SentimentIntensityAnalyzer()\n",
        "    scores = analyzer.polarity_scores(review)\n",
        "\n",
        "    compound_score = scores['compound']\n",
        "    if compound_score > 0.2:\n",
        "        final_sentiment = 0\n",
        "    elif compound_score < -0.2:\n",
        "        final_sentiment = 2\n",
        "    else:\n",
        "        final_sentiment = 1\n",
        "    return final_sentiment\n",
        "\n",
        "eng['dic_s'] = eng['text2'].apply(lambda x : get_sentiment(x))\n",
        "\n",
        "y_target = eng['sentiment'].values\n",
        "y_pred = eng['dic_s'].values\n",
        "\n",
        "print('### VADER 예측 성능 평가')\n",
        "print(confusion_matrix(y_target, y_pred))\n",
        "print('정확도 : ', accuracy_score(y_target, y_pred))\n",
        "# print('정밀도 : ', precision_score(y_target, y_pred))\n",
        "# print('재현율 : ', recall_score(y_target, y_pred))\n",
        "# print('F1 score : ', f1_score(y_target, y_pred))"
      ],
      "execution_count": null,
      "outputs": [
        {
          "output_type": "stream",
          "name": "stdout",
          "text": [
            "### VADER 예측 성능 평가\n",
            "[[368 142  18]\n",
            " [ 79 331  14]\n",
            " [ 71 122 155]]\n",
            "정확도 :  0.6569230769230769\n"
          ]
        }
      ]
    },
    {
      "cell_type": "markdown",
      "metadata": {
        "id": "tTvXnNcNb0Wd"
      },
      "source": [
        "* threshold 0.05\n",
        "[[396 108  24]\n",
        "[ 92 307  25]\n",
        "[ 81  78 189]]\n",
        "정확도 :  0.6861538461538461\n",
        "* threshold 0.1\n",
        "[[390 115  23]\n",
        " [ 88 312  24]\n",
        " [ 78  88 182]]\n",
        "정확도 :  0.68\n",
        "* threshold 0.2\n",
        "[[368 142  18]\n",
        " [ 79 331  14]\n",
        " [ 71 122 155]]\n",
        "정확도 :  0.6569230769230769"
      ]
    },
    {
      "cell_type": "code",
      "metadata": {
        "colab": {
          "base_uri": "https://localhost:8080/",
          "height": 318
        },
        "id": "nbw_JbWRoeum",
        "outputId": "4155f616-75e0-4f96-9391-9ff2b5837b60"
      },
      "source": [
        "eng.head()"
      ],
      "execution_count": null,
      "outputs": [
        {
          "output_type": "execute_result",
          "data": {
            "text/html": [
              "<div>\n",
              "<style scoped>\n",
              "    .dataframe tbody tr th:only-of-type {\n",
              "        vertical-align: middle;\n",
              "    }\n",
              "\n",
              "    .dataframe tbody tr th {\n",
              "        vertical-align: top;\n",
              "    }\n",
              "\n",
              "    .dataframe thead th {\n",
              "        text-align: right;\n",
              "    }\n",
              "</style>\n",
              "<table border=\"1\" class=\"dataframe\">\n",
              "  <thead>\n",
              "    <tr style=\"text-align: right;\">\n",
              "      <th></th>\n",
              "      <th>created_at</th>\n",
              "      <th>text</th>\n",
              "      <th>sentiment</th>\n",
              "      <th>text2</th>\n",
              "      <th>dic_s</th>\n",
              "      <th>0/2</th>\n",
              "    </tr>\n",
              "    <tr>\n",
              "      <th>id</th>\n",
              "      <th></th>\n",
              "      <th></th>\n",
              "      <th></th>\n",
              "      <th></th>\n",
              "      <th></th>\n",
              "      <th></th>\n",
              "    </tr>\n",
              "  </thead>\n",
              "  <tbody>\n",
              "    <tr>\n",
              "      <th>77522</th>\n",
              "      <td>2020-04-15 01:03:46+00:00</td>\n",
              "      <td>RT @RobertBeadles: Yo💥\\nEnter to WIN 1,000 Mon...</td>\n",
              "      <td>0</td>\n",
              "      <td>Yo Enter WIN Monarch Tokens US Stock Market Cr...</td>\n",
              "      <td>0</td>\n",
              "      <td>0</td>\n",
              "    </tr>\n",
              "    <tr>\n",
              "      <th>661634</th>\n",
              "      <td>2020-06-25 06:20:06+00:00</td>\n",
              "      <td>#SriLanka surcharge on fuel removed!\\n⛽📉\\nThe ...</td>\n",
              "      <td>2</td>\n",
              "      <td>surcharge fuel removed The surcharge Rs impose...</td>\n",
              "      <td>0</td>\n",
              "      <td>2</td>\n",
              "    </tr>\n",
              "    <tr>\n",
              "      <th>413231</th>\n",
              "      <td>2020-06-04 15:41:45+00:00</td>\n",
              "      <td>Net issuance increases to fund fiscal programs...</td>\n",
              "      <td>0</td>\n",
              "      <td>Net issuance increase fund fiscal program yiel...</td>\n",
              "      <td>2</td>\n",
              "      <td>0</td>\n",
              "    </tr>\n",
              "    <tr>\n",
              "      <th>760262</th>\n",
              "      <td>2020-07-03 19:39:35+00:00</td>\n",
              "      <td>RT @bentboolean: How much of Amazon's traffic ...</td>\n",
              "      <td>0</td>\n",
              "      <td>How much Amazons traffic served Fastly Help u ...</td>\n",
              "      <td>0</td>\n",
              "      <td>0</td>\n",
              "    </tr>\n",
              "    <tr>\n",
              "      <th>830153</th>\n",
              "      <td>2020-07-09 14:39:14+00:00</td>\n",
              "      <td>$AMD Ryzen 4000 desktop CPUs looking ‘great’ a...</td>\n",
              "      <td>0</td>\n",
              "      <td>AMD Ryzen desktop CPUs looking great track launch</td>\n",
              "      <td>0</td>\n",
              "      <td>0</td>\n",
              "    </tr>\n",
              "  </tbody>\n",
              "</table>\n",
              "</div>"
            ],
            "text/plain": [
              "                       created_at  ... 0/2\n",
              "id                                 ...    \n",
              "77522   2020-04-15 01:03:46+00:00  ...   0\n",
              "661634  2020-06-25 06:20:06+00:00  ...   2\n",
              "413231  2020-06-04 15:41:45+00:00  ...   0\n",
              "760262  2020-07-03 19:39:35+00:00  ...   0\n",
              "830153  2020-07-09 14:39:14+00:00  ...   0\n",
              "\n",
              "[5 rows x 6 columns]"
            ]
          },
          "metadata": {},
          "execution_count": 26
        }
      ]
    },
    {
      "cell_type": "markdown",
      "metadata": {
        "id": "Kv1I62gSq2A3"
      },
      "source": [
        "* compound 값과 threshold가 동일해야 neutral로 지정했기 때문에 neutral이 나오기 어려움\n",
        "* 기준을 정해서 neutral 범위를 설정하거나 해야할 듯"
      ]
    },
    {
      "cell_type": "code",
      "metadata": {
        "colab": {
          "base_uri": "https://localhost:8080/"
        },
        "id": "f-0VqmSkpgC8",
        "outputId": "ee6dbc32-0422-4d2d-c6f5-e1da059d092f"
      },
      "source": [
        "eng['dic_s'].value_counts()"
      ],
      "execution_count": null,
      "outputs": [
        {
          "output_type": "execute_result",
          "data": {
            "text/plain": [
              "0    569\n",
              "1    493\n",
              "2    238\n",
              "Name: dic_s, dtype: int64"
            ]
          },
          "metadata": {},
          "execution_count": 24
        }
      ]
    },
    {
      "cell_type": "code",
      "metadata": {
        "colab": {
          "base_uri": "https://localhost:8080/",
          "height": 318
        },
        "id": "WYdmt8rtpzWW",
        "outputId": "e66c5af4-193d-4373-9c7a-551ac4642624"
      },
      "source": [
        "eng['0/2'] = eng['sentiment']\n",
        "eng.head()"
      ],
      "execution_count": null,
      "outputs": [
        {
          "output_type": "execute_result",
          "data": {
            "text/html": [
              "<div>\n",
              "<style scoped>\n",
              "    .dataframe tbody tr th:only-of-type {\n",
              "        vertical-align: middle;\n",
              "    }\n",
              "\n",
              "    .dataframe tbody tr th {\n",
              "        vertical-align: top;\n",
              "    }\n",
              "\n",
              "    .dataframe thead th {\n",
              "        text-align: right;\n",
              "    }\n",
              "</style>\n",
              "<table border=\"1\" class=\"dataframe\">\n",
              "  <thead>\n",
              "    <tr style=\"text-align: right;\">\n",
              "      <th></th>\n",
              "      <th>created_at</th>\n",
              "      <th>text</th>\n",
              "      <th>sentiment</th>\n",
              "      <th>text2</th>\n",
              "      <th>dic_s</th>\n",
              "      <th>0/2</th>\n",
              "    </tr>\n",
              "    <tr>\n",
              "      <th>id</th>\n",
              "      <th></th>\n",
              "      <th></th>\n",
              "      <th></th>\n",
              "      <th></th>\n",
              "      <th></th>\n",
              "      <th></th>\n",
              "    </tr>\n",
              "  </thead>\n",
              "  <tbody>\n",
              "    <tr>\n",
              "      <th>77522</th>\n",
              "      <td>2020-04-15 01:03:46+00:00</td>\n",
              "      <td>RT @RobertBeadles: Yo💥\\nEnter to WIN 1,000 Mon...</td>\n",
              "      <td>0</td>\n",
              "      <td>Yo Enter WIN Monarch Tokens US Stock Market Cr...</td>\n",
              "      <td>0</td>\n",
              "      <td>0</td>\n",
              "    </tr>\n",
              "    <tr>\n",
              "      <th>661634</th>\n",
              "      <td>2020-06-25 06:20:06+00:00</td>\n",
              "      <td>#SriLanka surcharge on fuel removed!\\n⛽📉\\nThe ...</td>\n",
              "      <td>2</td>\n",
              "      <td>surcharge fuel removed The surcharge Rs impose...</td>\n",
              "      <td>0</td>\n",
              "      <td>2</td>\n",
              "    </tr>\n",
              "    <tr>\n",
              "      <th>413231</th>\n",
              "      <td>2020-06-04 15:41:45+00:00</td>\n",
              "      <td>Net issuance increases to fund fiscal programs...</td>\n",
              "      <td>0</td>\n",
              "      <td>Net issuance increase fund fiscal program yiel...</td>\n",
              "      <td>2</td>\n",
              "      <td>0</td>\n",
              "    </tr>\n",
              "    <tr>\n",
              "      <th>760262</th>\n",
              "      <td>2020-07-03 19:39:35+00:00</td>\n",
              "      <td>RT @bentboolean: How much of Amazon's traffic ...</td>\n",
              "      <td>0</td>\n",
              "      <td>How much Amazons traffic served Fastly Help u ...</td>\n",
              "      <td>0</td>\n",
              "      <td>0</td>\n",
              "    </tr>\n",
              "    <tr>\n",
              "      <th>830153</th>\n",
              "      <td>2020-07-09 14:39:14+00:00</td>\n",
              "      <td>$AMD Ryzen 4000 desktop CPUs looking ‘great’ a...</td>\n",
              "      <td>0</td>\n",
              "      <td>AMD Ryzen desktop CPUs looking great track launch</td>\n",
              "      <td>0</td>\n",
              "      <td>0</td>\n",
              "    </tr>\n",
              "  </tbody>\n",
              "</table>\n",
              "</div>"
            ],
            "text/plain": [
              "                       created_at  ... 0/2\n",
              "id                                 ...    \n",
              "77522   2020-04-15 01:03:46+00:00  ...   0\n",
              "661634  2020-06-25 06:20:06+00:00  ...   2\n",
              "413231  2020-06-04 15:41:45+00:00  ...   0\n",
              "760262  2020-07-03 19:39:35+00:00  ...   0\n",
              "830153  2020-07-09 14:39:14+00:00  ...   0\n",
              "\n",
              "[5 rows x 6 columns]"
            ]
          },
          "metadata": {},
          "execution_count": 17
        }
      ]
    },
    {
      "cell_type": "code",
      "metadata": {
        "id": "vw5wAv8sqFVS"
      },
      "source": [
        "eng = eng.replace({'0/2' : {1:0}})"
      ],
      "execution_count": null,
      "outputs": []
    },
    {
      "cell_type": "code",
      "metadata": {
        "colab": {
          "base_uri": "https://localhost:8080/"
        },
        "id": "oaodZxrRqdOC",
        "outputId": "3a5327fd-d42d-438f-8acd-7c22bec4d98d"
      },
      "source": [
        "eng['0/2'].value_counts()"
      ],
      "execution_count": null,
      "outputs": [
        {
          "output_type": "execute_result",
          "data": {
            "text/plain": [
              "0    952\n",
              "2    348\n",
              "Name: 0/2, dtype: int64"
            ]
          },
          "metadata": {},
          "execution_count": 19
        }
      ]
    },
    {
      "cell_type": "code",
      "metadata": {
        "id": "dA8-PTSHqgVt"
      },
      "source": [
        "y_target = eng['0/2']\n",
        "y_pred = eng['dic_s']\n",
        "\n",
        "print(confusion_matrix(y_target, y_pred))\n",
        "print('정확도 : ', accuracy_score(y_target, y_pred))\n",
        "print('정밀도 : ', precision_score(y_target, y_pred))\n",
        "print('재현율 : ', recall_score(y_target, y_pred))\n",
        "print('F1 score : ', f1_score(y_target, y_pred))"
      ],
      "execution_count": null,
      "outputs": []
    }
  ]
}