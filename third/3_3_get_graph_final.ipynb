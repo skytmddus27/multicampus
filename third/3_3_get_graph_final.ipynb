{
  "nbformat": 4,
  "nbformat_minor": 0,
  "metadata": {
    "colab": {
      "name": "3-3. get_graph_final",
      "provenance": []
    },
    "kernelspec": {
      "name": "python3",
      "display_name": "Python 3"
    },
    "language_info": {
      "name": "python"
    }
  },
  "cells": [
    {
      "cell_type": "code",
      "metadata": {
        "colab": {
          "base_uri": "https://localhost:8080/"
        },
        "id": "ptW8sgL91XS5",
        "outputId": "b89c44a1-d1e1-4508-a049-d711769e9102"
      },
      "source": [
        "!pip install plotly\n",
        "!pip install pymysql"
      ],
      "execution_count": null,
      "outputs": [
        {
          "output_type": "stream",
          "name": "stdout",
          "text": [
            "Requirement already satisfied: plotly in /usr/local/lib/python3.7/dist-packages (4.4.1)\n",
            "Requirement already satisfied: retrying>=1.3.3 in /usr/local/lib/python3.7/dist-packages (from plotly) (1.3.3)\n",
            "Requirement already satisfied: six in /usr/local/lib/python3.7/dist-packages (from plotly) (1.15.0)\n",
            "Collecting pymysql\n",
            "  Downloading PyMySQL-1.0.2-py3-none-any.whl (43 kB)\n",
            "\u001b[K     |████████████████████████████████| 43 kB 2.0 MB/s \n",
            "\u001b[?25hInstalling collected packages: pymysql\n",
            "Successfully installed pymysql-1.0.2\n"
          ]
        }
      ]
    },
    {
      "cell_type": "code",
      "metadata": {
        "id": "QjekBMsV1kzY"
      },
      "source": [
        "import pandas as pd\n",
        "import numpy as np\n",
        "import pymysql\n",
        "\n",
        "from datetime import datetime, timedelta\n",
        "import plotly.express as px"
      ],
      "execution_count": null,
      "outputs": []
    },
    {
      "cell_type": "code",
      "metadata": {
        "id": "5ZKRB6_a1p8P"
      },
      "source": [
        "def get_db():\n",
        "    db = pymysql.connect(host='35.76.154.105', port=8999, user='root', passwd='multi1203',\n",
        "                         db='AI_result', charset='utf8')\n",
        "    cursor = db.cursor(pymysql.cursors.DictCursor)\n",
        "    sql = 'SELECT * FROM coin'\n",
        "    cursor.execute(sql)\n",
        "    result = cursor.fetchall()\n",
        "    test = pd.DataFrame(result)\n",
        "    return test"
      ],
      "execution_count": null,
      "outputs": []
    },
    {
      "cell_type": "code",
      "metadata": {
        "id": "_5ZcqOmm1tN4"
      },
      "source": [
        "def pre_data():\n",
        "    test = get_db()\n",
        "    pivot = pd.pivot_table(test, index = ['date', 'coin'],\n",
        "                           columns = 'lang', values = ['num', 's'],\n",
        "                           fill_value = 0)\n",
        "    pivot['sum'] = pivot[('num', 'eng')] + pivot[('num', 'kor')]\n",
        "    pivot['sek'] = pivot[('num', 'eng')] / pivot['sum'] * pivot[('s', 'eng')] +\\\n",
        "                   pivot[('num', 'kor')] / pivot['sum'] * pivot[('s', 'kor')]\n",
        "    pivot.columns = pivot.columns.droplevel('lang')\n",
        "    pivot.reset_index(drop=False, inplace=True)\n",
        "    pivot.drop(['num', 'num', 's', 's'], axis = 1, inplace = True)\n",
        "\n",
        "    pivot['date'] = pd.to_datetime(pivot['date'])\n",
        "    pivot['week'] = pivot['date'].dt.weekday\n",
        "\n",
        "    indexNames = pivot[(pivot['week'] == 5) | (pivot['week'] == 6)].index\n",
        "    pivot.drop(indexNames, inplace=True)\n",
        "    \n",
        "    pivot['sek'] = - pivot['sek']\n",
        "    pivot['sek'] = pivot['sek'] + 1\n",
        "    pivot['sek'] = round(pivot['sek'], 3)\n",
        "\n",
        "    pivot['sum_1'] = pivot.groupby('coin')['sum'].diff()\n",
        "    pivot['sum_3'] = pivot.groupby('coin')['sum'].diff(3)\n",
        "    pivot['sum_5'] = pivot.groupby('coin')['sum'].diff(5)\n",
        "    pivot['s_1'] = pivot.groupby('coin')['sek'].diff()\n",
        "    pivot['s_3'] = pivot.groupby('coin')['sek'].diff(3)\n",
        "    pivot['s_5'] = pivot.groupby('coin')['sek'].diff(5)\n",
        "\n",
        "    pivot.rename(columns = {'sum':'게시물 수', 'sek':'감정분석'}, inplace=True)\n",
        "\n",
        "    week = datetime.now() - timedelta(days=7)\n",
        "    week = week.strftime('%Y-%m-%d')\n",
        "\n",
        "    data = pivot.loc[pivot.date == week]\n",
        "    data.reset_index(drop=True, inplace=True)\n",
        "    return data"
      ],
      "execution_count": null,
      "outputs": []
    },
    {
      "cell_type": "code",
      "metadata": {
        "id": "G8Yr_mhabJID"
      },
      "source": [
        "def get_plot_1d():\n",
        "    data = pre_data()\n",
        "    hovertemplate = []\n",
        "    for num in range(len(data)):\n",
        "        num_1 = data.iloc[num, 5]\n",
        "        s_1 = round(data.iloc[num, 8], 3)\n",
        "        num_ = data.iloc[num, 2]\n",
        "        s = round(data.iloc[num, 3], 3)\n",
        "        hovertemplate.append(f\"게시물 수 비교 : {num_1}<br>감정분석 비교 : {s_1}<br>하루동안의 게시물 수 : {num_}<br>하루동안의 감정분석 : {s}\")\n",
        "    fig = px.scatter(data, x='sum_1', y='s_1',\n",
        "                 color='감정분석', size=data['게시물 수'],\n",
        "                 range_color=(-1,1),\n",
        "                 size_max=50, hover_data = None,\n",
        "                 template='seaborn',\n",
        "                 labels={'sum_1':'감소                                    <게시물 수>                                    증가',\n",
        "                         's_1':'부정                           <감정분석>                           긍정'})\n",
        "    fig.update_layout(\n",
        "        xaxis=dict(\n",
        "            showline=True,\n",
        "            zeroline=True,\n",
        "            showgrid=False,\n",
        "            showticklabels=True,          \n",
        "        ),\n",
        "        yaxis=dict(\n",
        "            showgrid=False,\n",
        "            zeroline=True,\n",
        "            showline=False,\n",
        "            showticklabels=True,\n",
        "        ),\n",
        "        showlegend=False\n",
        "    )\n",
        "    fig.update_coloraxes(colorscale=px.colors.diverging.Portland,\n",
        "                         colorbar_nticks=3,\n",
        "                         colorbar_tickcolor='white',\n",
        "                         colorbar_title='')\n",
        "    for i in range(data.shape[0]):\n",
        "        fig.add_annotation(x=data.sum_1[i], y=data.s_1[i], text=data.coin[i],\n",
        "                 showarrow=False)\n",
        "    fig.update_traces(hovertemplate=hovertemplate)\n",
        "    return fig"
      ],
      "execution_count": null,
      "outputs": []
    },
    {
      "cell_type": "code",
      "metadata": {
        "colab": {
          "base_uri": "https://localhost:8080/",
          "height": 542
        },
        "id": "lAx50wymcCV4",
        "outputId": "7df7f188-36b1-4529-dcad-f187f6eadbb8"
      },
      "source": [
        "get_plot_1d()"
      ],
      "execution_count": null,
      "outputs": [
        {
          "output_type": "display_data",
          "data": {
            "text/html": [
              "<html>\n",
              "<head><meta charset=\"utf-8\" /></head>\n",
              "<body>\n",
              "    <div>\n",
              "            <script src=\"https://cdnjs.cloudflare.com/ajax/libs/mathjax/2.7.5/MathJax.js?config=TeX-AMS-MML_SVG\"></script><script type=\"text/javascript\">if (window.MathJax) {MathJax.Hub.Config({SVG: {font: \"STIX-Web\"}});}</script>\n",
              "                <script type=\"text/javascript\">window.PlotlyConfig = {MathJaxConfig: 'local'};</script>\n",
              "        <script src=\"https://cdn.plot.ly/plotly-latest.min.js\"></script>    \n",
              "            <div id=\"3f20f1dd-bd40-4d06-883e-192a438e904d\" class=\"plotly-graph-div\" style=\"height:525px; width:100%;\"></div>\n",
              "            <script type=\"text/javascript\">\n",
              "                \n",
              "                    window.PLOTLYENV=window.PLOTLYENV || {};\n",
              "                    \n",
              "                if (document.getElementById(\"3f20f1dd-bd40-4d06-883e-192a438e904d\")) {\n",
              "                    Plotly.newPlot(\n",
              "                        '3f20f1dd-bd40-4d06-883e-192a438e904d',\n",
              "                        [{\"hoverlabel\": {\"namelength\": 0}, \"hovertemplate\": [\"\\uac8c\\uc2dc\\ubb3c \\uc218 \\ube44\\uad50 : 132582.0<br>\\uac10\\uc815\\ubd84\\uc11d \\ube44\\uad50 : -0.028<br>\\ud558\\ub8e8\\ub3d9\\uc548\\uc758 \\uac8c\\uc2dc\\ubb3c \\uc218 : 156299<br>\\ud558\\ub8e8\\ub3d9\\uc548\\uc758 \\uac10\\uc815\\ubd84\\uc11d : -0.391\", \"\\uac8c\\uc2dc\\ubb3c \\uc218 \\ube44\\uad50 : 334.0<br>\\uac10\\uc815\\ubd84\\uc11d \\ube44\\uad50 : -0.043<br>\\ud558\\ub8e8\\ub3d9\\uc548\\uc758 \\uac8c\\uc2dc\\ubb3c \\uc218 : 416<br>\\ud558\\ub8e8\\ub3d9\\uc548\\uc758 \\uac10\\uc815\\ubd84\\uc11d : -0.238\", \"\\uac8c\\uc2dc\\ubb3c \\uc218 \\ube44\\uad50 : 14917.0<br>\\uac10\\uc815\\ubd84\\uc11d \\ube44\\uad50 : 0.075<br>\\ud558\\ub8e8\\ub3d9\\uc548\\uc758 \\uac8c\\uc2dc\\ubb3c \\uc218 : 17107<br>\\ud558\\ub8e8\\ub3d9\\uc548\\uc758 \\uac10\\uc815\\ubd84\\uc11d : -0.26\", \"\\uac8c\\uc2dc\\ubb3c \\uc218 \\ube44\\uad50 : 9255.0<br>\\uac10\\uc815\\ubd84\\uc11d \\ube44\\uad50 : 0.002<br>\\ud558\\ub8e8\\ub3d9\\uc548\\uc758 \\uac8c\\uc2dc\\ubb3c \\uc218 : 11492<br>\\ud558\\ub8e8\\ub3d9\\uc548\\uc758 \\uac10\\uc815\\ubd84\\uc11d : -0.285\", \"\\uac8c\\uc2dc\\ubb3c \\uc218 \\ube44\\uad50 : 812.0<br>\\uac10\\uc815\\ubd84\\uc11d \\ube44\\uad50 : -0.174<br>\\ud558\\ub8e8\\ub3d9\\uc548\\uc758 \\uac8c\\uc2dc\\ubb3c \\uc218 : 984<br>\\ud558\\ub8e8\\ub3d9\\uc548\\uc758 \\uac10\\uc815\\ubd84\\uc11d : -0.279\", \"\\uac8c\\uc2dc\\ubb3c \\uc218 \\ube44\\uad50 : 56551.0<br>\\uac10\\uc815\\ubd84\\uc11d \\ube44\\uad50 : 0.055<br>\\ud558\\ub8e8\\ub3d9\\uc548\\uc758 \\uac8c\\uc2dc\\ubb3c \\uc218 : 64283<br>\\ud558\\ub8e8\\ub3d9\\uc548\\uc758 \\uac10\\uc815\\ubd84\\uc11d : -0.24\", \"\\uac8c\\uc2dc\\ubb3c \\uc218 \\ube44\\uad50 : 8.0<br>\\uac10\\uc815\\ubd84\\uc11d \\ube44\\uad50 : 0.2<br>\\ud558\\ub8e8\\ub3d9\\uc548\\uc758 \\uac8c\\uc2dc\\ubb3c \\uc218 : 10<br>\\ud558\\ub8e8\\ub3d9\\uc548\\uc758 \\uac10\\uc815\\ubd84\\uc11d : -0.8\", \"\\uac8c\\uc2dc\\ubb3c \\uc218 \\ube44\\uad50 : 156.0<br>\\uac10\\uc815\\ubd84\\uc11d \\ube44\\uad50 : -0.095<br>\\ud558\\ub8e8\\ub3d9\\uc548\\uc758 \\uac8c\\uc2dc\\ubb3c \\uc218 : 166<br>\\ud558\\ub8e8\\ub3d9\\uc548\\uc758 \\uac10\\uc815\\ubd84\\uc11d : -0.295\", \"\\uac8c\\uc2dc\\ubb3c \\uc218 \\ube44\\uad50 : 6501.0<br>\\uac10\\uc815\\ubd84\\uc11d \\ube44\\uad50 : 0.038<br>\\ud558\\ub8e8\\ub3d9\\uc548\\uc758 \\uac8c\\uc2dc\\ubb3c \\uc218 : 7623<br>\\ud558\\ub8e8\\ub3d9\\uc548\\uc758 \\uac10\\uc815\\ubd84\\uc11d : -0.294\"], \"legendgroup\": \"\", \"marker\": {\"color\": [-0.391, -0.238, -0.26, -0.285, -0.279, -0.24, -0.8, -0.295, -0.294], \"coloraxis\": \"coloraxis\", \"size\": [156299, 416, 17107, 11492, 984, 64283, 10, 166, 7623], \"sizemode\": \"area\", \"sizeref\": 62.5196, \"symbol\": \"circle\"}, \"mode\": \"markers\", \"name\": \"\", \"showlegend\": false, \"type\": \"scatter\", \"x\": [132582.0, 334.0, 14917.0, 9255.0, 812.0, 56551.0, 8.0, 156.0, 6501.0], \"xaxis\": \"x\", \"y\": [-0.028000000000000025, -0.04299999999999998, 0.07500000000000001, 0.0020000000000000018, -0.17400000000000004, 0.05499999999999999, 0.19999999999999996, -0.09499999999999997, 0.038000000000000034], \"yaxis\": \"y\"}],\n",
              "                        {\"annotations\": [{\"showarrow\": false, \"text\": \"ada\", \"x\": 132582.0, \"y\": -0.028000000000000025}, {\"showarrow\": false, \"text\": \"bch\", \"x\": 334.0, \"y\": -0.04299999999999998}, {\"showarrow\": false, \"text\": \"btc\", \"x\": 14917.0, \"y\": 0.07500000000000001}, {\"showarrow\": false, \"text\": \"doge\", \"x\": 9255.0, \"y\": 0.0020000000000000018}, {\"showarrow\": false, \"text\": \"eos\", \"x\": 812.0, \"y\": -0.17400000000000004}, {\"showarrow\": false, \"text\": \"eth\", \"x\": 56551.0, \"y\": 0.05499999999999999}, {\"showarrow\": false, \"text\": \"omg\", \"x\": 8.0, \"y\": 0.19999999999999996}, {\"showarrow\": false, \"text\": \"snt\", \"x\": 156.0, \"y\": -0.09499999999999997}, {\"showarrow\": false, \"text\": \"xrp\", \"x\": 6501.0, \"y\": 0.038000000000000034}], \"coloraxis\": {\"cmax\": 1, \"cmin\": -1, \"colorbar\": {\"nticks\": 3, \"tickcolor\": \"white\", \"title\": {\"text\": \"\"}}, \"colorscale\": [[0.0, \"rgb(12,51,131)\"], [0.25, \"rgb(10,136,186)\"], [0.5, \"rgb(242,211,56)\"], [0.75, \"rgb(242,143,56)\"], [1.0, \"rgb(217,30,30)\"]]}, \"legend\": {\"itemsizing\": \"constant\", \"tracegroupgap\": 0}, \"margin\": {\"t\": 60}, \"showlegend\": false, \"template\": {\"data\": {\"bar\": [{\"error_x\": {\"color\": \"rgb(36,36,36)\"}, \"error_y\": {\"color\": \"rgb(36,36,36)\"}, \"marker\": {\"line\": {\"color\": \"rgb(234,234,242)\", \"width\": 0.5}}, \"type\": \"bar\"}], \"barpolar\": [{\"marker\": {\"line\": {\"color\": \"rgb(234,234,242)\", \"width\": 0.5}}, \"type\": \"barpolar\"}], \"carpet\": [{\"aaxis\": {\"endlinecolor\": \"rgb(36,36,36)\", \"gridcolor\": \"white\", \"linecolor\": \"white\", \"minorgridcolor\": \"white\", \"startlinecolor\": \"rgb(36,36,36)\"}, \"baxis\": {\"endlinecolor\": \"rgb(36,36,36)\", \"gridcolor\": \"white\", \"linecolor\": \"white\", \"minorgridcolor\": \"white\", \"startlinecolor\": \"rgb(36,36,36)\"}, \"type\": \"carpet\"}], \"choropleth\": [{\"colorbar\": {\"outlinewidth\": 0, \"tickcolor\": \"rgb(36,36,36)\", \"ticklen\": 8, \"ticks\": \"outside\", \"tickwidth\": 2}, \"type\": \"choropleth\"}], \"contour\": [{\"colorbar\": {\"outlinewidth\": 0, \"tickcolor\": \"rgb(36,36,36)\", \"ticklen\": 8, \"ticks\": \"outside\", \"tickwidth\": 2}, \"colorscale\": [[0.0, \"rgb(2,4,25)\"], [0.06274509803921569, \"rgb(24,15,41)\"], [0.12549019607843137, \"rgb(47,23,57)\"], [0.18823529411764706, \"rgb(71,28,72)\"], [0.25098039215686274, \"rgb(97,30,82)\"], [0.3137254901960784, \"rgb(123,30,89)\"], [0.3764705882352941, \"rgb(150,27,91)\"], [0.4392156862745098, \"rgb(177,22,88)\"], [0.5019607843137255, \"rgb(203,26,79)\"], [0.5647058823529412, \"rgb(223,47,67)\"], [0.6274509803921569, \"rgb(236,76,61)\"], [0.6901960784313725, \"rgb(242,107,73)\"], [0.7529411764705882, \"rgb(244,135,95)\"], [0.8156862745098039, \"rgb(245,162,122)\"], [0.8784313725490196, \"rgb(246,188,153)\"], [0.9411764705882353, \"rgb(247,212,187)\"], [1.0, \"rgb(250,234,220)\"]], \"type\": \"contour\"}], \"contourcarpet\": [{\"colorbar\": {\"outlinewidth\": 0, \"tickcolor\": \"rgb(36,36,36)\", \"ticklen\": 8, \"ticks\": \"outside\", \"tickwidth\": 2}, \"type\": \"contourcarpet\"}], \"heatmap\": [{\"colorbar\": {\"outlinewidth\": 0, \"tickcolor\": \"rgb(36,36,36)\", \"ticklen\": 8, \"ticks\": \"outside\", \"tickwidth\": 2}, \"colorscale\": [[0.0, \"rgb(2,4,25)\"], [0.06274509803921569, \"rgb(24,15,41)\"], [0.12549019607843137, \"rgb(47,23,57)\"], [0.18823529411764706, \"rgb(71,28,72)\"], [0.25098039215686274, \"rgb(97,30,82)\"], [0.3137254901960784, \"rgb(123,30,89)\"], [0.3764705882352941, \"rgb(150,27,91)\"], [0.4392156862745098, \"rgb(177,22,88)\"], [0.5019607843137255, \"rgb(203,26,79)\"], [0.5647058823529412, \"rgb(223,47,67)\"], [0.6274509803921569, \"rgb(236,76,61)\"], [0.6901960784313725, \"rgb(242,107,73)\"], [0.7529411764705882, \"rgb(244,135,95)\"], [0.8156862745098039, \"rgb(245,162,122)\"], [0.8784313725490196, \"rgb(246,188,153)\"], [0.9411764705882353, \"rgb(247,212,187)\"], [1.0, \"rgb(250,234,220)\"]], \"type\": \"heatmap\"}], \"heatmapgl\": [{\"colorbar\": {\"outlinewidth\": 0, \"tickcolor\": \"rgb(36,36,36)\", \"ticklen\": 8, \"ticks\": \"outside\", \"tickwidth\": 2}, \"colorscale\": [[0.0, \"rgb(2,4,25)\"], [0.06274509803921569, \"rgb(24,15,41)\"], [0.12549019607843137, \"rgb(47,23,57)\"], [0.18823529411764706, \"rgb(71,28,72)\"], [0.25098039215686274, \"rgb(97,30,82)\"], [0.3137254901960784, \"rgb(123,30,89)\"], [0.3764705882352941, \"rgb(150,27,91)\"], [0.4392156862745098, \"rgb(177,22,88)\"], [0.5019607843137255, \"rgb(203,26,79)\"], [0.5647058823529412, \"rgb(223,47,67)\"], [0.6274509803921569, \"rgb(236,76,61)\"], [0.6901960784313725, \"rgb(242,107,73)\"], [0.7529411764705882, \"rgb(244,135,95)\"], [0.8156862745098039, \"rgb(245,162,122)\"], [0.8784313725490196, \"rgb(246,188,153)\"], [0.9411764705882353, \"rgb(247,212,187)\"], [1.0, \"rgb(250,234,220)\"]], \"type\": \"heatmapgl\"}], \"histogram\": [{\"marker\": {\"colorbar\": {\"outlinewidth\": 0, \"tickcolor\": \"rgb(36,36,36)\", \"ticklen\": 8, \"ticks\": \"outside\", \"tickwidth\": 2}}, \"type\": \"histogram\"}], \"histogram2d\": [{\"colorbar\": {\"outlinewidth\": 0, \"tickcolor\": \"rgb(36,36,36)\", \"ticklen\": 8, \"ticks\": \"outside\", \"tickwidth\": 2}, \"colorscale\": [[0.0, \"rgb(2,4,25)\"], [0.06274509803921569, \"rgb(24,15,41)\"], [0.12549019607843137, \"rgb(47,23,57)\"], [0.18823529411764706, \"rgb(71,28,72)\"], [0.25098039215686274, \"rgb(97,30,82)\"], [0.3137254901960784, \"rgb(123,30,89)\"], [0.3764705882352941, \"rgb(150,27,91)\"], [0.4392156862745098, \"rgb(177,22,88)\"], [0.5019607843137255, \"rgb(203,26,79)\"], [0.5647058823529412, \"rgb(223,47,67)\"], [0.6274509803921569, \"rgb(236,76,61)\"], [0.6901960784313725, \"rgb(242,107,73)\"], [0.7529411764705882, \"rgb(244,135,95)\"], [0.8156862745098039, \"rgb(245,162,122)\"], [0.8784313725490196, \"rgb(246,188,153)\"], [0.9411764705882353, \"rgb(247,212,187)\"], [1.0, \"rgb(250,234,220)\"]], \"type\": \"histogram2d\"}], \"histogram2dcontour\": [{\"colorbar\": {\"outlinewidth\": 0, \"tickcolor\": \"rgb(36,36,36)\", \"ticklen\": 8, \"ticks\": \"outside\", \"tickwidth\": 2}, \"colorscale\": [[0.0, \"rgb(2,4,25)\"], [0.06274509803921569, \"rgb(24,15,41)\"], [0.12549019607843137, \"rgb(47,23,57)\"], [0.18823529411764706, \"rgb(71,28,72)\"], [0.25098039215686274, \"rgb(97,30,82)\"], [0.3137254901960784, \"rgb(123,30,89)\"], [0.3764705882352941, \"rgb(150,27,91)\"], [0.4392156862745098, \"rgb(177,22,88)\"], [0.5019607843137255, \"rgb(203,26,79)\"], [0.5647058823529412, \"rgb(223,47,67)\"], [0.6274509803921569, \"rgb(236,76,61)\"], [0.6901960784313725, \"rgb(242,107,73)\"], [0.7529411764705882, \"rgb(244,135,95)\"], [0.8156862745098039, \"rgb(245,162,122)\"], [0.8784313725490196, \"rgb(246,188,153)\"], [0.9411764705882353, \"rgb(247,212,187)\"], [1.0, \"rgb(250,234,220)\"]], \"type\": \"histogram2dcontour\"}], \"mesh3d\": [{\"colorbar\": {\"outlinewidth\": 0, \"tickcolor\": \"rgb(36,36,36)\", \"ticklen\": 8, \"ticks\": \"outside\", \"tickwidth\": 2}, \"type\": \"mesh3d\"}], \"parcoords\": [{\"line\": {\"colorbar\": {\"outlinewidth\": 0, \"tickcolor\": \"rgb(36,36,36)\", \"ticklen\": 8, \"ticks\": \"outside\", \"tickwidth\": 2}}, \"type\": \"parcoords\"}], \"pie\": [{\"automargin\": true, \"type\": \"pie\"}], \"scatter\": [{\"marker\": {\"colorbar\": {\"outlinewidth\": 0, \"tickcolor\": \"rgb(36,36,36)\", \"ticklen\": 8, \"ticks\": \"outside\", \"tickwidth\": 2}}, \"type\": \"scatter\"}], \"scatter3d\": [{\"line\": {\"colorbar\": {\"outlinewidth\": 0, \"tickcolor\": \"rgb(36,36,36)\", \"ticklen\": 8, \"ticks\": \"outside\", \"tickwidth\": 2}}, \"marker\": {\"colorbar\": {\"outlinewidth\": 0, \"tickcolor\": \"rgb(36,36,36)\", \"ticklen\": 8, \"ticks\": \"outside\", \"tickwidth\": 2}}, \"type\": \"scatter3d\"}], \"scattercarpet\": [{\"marker\": {\"colorbar\": {\"outlinewidth\": 0, \"tickcolor\": \"rgb(36,36,36)\", \"ticklen\": 8, \"ticks\": \"outside\", \"tickwidth\": 2}}, \"type\": \"scattercarpet\"}], \"scattergeo\": [{\"marker\": {\"colorbar\": {\"outlinewidth\": 0, \"tickcolor\": \"rgb(36,36,36)\", \"ticklen\": 8, \"ticks\": \"outside\", \"tickwidth\": 2}}, \"type\": \"scattergeo\"}], \"scattergl\": [{\"marker\": {\"colorbar\": {\"outlinewidth\": 0, \"tickcolor\": \"rgb(36,36,36)\", \"ticklen\": 8, \"ticks\": \"outside\", \"tickwidth\": 2}}, \"type\": \"scattergl\"}], \"scattermapbox\": [{\"marker\": {\"colorbar\": {\"outlinewidth\": 0, \"tickcolor\": \"rgb(36,36,36)\", \"ticklen\": 8, \"ticks\": \"outside\", \"tickwidth\": 2}}, \"type\": \"scattermapbox\"}], \"scatterpolar\": [{\"marker\": {\"colorbar\": {\"outlinewidth\": 0, \"tickcolor\": \"rgb(36,36,36)\", \"ticklen\": 8, \"ticks\": \"outside\", \"tickwidth\": 2}}, \"type\": \"scatterpolar\"}], \"scatterpolargl\": [{\"marker\": {\"colorbar\": {\"outlinewidth\": 0, \"tickcolor\": \"rgb(36,36,36)\", \"ticklen\": 8, \"ticks\": \"outside\", \"tickwidth\": 2}}, \"type\": \"scatterpolargl\"}], \"scatterternary\": [{\"marker\": {\"colorbar\": {\"outlinewidth\": 0, \"tickcolor\": \"rgb(36,36,36)\", \"ticklen\": 8, \"ticks\": \"outside\", \"tickwidth\": 2}}, \"type\": \"scatterternary\"}], \"surface\": [{\"colorbar\": {\"outlinewidth\": 0, \"tickcolor\": \"rgb(36,36,36)\", \"ticklen\": 8, \"ticks\": \"outside\", \"tickwidth\": 2}, \"colorscale\": [[0.0, \"rgb(2,4,25)\"], [0.06274509803921569, \"rgb(24,15,41)\"], [0.12549019607843137, \"rgb(47,23,57)\"], [0.18823529411764706, \"rgb(71,28,72)\"], [0.25098039215686274, \"rgb(97,30,82)\"], [0.3137254901960784, \"rgb(123,30,89)\"], [0.3764705882352941, \"rgb(150,27,91)\"], [0.4392156862745098, \"rgb(177,22,88)\"], [0.5019607843137255, \"rgb(203,26,79)\"], [0.5647058823529412, \"rgb(223,47,67)\"], [0.6274509803921569, \"rgb(236,76,61)\"], [0.6901960784313725, \"rgb(242,107,73)\"], [0.7529411764705882, \"rgb(244,135,95)\"], [0.8156862745098039, \"rgb(245,162,122)\"], [0.8784313725490196, \"rgb(246,188,153)\"], [0.9411764705882353, \"rgb(247,212,187)\"], [1.0, \"rgb(250,234,220)\"]], \"type\": \"surface\"}], \"table\": [{\"cells\": {\"fill\": {\"color\": \"rgb(231,231,240)\"}, \"line\": {\"color\": \"white\"}}, \"header\": {\"fill\": {\"color\": \"rgb(183,183,191)\"}, \"line\": {\"color\": \"white\"}}, \"type\": \"table\"}]}, \"layout\": {\"annotationdefaults\": {\"arrowcolor\": \"rgb(67,103,167)\"}, \"coloraxis\": {\"colorbar\": {\"outlinewidth\": 0, \"tickcolor\": \"rgb(36,36,36)\", \"ticklen\": 8, \"ticks\": \"outside\", \"tickwidth\": 2}}, \"colorscale\": {\"sequential\": [[0.0, \"rgb(2,4,25)\"], [0.06274509803921569, \"rgb(24,15,41)\"], [0.12549019607843137, \"rgb(47,23,57)\"], [0.18823529411764706, \"rgb(71,28,72)\"], [0.25098039215686274, \"rgb(97,30,82)\"], [0.3137254901960784, \"rgb(123,30,89)\"], [0.3764705882352941, \"rgb(150,27,91)\"], [0.4392156862745098, \"rgb(177,22,88)\"], [0.5019607843137255, \"rgb(203,26,79)\"], [0.5647058823529412, \"rgb(223,47,67)\"], [0.6274509803921569, \"rgb(236,76,61)\"], [0.6901960784313725, \"rgb(242,107,73)\"], [0.7529411764705882, \"rgb(244,135,95)\"], [0.8156862745098039, \"rgb(245,162,122)\"], [0.8784313725490196, \"rgb(246,188,153)\"], [0.9411764705882353, \"rgb(247,212,187)\"], [1.0, \"rgb(250,234,220)\"]], \"sequentialminus\": [[0.0, \"rgb(2,4,25)\"], [0.06274509803921569, \"rgb(24,15,41)\"], [0.12549019607843137, \"rgb(47,23,57)\"], [0.18823529411764706, \"rgb(71,28,72)\"], [0.25098039215686274, \"rgb(97,30,82)\"], [0.3137254901960784, \"rgb(123,30,89)\"], [0.3764705882352941, \"rgb(150,27,91)\"], [0.4392156862745098, \"rgb(177,22,88)\"], [0.5019607843137255, \"rgb(203,26,79)\"], [0.5647058823529412, \"rgb(223,47,67)\"], [0.6274509803921569, \"rgb(236,76,61)\"], [0.6901960784313725, \"rgb(242,107,73)\"], [0.7529411764705882, \"rgb(244,135,95)\"], [0.8156862745098039, \"rgb(245,162,122)\"], [0.8784313725490196, \"rgb(246,188,153)\"], [0.9411764705882353, \"rgb(247,212,187)\"], [1.0, \"rgb(250,234,220)\"]]}, \"colorway\": [\"rgb(76,114,176)\", \"rgb(221,132,82)\", \"rgb(85,168,104)\", \"rgb(196,78,82)\", \"rgb(129,114,179)\", \"rgb(147,120,96)\", \"rgb(218,139,195)\", \"rgb(140,140,140)\", \"rgb(204,185,116)\", \"rgb(100,181,205)\"], \"font\": {\"color\": \"rgb(36,36,36)\"}, \"geo\": {\"bgcolor\": \"white\", \"lakecolor\": \"white\", \"landcolor\": \"rgb(234,234,242)\", \"showlakes\": true, \"showland\": true, \"subunitcolor\": \"white\"}, \"hoverlabel\": {\"align\": \"left\"}, \"hovermode\": \"closest\", \"paper_bgcolor\": \"white\", \"plot_bgcolor\": \"rgb(234,234,242)\", \"polar\": {\"angularaxis\": {\"gridcolor\": \"white\", \"linecolor\": \"white\", \"showgrid\": true, \"ticks\": \"\"}, \"bgcolor\": \"rgb(234,234,242)\", \"radialaxis\": {\"gridcolor\": \"white\", \"linecolor\": \"white\", \"showgrid\": true, \"ticks\": \"\"}}, \"scene\": {\"xaxis\": {\"backgroundcolor\": \"rgb(234,234,242)\", \"gridcolor\": \"white\", \"gridwidth\": 2, \"linecolor\": \"white\", \"showbackground\": true, \"showgrid\": true, \"ticks\": \"\", \"zerolinecolor\": \"white\"}, \"yaxis\": {\"backgroundcolor\": \"rgb(234,234,242)\", \"gridcolor\": \"white\", \"gridwidth\": 2, \"linecolor\": \"white\", \"showbackground\": true, \"showgrid\": true, \"ticks\": \"\", \"zerolinecolor\": \"white\"}, \"zaxis\": {\"backgroundcolor\": \"rgb(234,234,242)\", \"gridcolor\": \"white\", \"gridwidth\": 2, \"linecolor\": \"white\", \"showbackground\": true, \"showgrid\": true, \"ticks\": \"\", \"zerolinecolor\": \"white\"}}, \"shapedefaults\": {\"fillcolor\": \"rgb(67,103,167)\", \"line\": {\"width\": 0}, \"opacity\": 0.5}, \"ternary\": {\"aaxis\": {\"gridcolor\": \"white\", \"linecolor\": \"white\", \"showgrid\": true, \"ticks\": \"\"}, \"baxis\": {\"gridcolor\": \"white\", \"linecolor\": \"white\", \"showgrid\": true, \"ticks\": \"\"}, \"bgcolor\": \"rgb(234,234,242)\", \"caxis\": {\"gridcolor\": \"white\", \"linecolor\": \"white\", \"showgrid\": true, \"ticks\": \"\"}}, \"xaxis\": {\"automargin\": true, \"gridcolor\": \"white\", \"linecolor\": \"white\", \"showgrid\": true, \"ticks\": \"\", \"title\": {\"standoff\": 15}, \"zerolinecolor\": \"white\"}, \"yaxis\": {\"automargin\": true, \"gridcolor\": \"white\", \"linecolor\": \"white\", \"showgrid\": true, \"ticks\": \"\", \"title\": {\"standoff\": 15}, \"zerolinecolor\": \"white\"}}}, \"xaxis\": {\"anchor\": \"y\", \"domain\": [0.0, 1.0], \"showgrid\": false, \"showline\": true, \"showticklabels\": true, \"title\": {\"text\": \"\\uac10\\uc18c                                    <\\uac8c\\uc2dc\\ubb3c \\uc218>                                    \\uc99d\\uac00\"}, \"zeroline\": true}, \"yaxis\": {\"anchor\": \"x\", \"domain\": [0.0, 1.0], \"showgrid\": false, \"showline\": false, \"showticklabels\": true, \"title\": {\"text\": \"\\ubd80\\uc815                           <\\uac10\\uc815\\ubd84\\uc11d>                           \\uae0d\\uc815\"}, \"zeroline\": true}},\n",
              "                        {\"responsive\": true}\n",
              "                    ).then(function(){\n",
              "                            \n",
              "var gd = document.getElementById('3f20f1dd-bd40-4d06-883e-192a438e904d');\n",
              "var x = new MutationObserver(function (mutations, observer) {{\n",
              "        var display = window.getComputedStyle(gd).display;\n",
              "        if (!display || display === 'none') {{\n",
              "            console.log([gd, 'removed!']);\n",
              "            Plotly.purge(gd);\n",
              "            observer.disconnect();\n",
              "        }}\n",
              "}});\n",
              "\n",
              "// Listen for the removal of the full notebook cells\n",
              "var notebookContainer = gd.closest('#notebook-container');\n",
              "if (notebookContainer) {{\n",
              "    x.observe(notebookContainer, {childList: true});\n",
              "}}\n",
              "\n",
              "// Listen for the clearing of the current output cell\n",
              "var outputEl = gd.closest('.output');\n",
              "if (outputEl) {{\n",
              "    x.observe(outputEl, {childList: true});\n",
              "}}\n",
              "\n",
              "                        })\n",
              "                };\n",
              "                \n",
              "            </script>\n",
              "        </div>\n",
              "</body>\n",
              "</html>"
            ]
          },
          "metadata": {}
        }
      ]
    },
    {
      "cell_type": "code",
      "metadata": {
        "id": "4bzF5cGQLG5w"
      },
      "source": [
        "get_plot_1d().write_html('1202_1d.html')"
      ],
      "execution_count": null,
      "outputs": []
    },
    {
      "cell_type": "code",
      "metadata": {
        "id": "JXN0vmFqbJgE"
      },
      "source": [
        "def get_plot_3d():\n",
        "    data = pre_data()\n",
        "    hovertemplate = []\n",
        "    for num in range(len(data)):\n",
        "        num_3 = data.iloc[num, 6]\n",
        "        s_3 = round(data.iloc[num, 9], 3)\n",
        "        num_ = data.iloc[num, 2]\n",
        "        s = round(data.iloc[num, 3], 3)\n",
        "        hovertemplate.append(f\"게시물 수 비교 : {num_3}<br>감정분석 비교 : {s_3}<br>하루동안의 게시물 수 : {num_}<br>하루동안의 감정분석 : {s}\")\n",
        "    fig = px.scatter(data, x='sum_3', y='s_3',\n",
        "                 color='감정분석', size=data['게시물 수'], range_color=(-1,1),\n",
        "                 size_max=50, hover_data = None,\n",
        "                 template='seaborn',\n",
        "                 labels={'sum_3':'감소                                    <게시물 수>                                    증가',\n",
        "                         's_3':'부정                           <감정분석>                           긍정'})\n",
        "    fig.update_layout(\n",
        "        xaxis=dict(\n",
        "            showline=True,\n",
        "            showgrid=False,\n",
        "            showticklabels=True,          \n",
        "        ),\n",
        "        yaxis=dict(\n",
        "            showgrid=False,\n",
        "            zeroline=True,\n",
        "            showline=False,\n",
        "            showticklabels=True,\n",
        "        ),\n",
        "        showlegend=False\n",
        "    )\n",
        "    fig.update_coloraxes(colorscale=px.colors.diverging.Portland,\n",
        "                        #  colorbar_showticklabels=False,\n",
        "                         colorbar_nticks=3,\n",
        "                         colorbar_tickcolor='white',\n",
        "                         colorbar_title='')\n",
        "    for i in range(data.shape[0]):\n",
        "        fig.add_annotation(x=data.sum_3[i], y=data.s_3[i], text=data.coin[i],\n",
        "                 showarrow=False)\n",
        "    fig.update_traces(hovertemplate=hovertemplate)\n",
        "    return fig"
      ],
      "execution_count": null,
      "outputs": []
    },
    {
      "cell_type": "code",
      "metadata": {
        "colab": {
          "base_uri": "https://localhost:8080/",
          "height": 542
        },
        "id": "aHSfx6vrcuQu",
        "outputId": "70cc9bf4-e2e8-465e-ce18-68f597dfb092"
      },
      "source": [
        "get_plot_3d()"
      ],
      "execution_count": null,
      "outputs": [
        {
          "output_type": "display_data",
          "data": {
            "text/html": [
              "<html>\n",
              "<head><meta charset=\"utf-8\" /></head>\n",
              "<body>\n",
              "    <div>\n",
              "            <script src=\"https://cdnjs.cloudflare.com/ajax/libs/mathjax/2.7.5/MathJax.js?config=TeX-AMS-MML_SVG\"></script><script type=\"text/javascript\">if (window.MathJax) {MathJax.Hub.Config({SVG: {font: \"STIX-Web\"}});}</script>\n",
              "                <script type=\"text/javascript\">window.PlotlyConfig = {MathJaxConfig: 'local'};</script>\n",
              "        <script src=\"https://cdn.plot.ly/plotly-latest.min.js\"></script>    \n",
              "            <div id=\"dbf83216-e8bf-4ee6-9506-e2e6afa2005c\" class=\"plotly-graph-div\" style=\"height:525px; width:100%;\"></div>\n",
              "            <script type=\"text/javascript\">\n",
              "                \n",
              "                    window.PLOTLYENV=window.PLOTLYENV || {};\n",
              "                    \n",
              "                if (document.getElementById(\"dbf83216-e8bf-4ee6-9506-e2e6afa2005c\")) {\n",
              "                    Plotly.newPlot(\n",
              "                        'dbf83216-e8bf-4ee6-9506-e2e6afa2005c',\n",
              "                        [{\"hoverlabel\": {\"namelength\": 0}, \"hovertemplate\": [\"\\uac8c\\uc2dc\\ubb3c \\uc218 \\ube44\\uad50 : 53614.0<br>\\uac10\\uc815\\ubd84\\uc11d \\ube44\\uad50 : -0.016<br>\\ud558\\ub8e8\\ub3d9\\uc548\\uc758 \\uac8c\\uc2dc\\ubb3c \\uc218 : 209913<br>\\ud558\\ub8e8\\ub3d9\\uc548\\uc758 \\uac10\\uc815\\ubd84\\uc11d : -0.407\", \"\\uac8c\\uc2dc\\ubb3c \\uc218 \\ube44\\uad50 : 296.0<br>\\uac10\\uc815\\ubd84\\uc11d \\ube44\\uad50 : -0.143<br>\\ud558\\ub8e8\\ub3d9\\uc548\\uc758 \\uac8c\\uc2dc\\ubb3c \\uc218 : 712<br>\\ud558\\ub8e8\\ub3d9\\uc548\\uc758 \\uac10\\uc815\\ubd84\\uc11d : -0.381\", \"\\uac8c\\uc2dc\\ubb3c \\uc218 \\ube44\\uad50 : 9277.0<br>\\uac10\\uc815\\ubd84\\uc11d \\ube44\\uad50 : -0.123<br>\\ud558\\ub8e8\\ub3d9\\uc548\\uc758 \\uac8c\\uc2dc\\ubb3c \\uc218 : 26384<br>\\ud558\\ub8e8\\ub3d9\\uc548\\uc758 \\uac10\\uc815\\ubd84\\uc11d : -0.383\", \"\\uac8c\\uc2dc\\ubb3c \\uc218 \\ube44\\uad50 : 5909.0<br>\\uac10\\uc815\\ubd84\\uc11d \\ube44\\uad50 : -0.067<br>\\ud558\\ub8e8\\ub3d9\\uc548\\uc758 \\uac8c\\uc2dc\\ubb3c \\uc218 : 17401<br>\\ud558\\ub8e8\\ub3d9\\uc548\\uc758 \\uac10\\uc815\\ubd84\\uc11d : -0.352\", \"\\uac8c\\uc2dc\\ubb3c \\uc218 \\ube44\\uad50 : 580.0<br>\\uac10\\uc815\\ubd84\\uc11d \\ube44\\uad50 : -0.043<br>\\ud558\\ub8e8\\ub3d9\\uc548\\uc758 \\uac8c\\uc2dc\\ubb3c \\uc218 : 1564<br>\\ud558\\ub8e8\\ub3d9\\uc548\\uc758 \\uac10\\uc815\\ubd84\\uc11d : -0.322\", \"\\uac8c\\uc2dc\\ubb3c \\uc218 \\ube44\\uad50 : 82920.0<br>\\uac10\\uc815\\ubd84\\uc11d \\ube44\\uad50 : -0.091<br>\\ud558\\ub8e8\\ub3d9\\uc548\\uc758 \\uac8c\\uc2dc\\ubb3c \\uc218 : 90652<br>\\ud558\\ub8e8\\ub3d9\\uc548\\uc758 \\uac10\\uc815\\ubd84\\uc11d : -0.386\", \"\\uac8c\\uc2dc\\ubb3c \\uc218 \\ube44\\uad50 : 9.0<br>\\uac10\\uc815\\ubd84\\uc11d \\ube44\\uad50 : 0.364<br>\\ud558\\ub8e8\\ub3d9\\uc548\\uc758 \\uac8c\\uc2dc\\ubb3c \\uc218 : 11<br>\\ud558\\ub8e8\\ub3d9\\uc548\\uc758 \\uac10\\uc815\\ubd84\\uc11d : -0.636\", \"\\uac8c\\uc2dc\\ubb3c \\uc218 \\ube44\\uad50 : -8.0<br>\\uac10\\uc815\\ubd84\\uc11d \\ube44\\uad50 : -0.173<br>\\ud558\\ub8e8\\ub3d9\\uc548\\uc758 \\uac8c\\uc2dc\\ubb3c \\uc218 : 158<br>\\ud558\\ub8e8\\ub3d9\\uc548\\uc758 \\uac10\\uc815\\ubd84\\uc11d : -0.468\", \"\\uac8c\\uc2dc\\ubb3c \\uc218 \\ube44\\uad50 : 2962.0<br>\\uac10\\uc815\\ubd84\\uc11d \\ube44\\uad50 : -0.083<br>\\ud558\\ub8e8\\ub3d9\\uc548\\uc758 \\uac8c\\uc2dc\\ubb3c \\uc218 : 10585<br>\\ud558\\ub8e8\\ub3d9\\uc548\\uc758 \\uac10\\uc815\\ubd84\\uc11d : -0.377\"], \"legendgroup\": \"\", \"marker\": {\"color\": [-0.407, -0.381, -0.383, -0.352, -0.322, -0.386, -0.636, -0.468, -0.377], \"coloraxis\": \"coloraxis\", \"size\": [209913, 712, 26384, 17401, 1564, 90652, 11, 158, 10585], \"sizemode\": \"area\", \"sizeref\": 83.9652, \"symbol\": \"circle\"}, \"mode\": \"markers\", \"name\": \"\", \"showlegend\": false, \"type\": \"scatter\", \"x\": [53614.0, 296.0, 9277.0, 5909.0, 580.0, 82920.0, 9.0, -8.0, 2962.0], \"xaxis\": \"x\", \"y\": [-0.01599999999999996, -0.14300000000000002, -0.123, -0.067, -0.04299999999999998, -0.09100000000000003, 0.364, -0.17300000000000004, -0.08300000000000002], \"yaxis\": \"y\"}],\n",
              "                        {\"annotations\": [{\"showarrow\": false, \"text\": \"ada\", \"x\": 53614.0, \"y\": -0.01599999999999996}, {\"showarrow\": false, \"text\": \"bch\", \"x\": 296.0, \"y\": -0.14300000000000002}, {\"showarrow\": false, \"text\": \"btc\", \"x\": 9277.0, \"y\": -0.123}, {\"showarrow\": false, \"text\": \"doge\", \"x\": 5909.0, \"y\": -0.067}, {\"showarrow\": false, \"text\": \"eos\", \"x\": 580.0, \"y\": -0.04299999999999998}, {\"showarrow\": false, \"text\": \"eth\", \"x\": 82920.0, \"y\": -0.09100000000000003}, {\"showarrow\": false, \"text\": \"omg\", \"x\": 9.0, \"y\": 0.364}, {\"showarrow\": false, \"text\": \"snt\", \"x\": -8.0, \"y\": -0.17300000000000004}, {\"showarrow\": false, \"text\": \"xrp\", \"x\": 2962.0, \"y\": -0.08300000000000002}], \"coloraxis\": {\"cmax\": 1, \"cmin\": -1, \"colorbar\": {\"nticks\": 3, \"tickcolor\": \"white\", \"title\": {\"text\": \"\"}}, \"colorscale\": [[0.0, \"rgb(12,51,131)\"], [0.25, \"rgb(10,136,186)\"], [0.5, \"rgb(242,211,56)\"], [0.75, \"rgb(242,143,56)\"], [1.0, \"rgb(217,30,30)\"]]}, \"legend\": {\"itemsizing\": \"constant\", \"tracegroupgap\": 0}, \"margin\": {\"t\": 60}, \"showlegend\": false, \"template\": {\"data\": {\"bar\": [{\"error_x\": {\"color\": \"rgb(36,36,36)\"}, \"error_y\": {\"color\": \"rgb(36,36,36)\"}, \"marker\": {\"line\": {\"color\": \"rgb(234,234,242)\", \"width\": 0.5}}, \"type\": \"bar\"}], \"barpolar\": [{\"marker\": {\"line\": {\"color\": \"rgb(234,234,242)\", \"width\": 0.5}}, \"type\": \"barpolar\"}], \"carpet\": [{\"aaxis\": {\"endlinecolor\": \"rgb(36,36,36)\", \"gridcolor\": \"white\", \"linecolor\": \"white\", \"minorgridcolor\": \"white\", \"startlinecolor\": \"rgb(36,36,36)\"}, \"baxis\": {\"endlinecolor\": \"rgb(36,36,36)\", \"gridcolor\": \"white\", \"linecolor\": \"white\", \"minorgridcolor\": \"white\", \"startlinecolor\": \"rgb(36,36,36)\"}, \"type\": \"carpet\"}], \"choropleth\": [{\"colorbar\": {\"outlinewidth\": 0, \"tickcolor\": \"rgb(36,36,36)\", \"ticklen\": 8, \"ticks\": \"outside\", \"tickwidth\": 2}, \"type\": \"choropleth\"}], \"contour\": [{\"colorbar\": {\"outlinewidth\": 0, \"tickcolor\": \"rgb(36,36,36)\", \"ticklen\": 8, \"ticks\": \"outside\", \"tickwidth\": 2}, \"colorscale\": [[0.0, \"rgb(2,4,25)\"], [0.06274509803921569, \"rgb(24,15,41)\"], [0.12549019607843137, \"rgb(47,23,57)\"], [0.18823529411764706, \"rgb(71,28,72)\"], [0.25098039215686274, \"rgb(97,30,82)\"], [0.3137254901960784, \"rgb(123,30,89)\"], [0.3764705882352941, \"rgb(150,27,91)\"], [0.4392156862745098, \"rgb(177,22,88)\"], [0.5019607843137255, \"rgb(203,26,79)\"], [0.5647058823529412, \"rgb(223,47,67)\"], [0.6274509803921569, \"rgb(236,76,61)\"], [0.6901960784313725, \"rgb(242,107,73)\"], [0.7529411764705882, \"rgb(244,135,95)\"], [0.8156862745098039, \"rgb(245,162,122)\"], [0.8784313725490196, \"rgb(246,188,153)\"], [0.9411764705882353, \"rgb(247,212,187)\"], [1.0, \"rgb(250,234,220)\"]], \"type\": \"contour\"}], \"contourcarpet\": [{\"colorbar\": {\"outlinewidth\": 0, \"tickcolor\": \"rgb(36,36,36)\", \"ticklen\": 8, \"ticks\": \"outside\", \"tickwidth\": 2}, \"type\": \"contourcarpet\"}], \"heatmap\": [{\"colorbar\": {\"outlinewidth\": 0, \"tickcolor\": \"rgb(36,36,36)\", \"ticklen\": 8, \"ticks\": \"outside\", \"tickwidth\": 2}, \"colorscale\": [[0.0, \"rgb(2,4,25)\"], [0.06274509803921569, \"rgb(24,15,41)\"], [0.12549019607843137, \"rgb(47,23,57)\"], [0.18823529411764706, \"rgb(71,28,72)\"], [0.25098039215686274, \"rgb(97,30,82)\"], [0.3137254901960784, \"rgb(123,30,89)\"], [0.3764705882352941, \"rgb(150,27,91)\"], [0.4392156862745098, \"rgb(177,22,88)\"], [0.5019607843137255, \"rgb(203,26,79)\"], [0.5647058823529412, \"rgb(223,47,67)\"], [0.6274509803921569, \"rgb(236,76,61)\"], [0.6901960784313725, \"rgb(242,107,73)\"], [0.7529411764705882, \"rgb(244,135,95)\"], [0.8156862745098039, \"rgb(245,162,122)\"], [0.8784313725490196, \"rgb(246,188,153)\"], [0.9411764705882353, \"rgb(247,212,187)\"], [1.0, \"rgb(250,234,220)\"]], \"type\": \"heatmap\"}], \"heatmapgl\": [{\"colorbar\": {\"outlinewidth\": 0, \"tickcolor\": \"rgb(36,36,36)\", \"ticklen\": 8, \"ticks\": \"outside\", \"tickwidth\": 2}, \"colorscale\": [[0.0, \"rgb(2,4,25)\"], [0.06274509803921569, \"rgb(24,15,41)\"], [0.12549019607843137, \"rgb(47,23,57)\"], [0.18823529411764706, \"rgb(71,28,72)\"], [0.25098039215686274, \"rgb(97,30,82)\"], [0.3137254901960784, \"rgb(123,30,89)\"], [0.3764705882352941, \"rgb(150,27,91)\"], [0.4392156862745098, \"rgb(177,22,88)\"], [0.5019607843137255, \"rgb(203,26,79)\"], [0.5647058823529412, \"rgb(223,47,67)\"], [0.6274509803921569, \"rgb(236,76,61)\"], [0.6901960784313725, \"rgb(242,107,73)\"], [0.7529411764705882, \"rgb(244,135,95)\"], [0.8156862745098039, \"rgb(245,162,122)\"], [0.8784313725490196, \"rgb(246,188,153)\"], [0.9411764705882353, \"rgb(247,212,187)\"], [1.0, \"rgb(250,234,220)\"]], \"type\": \"heatmapgl\"}], \"histogram\": [{\"marker\": {\"colorbar\": {\"outlinewidth\": 0, \"tickcolor\": \"rgb(36,36,36)\", \"ticklen\": 8, \"ticks\": \"outside\", \"tickwidth\": 2}}, \"type\": \"histogram\"}], \"histogram2d\": [{\"colorbar\": {\"outlinewidth\": 0, \"tickcolor\": \"rgb(36,36,36)\", \"ticklen\": 8, \"ticks\": \"outside\", \"tickwidth\": 2}, \"colorscale\": [[0.0, \"rgb(2,4,25)\"], [0.06274509803921569, \"rgb(24,15,41)\"], [0.12549019607843137, \"rgb(47,23,57)\"], [0.18823529411764706, \"rgb(71,28,72)\"], [0.25098039215686274, \"rgb(97,30,82)\"], [0.3137254901960784, \"rgb(123,30,89)\"], [0.3764705882352941, \"rgb(150,27,91)\"], [0.4392156862745098, \"rgb(177,22,88)\"], [0.5019607843137255, \"rgb(203,26,79)\"], [0.5647058823529412, \"rgb(223,47,67)\"], [0.6274509803921569, \"rgb(236,76,61)\"], [0.6901960784313725, \"rgb(242,107,73)\"], [0.7529411764705882, \"rgb(244,135,95)\"], [0.8156862745098039, \"rgb(245,162,122)\"], [0.8784313725490196, \"rgb(246,188,153)\"], [0.9411764705882353, \"rgb(247,212,187)\"], [1.0, \"rgb(250,234,220)\"]], \"type\": \"histogram2d\"}], \"histogram2dcontour\": [{\"colorbar\": {\"outlinewidth\": 0, \"tickcolor\": \"rgb(36,36,36)\", \"ticklen\": 8, \"ticks\": \"outside\", \"tickwidth\": 2}, \"colorscale\": [[0.0, \"rgb(2,4,25)\"], [0.06274509803921569, \"rgb(24,15,41)\"], [0.12549019607843137, \"rgb(47,23,57)\"], [0.18823529411764706, \"rgb(71,28,72)\"], [0.25098039215686274, \"rgb(97,30,82)\"], [0.3137254901960784, \"rgb(123,30,89)\"], [0.3764705882352941, \"rgb(150,27,91)\"], [0.4392156862745098, \"rgb(177,22,88)\"], [0.5019607843137255, \"rgb(203,26,79)\"], [0.5647058823529412, \"rgb(223,47,67)\"], [0.6274509803921569, \"rgb(236,76,61)\"], [0.6901960784313725, \"rgb(242,107,73)\"], [0.7529411764705882, \"rgb(244,135,95)\"], [0.8156862745098039, \"rgb(245,162,122)\"], [0.8784313725490196, \"rgb(246,188,153)\"], [0.9411764705882353, \"rgb(247,212,187)\"], [1.0, \"rgb(250,234,220)\"]], \"type\": \"histogram2dcontour\"}], \"mesh3d\": [{\"colorbar\": {\"outlinewidth\": 0, \"tickcolor\": \"rgb(36,36,36)\", \"ticklen\": 8, \"ticks\": \"outside\", \"tickwidth\": 2}, \"type\": \"mesh3d\"}], \"parcoords\": [{\"line\": {\"colorbar\": {\"outlinewidth\": 0, \"tickcolor\": \"rgb(36,36,36)\", \"ticklen\": 8, \"ticks\": \"outside\", \"tickwidth\": 2}}, \"type\": \"parcoords\"}], \"pie\": [{\"automargin\": true, \"type\": \"pie\"}], \"scatter\": [{\"marker\": {\"colorbar\": {\"outlinewidth\": 0, \"tickcolor\": \"rgb(36,36,36)\", \"ticklen\": 8, \"ticks\": \"outside\", \"tickwidth\": 2}}, \"type\": \"scatter\"}], \"scatter3d\": [{\"line\": {\"colorbar\": {\"outlinewidth\": 0, \"tickcolor\": \"rgb(36,36,36)\", \"ticklen\": 8, \"ticks\": \"outside\", \"tickwidth\": 2}}, \"marker\": {\"colorbar\": {\"outlinewidth\": 0, \"tickcolor\": \"rgb(36,36,36)\", \"ticklen\": 8, \"ticks\": \"outside\", \"tickwidth\": 2}}, \"type\": \"scatter3d\"}], \"scattercarpet\": [{\"marker\": {\"colorbar\": {\"outlinewidth\": 0, \"tickcolor\": \"rgb(36,36,36)\", \"ticklen\": 8, \"ticks\": \"outside\", \"tickwidth\": 2}}, \"type\": \"scattercarpet\"}], \"scattergeo\": [{\"marker\": {\"colorbar\": {\"outlinewidth\": 0, \"tickcolor\": \"rgb(36,36,36)\", \"ticklen\": 8, \"ticks\": \"outside\", \"tickwidth\": 2}}, \"type\": \"scattergeo\"}], \"scattergl\": [{\"marker\": {\"colorbar\": {\"outlinewidth\": 0, \"tickcolor\": \"rgb(36,36,36)\", \"ticklen\": 8, \"ticks\": \"outside\", \"tickwidth\": 2}}, \"type\": \"scattergl\"}], \"scattermapbox\": [{\"marker\": {\"colorbar\": {\"outlinewidth\": 0, \"tickcolor\": \"rgb(36,36,36)\", \"ticklen\": 8, \"ticks\": \"outside\", \"tickwidth\": 2}}, \"type\": \"scattermapbox\"}], \"scatterpolar\": [{\"marker\": {\"colorbar\": {\"outlinewidth\": 0, \"tickcolor\": \"rgb(36,36,36)\", \"ticklen\": 8, \"ticks\": \"outside\", \"tickwidth\": 2}}, \"type\": \"scatterpolar\"}], \"scatterpolargl\": [{\"marker\": {\"colorbar\": {\"outlinewidth\": 0, \"tickcolor\": \"rgb(36,36,36)\", \"ticklen\": 8, \"ticks\": \"outside\", \"tickwidth\": 2}}, \"type\": \"scatterpolargl\"}], \"scatterternary\": [{\"marker\": {\"colorbar\": {\"outlinewidth\": 0, \"tickcolor\": \"rgb(36,36,36)\", \"ticklen\": 8, \"ticks\": \"outside\", \"tickwidth\": 2}}, \"type\": \"scatterternary\"}], \"surface\": [{\"colorbar\": {\"outlinewidth\": 0, \"tickcolor\": \"rgb(36,36,36)\", \"ticklen\": 8, \"ticks\": \"outside\", \"tickwidth\": 2}, \"colorscale\": [[0.0, \"rgb(2,4,25)\"], [0.06274509803921569, \"rgb(24,15,41)\"], [0.12549019607843137, \"rgb(47,23,57)\"], [0.18823529411764706, \"rgb(71,28,72)\"], [0.25098039215686274, \"rgb(97,30,82)\"], [0.3137254901960784, \"rgb(123,30,89)\"], [0.3764705882352941, \"rgb(150,27,91)\"], [0.4392156862745098, \"rgb(177,22,88)\"], [0.5019607843137255, \"rgb(203,26,79)\"], [0.5647058823529412, \"rgb(223,47,67)\"], [0.6274509803921569, \"rgb(236,76,61)\"], [0.6901960784313725, \"rgb(242,107,73)\"], [0.7529411764705882, \"rgb(244,135,95)\"], [0.8156862745098039, \"rgb(245,162,122)\"], [0.8784313725490196, \"rgb(246,188,153)\"], [0.9411764705882353, \"rgb(247,212,187)\"], [1.0, \"rgb(250,234,220)\"]], \"type\": \"surface\"}], \"table\": [{\"cells\": {\"fill\": {\"color\": \"rgb(231,231,240)\"}, \"line\": {\"color\": \"white\"}}, \"header\": {\"fill\": {\"color\": \"rgb(183,183,191)\"}, \"line\": {\"color\": \"white\"}}, \"type\": \"table\"}]}, \"layout\": {\"annotationdefaults\": {\"arrowcolor\": \"rgb(67,103,167)\"}, \"coloraxis\": {\"colorbar\": {\"outlinewidth\": 0, \"tickcolor\": \"rgb(36,36,36)\", \"ticklen\": 8, \"ticks\": \"outside\", \"tickwidth\": 2}}, \"colorscale\": {\"sequential\": [[0.0, \"rgb(2,4,25)\"], [0.06274509803921569, \"rgb(24,15,41)\"], [0.12549019607843137, \"rgb(47,23,57)\"], [0.18823529411764706, \"rgb(71,28,72)\"], [0.25098039215686274, \"rgb(97,30,82)\"], [0.3137254901960784, \"rgb(123,30,89)\"], [0.3764705882352941, \"rgb(150,27,91)\"], [0.4392156862745098, \"rgb(177,22,88)\"], [0.5019607843137255, \"rgb(203,26,79)\"], [0.5647058823529412, \"rgb(223,47,67)\"], [0.6274509803921569, \"rgb(236,76,61)\"], [0.6901960784313725, \"rgb(242,107,73)\"], [0.7529411764705882, \"rgb(244,135,95)\"], [0.8156862745098039, \"rgb(245,162,122)\"], [0.8784313725490196, \"rgb(246,188,153)\"], [0.9411764705882353, \"rgb(247,212,187)\"], [1.0, \"rgb(250,234,220)\"]], \"sequentialminus\": [[0.0, \"rgb(2,4,25)\"], [0.06274509803921569, \"rgb(24,15,41)\"], [0.12549019607843137, \"rgb(47,23,57)\"], [0.18823529411764706, \"rgb(71,28,72)\"], [0.25098039215686274, \"rgb(97,30,82)\"], [0.3137254901960784, \"rgb(123,30,89)\"], [0.3764705882352941, \"rgb(150,27,91)\"], [0.4392156862745098, \"rgb(177,22,88)\"], [0.5019607843137255, \"rgb(203,26,79)\"], [0.5647058823529412, \"rgb(223,47,67)\"], [0.6274509803921569, \"rgb(236,76,61)\"], [0.6901960784313725, \"rgb(242,107,73)\"], [0.7529411764705882, \"rgb(244,135,95)\"], [0.8156862745098039, \"rgb(245,162,122)\"], [0.8784313725490196, \"rgb(246,188,153)\"], [0.9411764705882353, \"rgb(247,212,187)\"], [1.0, \"rgb(250,234,220)\"]]}, \"colorway\": [\"rgb(76,114,176)\", \"rgb(221,132,82)\", \"rgb(85,168,104)\", \"rgb(196,78,82)\", \"rgb(129,114,179)\", \"rgb(147,120,96)\", \"rgb(218,139,195)\", \"rgb(140,140,140)\", \"rgb(204,185,116)\", \"rgb(100,181,205)\"], \"font\": {\"color\": \"rgb(36,36,36)\"}, \"geo\": {\"bgcolor\": \"white\", \"lakecolor\": \"white\", \"landcolor\": \"rgb(234,234,242)\", \"showlakes\": true, \"showland\": true, \"subunitcolor\": \"white\"}, \"hoverlabel\": {\"align\": \"left\"}, \"hovermode\": \"closest\", \"paper_bgcolor\": \"white\", \"plot_bgcolor\": \"rgb(234,234,242)\", \"polar\": {\"angularaxis\": {\"gridcolor\": \"white\", \"linecolor\": \"white\", \"showgrid\": true, \"ticks\": \"\"}, \"bgcolor\": \"rgb(234,234,242)\", \"radialaxis\": {\"gridcolor\": \"white\", \"linecolor\": \"white\", \"showgrid\": true, \"ticks\": \"\"}}, \"scene\": {\"xaxis\": {\"backgroundcolor\": \"rgb(234,234,242)\", \"gridcolor\": \"white\", \"gridwidth\": 2, \"linecolor\": \"white\", \"showbackground\": true, \"showgrid\": true, \"ticks\": \"\", \"zerolinecolor\": \"white\"}, \"yaxis\": {\"backgroundcolor\": \"rgb(234,234,242)\", \"gridcolor\": \"white\", \"gridwidth\": 2, \"linecolor\": \"white\", \"showbackground\": true, \"showgrid\": true, \"ticks\": \"\", \"zerolinecolor\": \"white\"}, \"zaxis\": {\"backgroundcolor\": \"rgb(234,234,242)\", \"gridcolor\": \"white\", \"gridwidth\": 2, \"linecolor\": \"white\", \"showbackground\": true, \"showgrid\": true, \"ticks\": \"\", \"zerolinecolor\": \"white\"}}, \"shapedefaults\": {\"fillcolor\": \"rgb(67,103,167)\", \"line\": {\"width\": 0}, \"opacity\": 0.5}, \"ternary\": {\"aaxis\": {\"gridcolor\": \"white\", \"linecolor\": \"white\", \"showgrid\": true, \"ticks\": \"\"}, \"baxis\": {\"gridcolor\": \"white\", \"linecolor\": \"white\", \"showgrid\": true, \"ticks\": \"\"}, \"bgcolor\": \"rgb(234,234,242)\", \"caxis\": {\"gridcolor\": \"white\", \"linecolor\": \"white\", \"showgrid\": true, \"ticks\": \"\"}}, \"xaxis\": {\"automargin\": true, \"gridcolor\": \"white\", \"linecolor\": \"white\", \"showgrid\": true, \"ticks\": \"\", \"title\": {\"standoff\": 15}, \"zerolinecolor\": \"white\"}, \"yaxis\": {\"automargin\": true, \"gridcolor\": \"white\", \"linecolor\": \"white\", \"showgrid\": true, \"ticks\": \"\", \"title\": {\"standoff\": 15}, \"zerolinecolor\": \"white\"}}}, \"xaxis\": {\"anchor\": \"y\", \"domain\": [0.0, 1.0], \"showgrid\": false, \"showline\": true, \"showticklabels\": true, \"title\": {\"text\": \"\\uac10\\uc18c                                    <\\uac8c\\uc2dc\\ubb3c \\uc218>                                    \\uc99d\\uac00\"}}, \"yaxis\": {\"anchor\": \"x\", \"domain\": [0.0, 1.0], \"showgrid\": false, \"showline\": false, \"showticklabels\": true, \"title\": {\"text\": \"\\ubd80\\uc815                           <\\uac10\\uc815\\ubd84\\uc11d>                           \\uae0d\\uc815\"}, \"zeroline\": true}},\n",
              "                        {\"responsive\": true}\n",
              "                    ).then(function(){\n",
              "                            \n",
              "var gd = document.getElementById('dbf83216-e8bf-4ee6-9506-e2e6afa2005c');\n",
              "var x = new MutationObserver(function (mutations, observer) {{\n",
              "        var display = window.getComputedStyle(gd).display;\n",
              "        if (!display || display === 'none') {{\n",
              "            console.log([gd, 'removed!']);\n",
              "            Plotly.purge(gd);\n",
              "            observer.disconnect();\n",
              "        }}\n",
              "}});\n",
              "\n",
              "// Listen for the removal of the full notebook cells\n",
              "var notebookContainer = gd.closest('#notebook-container');\n",
              "if (notebookContainer) {{\n",
              "    x.observe(notebookContainer, {childList: true});\n",
              "}}\n",
              "\n",
              "// Listen for the clearing of the current output cell\n",
              "var outputEl = gd.closest('.output');\n",
              "if (outputEl) {{\n",
              "    x.observe(outputEl, {childList: true});\n",
              "}}\n",
              "\n",
              "                        })\n",
              "                };\n",
              "                \n",
              "            </script>\n",
              "        </div>\n",
              "</body>\n",
              "</html>"
            ]
          },
          "metadata": {}
        }
      ]
    },
    {
      "cell_type": "code",
      "metadata": {
        "id": "7tz6saPzLB85"
      },
      "source": [
        "get_plot_3d().write_html('1202_3d.html')"
      ],
      "execution_count": null,
      "outputs": []
    },
    {
      "cell_type": "code",
      "metadata": {
        "id": "KtoCK0QIQ8mK"
      },
      "source": [
        "def get_plot_5d():\n",
        "    data = pre_data()\n",
        "    hovertemplate = []\n",
        "    for num in range(len(data)):\n",
        "        num_5 = data.iloc[num, 7]\n",
        "        s_5 = round(data.iloc[num, 10], 3)\n",
        "        num_ = data.iloc[num, 2]\n",
        "        s = round(data.iloc[num, 3], 3)\n",
        "        hovertemplate.append(f\"게시물 수 비교 : {num_5}<br>감정분석 비교 : {s_5}<br>하루동안의 게시물 수 : {num_}<br>하루동안의 감정분석 : {s}\")\n",
        "    fig = px.scatter(data, x='sum_5', y='s_5',\n",
        "                 color='감정분석', size=data['게시물 수'], range_color=(-1,1),\n",
        "                 size_max=50, hover_data = None,\n",
        "                 template='seaborn',\n",
        "                 labels={'sum_5':'감소                                    <게시물 수>                                    증가',\n",
        "                         's_5':'부정                           <감정분석>                           긍정'})\n",
        "    fig.update_layout(\n",
        "        xaxis=dict(\n",
        "            showline=True,\n",
        "            showgrid=False,\n",
        "            showticklabels=True,          \n",
        "        ),\n",
        "        yaxis=dict(\n",
        "            showgrid=False,\n",
        "            zeroline=True,\n",
        "            showline=False,\n",
        "            showticklabels=True,\n",
        "        ),\n",
        "        showlegend=False\n",
        "    )\n",
        "    fig.update_coloraxes(colorscale=px.colors.diverging.Portland,\n",
        "                        #  colorbar_showticklabels=False,\n",
        "                         colorbar_nticks=3,\n",
        "                         colorbar_tickcolor='white',\n",
        "                         colorbar_title='')\n",
        "    for i in range(data.shape[0]):\n",
        "        fig.add_annotation(x=data.sum_5[i], y=data.s_5[i], text=data.coin[i],\n",
        "                 showarrow=False)\n",
        "    fig.update_traces(hovertemplate=hovertemplate)\n",
        "    return fig"
      ],
      "execution_count": null,
      "outputs": []
    },
    {
      "cell_type": "code",
      "metadata": {
        "colab": {
          "base_uri": "https://localhost:8080/",
          "height": 542
        },
        "id": "XN7QsZ17dJQD",
        "outputId": "e6dfce6a-d02c-4e00-9def-4b292d06f04f"
      },
      "source": [
        "get_plot_5d()"
      ],
      "execution_count": null,
      "outputs": [
        {
          "output_type": "display_data",
          "data": {
            "text/html": [
              "<html>\n",
              "<head><meta charset=\"utf-8\" /></head>\n",
              "<body>\n",
              "    <div>\n",
              "            <script src=\"https://cdnjs.cloudflare.com/ajax/libs/mathjax/2.7.5/MathJax.js?config=TeX-AMS-MML_SVG\"></script><script type=\"text/javascript\">if (window.MathJax) {MathJax.Hub.Config({SVG: {font: \"STIX-Web\"}});}</script>\n",
              "                <script type=\"text/javascript\">window.PlotlyConfig = {MathJaxConfig: 'local'};</script>\n",
              "        <script src=\"https://cdn.plot.ly/plotly-latest.min.js\"></script>    \n",
              "            <div id=\"868fd5cf-3723-49ec-a782-e7d74cee667a\" class=\"plotly-graph-div\" style=\"height:525px; width:100%;\"></div>\n",
              "            <script type=\"text/javascript\">\n",
              "                \n",
              "                    window.PLOTLYENV=window.PLOTLYENV || {};\n",
              "                    \n",
              "                if (document.getElementById(\"868fd5cf-3723-49ec-a782-e7d74cee667a\")) {\n",
              "                    Plotly.newPlot(\n",
              "                        '868fd5cf-3723-49ec-a782-e7d74cee667a',\n",
              "                        [{\"hoverlabel\": {\"namelength\": 0}, \"hovertemplate\": [\"\\uac8c\\uc2dc\\ubb3c \\uc218 \\ube44\\uad50 : 209859.0<br>\\uac10\\uc815\\ubd84\\uc11d \\ube44\\uad50 : -0.518<br>\\ud558\\ub8e8\\ub3d9\\uc548\\uc758 \\uac8c\\uc2dc\\ubb3c \\uc218 : 209913<br>\\ud558\\ub8e8\\ub3d9\\uc548\\uc758 \\uac10\\uc815\\ubd84\\uc11d : -0.407\", \"\\uac8c\\uc2dc\\ubb3c \\uc218 \\ube44\\uad50 : 700.0<br>\\uac10\\uc815\\ubd84\\uc11d \\ube44\\uad50 : -0.714<br>\\ud558\\ub8e8\\ub3d9\\uc548\\uc758 \\uac8c\\uc2dc\\ubb3c \\uc218 : 712<br>\\ud558\\ub8e8\\ub3d9\\uc548\\uc758 \\uac10\\uc815\\ubd84\\uc11d : -0.381\", \"\\uac8c\\uc2dc\\ubb3c \\uc218 \\ube44\\uad50 : 26378.0<br>\\uac10\\uc815\\ubd84\\uc11d \\ube44\\uad50 : -1.05<br>\\ud558\\ub8e8\\ub3d9\\uc548\\uc758 \\uac8c\\uc2dc\\ubb3c \\uc218 : 26384<br>\\ud558\\ub8e8\\ub3d9\\uc548\\uc758 \\uac10\\uc815\\ubd84\\uc11d : -0.383\", \"\\uac8c\\uc2dc\\ubb3c \\uc218 \\ube44\\uad50 : 17375.0<br>\\uac10\\uc815\\ubd84\\uc11d \\ube44\\uad50 : -0.506<br>\\ud558\\ub8e8\\ub3d9\\uc548\\uc758 \\uac8c\\uc2dc\\ubb3c \\uc218 : 17401<br>\\ud558\\ub8e8\\ub3d9\\uc548\\uc758 \\uac10\\uc815\\ubd84\\uc11d : -0.352\", \"\\uac8c\\uc2dc\\ubb3c \\uc218 \\ube44\\uad50 : 1486.0<br>\\uac10\\uc815\\ubd84\\uc11d \\ube44\\uad50 : -0.271<br>\\ud558\\ub8e8\\ub3d9\\uc548\\uc758 \\uac8c\\uc2dc\\ubb3c \\uc218 : 1564<br>\\ud558\\ub8e8\\ub3d9\\uc548\\uc758 \\uac10\\uc815\\ubd84\\uc11d : -0.322\", \"\\uac8c\\uc2dc\\ubb3c \\uc218 \\ube44\\uad50 : 89676.0<br>\\uac10\\uc815\\ubd84\\uc11d \\ube44\\uad50 : 0.002<br>\\ud558\\ub8e8\\ub3d9\\uc548\\uc758 \\uac8c\\uc2dc\\ubb3c \\uc218 : 90652<br>\\ud558\\ub8e8\\ub3d9\\uc548\\uc758 \\uac10\\uc815\\ubd84\\uc11d : -0.386\", \"\\uac8c\\uc2dc\\ubb3c \\uc218 \\ube44\\uad50 : 7.0<br>\\uac10\\uc815\\ubd84\\uc11d \\ube44\\uad50 : -0.136<br>\\ud558\\ub8e8\\ub3d9\\uc548\\uc758 \\uac8c\\uc2dc\\ubb3c \\uc218 : 11<br>\\ud558\\ub8e8\\ub3d9\\uc548\\uc758 \\uac10\\uc815\\ubd84\\uc11d : -0.636\", \"\\uac8c\\uc2dc\\ubb3c \\uc218 \\ube44\\uad50 : 157.0<br>\\uac10\\uc815\\ubd84\\uc11d \\ube44\\uad50 : -1.468<br>\\ud558\\ub8e8\\ub3d9\\uc548\\uc758 \\uac8c\\uc2dc\\ubb3c \\uc218 : 158<br>\\ud558\\ub8e8\\ub3d9\\uc548\\uc758 \\uac10\\uc815\\ubd84\\uc11d : -0.468\", \"\\uac8c\\uc2dc\\ubb3c \\uc218 \\ube44\\uad50 : 10503.0<br>\\uac10\\uc815\\ubd84\\uc11d \\ube44\\uad50 : -0.438<br>\\ud558\\ub8e8\\ub3d9\\uc548\\uc758 \\uac8c\\uc2dc\\ubb3c \\uc218 : 10585<br>\\ud558\\ub8e8\\ub3d9\\uc548\\uc758 \\uac10\\uc815\\ubd84\\uc11d : -0.377\"], \"legendgroup\": \"\", \"marker\": {\"color\": [-0.407, -0.381, -0.383, -0.352, -0.322, -0.386, -0.636, -0.468, -0.377], \"coloraxis\": \"coloraxis\", \"size\": [209913, 712, 26384, 17401, 1564, 90652, 11, 158, 10585], \"sizemode\": \"area\", \"sizeref\": 83.9652, \"symbol\": \"circle\"}, \"mode\": \"markers\", \"name\": \"\", \"showlegend\": false, \"type\": \"scatter\", \"x\": [209859.0, 700.0, 26378.0, 17375.0, 1486.0, 89676.0, 7.0, 157.0, 10503.0], \"xaxis\": \"x\", \"y\": [-0.518, -0.714, -1.05, -0.506, -0.271, 0.0020000000000000018, -0.136, -1.468, -0.438], \"yaxis\": \"y\"}],\n",
              "                        {\"annotations\": [{\"showarrow\": false, \"text\": \"ada\", \"x\": 209859.0, \"y\": -0.518}, {\"showarrow\": false, \"text\": \"bch\", \"x\": 700.0, \"y\": -0.714}, {\"showarrow\": false, \"text\": \"btc\", \"x\": 26378.0, \"y\": -1.05}, {\"showarrow\": false, \"text\": \"doge\", \"x\": 17375.0, \"y\": -0.506}, {\"showarrow\": false, \"text\": \"eos\", \"x\": 1486.0, \"y\": -0.271}, {\"showarrow\": false, \"text\": \"eth\", \"x\": 89676.0, \"y\": 0.0020000000000000018}, {\"showarrow\": false, \"text\": \"omg\", \"x\": 7.0, \"y\": -0.136}, {\"showarrow\": false, \"text\": \"snt\", \"x\": 157.0, \"y\": -1.468}, {\"showarrow\": false, \"text\": \"xrp\", \"x\": 10503.0, \"y\": -0.438}], \"coloraxis\": {\"cmax\": 1, \"cmin\": -1, \"colorbar\": {\"nticks\": 3, \"tickcolor\": \"white\", \"title\": {\"text\": \"\"}}, \"colorscale\": [[0.0, \"rgb(12,51,131)\"], [0.25, \"rgb(10,136,186)\"], [0.5, \"rgb(242,211,56)\"], [0.75, \"rgb(242,143,56)\"], [1.0, \"rgb(217,30,30)\"]]}, \"legend\": {\"itemsizing\": \"constant\", \"tracegroupgap\": 0}, \"margin\": {\"t\": 60}, \"showlegend\": false, \"template\": {\"data\": {\"bar\": [{\"error_x\": {\"color\": \"rgb(36,36,36)\"}, \"error_y\": {\"color\": \"rgb(36,36,36)\"}, \"marker\": {\"line\": {\"color\": \"rgb(234,234,242)\", \"width\": 0.5}}, \"type\": \"bar\"}], \"barpolar\": [{\"marker\": {\"line\": {\"color\": \"rgb(234,234,242)\", \"width\": 0.5}}, \"type\": \"barpolar\"}], \"carpet\": [{\"aaxis\": {\"endlinecolor\": \"rgb(36,36,36)\", \"gridcolor\": \"white\", \"linecolor\": \"white\", \"minorgridcolor\": \"white\", \"startlinecolor\": \"rgb(36,36,36)\"}, \"baxis\": {\"endlinecolor\": \"rgb(36,36,36)\", \"gridcolor\": \"white\", \"linecolor\": \"white\", \"minorgridcolor\": \"white\", \"startlinecolor\": \"rgb(36,36,36)\"}, \"type\": \"carpet\"}], \"choropleth\": [{\"colorbar\": {\"outlinewidth\": 0, \"tickcolor\": \"rgb(36,36,36)\", \"ticklen\": 8, \"ticks\": \"outside\", \"tickwidth\": 2}, \"type\": \"choropleth\"}], \"contour\": [{\"colorbar\": {\"outlinewidth\": 0, \"tickcolor\": \"rgb(36,36,36)\", \"ticklen\": 8, \"ticks\": \"outside\", \"tickwidth\": 2}, \"colorscale\": [[0.0, \"rgb(2,4,25)\"], [0.06274509803921569, \"rgb(24,15,41)\"], [0.12549019607843137, \"rgb(47,23,57)\"], [0.18823529411764706, \"rgb(71,28,72)\"], [0.25098039215686274, \"rgb(97,30,82)\"], [0.3137254901960784, \"rgb(123,30,89)\"], [0.3764705882352941, \"rgb(150,27,91)\"], [0.4392156862745098, \"rgb(177,22,88)\"], [0.5019607843137255, \"rgb(203,26,79)\"], [0.5647058823529412, \"rgb(223,47,67)\"], [0.6274509803921569, \"rgb(236,76,61)\"], [0.6901960784313725, \"rgb(242,107,73)\"], [0.7529411764705882, \"rgb(244,135,95)\"], [0.8156862745098039, \"rgb(245,162,122)\"], [0.8784313725490196, \"rgb(246,188,153)\"], [0.9411764705882353, \"rgb(247,212,187)\"], [1.0, \"rgb(250,234,220)\"]], \"type\": \"contour\"}], \"contourcarpet\": [{\"colorbar\": {\"outlinewidth\": 0, \"tickcolor\": \"rgb(36,36,36)\", \"ticklen\": 8, \"ticks\": \"outside\", \"tickwidth\": 2}, \"type\": \"contourcarpet\"}], \"heatmap\": [{\"colorbar\": {\"outlinewidth\": 0, \"tickcolor\": \"rgb(36,36,36)\", \"ticklen\": 8, \"ticks\": \"outside\", \"tickwidth\": 2}, \"colorscale\": [[0.0, \"rgb(2,4,25)\"], [0.06274509803921569, \"rgb(24,15,41)\"], [0.12549019607843137, \"rgb(47,23,57)\"], [0.18823529411764706, \"rgb(71,28,72)\"], [0.25098039215686274, \"rgb(97,30,82)\"], [0.3137254901960784, \"rgb(123,30,89)\"], [0.3764705882352941, \"rgb(150,27,91)\"], [0.4392156862745098, \"rgb(177,22,88)\"], [0.5019607843137255, \"rgb(203,26,79)\"], [0.5647058823529412, \"rgb(223,47,67)\"], [0.6274509803921569, \"rgb(236,76,61)\"], [0.6901960784313725, \"rgb(242,107,73)\"], [0.7529411764705882, \"rgb(244,135,95)\"], [0.8156862745098039, \"rgb(245,162,122)\"], [0.8784313725490196, \"rgb(246,188,153)\"], [0.9411764705882353, \"rgb(247,212,187)\"], [1.0, \"rgb(250,234,220)\"]], \"type\": \"heatmap\"}], \"heatmapgl\": [{\"colorbar\": {\"outlinewidth\": 0, \"tickcolor\": \"rgb(36,36,36)\", \"ticklen\": 8, \"ticks\": \"outside\", \"tickwidth\": 2}, \"colorscale\": [[0.0, \"rgb(2,4,25)\"], [0.06274509803921569, \"rgb(24,15,41)\"], [0.12549019607843137, \"rgb(47,23,57)\"], [0.18823529411764706, \"rgb(71,28,72)\"], [0.25098039215686274, \"rgb(97,30,82)\"], [0.3137254901960784, \"rgb(123,30,89)\"], [0.3764705882352941, \"rgb(150,27,91)\"], [0.4392156862745098, \"rgb(177,22,88)\"], [0.5019607843137255, \"rgb(203,26,79)\"], [0.5647058823529412, \"rgb(223,47,67)\"], [0.6274509803921569, \"rgb(236,76,61)\"], [0.6901960784313725, \"rgb(242,107,73)\"], [0.7529411764705882, \"rgb(244,135,95)\"], [0.8156862745098039, \"rgb(245,162,122)\"], [0.8784313725490196, \"rgb(246,188,153)\"], [0.9411764705882353, \"rgb(247,212,187)\"], [1.0, \"rgb(250,234,220)\"]], \"type\": \"heatmapgl\"}], \"histogram\": [{\"marker\": {\"colorbar\": {\"outlinewidth\": 0, \"tickcolor\": \"rgb(36,36,36)\", \"ticklen\": 8, \"ticks\": \"outside\", \"tickwidth\": 2}}, \"type\": \"histogram\"}], \"histogram2d\": [{\"colorbar\": {\"outlinewidth\": 0, \"tickcolor\": \"rgb(36,36,36)\", \"ticklen\": 8, \"ticks\": \"outside\", \"tickwidth\": 2}, \"colorscale\": [[0.0, \"rgb(2,4,25)\"], [0.06274509803921569, \"rgb(24,15,41)\"], [0.12549019607843137, \"rgb(47,23,57)\"], [0.18823529411764706, \"rgb(71,28,72)\"], [0.25098039215686274, \"rgb(97,30,82)\"], [0.3137254901960784, \"rgb(123,30,89)\"], [0.3764705882352941, \"rgb(150,27,91)\"], [0.4392156862745098, \"rgb(177,22,88)\"], [0.5019607843137255, \"rgb(203,26,79)\"], [0.5647058823529412, \"rgb(223,47,67)\"], [0.6274509803921569, \"rgb(236,76,61)\"], [0.6901960784313725, \"rgb(242,107,73)\"], [0.7529411764705882, \"rgb(244,135,95)\"], [0.8156862745098039, \"rgb(245,162,122)\"], [0.8784313725490196, \"rgb(246,188,153)\"], [0.9411764705882353, \"rgb(247,212,187)\"], [1.0, \"rgb(250,234,220)\"]], \"type\": \"histogram2d\"}], \"histogram2dcontour\": [{\"colorbar\": {\"outlinewidth\": 0, \"tickcolor\": \"rgb(36,36,36)\", \"ticklen\": 8, \"ticks\": \"outside\", \"tickwidth\": 2}, \"colorscale\": [[0.0, \"rgb(2,4,25)\"], [0.06274509803921569, \"rgb(24,15,41)\"], [0.12549019607843137, \"rgb(47,23,57)\"], [0.18823529411764706, \"rgb(71,28,72)\"], [0.25098039215686274, \"rgb(97,30,82)\"], [0.3137254901960784, \"rgb(123,30,89)\"], [0.3764705882352941, \"rgb(150,27,91)\"], [0.4392156862745098, \"rgb(177,22,88)\"], [0.5019607843137255, \"rgb(203,26,79)\"], [0.5647058823529412, \"rgb(223,47,67)\"], [0.6274509803921569, \"rgb(236,76,61)\"], [0.6901960784313725, \"rgb(242,107,73)\"], [0.7529411764705882, \"rgb(244,135,95)\"], [0.8156862745098039, \"rgb(245,162,122)\"], [0.8784313725490196, \"rgb(246,188,153)\"], [0.9411764705882353, \"rgb(247,212,187)\"], [1.0, \"rgb(250,234,220)\"]], \"type\": \"histogram2dcontour\"}], \"mesh3d\": [{\"colorbar\": {\"outlinewidth\": 0, \"tickcolor\": \"rgb(36,36,36)\", \"ticklen\": 8, \"ticks\": \"outside\", \"tickwidth\": 2}, \"type\": \"mesh3d\"}], \"parcoords\": [{\"line\": {\"colorbar\": {\"outlinewidth\": 0, \"tickcolor\": \"rgb(36,36,36)\", \"ticklen\": 8, \"ticks\": \"outside\", \"tickwidth\": 2}}, \"type\": \"parcoords\"}], \"pie\": [{\"automargin\": true, \"type\": \"pie\"}], \"scatter\": [{\"marker\": {\"colorbar\": {\"outlinewidth\": 0, \"tickcolor\": \"rgb(36,36,36)\", \"ticklen\": 8, \"ticks\": \"outside\", \"tickwidth\": 2}}, \"type\": \"scatter\"}], \"scatter3d\": [{\"line\": {\"colorbar\": {\"outlinewidth\": 0, \"tickcolor\": \"rgb(36,36,36)\", \"ticklen\": 8, \"ticks\": \"outside\", \"tickwidth\": 2}}, \"marker\": {\"colorbar\": {\"outlinewidth\": 0, \"tickcolor\": \"rgb(36,36,36)\", \"ticklen\": 8, \"ticks\": \"outside\", \"tickwidth\": 2}}, \"type\": \"scatter3d\"}], \"scattercarpet\": [{\"marker\": {\"colorbar\": {\"outlinewidth\": 0, \"tickcolor\": \"rgb(36,36,36)\", \"ticklen\": 8, \"ticks\": \"outside\", \"tickwidth\": 2}}, \"type\": \"scattercarpet\"}], \"scattergeo\": [{\"marker\": {\"colorbar\": {\"outlinewidth\": 0, \"tickcolor\": \"rgb(36,36,36)\", \"ticklen\": 8, \"ticks\": \"outside\", \"tickwidth\": 2}}, \"type\": \"scattergeo\"}], \"scattergl\": [{\"marker\": {\"colorbar\": {\"outlinewidth\": 0, \"tickcolor\": \"rgb(36,36,36)\", \"ticklen\": 8, \"ticks\": \"outside\", \"tickwidth\": 2}}, \"type\": \"scattergl\"}], \"scattermapbox\": [{\"marker\": {\"colorbar\": {\"outlinewidth\": 0, \"tickcolor\": \"rgb(36,36,36)\", \"ticklen\": 8, \"ticks\": \"outside\", \"tickwidth\": 2}}, \"type\": \"scattermapbox\"}], \"scatterpolar\": [{\"marker\": {\"colorbar\": {\"outlinewidth\": 0, \"tickcolor\": \"rgb(36,36,36)\", \"ticklen\": 8, \"ticks\": \"outside\", \"tickwidth\": 2}}, \"type\": \"scatterpolar\"}], \"scatterpolargl\": [{\"marker\": {\"colorbar\": {\"outlinewidth\": 0, \"tickcolor\": \"rgb(36,36,36)\", \"ticklen\": 8, \"ticks\": \"outside\", \"tickwidth\": 2}}, \"type\": \"scatterpolargl\"}], \"scatterternary\": [{\"marker\": {\"colorbar\": {\"outlinewidth\": 0, \"tickcolor\": \"rgb(36,36,36)\", \"ticklen\": 8, \"ticks\": \"outside\", \"tickwidth\": 2}}, \"type\": \"scatterternary\"}], \"surface\": [{\"colorbar\": {\"outlinewidth\": 0, \"tickcolor\": \"rgb(36,36,36)\", \"ticklen\": 8, \"ticks\": \"outside\", \"tickwidth\": 2}, \"colorscale\": [[0.0, \"rgb(2,4,25)\"], [0.06274509803921569, \"rgb(24,15,41)\"], [0.12549019607843137, \"rgb(47,23,57)\"], [0.18823529411764706, \"rgb(71,28,72)\"], [0.25098039215686274, \"rgb(97,30,82)\"], [0.3137254901960784, \"rgb(123,30,89)\"], [0.3764705882352941, \"rgb(150,27,91)\"], [0.4392156862745098, \"rgb(177,22,88)\"], [0.5019607843137255, \"rgb(203,26,79)\"], [0.5647058823529412, \"rgb(223,47,67)\"], [0.6274509803921569, \"rgb(236,76,61)\"], [0.6901960784313725, \"rgb(242,107,73)\"], [0.7529411764705882, \"rgb(244,135,95)\"], [0.8156862745098039, \"rgb(245,162,122)\"], [0.8784313725490196, \"rgb(246,188,153)\"], [0.9411764705882353, \"rgb(247,212,187)\"], [1.0, \"rgb(250,234,220)\"]], \"type\": \"surface\"}], \"table\": [{\"cells\": {\"fill\": {\"color\": \"rgb(231,231,240)\"}, \"line\": {\"color\": \"white\"}}, \"header\": {\"fill\": {\"color\": \"rgb(183,183,191)\"}, \"line\": {\"color\": \"white\"}}, \"type\": \"table\"}]}, \"layout\": {\"annotationdefaults\": {\"arrowcolor\": \"rgb(67,103,167)\"}, \"coloraxis\": {\"colorbar\": {\"outlinewidth\": 0, \"tickcolor\": \"rgb(36,36,36)\", \"ticklen\": 8, \"ticks\": \"outside\", \"tickwidth\": 2}}, \"colorscale\": {\"sequential\": [[0.0, \"rgb(2,4,25)\"], [0.06274509803921569, \"rgb(24,15,41)\"], [0.12549019607843137, \"rgb(47,23,57)\"], [0.18823529411764706, \"rgb(71,28,72)\"], [0.25098039215686274, \"rgb(97,30,82)\"], [0.3137254901960784, \"rgb(123,30,89)\"], [0.3764705882352941, \"rgb(150,27,91)\"], [0.4392156862745098, \"rgb(177,22,88)\"], [0.5019607843137255, \"rgb(203,26,79)\"], [0.5647058823529412, \"rgb(223,47,67)\"], [0.6274509803921569, \"rgb(236,76,61)\"], [0.6901960784313725, \"rgb(242,107,73)\"], [0.7529411764705882, \"rgb(244,135,95)\"], [0.8156862745098039, \"rgb(245,162,122)\"], [0.8784313725490196, \"rgb(246,188,153)\"], [0.9411764705882353, \"rgb(247,212,187)\"], [1.0, \"rgb(250,234,220)\"]], \"sequentialminus\": [[0.0, \"rgb(2,4,25)\"], [0.06274509803921569, \"rgb(24,15,41)\"], [0.12549019607843137, \"rgb(47,23,57)\"], [0.18823529411764706, \"rgb(71,28,72)\"], [0.25098039215686274, \"rgb(97,30,82)\"], [0.3137254901960784, \"rgb(123,30,89)\"], [0.3764705882352941, \"rgb(150,27,91)\"], [0.4392156862745098, \"rgb(177,22,88)\"], [0.5019607843137255, \"rgb(203,26,79)\"], [0.5647058823529412, \"rgb(223,47,67)\"], [0.6274509803921569, \"rgb(236,76,61)\"], [0.6901960784313725, \"rgb(242,107,73)\"], [0.7529411764705882, \"rgb(244,135,95)\"], [0.8156862745098039, \"rgb(245,162,122)\"], [0.8784313725490196, \"rgb(246,188,153)\"], [0.9411764705882353, \"rgb(247,212,187)\"], [1.0, \"rgb(250,234,220)\"]]}, \"colorway\": [\"rgb(76,114,176)\", \"rgb(221,132,82)\", \"rgb(85,168,104)\", \"rgb(196,78,82)\", \"rgb(129,114,179)\", \"rgb(147,120,96)\", \"rgb(218,139,195)\", \"rgb(140,140,140)\", \"rgb(204,185,116)\", \"rgb(100,181,205)\"], \"font\": {\"color\": \"rgb(36,36,36)\"}, \"geo\": {\"bgcolor\": \"white\", \"lakecolor\": \"white\", \"landcolor\": \"rgb(234,234,242)\", \"showlakes\": true, \"showland\": true, \"subunitcolor\": \"white\"}, \"hoverlabel\": {\"align\": \"left\"}, \"hovermode\": \"closest\", \"paper_bgcolor\": \"white\", \"plot_bgcolor\": \"rgb(234,234,242)\", \"polar\": {\"angularaxis\": {\"gridcolor\": \"white\", \"linecolor\": \"white\", \"showgrid\": true, \"ticks\": \"\"}, \"bgcolor\": \"rgb(234,234,242)\", \"radialaxis\": {\"gridcolor\": \"white\", \"linecolor\": \"white\", \"showgrid\": true, \"ticks\": \"\"}}, \"scene\": {\"xaxis\": {\"backgroundcolor\": \"rgb(234,234,242)\", \"gridcolor\": \"white\", \"gridwidth\": 2, \"linecolor\": \"white\", \"showbackground\": true, \"showgrid\": true, \"ticks\": \"\", \"zerolinecolor\": \"white\"}, \"yaxis\": {\"backgroundcolor\": \"rgb(234,234,242)\", \"gridcolor\": \"white\", \"gridwidth\": 2, \"linecolor\": \"white\", \"showbackground\": true, \"showgrid\": true, \"ticks\": \"\", \"zerolinecolor\": \"white\"}, \"zaxis\": {\"backgroundcolor\": \"rgb(234,234,242)\", \"gridcolor\": \"white\", \"gridwidth\": 2, \"linecolor\": \"white\", \"showbackground\": true, \"showgrid\": true, \"ticks\": \"\", \"zerolinecolor\": \"white\"}}, \"shapedefaults\": {\"fillcolor\": \"rgb(67,103,167)\", \"line\": {\"width\": 0}, \"opacity\": 0.5}, \"ternary\": {\"aaxis\": {\"gridcolor\": \"white\", \"linecolor\": \"white\", \"showgrid\": true, \"ticks\": \"\"}, \"baxis\": {\"gridcolor\": \"white\", \"linecolor\": \"white\", \"showgrid\": true, \"ticks\": \"\"}, \"bgcolor\": \"rgb(234,234,242)\", \"caxis\": {\"gridcolor\": \"white\", \"linecolor\": \"white\", \"showgrid\": true, \"ticks\": \"\"}}, \"xaxis\": {\"automargin\": true, \"gridcolor\": \"white\", \"linecolor\": \"white\", \"showgrid\": true, \"ticks\": \"\", \"title\": {\"standoff\": 15}, \"zerolinecolor\": \"white\"}, \"yaxis\": {\"automargin\": true, \"gridcolor\": \"white\", \"linecolor\": \"white\", \"showgrid\": true, \"ticks\": \"\", \"title\": {\"standoff\": 15}, \"zerolinecolor\": \"white\"}}}, \"xaxis\": {\"anchor\": \"y\", \"domain\": [0.0, 1.0], \"showgrid\": false, \"showline\": true, \"showticklabels\": true, \"title\": {\"text\": \"\\uac10\\uc18c                                    <\\uac8c\\uc2dc\\ubb3c \\uc218>                                    \\uc99d\\uac00\"}}, \"yaxis\": {\"anchor\": \"x\", \"domain\": [0.0, 1.0], \"showgrid\": false, \"showline\": false, \"showticklabels\": true, \"title\": {\"text\": \"\\ubd80\\uc815                           <\\uac10\\uc815\\ubd84\\uc11d>                           \\uae0d\\uc815\"}, \"zeroline\": true}},\n",
              "                        {\"responsive\": true}\n",
              "                    ).then(function(){\n",
              "                            \n",
              "var gd = document.getElementById('868fd5cf-3723-49ec-a782-e7d74cee667a');\n",
              "var x = new MutationObserver(function (mutations, observer) {{\n",
              "        var display = window.getComputedStyle(gd).display;\n",
              "        if (!display || display === 'none') {{\n",
              "            console.log([gd, 'removed!']);\n",
              "            Plotly.purge(gd);\n",
              "            observer.disconnect();\n",
              "        }}\n",
              "}});\n",
              "\n",
              "// Listen for the removal of the full notebook cells\n",
              "var notebookContainer = gd.closest('#notebook-container');\n",
              "if (notebookContainer) {{\n",
              "    x.observe(notebookContainer, {childList: true});\n",
              "}}\n",
              "\n",
              "// Listen for the clearing of the current output cell\n",
              "var outputEl = gd.closest('.output');\n",
              "if (outputEl) {{\n",
              "    x.observe(outputEl, {childList: true});\n",
              "}}\n",
              "\n",
              "                        })\n",
              "                };\n",
              "                \n",
              "            </script>\n",
              "        </div>\n",
              "</body>\n",
              "</html>"
            ]
          },
          "metadata": {}
        }
      ]
    },
    {
      "cell_type": "code",
      "metadata": {
        "id": "RGLtDKBXdKOi"
      },
      "source": [
        "get_plot_5d().write_html('1202_5d.html')"
      ],
      "execution_count": null,
      "outputs": []
    }
  ]
}