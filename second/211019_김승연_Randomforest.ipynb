{
  "nbformat": 4,
  "nbformat_minor": 0,
  "metadata": {
    "colab": {
      "name": "211019_김승연_Randomforest",
      "provenance": [],
      "toc_visible": true
    },
    "kernelspec": {
      "name": "python3",
      "display_name": "Python 3"
    },
    "language_info": {
      "name": "python"
    }
  },
  "cells": [
    {
      "cell_type": "code",
      "metadata": {
        "id": "RjOhtq5huBKe"
      },
      "source": [
        "import warnings\n",
        "warnings.filterwarnings('ignore')"
      ],
      "execution_count": null,
      "outputs": []
    },
    {
      "cell_type": "code",
      "metadata": {
        "colab": {
          "base_uri": "https://localhost:8080/"
        },
        "id": "Zu2lxPvXuFm3",
        "outputId": "428625de-d987-4b00-eb4b-ee38056a6c08"
      },
      "source": [
        "from google.colab import drive\n",
        "\n",
        "drive.mount('/content/drive')"
      ],
      "execution_count": null,
      "outputs": [
        {
          "output_type": "stream",
          "name": "stdout",
          "text": [
            "Mounted at /content/drive\n"
          ]
        }
      ]
    },
    {
      "cell_type": "markdown",
      "metadata": {
        "id": "pD0IPwVDN_yl"
      },
      "source": [
        "* 전처리 한 것 불러오기\n",
        "\n",
        "참고로 amount, inout, weather는 1년 전으로 맞춰놓음"
      ]
    },
    {
      "cell_type": "code",
      "metadata": {
        "id": "RFqK-Ox_uHLz"
      },
      "source": [
        "import pandas as pd\n",
        "price = pd.read_csv('/content/drive/MyDrive/Colab Notebooks/2nd project/price2.csv')\n",
        "amount = pd.read_csv('/content/drive/MyDrive/Colab Notebooks/2nd project/amount2.csv')\n",
        "top = pd.read_csv('/content/drive/MyDrive/Colab Notebooks/2nd project/시군산지_기후관측소기준 TOP39.csv')\n",
        "inout = pd.read_csv('/content/drive/MyDrive/Colab Notebooks/2nd project/inout.csv')\n",
        "weather = pd.read_csv('/content/drive/MyDrive/Colab Notebooks/2nd project/weather2.csv')"
      ],
      "execution_count": null,
      "outputs": []
    },
    {
      "cell_type": "code",
      "metadata": {
        "colab": {
          "base_uri": "https://localhost:8080/"
        },
        "id": "Hf4cr-rvlv_W",
        "outputId": "14522e19-320d-4472-fe31-ac8dbc3a2533"
      },
      "source": [
        "amount['연'].unique()"
      ],
      "execution_count": null,
      "outputs": [
        {
          "output_type": "execute_result",
          "data": {
            "text/plain": [
              "array([14, 15, 16, 17, 18, 19, 20, 21, 22])"
            ]
          },
          "metadata": {},
          "execution_count": 11
        }
      ]
    },
    {
      "cell_type": "code",
      "metadata": {
        "colab": {
          "base_uri": "https://localhost:8080/"
        },
        "id": "O4uOhphCl35d",
        "outputId": "d9a0b503-9b06-4a74-b489-1d436074cd70"
      },
      "source": [
        "inout['year'].unique()"
      ],
      "execution_count": null,
      "outputs": [
        {
          "output_type": "execute_result",
          "data": {
            "text/plain": [
              "array([17, 18, 19, 20, 21, 22])"
            ]
          },
          "metadata": {},
          "execution_count": 13
        }
      ]
    },
    {
      "cell_type": "code",
      "metadata": {
        "id": "j6BA2Q5dC80n"
      },
      "source": [
        "weather.info()"
      ],
      "execution_count": null,
      "outputs": []
    },
    {
      "cell_type": "markdown",
      "metadata": {
        "id": "QONDFZckP6UJ"
      },
      "source": [
        "### merge"
      ]
    },
    {
      "cell_type": "markdown",
      "metadata": {
        "id": "I4YWpO7uODXo"
      },
      "source": [
        "* 하나씩 기준에 따라 합치기"
      ]
    },
    {
      "cell_type": "code",
      "metadata": {
        "colab": {
          "base_uri": "https://localhost:8080/",
          "height": 203
        },
        "id": "J0XzcfxVLqKF",
        "outputId": "6cdfd21d-2930-48ed-9b98-155582ad0680"
      },
      "source": [
        "price.head()"
      ],
      "execution_count": null,
      "outputs": [
        {
          "output_type": "execute_result",
          "data": {
            "text/html": [
              "<div>\n",
              "<style scoped>\n",
              "    .dataframe tbody tr th:only-of-type {\n",
              "        vertical-align: middle;\n",
              "    }\n",
              "\n",
              "    .dataframe tbody tr th {\n",
              "        vertical-align: top;\n",
              "    }\n",
              "\n",
              "    .dataframe thead th {\n",
              "        text-align: right;\n",
              "    }\n",
              "</style>\n",
              "<table border=\"1\" class=\"dataframe\">\n",
              "  <thead>\n",
              "    <tr style=\"text-align: right;\">\n",
              "      <th></th>\n",
              "      <th>품종</th>\n",
              "      <th>시장</th>\n",
              "      <th>법인</th>\n",
              "      <th>광역산지</th>\n",
              "      <th>시군산지</th>\n",
              "      <th>도매가격(원/kg)</th>\n",
              "      <th>연</th>\n",
              "      <th>월</th>\n",
              "    </tr>\n",
              "  </thead>\n",
              "  <tbody>\n",
              "    <tr>\n",
              "      <th>0</th>\n",
              "      <td>양파(일반)</td>\n",
              "      <td>대구북부도매</td>\n",
              "      <td>대양청과</td>\n",
              "      <td>경북</td>\n",
              "      <td>영천</td>\n",
              "      <td>793.00</td>\n",
              "      <td>21</td>\n",
              "      <td>10</td>\n",
              "    </tr>\n",
              "    <tr>\n",
              "      <th>1</th>\n",
              "      <td>양파(일반)</td>\n",
              "      <td>대구북부도매</td>\n",
              "      <td>효성청과</td>\n",
              "      <td>경북</td>\n",
              "      <td>의성</td>\n",
              "      <td>803.03</td>\n",
              "      <td>21</td>\n",
              "      <td>10</td>\n",
              "    </tr>\n",
              "    <tr>\n",
              "      <th>2</th>\n",
              "      <td>양파(일반)</td>\n",
              "      <td>대구북부도매</td>\n",
              "      <td>대양청과</td>\n",
              "      <td>경남</td>\n",
              "      <td>합천</td>\n",
              "      <td>769.69</td>\n",
              "      <td>21</td>\n",
              "      <td>10</td>\n",
              "    </tr>\n",
              "    <tr>\n",
              "      <th>3</th>\n",
              "      <td>양파(일반)</td>\n",
              "      <td>대구북부도매</td>\n",
              "      <td>대양청과</td>\n",
              "      <td>대구</td>\n",
              "      <td>대구중구</td>\n",
              "      <td>735.00</td>\n",
              "      <td>21</td>\n",
              "      <td>10</td>\n",
              "    </tr>\n",
              "    <tr>\n",
              "      <th>4</th>\n",
              "      <td>양파(일반)</td>\n",
              "      <td>대구북부도매</td>\n",
              "      <td>효성청과</td>\n",
              "      <td>경북</td>\n",
              "      <td>영천</td>\n",
              "      <td>843.43</td>\n",
              "      <td>21</td>\n",
              "      <td>10</td>\n",
              "    </tr>\n",
              "  </tbody>\n",
              "</table>\n",
              "</div>"
            ],
            "text/plain": [
              "       품종      시장    법인 광역산지  시군산지  도매가격(원/kg)   연   월\n",
              "0  양파(일반)  대구북부도매  대양청과   경북    영천      793.00  21  10\n",
              "1  양파(일반)  대구북부도매  효성청과   경북    의성      803.03  21  10\n",
              "2  양파(일반)  대구북부도매  대양청과   경남    합천      769.69  21  10\n",
              "3  양파(일반)  대구북부도매  대양청과   대구  대구중구      735.00  21  10\n",
              "4  양파(일반)  대구북부도매  효성청과   경북    영천      843.43  21  10"
            ]
          },
          "metadata": {},
          "execution_count": 4
        }
      ]
    },
    {
      "cell_type": "code",
      "metadata": {
        "colab": {
          "base_uri": "https://localhost:8080/",
          "height": 203
        },
        "id": "z-FM1K-9LtZE",
        "outputId": "565c817a-a458-43e3-eb4a-0707e1e88837"
      },
      "source": [
        "amount.head()"
      ],
      "execution_count": null,
      "outputs": [
        {
          "output_type": "execute_result",
          "data": {
            "text/html": [
              "<div>\n",
              "<style scoped>\n",
              "    .dataframe tbody tr th:only-of-type {\n",
              "        vertical-align: middle;\n",
              "    }\n",
              "\n",
              "    .dataframe tbody tr th {\n",
              "        vertical-align: top;\n",
              "    }\n",
              "\n",
              "    .dataframe thead th {\n",
              "        text-align: right;\n",
              "    }\n",
              "</style>\n",
              "<table border=\"1\" class=\"dataframe\">\n",
              "  <thead>\n",
              "    <tr style=\"text-align: right;\">\n",
              "      <th></th>\n",
              "      <th>재배면적</th>\n",
              "      <th>재배비율</th>\n",
              "      <th>생산량</th>\n",
              "      <th>연</th>\n",
              "      <th>광역산지</th>\n",
              "    </tr>\n",
              "  </thead>\n",
              "  <tbody>\n",
              "    <tr>\n",
              "      <th>0</th>\n",
              "      <td>0</td>\n",
              "      <td>0</td>\n",
              "      <td>0</td>\n",
              "      <td>14</td>\n",
              "      <td>서울</td>\n",
              "    </tr>\n",
              "    <tr>\n",
              "      <th>1</th>\n",
              "      <td>23</td>\n",
              "      <td>8265</td>\n",
              "      <td>1901</td>\n",
              "      <td>14</td>\n",
              "      <td>부산</td>\n",
              "    </tr>\n",
              "    <tr>\n",
              "      <th>2</th>\n",
              "      <td>81</td>\n",
              "      <td>6909</td>\n",
              "      <td>5596</td>\n",
              "      <td>14</td>\n",
              "      <td>대구</td>\n",
              "    </tr>\n",
              "    <tr>\n",
              "      <th>3</th>\n",
              "      <td>25</td>\n",
              "      <td>2294</td>\n",
              "      <td>573</td>\n",
              "      <td>14</td>\n",
              "      <td>인천</td>\n",
              "    </tr>\n",
              "    <tr>\n",
              "      <th>4</th>\n",
              "      <td>58</td>\n",
              "      <td>7443</td>\n",
              "      <td>4317</td>\n",
              "      <td>14</td>\n",
              "      <td>광주</td>\n",
              "    </tr>\n",
              "  </tbody>\n",
              "</table>\n",
              "</div>"
            ],
            "text/plain": [
              "   재배면적  재배비율   생산량   연 광역산지\n",
              "0     0     0     0  14   서울\n",
              "1    23  8265  1901  14   부산\n",
              "2    81  6909  5596  14   대구\n",
              "3    25  2294   573  14   인천\n",
              "4    58  7443  4317  14   광주"
            ]
          },
          "metadata": {},
          "execution_count": 5
        }
      ]
    },
    {
      "cell_type": "code",
      "metadata": {
        "colab": {
          "base_uri": "https://localhost:8080/",
          "height": 203
        },
        "id": "ZgzQdPrmMB65",
        "outputId": "17a6cfec-79d8-47b9-85f7-fc1f07f53381"
      },
      "source": [
        "PA = pd.merge(price, amount, on = ['연', '광역산지'])\n",
        "PA.head()"
      ],
      "execution_count": null,
      "outputs": [
        {
          "output_type": "execute_result",
          "data": {
            "text/html": [
              "<div>\n",
              "<style scoped>\n",
              "    .dataframe tbody tr th:only-of-type {\n",
              "        vertical-align: middle;\n",
              "    }\n",
              "\n",
              "    .dataframe tbody tr th {\n",
              "        vertical-align: top;\n",
              "    }\n",
              "\n",
              "    .dataframe thead th {\n",
              "        text-align: right;\n",
              "    }\n",
              "</style>\n",
              "<table border=\"1\" class=\"dataframe\">\n",
              "  <thead>\n",
              "    <tr style=\"text-align: right;\">\n",
              "      <th></th>\n",
              "      <th>품종</th>\n",
              "      <th>시장</th>\n",
              "      <th>법인</th>\n",
              "      <th>광역산지</th>\n",
              "      <th>시군산지</th>\n",
              "      <th>도매가격(원/kg)</th>\n",
              "      <th>연</th>\n",
              "      <th>월</th>\n",
              "      <th>재배면적</th>\n",
              "      <th>재배비율</th>\n",
              "      <th>생산량</th>\n",
              "    </tr>\n",
              "  </thead>\n",
              "  <tbody>\n",
              "    <tr>\n",
              "      <th>0</th>\n",
              "      <td>양파(일반)</td>\n",
              "      <td>대구북부도매</td>\n",
              "      <td>대양청과</td>\n",
              "      <td>경북</td>\n",
              "      <td>영천</td>\n",
              "      <td>793.00</td>\n",
              "      <td>21</td>\n",
              "      <td>10</td>\n",
              "      <td>2365</td>\n",
              "      <td>8098</td>\n",
              "      <td>191509</td>\n",
              "    </tr>\n",
              "    <tr>\n",
              "      <th>1</th>\n",
              "      <td>양파(일반)</td>\n",
              "      <td>대구북부도매</td>\n",
              "      <td>효성청과</td>\n",
              "      <td>경북</td>\n",
              "      <td>의성</td>\n",
              "      <td>803.03</td>\n",
              "      <td>21</td>\n",
              "      <td>10</td>\n",
              "      <td>2365</td>\n",
              "      <td>8098</td>\n",
              "      <td>191509</td>\n",
              "    </tr>\n",
              "    <tr>\n",
              "      <th>2</th>\n",
              "      <td>양파(일반)</td>\n",
              "      <td>대구북부도매</td>\n",
              "      <td>효성청과</td>\n",
              "      <td>경북</td>\n",
              "      <td>영천</td>\n",
              "      <td>843.43</td>\n",
              "      <td>21</td>\n",
              "      <td>10</td>\n",
              "      <td>2365</td>\n",
              "      <td>8098</td>\n",
              "      <td>191509</td>\n",
              "    </tr>\n",
              "    <tr>\n",
              "      <th>3</th>\n",
              "      <td>양파(일반)</td>\n",
              "      <td>대구북부도매</td>\n",
              "      <td>대양청과</td>\n",
              "      <td>경북</td>\n",
              "      <td>성주</td>\n",
              "      <td>781.82</td>\n",
              "      <td>21</td>\n",
              "      <td>10</td>\n",
              "      <td>2365</td>\n",
              "      <td>8098</td>\n",
              "      <td>191509</td>\n",
              "    </tr>\n",
              "    <tr>\n",
              "      <th>4</th>\n",
              "      <td>양파(일반)</td>\n",
              "      <td>대구북부도매</td>\n",
              "      <td>대양청과</td>\n",
              "      <td>경북</td>\n",
              "      <td>고령</td>\n",
              "      <td>800.00</td>\n",
              "      <td>21</td>\n",
              "      <td>10</td>\n",
              "      <td>2365</td>\n",
              "      <td>8098</td>\n",
              "      <td>191509</td>\n",
              "    </tr>\n",
              "  </tbody>\n",
              "</table>\n",
              "</div>"
            ],
            "text/plain": [
              "       품종      시장    법인 광역산지 시군산지  도매가격(원/kg)   연   월  재배면적  재배비율     생산량\n",
              "0  양파(일반)  대구북부도매  대양청과   경북   영천      793.00  21  10  2365  8098  191509\n",
              "1  양파(일반)  대구북부도매  효성청과   경북   의성      803.03  21  10  2365  8098  191509\n",
              "2  양파(일반)  대구북부도매  효성청과   경북   영천      843.43  21  10  2365  8098  191509\n",
              "3  양파(일반)  대구북부도매  대양청과   경북   성주      781.82  21  10  2365  8098  191509\n",
              "4  양파(일반)  대구북부도매  대양청과   경북   고령      800.00  21  10  2365  8098  191509"
            ]
          },
          "metadata": {},
          "execution_count": 3
        }
      ]
    },
    {
      "cell_type": "code",
      "metadata": {
        "colab": {
          "base_uri": "https://localhost:8080/",
          "height": 203
        },
        "id": "M6YB6EOULuoH",
        "outputId": "8362afc7-6fb0-41be-d624-911074acbaeb"
      },
      "source": [
        "top.head()"
      ],
      "execution_count": null,
      "outputs": [
        {
          "output_type": "execute_result",
          "data": {
            "text/html": [
              "<div>\n",
              "<style scoped>\n",
              "    .dataframe tbody tr th:only-of-type {\n",
              "        vertical-align: middle;\n",
              "    }\n",
              "\n",
              "    .dataframe tbody tr th {\n",
              "        vertical-align: top;\n",
              "    }\n",
              "\n",
              "    .dataframe thead th {\n",
              "        text-align: right;\n",
              "    }\n",
              "</style>\n",
              "<table border=\"1\" class=\"dataframe\">\n",
              "  <thead>\n",
              "    <tr style=\"text-align: right;\">\n",
              "      <th></th>\n",
              "      <th>시군산지</th>\n",
              "      <th>기후관측소기준</th>\n",
              "    </tr>\n",
              "  </thead>\n",
              "  <tbody>\n",
              "    <tr>\n",
              "      <th>0</th>\n",
              "      <td>무안</td>\n",
              "      <td>목포</td>\n",
              "    </tr>\n",
              "    <tr>\n",
              "      <th>1</th>\n",
              "      <td>함평</td>\n",
              "      <td>영광</td>\n",
              "    </tr>\n",
              "    <tr>\n",
              "      <th>2</th>\n",
              "      <td>창녕</td>\n",
              "      <td>밀양</td>\n",
              "    </tr>\n",
              "    <tr>\n",
              "      <th>3</th>\n",
              "      <td>신안</td>\n",
              "      <td>목포</td>\n",
              "    </tr>\n",
              "    <tr>\n",
              "      <th>4</th>\n",
              "      <td>합천</td>\n",
              "      <td>합천</td>\n",
              "    </tr>\n",
              "  </tbody>\n",
              "</table>\n",
              "</div>"
            ],
            "text/plain": [
              "  시군산지 기후관측소기준\n",
              "0   무안      목포\n",
              "1   함평      영광\n",
              "2   창녕      밀양\n",
              "3   신안      목포\n",
              "4   합천      합천"
            ]
          },
          "metadata": {},
          "execution_count": 7
        }
      ]
    },
    {
      "cell_type": "code",
      "metadata": {
        "colab": {
          "base_uri": "https://localhost:8080/"
        },
        "id": "Fwe4XMbqCE0k",
        "outputId": "3f213092-0a66-469b-cc6d-e2126dbd9c3c"
      },
      "source": [
        "top['기후관측소기준'].unique()"
      ],
      "execution_count": null,
      "outputs": [
        {
          "output_type": "execute_result",
          "data": {
            "text/plain": [
              "array(['목포', '영광', '밀양', '합천', '제주', '서울', '산청', '영천', '고흥', '해남', '의성',\n",
              "       '추풍령', '부여', '부안', '문경', '대구', '서귀포', '고창', '전주', '의령군', '서산',\n",
              "       '군산', '장흥', '북창원', '영주', '안동', '여수', '광주', '강진군', '부산', '구미', '거창'],\n",
              "      dtype=object)"
            ]
          },
          "metadata": {},
          "execution_count": 8
        }
      ]
    },
    {
      "cell_type": "code",
      "metadata": {
        "id": "gXiAQCDwMWkY",
        "colab": {
          "base_uri": "https://localhost:8080/"
        },
        "outputId": "47990adc-1b7f-43d0-acd7-2af7055b7f4b"
      },
      "source": [
        "TOP39 = PA[PA['시군산지'].str.contains('무안|함평|창녕|신안|합천|제주|구리|함양|영천|고흥|해남|\\\n",
        "       |고령|의성|김천|논산|부안|문경|달성|군위|서귀포|고창|완주|\\\n",
        "       |의령|서산|익산|장흥|경산|밀양|창원의창|대구중구|영주|안동|\\\n",
        "       |여수|나주|광주서구|영암|연제|구미|거창')]\n",
        "idx_천안동남 = TOP39[TOP39['시군산지'] == '천안동남'].index\n",
        "TOP39.drop(idx_천안동남, inplace=True)"
      ],
      "execution_count": null,
      "outputs": [
        {
          "output_type": "stream",
          "name": "stderr",
          "text": [
            "/usr/local/lib/python3.7/dist-packages/pandas/core/frame.py:4174: SettingWithCopyWarning: \n",
            "A value is trying to be set on a copy of a slice from a DataFrame\n",
            "\n",
            "See the caveats in the documentation: https://pandas.pydata.org/pandas-docs/stable/user_guide/indexing.html#returning-a-view-versus-a-copy\n",
            "  errors=errors,\n"
          ]
        }
      ]
    },
    {
      "cell_type": "code",
      "metadata": {
        "colab": {
          "base_uri": "https://localhost:8080/"
        },
        "id": "EUUCKlswCNMi",
        "outputId": "adecb511-b387-4ac6-ed48-413cf6eb0029"
      },
      "source": [
        "TOP39['시군산지'].unique()"
      ],
      "execution_count": null,
      "outputs": [
        {
          "output_type": "execute_result",
          "data": {
            "text/plain": [
              "array(['영천', '의성', '고령', '구미', '군위', '안동', '문경', '영주', '김천', '경산', '합천',\n",
              "       '밀양', '창녕', '함양', '의령', '창원의창', '거창', '대구중구', '달성', '무안', '해남',\n",
              "       '함평', '신안', '영암', '나주', '고흥', '여수', '장흥', '광주서구', '고창', '완주', '익산',\n",
              "       '부안', '구리', '연제', '서산', '논산', '제주', '서귀포'], dtype=object)"
            ]
          },
          "metadata": {},
          "execution_count": 10
        }
      ]
    },
    {
      "cell_type": "code",
      "metadata": {
        "colab": {
          "base_uri": "https://localhost:8080/",
          "height": 203
        },
        "id": "l5r5tk63MwkO",
        "outputId": "5ae5b51b-758c-405f-ef4a-f0e5cbafb821"
      },
      "source": [
        "PAT = pd.merge(TOP39, top, on = ['시군산지'])\n",
        "PAT.head()"
      ],
      "execution_count": null,
      "outputs": [
        {
          "output_type": "execute_result",
          "data": {
            "text/html": [
              "<div>\n",
              "<style scoped>\n",
              "    .dataframe tbody tr th:only-of-type {\n",
              "        vertical-align: middle;\n",
              "    }\n",
              "\n",
              "    .dataframe tbody tr th {\n",
              "        vertical-align: top;\n",
              "    }\n",
              "\n",
              "    .dataframe thead th {\n",
              "        text-align: right;\n",
              "    }\n",
              "</style>\n",
              "<table border=\"1\" class=\"dataframe\">\n",
              "  <thead>\n",
              "    <tr style=\"text-align: right;\">\n",
              "      <th></th>\n",
              "      <th>품종</th>\n",
              "      <th>시장</th>\n",
              "      <th>법인</th>\n",
              "      <th>광역산지</th>\n",
              "      <th>시군산지</th>\n",
              "      <th>도매가격(원/kg)</th>\n",
              "      <th>연</th>\n",
              "      <th>월</th>\n",
              "      <th>재배면적</th>\n",
              "      <th>재배비율</th>\n",
              "      <th>생산량</th>\n",
              "      <th>기후관측소기준</th>\n",
              "    </tr>\n",
              "  </thead>\n",
              "  <tbody>\n",
              "    <tr>\n",
              "      <th>0</th>\n",
              "      <td>양파(일반)</td>\n",
              "      <td>대구북부도매</td>\n",
              "      <td>대양청과</td>\n",
              "      <td>경북</td>\n",
              "      <td>영천</td>\n",
              "      <td>793.00</td>\n",
              "      <td>21</td>\n",
              "      <td>10</td>\n",
              "      <td>2365</td>\n",
              "      <td>8098</td>\n",
              "      <td>191509</td>\n",
              "      <td>영천</td>\n",
              "    </tr>\n",
              "    <tr>\n",
              "      <th>1</th>\n",
              "      <td>양파(일반)</td>\n",
              "      <td>대구북부도매</td>\n",
              "      <td>효성청과</td>\n",
              "      <td>경북</td>\n",
              "      <td>영천</td>\n",
              "      <td>843.43</td>\n",
              "      <td>21</td>\n",
              "      <td>10</td>\n",
              "      <td>2365</td>\n",
              "      <td>8098</td>\n",
              "      <td>191509</td>\n",
              "      <td>영천</td>\n",
              "    </tr>\n",
              "    <tr>\n",
              "      <th>2</th>\n",
              "      <td>기타</td>\n",
              "      <td>포항도매</td>\n",
              "      <td>대구경북능금원협</td>\n",
              "      <td>경북</td>\n",
              "      <td>영천</td>\n",
              "      <td>725.00</td>\n",
              "      <td>21</td>\n",
              "      <td>10</td>\n",
              "      <td>2365</td>\n",
              "      <td>8098</td>\n",
              "      <td>191509</td>\n",
              "      <td>영천</td>\n",
              "    </tr>\n",
              "    <tr>\n",
              "      <th>3</th>\n",
              "      <td>양파(일반)</td>\n",
              "      <td>대구북부도매</td>\n",
              "      <td>대양청과</td>\n",
              "      <td>경북</td>\n",
              "      <td>영천</td>\n",
              "      <td>804.59</td>\n",
              "      <td>21</td>\n",
              "      <td>9</td>\n",
              "      <td>2365</td>\n",
              "      <td>8098</td>\n",
              "      <td>191509</td>\n",
              "      <td>영천</td>\n",
              "    </tr>\n",
              "    <tr>\n",
              "      <th>4</th>\n",
              "      <td>양파(일반)</td>\n",
              "      <td>대구북부도매</td>\n",
              "      <td>효성청과</td>\n",
              "      <td>경북</td>\n",
              "      <td>영천</td>\n",
              "      <td>890.58</td>\n",
              "      <td>21</td>\n",
              "      <td>9</td>\n",
              "      <td>2365</td>\n",
              "      <td>8098</td>\n",
              "      <td>191509</td>\n",
              "      <td>영천</td>\n",
              "    </tr>\n",
              "  </tbody>\n",
              "</table>\n",
              "</div>"
            ],
            "text/plain": [
              "       품종      시장        법인 광역산지 시군산지  ...   월  재배면적  재배비율     생산량  기후관측소기준\n",
              "0  양파(일반)  대구북부도매      대양청과   경북   영천  ...  10  2365  8098  191509       영천\n",
              "1  양파(일반)  대구북부도매      효성청과   경북   영천  ...  10  2365  8098  191509       영천\n",
              "2      기타    포항도매  대구경북능금원협   경북   영천  ...  10  2365  8098  191509       영천\n",
              "3  양파(일반)  대구북부도매      대양청과   경북   영천  ...   9  2365  8098  191509       영천\n",
              "4  양파(일반)  대구북부도매      효성청과   경북   영천  ...   9  2365  8098  191509       영천\n",
              "\n",
              "[5 rows x 12 columns]"
            ]
          },
          "metadata": {},
          "execution_count": 5
        }
      ]
    },
    {
      "cell_type": "code",
      "metadata": {
        "colab": {
          "base_uri": "https://localhost:8080/",
          "height": 203
        },
        "id": "RFEHtCzLM9MU",
        "outputId": "b7c6fd8e-1f55-4a4b-e395-f7ef34ccc34a"
      },
      "source": [
        "PAT.columns = ['kind', 'market', 'corp', 'wide', 'city', 'price', 'year', 'month', 'area', 'ratio', 'amount', 'weather']\n",
        "PAT.head()"
      ],
      "execution_count": null,
      "outputs": [
        {
          "output_type": "execute_result",
          "data": {
            "text/html": [
              "<div>\n",
              "<style scoped>\n",
              "    .dataframe tbody tr th:only-of-type {\n",
              "        vertical-align: middle;\n",
              "    }\n",
              "\n",
              "    .dataframe tbody tr th {\n",
              "        vertical-align: top;\n",
              "    }\n",
              "\n",
              "    .dataframe thead th {\n",
              "        text-align: right;\n",
              "    }\n",
              "</style>\n",
              "<table border=\"1\" class=\"dataframe\">\n",
              "  <thead>\n",
              "    <tr style=\"text-align: right;\">\n",
              "      <th></th>\n",
              "      <th>kind</th>\n",
              "      <th>market</th>\n",
              "      <th>corp</th>\n",
              "      <th>wide</th>\n",
              "      <th>city</th>\n",
              "      <th>price</th>\n",
              "      <th>year</th>\n",
              "      <th>month</th>\n",
              "      <th>area</th>\n",
              "      <th>ratio</th>\n",
              "      <th>amount</th>\n",
              "      <th>weather</th>\n",
              "    </tr>\n",
              "  </thead>\n",
              "  <tbody>\n",
              "    <tr>\n",
              "      <th>0</th>\n",
              "      <td>양파(일반)</td>\n",
              "      <td>대구북부도매</td>\n",
              "      <td>대양청과</td>\n",
              "      <td>경북</td>\n",
              "      <td>영천</td>\n",
              "      <td>793.00</td>\n",
              "      <td>21</td>\n",
              "      <td>10</td>\n",
              "      <td>2365</td>\n",
              "      <td>8098</td>\n",
              "      <td>191509</td>\n",
              "      <td>영천</td>\n",
              "    </tr>\n",
              "    <tr>\n",
              "      <th>1</th>\n",
              "      <td>양파(일반)</td>\n",
              "      <td>대구북부도매</td>\n",
              "      <td>효성청과</td>\n",
              "      <td>경북</td>\n",
              "      <td>영천</td>\n",
              "      <td>843.43</td>\n",
              "      <td>21</td>\n",
              "      <td>10</td>\n",
              "      <td>2365</td>\n",
              "      <td>8098</td>\n",
              "      <td>191509</td>\n",
              "      <td>영천</td>\n",
              "    </tr>\n",
              "    <tr>\n",
              "      <th>2</th>\n",
              "      <td>기타</td>\n",
              "      <td>포항도매</td>\n",
              "      <td>대구경북능금원협</td>\n",
              "      <td>경북</td>\n",
              "      <td>영천</td>\n",
              "      <td>725.00</td>\n",
              "      <td>21</td>\n",
              "      <td>10</td>\n",
              "      <td>2365</td>\n",
              "      <td>8098</td>\n",
              "      <td>191509</td>\n",
              "      <td>영천</td>\n",
              "    </tr>\n",
              "    <tr>\n",
              "      <th>3</th>\n",
              "      <td>양파(일반)</td>\n",
              "      <td>대구북부도매</td>\n",
              "      <td>대양청과</td>\n",
              "      <td>경북</td>\n",
              "      <td>영천</td>\n",
              "      <td>804.59</td>\n",
              "      <td>21</td>\n",
              "      <td>9</td>\n",
              "      <td>2365</td>\n",
              "      <td>8098</td>\n",
              "      <td>191509</td>\n",
              "      <td>영천</td>\n",
              "    </tr>\n",
              "    <tr>\n",
              "      <th>4</th>\n",
              "      <td>양파(일반)</td>\n",
              "      <td>대구북부도매</td>\n",
              "      <td>효성청과</td>\n",
              "      <td>경북</td>\n",
              "      <td>영천</td>\n",
              "      <td>890.58</td>\n",
              "      <td>21</td>\n",
              "      <td>9</td>\n",
              "      <td>2365</td>\n",
              "      <td>8098</td>\n",
              "      <td>191509</td>\n",
              "      <td>영천</td>\n",
              "    </tr>\n",
              "  </tbody>\n",
              "</table>\n",
              "</div>"
            ],
            "text/plain": [
              "     kind  market      corp wide city  ...  month  area  ratio  amount  weather\n",
              "0  양파(일반)  대구북부도매      대양청과   경북   영천  ...     10  2365   8098  191509       영천\n",
              "1  양파(일반)  대구북부도매      효성청과   경북   영천  ...     10  2365   8098  191509       영천\n",
              "2      기타    포항도매  대구경북능금원협   경북   영천  ...     10  2365   8098  191509       영천\n",
              "3  양파(일반)  대구북부도매      대양청과   경북   영천  ...      9  2365   8098  191509       영천\n",
              "4  양파(일반)  대구북부도매      효성청과   경북   영천  ...      9  2365   8098  191509       영천\n",
              "\n",
              "[5 rows x 12 columns]"
            ]
          },
          "metadata": {},
          "execution_count": 6
        }
      ]
    },
    {
      "cell_type": "code",
      "metadata": {
        "colab": {
          "base_uri": "https://localhost:8080/",
          "height": 417
        },
        "id": "zVh-B6rlDrEi",
        "outputId": "dfcca1fb-808e-4f4c-90d0-3638a49e8fc4"
      },
      "source": [
        "PAT[PAT['weather']=='영광']"
      ],
      "execution_count": null,
      "outputs": [
        {
          "output_type": "execute_result",
          "data": {
            "text/html": [
              "<div>\n",
              "<style scoped>\n",
              "    .dataframe tbody tr th:only-of-type {\n",
              "        vertical-align: middle;\n",
              "    }\n",
              "\n",
              "    .dataframe tbody tr th {\n",
              "        vertical-align: top;\n",
              "    }\n",
              "\n",
              "    .dataframe thead th {\n",
              "        text-align: right;\n",
              "    }\n",
              "</style>\n",
              "<table border=\"1\" class=\"dataframe\">\n",
              "  <thead>\n",
              "    <tr style=\"text-align: right;\">\n",
              "      <th></th>\n",
              "      <th>kind</th>\n",
              "      <th>market</th>\n",
              "      <th>corp</th>\n",
              "      <th>wide</th>\n",
              "      <th>city</th>\n",
              "      <th>price</th>\n",
              "      <th>year</th>\n",
              "      <th>month</th>\n",
              "      <th>area</th>\n",
              "      <th>ratio</th>\n",
              "      <th>amount</th>\n",
              "      <th>weather</th>\n",
              "    </tr>\n",
              "  </thead>\n",
              "  <tbody>\n",
              "    <tr>\n",
              "      <th>19307</th>\n",
              "      <td>저장양파</td>\n",
              "      <td>서울가락도매</td>\n",
              "      <td>한국청과</td>\n",
              "      <td>전남</td>\n",
              "      <td>함평</td>\n",
              "      <td>803.29</td>\n",
              "      <td>21</td>\n",
              "      <td>10</td>\n",
              "      <td>5743</td>\n",
              "      <td>7883</td>\n",
              "      <td>452737</td>\n",
              "      <td>영광</td>\n",
              "    </tr>\n",
              "    <tr>\n",
              "      <th>19308</th>\n",
              "      <td>저장양파</td>\n",
              "      <td>서울가락도매</td>\n",
              "      <td>동화청과</td>\n",
              "      <td>전남</td>\n",
              "      <td>함평</td>\n",
              "      <td>809.60</td>\n",
              "      <td>21</td>\n",
              "      <td>10</td>\n",
              "      <td>5743</td>\n",
              "      <td>7883</td>\n",
              "      <td>452737</td>\n",
              "      <td>영광</td>\n",
              "    </tr>\n",
              "    <tr>\n",
              "      <th>19309</th>\n",
              "      <td>만생양파</td>\n",
              "      <td>서울가락도매</td>\n",
              "      <td>서울청과</td>\n",
              "      <td>전남</td>\n",
              "      <td>함평</td>\n",
              "      <td>767.85</td>\n",
              "      <td>21</td>\n",
              "      <td>10</td>\n",
              "      <td>5743</td>\n",
              "      <td>7883</td>\n",
              "      <td>452737</td>\n",
              "      <td>영광</td>\n",
              "    </tr>\n",
              "    <tr>\n",
              "      <th>19310</th>\n",
              "      <td>만생양파</td>\n",
              "      <td>광주각화도매</td>\n",
              "      <td>광주중앙청과</td>\n",
              "      <td>전남</td>\n",
              "      <td>함평</td>\n",
              "      <td>812.74</td>\n",
              "      <td>21</td>\n",
              "      <td>10</td>\n",
              "      <td>5743</td>\n",
              "      <td>7883</td>\n",
              "      <td>452737</td>\n",
              "      <td>영광</td>\n",
              "    </tr>\n",
              "    <tr>\n",
              "      <th>19311</th>\n",
              "      <td>양파(일반)</td>\n",
              "      <td>서울강서도매</td>\n",
              "      <td>농협강서</td>\n",
              "      <td>전남</td>\n",
              "      <td>함평</td>\n",
              "      <td>1280.16</td>\n",
              "      <td>21</td>\n",
              "      <td>9</td>\n",
              "      <td>5743</td>\n",
              "      <td>7883</td>\n",
              "      <td>452737</td>\n",
              "      <td>영광</td>\n",
              "    </tr>\n",
              "    <tr>\n",
              "      <th>...</th>\n",
              "      <td>...</td>\n",
              "      <td>...</td>\n",
              "      <td>...</td>\n",
              "      <td>...</td>\n",
              "      <td>...</td>\n",
              "      <td>...</td>\n",
              "      <td>...</td>\n",
              "      <td>...</td>\n",
              "      <td>...</td>\n",
              "      <td>...</td>\n",
              "      <td>...</td>\n",
              "      <td>...</td>\n",
              "    </tr>\n",
              "    <tr>\n",
              "      <th>20998</th>\n",
              "      <td>저장양파</td>\n",
              "      <td>서울가락도매</td>\n",
              "      <td>동화청과</td>\n",
              "      <td>전남</td>\n",
              "      <td>함평</td>\n",
              "      <td>667.36</td>\n",
              "      <td>14</td>\n",
              "      <td>2</td>\n",
              "      <td>10124</td>\n",
              "      <td>5730</td>\n",
              "      <td>580151</td>\n",
              "      <td>영광</td>\n",
              "    </tr>\n",
              "    <tr>\n",
              "      <th>20999</th>\n",
              "      <td>기타</td>\n",
              "      <td>서울가락도매</td>\n",
              "      <td>중앙청과</td>\n",
              "      <td>전남</td>\n",
              "      <td>함평</td>\n",
              "      <td>646.19</td>\n",
              "      <td>14</td>\n",
              "      <td>1</td>\n",
              "      <td>10124</td>\n",
              "      <td>5730</td>\n",
              "      <td>580151</td>\n",
              "      <td>영광</td>\n",
              "    </tr>\n",
              "    <tr>\n",
              "      <th>21000</th>\n",
              "      <td>기타</td>\n",
              "      <td>서울강서도매</td>\n",
              "      <td>서부청과</td>\n",
              "      <td>전남</td>\n",
              "      <td>함평</td>\n",
              "      <td>718.19</td>\n",
              "      <td>14</td>\n",
              "      <td>1</td>\n",
              "      <td>10124</td>\n",
              "      <td>5730</td>\n",
              "      <td>580151</td>\n",
              "      <td>영광</td>\n",
              "    </tr>\n",
              "    <tr>\n",
              "      <th>21001</th>\n",
              "      <td>저장양파</td>\n",
              "      <td>서울가락도매</td>\n",
              "      <td>한국청과</td>\n",
              "      <td>전남</td>\n",
              "      <td>함평</td>\n",
              "      <td>718.82</td>\n",
              "      <td>14</td>\n",
              "      <td>1</td>\n",
              "      <td>10124</td>\n",
              "      <td>5730</td>\n",
              "      <td>580151</td>\n",
              "      <td>영광</td>\n",
              "    </tr>\n",
              "    <tr>\n",
              "      <th>21002</th>\n",
              "      <td>저장양파</td>\n",
              "      <td>서울가락도매</td>\n",
              "      <td>동화청과</td>\n",
              "      <td>전남</td>\n",
              "      <td>함평</td>\n",
              "      <td>721.26</td>\n",
              "      <td>14</td>\n",
              "      <td>1</td>\n",
              "      <td>10124</td>\n",
              "      <td>5730</td>\n",
              "      <td>580151</td>\n",
              "      <td>영광</td>\n",
              "    </tr>\n",
              "  </tbody>\n",
              "</table>\n",
              "<p>1696 rows × 12 columns</p>\n",
              "</div>"
            ],
            "text/plain": [
              "         kind  market    corp wide city  ...  month   area  ratio  amount  weather\n",
              "19307    저장양파  서울가락도매    한국청과   전남   함평  ...     10   5743   7883  452737       영광\n",
              "19308    저장양파  서울가락도매    동화청과   전남   함평  ...     10   5743   7883  452737       영광\n",
              "19309    만생양파  서울가락도매    서울청과   전남   함평  ...     10   5743   7883  452737       영광\n",
              "19310    만생양파  광주각화도매  광주중앙청과   전남   함평  ...     10   5743   7883  452737       영광\n",
              "19311  양파(일반)  서울강서도매    농협강서   전남   함평  ...      9   5743   7883  452737       영광\n",
              "...       ...     ...     ...  ...  ...  ...    ...    ...    ...     ...      ...\n",
              "20998    저장양파  서울가락도매    동화청과   전남   함평  ...      2  10124   5730  580151       영광\n",
              "20999      기타  서울가락도매    중앙청과   전남   함평  ...      1  10124   5730  580151       영광\n",
              "21000      기타  서울강서도매    서부청과   전남   함평  ...      1  10124   5730  580151       영광\n",
              "21001    저장양파  서울가락도매    한국청과   전남   함평  ...      1  10124   5730  580151       영광\n",
              "21002    저장양파  서울가락도매    동화청과   전남   함평  ...      1  10124   5730  580151       영광\n",
              "\n",
              "[1696 rows x 12 columns]"
            ]
          },
          "metadata": {},
          "execution_count": 13
        }
      ]
    },
    {
      "cell_type": "code",
      "metadata": {
        "colab": {
          "base_uri": "https://localhost:8080/"
        },
        "id": "5mOiVpgWNDOB",
        "outputId": "7e47a7c8-cc3a-4b53-9a36-ac93cfeeca7d"
      },
      "source": [
        "PAT.dtypes"
      ],
      "execution_count": null,
      "outputs": [
        {
          "output_type": "execute_result",
          "data": {
            "text/plain": [
              "kind        object\n",
              "market      object\n",
              "corp        object\n",
              "wide        object\n",
              "city        object\n",
              "price      float64\n",
              "year         int64\n",
              "month        int64\n",
              "area         int64\n",
              "ratio        int64\n",
              "amount       int64\n",
              "weather     object\n",
              "dtype: object"
            ]
          },
          "metadata": {},
          "execution_count": 14
        }
      ]
    },
    {
      "cell_type": "code",
      "metadata": {
        "id": "0hNaBxY6W7eC"
      },
      "source": [
        "from sklearn.preprocessing import LabelEncoder\n",
        "\n",
        "encoder1 = LabelEncoder()\n",
        "PAT['kind'] = encoder1.fit_transform(PAT.kind)"
      ],
      "execution_count": null,
      "outputs": []
    },
    {
      "cell_type": "code",
      "metadata": {
        "colab": {
          "base_uri": "https://localhost:8080/"
        },
        "id": "UL9swLOFcanm",
        "outputId": "200899ea-8efb-4e45-94e5-0e153a5e39f5"
      },
      "source": [
        "print(encoder1.classes_)"
      ],
      "execution_count": null,
      "outputs": [
        {
          "output_type": "stream",
          "name": "stdout",
          "text": [
            "['기타' '깐양파' '만생양파' '양파(수입)' '양파(일반)' '양파(임시)' '자주양파' '저장양파' '조생양파' '중만생양파'\n",
            " '중생양파']\n"
          ]
        }
      ]
    },
    {
      "cell_type": "code",
      "metadata": {
        "id": "oj8v2oyu73B9"
      },
      "source": [
        "encoder2 = LabelEncoder()\n",
        "PAT['market'] = encoder2.fit_transform(PAT.market)"
      ],
      "execution_count": null,
      "outputs": []
    },
    {
      "cell_type": "code",
      "metadata": {
        "id": "Y5mumR2176xo"
      },
      "source": [
        "encoder3 = LabelEncoder()\n",
        "PAT['corp'] = encoder3.fit_transform(PAT.corp)"
      ],
      "execution_count": null,
      "outputs": []
    },
    {
      "cell_type": "code",
      "metadata": {
        "id": "LjnV1lPM8DbR"
      },
      "source": [
        "encoder4 = LabelEncoder()\n",
        "PAT['wide'] = encoder4.fit_transform(PAT.wide)"
      ],
      "execution_count": null,
      "outputs": []
    },
    {
      "cell_type": "code",
      "metadata": {
        "id": "QKNw4-t58KlI"
      },
      "source": [
        "encoder5 = LabelEncoder()\n",
        "PAT['city'] = encoder5.fit_transform(PAT.city)"
      ],
      "execution_count": null,
      "outputs": []
    },
    {
      "cell_type": "code",
      "metadata": {
        "colab": {
          "base_uri": "https://localhost:8080/"
        },
        "id": "w2APgz3H4pIg",
        "outputId": "0afb81c7-82c4-4e2e-b0e6-0f99af7b0a11"
      },
      "source": [
        "print(encoder5.classes_)"
      ],
      "execution_count": null,
      "outputs": [
        {
          "output_type": "stream",
          "name": "stdout",
          "text": [
            "['거창' '경산' '고령' '고창' '고흥' '광주서구' '구리' '구미' '군위' '김천' '나주' '논산' '달성' '대구중구'\n",
            " '무안' '문경' '밀양' '부안' '서귀포' '서산' '신안' '안동' '여수' '연제' '영암' '영주' '영천' '완주'\n",
            " '의령' '의성' '익산' '장흥' '제주' '창녕' '창원의창' '함양' '함평' '합천' '해남']\n"
          ]
        }
      ]
    },
    {
      "cell_type": "code",
      "metadata": {
        "colab": {
          "base_uri": "https://localhost:8080/",
          "height": 203
        },
        "id": "nIecbSlxLw4G",
        "outputId": "2c130e0a-d7b6-4e7e-f02d-9602f1109330"
      },
      "source": [
        "inout.head()"
      ],
      "execution_count": null,
      "outputs": [
        {
          "output_type": "execute_result",
          "data": {
            "text/html": [
              "<div>\n",
              "<style scoped>\n",
              "    .dataframe tbody tr th:only-of-type {\n",
              "        vertical-align: middle;\n",
              "    }\n",
              "\n",
              "    .dataframe tbody tr th {\n",
              "        vertical-align: top;\n",
              "    }\n",
              "\n",
              "    .dataframe thead th {\n",
              "        text-align: right;\n",
              "    }\n",
              "</style>\n",
              "<table border=\"1\" class=\"dataframe\">\n",
              "  <thead>\n",
              "    <tr style=\"text-align: right;\">\n",
              "      <th></th>\n",
              "      <th>inn</th>\n",
              "      <th>out</th>\n",
              "      <th>year</th>\n",
              "      <th>month</th>\n",
              "    </tr>\n",
              "  </thead>\n",
              "  <tbody>\n",
              "    <tr>\n",
              "      <th>0</th>\n",
              "      <td>24407.001</td>\n",
              "      <td>1.000</td>\n",
              "      <td>17</td>\n",
              "      <td>1</td>\n",
              "    </tr>\n",
              "    <tr>\n",
              "      <th>1</th>\n",
              "      <td>1417.701</td>\n",
              "      <td>26.206</td>\n",
              "      <td>17</td>\n",
              "      <td>10</td>\n",
              "    </tr>\n",
              "    <tr>\n",
              "      <th>2</th>\n",
              "      <td>2110.050</td>\n",
              "      <td>10.300</td>\n",
              "      <td>17</td>\n",
              "      <td>11</td>\n",
              "    </tr>\n",
              "    <tr>\n",
              "      <th>3</th>\n",
              "      <td>2619.802</td>\n",
              "      <td>4.100</td>\n",
              "      <td>17</td>\n",
              "      <td>12</td>\n",
              "    </tr>\n",
              "    <tr>\n",
              "      <th>4</th>\n",
              "      <td>6681.080</td>\n",
              "      <td>0.305</td>\n",
              "      <td>17</td>\n",
              "      <td>2</td>\n",
              "    </tr>\n",
              "  </tbody>\n",
              "</table>\n",
              "</div>"
            ],
            "text/plain": [
              "         inn     out  year  month\n",
              "0  24407.001   1.000    17      1\n",
              "1   1417.701  26.206    17     10\n",
              "2   2110.050  10.300    17     11\n",
              "3   2619.802   4.100    17     12\n",
              "4   6681.080   0.305    17      2"
            ]
          },
          "metadata": {},
          "execution_count": 20
        }
      ]
    },
    {
      "cell_type": "code",
      "metadata": {
        "colab": {
          "base_uri": "https://localhost:8080/",
          "height": 203
        },
        "id": "bdjyxiQ-Na4E",
        "outputId": "ae31abf2-6819-4d18-da98-8acf890c3506"
      },
      "source": [
        "PATI = pd.merge(PAT, inout, on = ['year', 'month'])\n",
        "PATI.head()"
      ],
      "execution_count": null,
      "outputs": [
        {
          "output_type": "execute_result",
          "data": {
            "text/html": [
              "<div>\n",
              "<style scoped>\n",
              "    .dataframe tbody tr th:only-of-type {\n",
              "        vertical-align: middle;\n",
              "    }\n",
              "\n",
              "    .dataframe tbody tr th {\n",
              "        vertical-align: top;\n",
              "    }\n",
              "\n",
              "    .dataframe thead th {\n",
              "        text-align: right;\n",
              "    }\n",
              "</style>\n",
              "<table border=\"1\" class=\"dataframe\">\n",
              "  <thead>\n",
              "    <tr style=\"text-align: right;\">\n",
              "      <th></th>\n",
              "      <th>kind</th>\n",
              "      <th>market</th>\n",
              "      <th>corp</th>\n",
              "      <th>wide</th>\n",
              "      <th>city</th>\n",
              "      <th>price</th>\n",
              "      <th>year</th>\n",
              "      <th>month</th>\n",
              "      <th>area</th>\n",
              "      <th>ratio</th>\n",
              "      <th>amount</th>\n",
              "      <th>weather</th>\n",
              "      <th>inn</th>\n",
              "      <th>out</th>\n",
              "    </tr>\n",
              "  </thead>\n",
              "  <tbody>\n",
              "    <tr>\n",
              "      <th>0</th>\n",
              "      <td>4</td>\n",
              "      <td>5</td>\n",
              "      <td>23</td>\n",
              "      <td>2</td>\n",
              "      <td>26</td>\n",
              "      <td>793.00</td>\n",
              "      <td>21</td>\n",
              "      <td>10</td>\n",
              "      <td>2365</td>\n",
              "      <td>8098</td>\n",
              "      <td>191509</td>\n",
              "      <td>영천</td>\n",
              "      <td>5213.902</td>\n",
              "      <td>7.88</td>\n",
              "    </tr>\n",
              "    <tr>\n",
              "      <th>1</th>\n",
              "      <td>4</td>\n",
              "      <td>5</td>\n",
              "      <td>79</td>\n",
              "      <td>2</td>\n",
              "      <td>26</td>\n",
              "      <td>843.43</td>\n",
              "      <td>21</td>\n",
              "      <td>10</td>\n",
              "      <td>2365</td>\n",
              "      <td>8098</td>\n",
              "      <td>191509</td>\n",
              "      <td>영천</td>\n",
              "      <td>5213.902</td>\n",
              "      <td>7.88</td>\n",
              "    </tr>\n",
              "    <tr>\n",
              "      <th>2</th>\n",
              "      <td>0</td>\n",
              "      <td>31</td>\n",
              "      <td>20</td>\n",
              "      <td>2</td>\n",
              "      <td>26</td>\n",
              "      <td>725.00</td>\n",
              "      <td>21</td>\n",
              "      <td>10</td>\n",
              "      <td>2365</td>\n",
              "      <td>8098</td>\n",
              "      <td>191509</td>\n",
              "      <td>영천</td>\n",
              "      <td>5213.902</td>\n",
              "      <td>7.88</td>\n",
              "    </tr>\n",
              "    <tr>\n",
              "      <th>3</th>\n",
              "      <td>4</td>\n",
              "      <td>5</td>\n",
              "      <td>79</td>\n",
              "      <td>2</td>\n",
              "      <td>29</td>\n",
              "      <td>803.03</td>\n",
              "      <td>21</td>\n",
              "      <td>10</td>\n",
              "      <td>2365</td>\n",
              "      <td>8098</td>\n",
              "      <td>191509</td>\n",
              "      <td>의성</td>\n",
              "      <td>5213.902</td>\n",
              "      <td>7.88</td>\n",
              "    </tr>\n",
              "    <tr>\n",
              "      <th>4</th>\n",
              "      <td>4</td>\n",
              "      <td>9</td>\n",
              "      <td>34</td>\n",
              "      <td>2</td>\n",
              "      <td>29</td>\n",
              "      <td>785.80</td>\n",
              "      <td>21</td>\n",
              "      <td>10</td>\n",
              "      <td>2365</td>\n",
              "      <td>8098</td>\n",
              "      <td>191509</td>\n",
              "      <td>의성</td>\n",
              "      <td>5213.902</td>\n",
              "      <td>7.88</td>\n",
              "    </tr>\n",
              "  </tbody>\n",
              "</table>\n",
              "</div>"
            ],
            "text/plain": [
              "   kind  market  corp  wide  city  ...  ratio  amount  weather       inn   out\n",
              "0     4       5    23     2    26  ...   8098  191509       영천  5213.902  7.88\n",
              "1     4       5    79     2    26  ...   8098  191509       영천  5213.902  7.88\n",
              "2     0      31    20     2    26  ...   8098  191509       영천  5213.902  7.88\n",
              "3     4       5    79     2    29  ...   8098  191509       의성  5213.902  7.88\n",
              "4     4       9    34     2    29  ...   8098  191509       의성  5213.902  7.88\n",
              "\n",
              "[5 rows x 14 columns]"
            ]
          },
          "metadata": {},
          "execution_count": 21
        }
      ]
    },
    {
      "cell_type": "code",
      "metadata": {
        "colab": {
          "base_uri": "https://localhost:8080/",
          "height": 417
        },
        "id": "9A_KPLMuD101",
        "outputId": "b7d4ffab-04ac-4ba3-96b6-254c2f041b89"
      },
      "source": [
        "PATI[PATI['weather'] == '영광']"
      ],
      "execution_count": null,
      "outputs": [
        {
          "output_type": "execute_result",
          "data": {
            "text/html": [
              "<div>\n",
              "<style scoped>\n",
              "    .dataframe tbody tr th:only-of-type {\n",
              "        vertical-align: middle;\n",
              "    }\n",
              "\n",
              "    .dataframe tbody tr th {\n",
              "        vertical-align: top;\n",
              "    }\n",
              "\n",
              "    .dataframe thead th {\n",
              "        text-align: right;\n",
              "    }\n",
              "</style>\n",
              "<table border=\"1\" class=\"dataframe\">\n",
              "  <thead>\n",
              "    <tr style=\"text-align: right;\">\n",
              "      <th></th>\n",
              "      <th>kind</th>\n",
              "      <th>market</th>\n",
              "      <th>corp</th>\n",
              "      <th>wide</th>\n",
              "      <th>city</th>\n",
              "      <th>price</th>\n",
              "      <th>year</th>\n",
              "      <th>month</th>\n",
              "      <th>area</th>\n",
              "      <th>ratio</th>\n",
              "      <th>amount</th>\n",
              "      <th>weather</th>\n",
              "      <th>inn</th>\n",
              "      <th>out</th>\n",
              "    </tr>\n",
              "  </thead>\n",
              "  <tbody>\n",
              "    <tr>\n",
              "      <th>94</th>\n",
              "      <td>7</td>\n",
              "      <td>10</td>\n",
              "      <td>75</td>\n",
              "      <td>6</td>\n",
              "      <td>36</td>\n",
              "      <td>803.29</td>\n",
              "      <td>21</td>\n",
              "      <td>10</td>\n",
              "      <td>5743</td>\n",
              "      <td>7883</td>\n",
              "      <td>452737</td>\n",
              "      <td>영광</td>\n",
              "      <td>5213.902</td>\n",
              "      <td>7.88</td>\n",
              "    </tr>\n",
              "    <tr>\n",
              "      <th>95</th>\n",
              "      <td>7</td>\n",
              "      <td>10</td>\n",
              "      <td>30</td>\n",
              "      <td>6</td>\n",
              "      <td>36</td>\n",
              "      <td>809.60</td>\n",
              "      <td>21</td>\n",
              "      <td>10</td>\n",
              "      <td>5743</td>\n",
              "      <td>7883</td>\n",
              "      <td>452737</td>\n",
              "      <td>영광</td>\n",
              "      <td>5213.902</td>\n",
              "      <td>7.88</td>\n",
              "    </tr>\n",
              "    <tr>\n",
              "      <th>96</th>\n",
              "      <td>2</td>\n",
              "      <td>10</td>\n",
              "      <td>37</td>\n",
              "      <td>6</td>\n",
              "      <td>36</td>\n",
              "      <td>767.85</td>\n",
              "      <td>21</td>\n",
              "      <td>10</td>\n",
              "      <td>5743</td>\n",
              "      <td>7883</td>\n",
              "      <td>452737</td>\n",
              "      <td>영광</td>\n",
              "      <td>5213.902</td>\n",
              "      <td>7.88</td>\n",
              "    </tr>\n",
              "    <tr>\n",
              "      <th>97</th>\n",
              "      <td>2</td>\n",
              "      <td>1</td>\n",
              "      <td>5</td>\n",
              "      <td>6</td>\n",
              "      <td>36</td>\n",
              "      <td>812.74</td>\n",
              "      <td>21</td>\n",
              "      <td>10</td>\n",
              "      <td>5743</td>\n",
              "      <td>7883</td>\n",
              "      <td>452737</td>\n",
              "      <td>영광</td>\n",
              "      <td>5213.902</td>\n",
              "      <td>7.88</td>\n",
              "    </tr>\n",
              "    <tr>\n",
              "      <th>450</th>\n",
              "      <td>4</td>\n",
              "      <td>11</td>\n",
              "      <td>11</td>\n",
              "      <td>6</td>\n",
              "      <td>36</td>\n",
              "      <td>1280.16</td>\n",
              "      <td>21</td>\n",
              "      <td>9</td>\n",
              "      <td>5743</td>\n",
              "      <td>7883</td>\n",
              "      <td>452737</td>\n",
              "      <td>영광</td>\n",
              "      <td>3378.003</td>\n",
              "      <td>2.20</td>\n",
              "    </tr>\n",
              "    <tr>\n",
              "      <th>...</th>\n",
              "      <td>...</td>\n",
              "      <td>...</td>\n",
              "      <td>...</td>\n",
              "      <td>...</td>\n",
              "      <td>...</td>\n",
              "      <td>...</td>\n",
              "      <td>...</td>\n",
              "      <td>...</td>\n",
              "      <td>...</td>\n",
              "      <td>...</td>\n",
              "      <td>...</td>\n",
              "      <td>...</td>\n",
              "      <td>...</td>\n",
              "      <td>...</td>\n",
              "    </tr>\n",
              "    <tr>\n",
              "      <th>25101</th>\n",
              "      <td>2</td>\n",
              "      <td>10</td>\n",
              "      <td>75</td>\n",
              "      <td>6</td>\n",
              "      <td>36</td>\n",
              "      <td>1062.24</td>\n",
              "      <td>17</td>\n",
              "      <td>1</td>\n",
              "      <td>9521</td>\n",
              "      <td>5981</td>\n",
              "      <td>569472</td>\n",
              "      <td>영광</td>\n",
              "      <td>24407.001</td>\n",
              "      <td>1.00</td>\n",
              "    </tr>\n",
              "    <tr>\n",
              "      <th>25102</th>\n",
              "      <td>6</td>\n",
              "      <td>10</td>\n",
              "      <td>75</td>\n",
              "      <td>6</td>\n",
              "      <td>36</td>\n",
              "      <td>448.81</td>\n",
              "      <td>17</td>\n",
              "      <td>1</td>\n",
              "      <td>9521</td>\n",
              "      <td>5981</td>\n",
              "      <td>569472</td>\n",
              "      <td>영광</td>\n",
              "      <td>24407.001</td>\n",
              "      <td>1.00</td>\n",
              "    </tr>\n",
              "    <tr>\n",
              "      <th>25103</th>\n",
              "      <td>6</td>\n",
              "      <td>10</td>\n",
              "      <td>60</td>\n",
              "      <td>6</td>\n",
              "      <td>36</td>\n",
              "      <td>567.96</td>\n",
              "      <td>17</td>\n",
              "      <td>1</td>\n",
              "      <td>9521</td>\n",
              "      <td>5981</td>\n",
              "      <td>569472</td>\n",
              "      <td>영광</td>\n",
              "      <td>24407.001</td>\n",
              "      <td>1.00</td>\n",
              "    </tr>\n",
              "    <tr>\n",
              "      <th>25104</th>\n",
              "      <td>6</td>\n",
              "      <td>10</td>\n",
              "      <td>30</td>\n",
              "      <td>6</td>\n",
              "      <td>36</td>\n",
              "      <td>576.23</td>\n",
              "      <td>17</td>\n",
              "      <td>1</td>\n",
              "      <td>9521</td>\n",
              "      <td>5981</td>\n",
              "      <td>569472</td>\n",
              "      <td>영광</td>\n",
              "      <td>24407.001</td>\n",
              "      <td>1.00</td>\n",
              "    </tr>\n",
              "    <tr>\n",
              "      <th>25105</th>\n",
              "      <td>6</td>\n",
              "      <td>11</td>\n",
              "      <td>36</td>\n",
              "      <td>6</td>\n",
              "      <td>36</td>\n",
              "      <td>546.50</td>\n",
              "      <td>17</td>\n",
              "      <td>1</td>\n",
              "      <td>9521</td>\n",
              "      <td>5981</td>\n",
              "      <td>569472</td>\n",
              "      <td>영광</td>\n",
              "      <td>24407.001</td>\n",
              "      <td>1.00</td>\n",
              "    </tr>\n",
              "  </tbody>\n",
              "</table>\n",
              "<p>1335 rows × 14 columns</p>\n",
              "</div>"
            ],
            "text/plain": [
              "       kind  market  corp  wide  city  ...  ratio  amount  weather        inn   out\n",
              "94        7      10    75     6    36  ...   7883  452737       영광   5213.902  7.88\n",
              "95        7      10    30     6    36  ...   7883  452737       영광   5213.902  7.88\n",
              "96        2      10    37     6    36  ...   7883  452737       영광   5213.902  7.88\n",
              "97        2       1     5     6    36  ...   7883  452737       영광   5213.902  7.88\n",
              "450       4      11    11     6    36  ...   7883  452737       영광   3378.003  2.20\n",
              "...     ...     ...   ...   ...   ...  ...    ...     ...      ...        ...   ...\n",
              "25101     2      10    75     6    36  ...   5981  569472       영광  24407.001  1.00\n",
              "25102     6      10    75     6    36  ...   5981  569472       영광  24407.001  1.00\n",
              "25103     6      10    60     6    36  ...   5981  569472       영광  24407.001  1.00\n",
              "25104     6      10    30     6    36  ...   5981  569472       영광  24407.001  1.00\n",
              "25105     6      11    36     6    36  ...   5981  569472       영광  24407.001  1.00\n",
              "\n",
              "[1335 rows x 14 columns]"
            ]
          },
          "metadata": {},
          "execution_count": 22
        }
      ]
    },
    {
      "cell_type": "code",
      "metadata": {
        "id": "TFvNV6MUHka0"
      },
      "source": [
        "weather = pd.read_csv('/content/drive/MyDrive/Colab Notebooks/2nd project/weather2.csv')"
      ],
      "execution_count": null,
      "outputs": []
    },
    {
      "cell_type": "code",
      "metadata": {
        "colab": {
          "base_uri": "https://localhost:8080/",
          "height": 223
        },
        "id": "-OWWnyFwLyuV",
        "outputId": "1c75a8a3-f1cb-4e4d-dcf7-b594df876886"
      },
      "source": [
        "weather.head()"
      ],
      "execution_count": null,
      "outputs": [
        {
          "output_type": "execute_result",
          "data": {
            "text/html": [
              "<div>\n",
              "<style scoped>\n",
              "    .dataframe tbody tr th:only-of-type {\n",
              "        vertical-align: middle;\n",
              "    }\n",
              "\n",
              "    .dataframe tbody tr th {\n",
              "        vertical-align: top;\n",
              "    }\n",
              "\n",
              "    .dataframe thead th {\n",
              "        text-align: right;\n",
              "    }\n",
              "</style>\n",
              "<table border=\"1\" class=\"dataframe\">\n",
              "  <thead>\n",
              "    <tr style=\"text-align: right;\">\n",
              "      <th></th>\n",
              "      <th>weather</th>\n",
              "      <th>AT_1</th>\n",
              "      <th>AT_2</th>\n",
              "      <th>AT_3</th>\n",
              "      <th>AT_4</th>\n",
              "      <th>AT_5</th>\n",
              "      <th>AT_6</th>\n",
              "      <th>AT_7</th>\n",
              "      <th>AT_8</th>\n",
              "      <th>AT_9</th>\n",
              "      <th>AT_10</th>\n",
              "      <th>AT_11</th>\n",
              "      <th>AT_12</th>\n",
              "      <th>HT_1</th>\n",
              "      <th>HT_2</th>\n",
              "      <th>HT_3</th>\n",
              "      <th>HT_4</th>\n",
              "      <th>HT_5</th>\n",
              "      <th>HT_6</th>\n",
              "      <th>HT_7</th>\n",
              "      <th>HT_8</th>\n",
              "      <th>HT_9</th>\n",
              "      <th>HT_10</th>\n",
              "      <th>HT_11</th>\n",
              "      <th>HT_12</th>\n",
              "      <th>LT_1</th>\n",
              "      <th>LT_2</th>\n",
              "      <th>LT_3</th>\n",
              "      <th>LT_4</th>\n",
              "      <th>LT_5</th>\n",
              "      <th>LT_6</th>\n",
              "      <th>LT_7</th>\n",
              "      <th>LT_8</th>\n",
              "      <th>LT_9</th>\n",
              "      <th>LT_10</th>\n",
              "      <th>LT_11</th>\n",
              "      <th>LT_12</th>\n",
              "      <th>RAIN_1</th>\n",
              "      <th>RAIN_2</th>\n",
              "      <th>RAIN_3</th>\n",
              "      <th>RAIN_4</th>\n",
              "      <th>RAIN_5</th>\n",
              "      <th>RAIN_6</th>\n",
              "      <th>RAIN_7</th>\n",
              "      <th>RAIN_8</th>\n",
              "      <th>RAIN_9</th>\n",
              "      <th>RAIN_10</th>\n",
              "      <th>RAIN_11</th>\n",
              "      <th>RAIN_12</th>\n",
              "      <th>SUN_1</th>\n",
              "      <th>SUN_2</th>\n",
              "      <th>SUN_3</th>\n",
              "      <th>SUN_4</th>\n",
              "      <th>SUN_5</th>\n",
              "      <th>SUN_6</th>\n",
              "      <th>SUN_7</th>\n",
              "      <th>SUN_8</th>\n",
              "      <th>SUN_9</th>\n",
              "      <th>SUN_10</th>\n",
              "      <th>SUN_11</th>\n",
              "      <th>SUN_12</th>\n",
              "      <th>year</th>\n",
              "    </tr>\n",
              "  </thead>\n",
              "  <tbody>\n",
              "    <tr>\n",
              "      <th>0</th>\n",
              "      <td>강릉</td>\n",
              "      <td>-0.1</td>\n",
              "      <td>0.4</td>\n",
              "      <td>5.7</td>\n",
              "      <td>13.3</td>\n",
              "      <td>17.6</td>\n",
              "      <td>20.6</td>\n",
              "      <td>25.3</td>\n",
              "      <td>25.1</td>\n",
              "      <td>20.2</td>\n",
              "      <td>15.8</td>\n",
              "      <td>7.8</td>\n",
              "      <td>-0.1</td>\n",
              "      <td>4.1</td>\n",
              "      <td>5.1</td>\n",
              "      <td>9.6</td>\n",
              "      <td>18.3</td>\n",
              "      <td>21.9</td>\n",
              "      <td>24.1</td>\n",
              "      <td>28.9</td>\n",
              "      <td>28.4</td>\n",
              "      <td>24.1</td>\n",
              "      <td>20.8</td>\n",
              "      <td>12.3</td>\n",
              "      <td>4.4</td>\n",
              "      <td>-3.2</td>\n",
              "      <td>-3.8</td>\n",
              "      <td>1.9</td>\n",
              "      <td>8.6</td>\n",
              "      <td>13.6</td>\n",
              "      <td>17.5</td>\n",
              "      <td>22.1</td>\n",
              "      <td>22.3</td>\n",
              "      <td>16.9</td>\n",
              "      <td>11.4</td>\n",
              "      <td>4.0</td>\n",
              "      <td>-3.8</td>\n",
              "      <td>39.0</td>\n",
              "      <td>23.1</td>\n",
              "      <td>126.7</td>\n",
              "      <td>126.5</td>\n",
              "      <td>52.7</td>\n",
              "      <td>26.8</td>\n",
              "      <td>261.2</td>\n",
              "      <td>295.3</td>\n",
              "      <td>290.7</td>\n",
              "      <td>10.6</td>\n",
              "      <td>25.6</td>\n",
              "      <td>43.2</td>\n",
              "      <td>196.6</td>\n",
              "      <td>208.4</td>\n",
              "      <td>180.2</td>\n",
              "      <td>211.1</td>\n",
              "      <td>219.3</td>\n",
              "      <td>121.2</td>\n",
              "      <td>182.7</td>\n",
              "      <td>91.5</td>\n",
              "      <td>176.7</td>\n",
              "      <td>232.3</td>\n",
              "      <td>203.6</td>\n",
              "      <td>194.9</td>\n",
              "      <td>13</td>\n",
              "    </tr>\n",
              "    <tr>\n",
              "      <th>1</th>\n",
              "      <td>강릉</td>\n",
              "      <td>-0.5</td>\n",
              "      <td>1.8</td>\n",
              "      <td>7.4</td>\n",
              "      <td>10.8</td>\n",
              "      <td>18.1</td>\n",
              "      <td>21.5</td>\n",
              "      <td>27.0</td>\n",
              "      <td>28.5</td>\n",
              "      <td>20.8</td>\n",
              "      <td>15.8</td>\n",
              "      <td>8.8</td>\n",
              "      <td>3.1</td>\n",
              "      <td>4.0</td>\n",
              "      <td>6.7</td>\n",
              "      <td>12.2</td>\n",
              "      <td>15.3</td>\n",
              "      <td>23.1</td>\n",
              "      <td>25.0</td>\n",
              "      <td>30.7</td>\n",
              "      <td>32.5</td>\n",
              "      <td>24.6</td>\n",
              "      <td>20.4</td>\n",
              "      <td>13.1</td>\n",
              "      <td>7.2</td>\n",
              "      <td>-4.3</td>\n",
              "      <td>-2.5</td>\n",
              "      <td>2.7</td>\n",
              "      <td>6.1</td>\n",
              "      <td>13.6</td>\n",
              "      <td>18.4</td>\n",
              "      <td>23.9</td>\n",
              "      <td>25.3</td>\n",
              "      <td>17.7</td>\n",
              "      <td>11.9</td>\n",
              "      <td>4.8</td>\n",
              "      <td>-0.3</td>\n",
              "      <td>54.6</td>\n",
              "      <td>13.6</td>\n",
              "      <td>81.8</td>\n",
              "      <td>58.0</td>\n",
              "      <td>78.7</td>\n",
              "      <td>36.0</td>\n",
              "      <td>241.9</td>\n",
              "      <td>54.6</td>\n",
              "      <td>135.5</td>\n",
              "      <td>130.8</td>\n",
              "      <td>9.8</td>\n",
              "      <td>26.4</td>\n",
              "      <td>194.3</td>\n",
              "      <td>203.0</td>\n",
              "      <td>238.7</td>\n",
              "      <td>229.7</td>\n",
              "      <td>244.4</td>\n",
              "      <td>173.6</td>\n",
              "      <td>166.0</td>\n",
              "      <td>240.5</td>\n",
              "      <td>142.8</td>\n",
              "      <td>193.5</td>\n",
              "      <td>214.3</td>\n",
              "      <td>197.9</td>\n",
              "      <td>14</td>\n",
              "    </tr>\n",
              "    <tr>\n",
              "      <th>2</th>\n",
              "      <td>강릉</td>\n",
              "      <td>2.3</td>\n",
              "      <td>1.3</td>\n",
              "      <td>8.3</td>\n",
              "      <td>14.1</td>\n",
              "      <td>20.0</td>\n",
              "      <td>20.9</td>\n",
              "      <td>26.1</td>\n",
              "      <td>23.7</td>\n",
              "      <td>20.9</td>\n",
              "      <td>15.9</td>\n",
              "      <td>10.5</td>\n",
              "      <td>1.1</td>\n",
              "      <td>6.4</td>\n",
              "      <td>5.3</td>\n",
              "      <td>12.7</td>\n",
              "      <td>18.7</td>\n",
              "      <td>24.8</td>\n",
              "      <td>24.3</td>\n",
              "      <td>30.1</td>\n",
              "      <td>26.7</td>\n",
              "      <td>25.1</td>\n",
              "      <td>20.6</td>\n",
              "      <td>14.5</td>\n",
              "      <td>5.6</td>\n",
              "      <td>-2.0</td>\n",
              "      <td>-1.8</td>\n",
              "      <td>3.6</td>\n",
              "      <td>9.5</td>\n",
              "      <td>14.9</td>\n",
              "      <td>17.9</td>\n",
              "      <td>22.5</td>\n",
              "      <td>20.9</td>\n",
              "      <td>17.4</td>\n",
              "      <td>11.8</td>\n",
              "      <td>6.8</td>\n",
              "      <td>-3.2</td>\n",
              "      <td>45.6</td>\n",
              "      <td>169.4</td>\n",
              "      <td>55.3</td>\n",
              "      <td>189.3</td>\n",
              "      <td>9.9</td>\n",
              "      <td>55.7</td>\n",
              "      <td>109.5</td>\n",
              "      <td>336.9</td>\n",
              "      <td>212.1</td>\n",
              "      <td>120.2</td>\n",
              "      <td>84.5</td>\n",
              "      <td>0.4</td>\n",
              "      <td>183.3</td>\n",
              "      <td>107.9</td>\n",
              "      <td>192.9</td>\n",
              "      <td>190.7</td>\n",
              "      <td>259.0</td>\n",
              "      <td>122.5</td>\n",
              "      <td>220.7</td>\n",
              "      <td>123.9</td>\n",
              "      <td>189.9</td>\n",
              "      <td>206.1</td>\n",
              "      <td>173.5</td>\n",
              "      <td>227.9</td>\n",
              "      <td>15</td>\n",
              "    </tr>\n",
              "    <tr>\n",
              "      <th>3</th>\n",
              "      <td>강릉</td>\n",
              "      <td>2.2</td>\n",
              "      <td>3.1</td>\n",
              "      <td>8.2</td>\n",
              "      <td>12.1</td>\n",
              "      <td>20.0</td>\n",
              "      <td>21.0</td>\n",
              "      <td>23.8</td>\n",
              "      <td>25.8</td>\n",
              "      <td>20.2</td>\n",
              "      <td>16.0</td>\n",
              "      <td>9.9</td>\n",
              "      <td>4.9</td>\n",
              "      <td>6.4</td>\n",
              "      <td>7.4</td>\n",
              "      <td>13.4</td>\n",
              "      <td>16.7</td>\n",
              "      <td>25.1</td>\n",
              "      <td>25.1</td>\n",
              "      <td>27.2</td>\n",
              "      <td>29.7</td>\n",
              "      <td>24.4</td>\n",
              "      <td>21.0</td>\n",
              "      <td>12.9</td>\n",
              "      <td>8.9</td>\n",
              "      <td>-1.5</td>\n",
              "      <td>-0.6</td>\n",
              "      <td>2.9</td>\n",
              "      <td>7.5</td>\n",
              "      <td>14.8</td>\n",
              "      <td>17.2</td>\n",
              "      <td>20.7</td>\n",
              "      <td>22.4</td>\n",
              "      <td>16.6</td>\n",
              "      <td>11.5</td>\n",
              "      <td>7.2</td>\n",
              "      <td>1.6</td>\n",
              "      <td>20.4</td>\n",
              "      <td>13.1</td>\n",
              "      <td>22.1</td>\n",
              "      <td>76.8</td>\n",
              "      <td>3.1</td>\n",
              "      <td>175.0</td>\n",
              "      <td>62.9</td>\n",
              "      <td>224.8</td>\n",
              "      <td>70.0</td>\n",
              "      <td>21.0</td>\n",
              "      <td>348.9</td>\n",
              "      <td>9.3</td>\n",
              "      <td>185.5</td>\n",
              "      <td>186.3</td>\n",
              "      <td>277.1</td>\n",
              "      <td>188.8</td>\n",
              "      <td>288.3</td>\n",
              "      <td>184.0</td>\n",
              "      <td>173.7</td>\n",
              "      <td>235.7</td>\n",
              "      <td>206.3</td>\n",
              "      <td>255.4</td>\n",
              "      <td>97.7</td>\n",
              "      <td>174.2</td>\n",
              "      <td>16</td>\n",
              "    </tr>\n",
              "    <tr>\n",
              "      <th>4</th>\n",
              "      <td>강릉</td>\n",
              "      <td>0.4</td>\n",
              "      <td>1.9</td>\n",
              "      <td>7.9</td>\n",
              "      <td>14.1</td>\n",
              "      <td>19.3</td>\n",
              "      <td>21.9</td>\n",
              "      <td>24.1</td>\n",
              "      <td>25.8</td>\n",
              "      <td>20.6</td>\n",
              "      <td>15.6</td>\n",
              "      <td>9.1</td>\n",
              "      <td>5.0</td>\n",
              "      <td>4.7</td>\n",
              "      <td>6.0</td>\n",
              "      <td>12.4</td>\n",
              "      <td>19.3</td>\n",
              "      <td>24.9</td>\n",
              "      <td>25.9</td>\n",
              "      <td>27.6</td>\n",
              "      <td>29.8</td>\n",
              "      <td>24.3</td>\n",
              "      <td>19.8</td>\n",
              "      <td>13.6</td>\n",
              "      <td>9.2</td>\n",
              "      <td>-3.1</td>\n",
              "      <td>-1.6</td>\n",
              "      <td>3.7</td>\n",
              "      <td>9.2</td>\n",
              "      <td>14.2</td>\n",
              "      <td>18.3</td>\n",
              "      <td>21.2</td>\n",
              "      <td>22.2</td>\n",
              "      <td>17.6</td>\n",
              "      <td>12.2</td>\n",
              "      <td>4.7</td>\n",
              "      <td>1.2</td>\n",
              "      <td>27.4</td>\n",
              "      <td>48.5</td>\n",
              "      <td>29.3</td>\n",
              "      <td>73.0</td>\n",
              "      <td>33.6</td>\n",
              "      <td>40.7</td>\n",
              "      <td>424.2</td>\n",
              "      <td>282.6</td>\n",
              "      <td>104.8</td>\n",
              "      <td>78.1</td>\n",
              "      <td>33.5</td>\n",
              "      <td>82.5</td>\n",
              "      <td>232.8</td>\n",
              "      <td>213.9</td>\n",
              "      <td>207.0</td>\n",
              "      <td>237.6</td>\n",
              "      <td>285.9</td>\n",
              "      <td>205.1</td>\n",
              "      <td>141.2</td>\n",
              "      <td>235.5</td>\n",
              "      <td>125.4</td>\n",
              "      <td>151.3</td>\n",
              "      <td>189.8</td>\n",
              "      <td>183.9</td>\n",
              "      <td>17</td>\n",
              "    </tr>\n",
              "  </tbody>\n",
              "</table>\n",
              "</div>"
            ],
            "text/plain": [
              "  weather  AT_1  AT_2  AT_3  AT_4  ...  SUN_9  SUN_10  SUN_11  SUN_12  year\n",
              "0      강릉  -0.1   0.4   5.7  13.3  ...  176.7   232.3   203.6   194.9    13\n",
              "1      강릉  -0.5   1.8   7.4  10.8  ...  142.8   193.5   214.3   197.9    14\n",
              "2      강릉   2.3   1.3   8.3  14.1  ...  189.9   206.1   173.5   227.9    15\n",
              "3      강릉   2.2   3.1   8.2  12.1  ...  206.3   255.4    97.7   174.2    16\n",
              "4      강릉   0.4   1.9   7.9  14.1  ...  125.4   151.3   189.8   183.9    17\n",
              "\n",
              "[5 rows x 62 columns]"
            ]
          },
          "metadata": {},
          "execution_count": 23
        }
      ]
    },
    {
      "cell_type": "code",
      "metadata": {
        "colab": {
          "base_uri": "https://localhost:8080/"
        },
        "id": "5B1wNzIbFwTe",
        "outputId": "ac119cf3-bb7c-4275-cc35-ec06a55fdefc"
      },
      "source": [
        "weather['year'].unique()"
      ],
      "execution_count": null,
      "outputs": [
        {
          "output_type": "execute_result",
          "data": {
            "text/plain": [
              "array([13, 14, 15, 16, 17, 18, 19, 20, 21, 22])"
            ]
          },
          "metadata": {},
          "execution_count": 24
        }
      ]
    },
    {
      "cell_type": "code",
      "metadata": {
        "colab": {
          "base_uri": "https://localhost:8080/",
          "height": 223
        },
        "id": "yAI4WsXhNt0I",
        "outputId": "cb761d03-d6df-45e7-ebaf-54decaa9820f"
      },
      "source": [
        "PATIW = pd.merge(PATI, weather, on = ['year', 'weather'])\n",
        "PATIW.head()"
      ],
      "execution_count": null,
      "outputs": [
        {
          "output_type": "execute_result",
          "data": {
            "text/html": [
              "<div>\n",
              "<style scoped>\n",
              "    .dataframe tbody tr th:only-of-type {\n",
              "        vertical-align: middle;\n",
              "    }\n",
              "\n",
              "    .dataframe tbody tr th {\n",
              "        vertical-align: top;\n",
              "    }\n",
              "\n",
              "    .dataframe thead th {\n",
              "        text-align: right;\n",
              "    }\n",
              "</style>\n",
              "<table border=\"1\" class=\"dataframe\">\n",
              "  <thead>\n",
              "    <tr style=\"text-align: right;\">\n",
              "      <th></th>\n",
              "      <th>kind</th>\n",
              "      <th>market</th>\n",
              "      <th>corp</th>\n",
              "      <th>wide</th>\n",
              "      <th>city</th>\n",
              "      <th>price</th>\n",
              "      <th>year</th>\n",
              "      <th>month</th>\n",
              "      <th>area</th>\n",
              "      <th>ratio</th>\n",
              "      <th>amount</th>\n",
              "      <th>weather</th>\n",
              "      <th>inn</th>\n",
              "      <th>out</th>\n",
              "      <th>AT_1</th>\n",
              "      <th>AT_2</th>\n",
              "      <th>AT_3</th>\n",
              "      <th>AT_4</th>\n",
              "      <th>AT_5</th>\n",
              "      <th>AT_6</th>\n",
              "      <th>AT_7</th>\n",
              "      <th>AT_8</th>\n",
              "      <th>AT_9</th>\n",
              "      <th>AT_10</th>\n",
              "      <th>AT_11</th>\n",
              "      <th>AT_12</th>\n",
              "      <th>HT_1</th>\n",
              "      <th>HT_2</th>\n",
              "      <th>HT_3</th>\n",
              "      <th>HT_4</th>\n",
              "      <th>HT_5</th>\n",
              "      <th>HT_6</th>\n",
              "      <th>HT_7</th>\n",
              "      <th>HT_8</th>\n",
              "      <th>HT_9</th>\n",
              "      <th>HT_10</th>\n",
              "      <th>HT_11</th>\n",
              "      <th>HT_12</th>\n",
              "      <th>LT_1</th>\n",
              "      <th>LT_2</th>\n",
              "      <th>LT_3</th>\n",
              "      <th>LT_4</th>\n",
              "      <th>LT_5</th>\n",
              "      <th>LT_6</th>\n",
              "      <th>LT_7</th>\n",
              "      <th>LT_8</th>\n",
              "      <th>LT_9</th>\n",
              "      <th>LT_10</th>\n",
              "      <th>LT_11</th>\n",
              "      <th>LT_12</th>\n",
              "      <th>RAIN_1</th>\n",
              "      <th>RAIN_2</th>\n",
              "      <th>RAIN_3</th>\n",
              "      <th>RAIN_4</th>\n",
              "      <th>RAIN_5</th>\n",
              "      <th>RAIN_6</th>\n",
              "      <th>RAIN_7</th>\n",
              "      <th>RAIN_8</th>\n",
              "      <th>RAIN_9</th>\n",
              "      <th>RAIN_10</th>\n",
              "      <th>RAIN_11</th>\n",
              "      <th>RAIN_12</th>\n",
              "      <th>SUN_1</th>\n",
              "      <th>SUN_2</th>\n",
              "      <th>SUN_3</th>\n",
              "      <th>SUN_4</th>\n",
              "      <th>SUN_5</th>\n",
              "      <th>SUN_6</th>\n",
              "      <th>SUN_7</th>\n",
              "      <th>SUN_8</th>\n",
              "      <th>SUN_9</th>\n",
              "      <th>SUN_10</th>\n",
              "      <th>SUN_11</th>\n",
              "      <th>SUN_12</th>\n",
              "    </tr>\n",
              "  </thead>\n",
              "  <tbody>\n",
              "    <tr>\n",
              "      <th>0</th>\n",
              "      <td>4</td>\n",
              "      <td>5</td>\n",
              "      <td>23</td>\n",
              "      <td>2</td>\n",
              "      <td>26</td>\n",
              "      <td>793.00</td>\n",
              "      <td>21</td>\n",
              "      <td>10</td>\n",
              "      <td>2365</td>\n",
              "      <td>8098</td>\n",
              "      <td>191509</td>\n",
              "      <td>영천</td>\n",
              "      <td>5213.902</td>\n",
              "      <td>7.88</td>\n",
              "      <td>3.3</td>\n",
              "      <td>4.2</td>\n",
              "      <td>8.2</td>\n",
              "      <td>11.3</td>\n",
              "      <td>18.0</td>\n",
              "      <td>23.0</td>\n",
              "      <td>22.0</td>\n",
              "      <td>27.0</td>\n",
              "      <td>19.8</td>\n",
              "      <td>13.8</td>\n",
              "      <td>8.3</td>\n",
              "      <td>0.6</td>\n",
              "      <td>8.7</td>\n",
              "      <td>10.4</td>\n",
              "      <td>15.0</td>\n",
              "      <td>18.5</td>\n",
              "      <td>24.4</td>\n",
              "      <td>29.1</td>\n",
              "      <td>25.8</td>\n",
              "      <td>31.9</td>\n",
              "      <td>25.0</td>\n",
              "      <td>20.6</td>\n",
              "      <td>14.9</td>\n",
              "      <td>7.1</td>\n",
              "      <td>-1.1</td>\n",
              "      <td>-1.5</td>\n",
              "      <td>1.2</td>\n",
              "      <td>3.9</td>\n",
              "      <td>12.0</td>\n",
              "      <td>17.3</td>\n",
              "      <td>18.9</td>\n",
              "      <td>23.3</td>\n",
              "      <td>15.5</td>\n",
              "      <td>8.1</td>\n",
              "      <td>2.2</td>\n",
              "      <td>-5.1</td>\n",
              "      <td>101.3</td>\n",
              "      <td>55.4</td>\n",
              "      <td>21.1</td>\n",
              "      <td>36.5</td>\n",
              "      <td>46.4</td>\n",
              "      <td>142.0</td>\n",
              "      <td>338.5</td>\n",
              "      <td>246.9</td>\n",
              "      <td>201.6</td>\n",
              "      <td>11.1</td>\n",
              "      <td>32.8</td>\n",
              "      <td>0.9</td>\n",
              "      <td>130.5</td>\n",
              "      <td>179.9</td>\n",
              "      <td>224.0</td>\n",
              "      <td>258.5</td>\n",
              "      <td>228.3</td>\n",
              "      <td>217.1</td>\n",
              "      <td>93.8</td>\n",
              "      <td>190.0</td>\n",
              "      <td>140.2</td>\n",
              "      <td>198.3</td>\n",
              "      <td>160.8</td>\n",
              "      <td>172.4</td>\n",
              "    </tr>\n",
              "    <tr>\n",
              "      <th>1</th>\n",
              "      <td>4</td>\n",
              "      <td>5</td>\n",
              "      <td>79</td>\n",
              "      <td>2</td>\n",
              "      <td>26</td>\n",
              "      <td>843.43</td>\n",
              "      <td>21</td>\n",
              "      <td>10</td>\n",
              "      <td>2365</td>\n",
              "      <td>8098</td>\n",
              "      <td>191509</td>\n",
              "      <td>영천</td>\n",
              "      <td>5213.902</td>\n",
              "      <td>7.88</td>\n",
              "      <td>3.3</td>\n",
              "      <td>4.2</td>\n",
              "      <td>8.2</td>\n",
              "      <td>11.3</td>\n",
              "      <td>18.0</td>\n",
              "      <td>23.0</td>\n",
              "      <td>22.0</td>\n",
              "      <td>27.0</td>\n",
              "      <td>19.8</td>\n",
              "      <td>13.8</td>\n",
              "      <td>8.3</td>\n",
              "      <td>0.6</td>\n",
              "      <td>8.7</td>\n",
              "      <td>10.4</td>\n",
              "      <td>15.0</td>\n",
              "      <td>18.5</td>\n",
              "      <td>24.4</td>\n",
              "      <td>29.1</td>\n",
              "      <td>25.8</td>\n",
              "      <td>31.9</td>\n",
              "      <td>25.0</td>\n",
              "      <td>20.6</td>\n",
              "      <td>14.9</td>\n",
              "      <td>7.1</td>\n",
              "      <td>-1.1</td>\n",
              "      <td>-1.5</td>\n",
              "      <td>1.2</td>\n",
              "      <td>3.9</td>\n",
              "      <td>12.0</td>\n",
              "      <td>17.3</td>\n",
              "      <td>18.9</td>\n",
              "      <td>23.3</td>\n",
              "      <td>15.5</td>\n",
              "      <td>8.1</td>\n",
              "      <td>2.2</td>\n",
              "      <td>-5.1</td>\n",
              "      <td>101.3</td>\n",
              "      <td>55.4</td>\n",
              "      <td>21.1</td>\n",
              "      <td>36.5</td>\n",
              "      <td>46.4</td>\n",
              "      <td>142.0</td>\n",
              "      <td>338.5</td>\n",
              "      <td>246.9</td>\n",
              "      <td>201.6</td>\n",
              "      <td>11.1</td>\n",
              "      <td>32.8</td>\n",
              "      <td>0.9</td>\n",
              "      <td>130.5</td>\n",
              "      <td>179.9</td>\n",
              "      <td>224.0</td>\n",
              "      <td>258.5</td>\n",
              "      <td>228.3</td>\n",
              "      <td>217.1</td>\n",
              "      <td>93.8</td>\n",
              "      <td>190.0</td>\n",
              "      <td>140.2</td>\n",
              "      <td>198.3</td>\n",
              "      <td>160.8</td>\n",
              "      <td>172.4</td>\n",
              "    </tr>\n",
              "    <tr>\n",
              "      <th>2</th>\n",
              "      <td>0</td>\n",
              "      <td>31</td>\n",
              "      <td>20</td>\n",
              "      <td>2</td>\n",
              "      <td>26</td>\n",
              "      <td>725.00</td>\n",
              "      <td>21</td>\n",
              "      <td>10</td>\n",
              "      <td>2365</td>\n",
              "      <td>8098</td>\n",
              "      <td>191509</td>\n",
              "      <td>영천</td>\n",
              "      <td>5213.902</td>\n",
              "      <td>7.88</td>\n",
              "      <td>3.3</td>\n",
              "      <td>4.2</td>\n",
              "      <td>8.2</td>\n",
              "      <td>11.3</td>\n",
              "      <td>18.0</td>\n",
              "      <td>23.0</td>\n",
              "      <td>22.0</td>\n",
              "      <td>27.0</td>\n",
              "      <td>19.8</td>\n",
              "      <td>13.8</td>\n",
              "      <td>8.3</td>\n",
              "      <td>0.6</td>\n",
              "      <td>8.7</td>\n",
              "      <td>10.4</td>\n",
              "      <td>15.0</td>\n",
              "      <td>18.5</td>\n",
              "      <td>24.4</td>\n",
              "      <td>29.1</td>\n",
              "      <td>25.8</td>\n",
              "      <td>31.9</td>\n",
              "      <td>25.0</td>\n",
              "      <td>20.6</td>\n",
              "      <td>14.9</td>\n",
              "      <td>7.1</td>\n",
              "      <td>-1.1</td>\n",
              "      <td>-1.5</td>\n",
              "      <td>1.2</td>\n",
              "      <td>3.9</td>\n",
              "      <td>12.0</td>\n",
              "      <td>17.3</td>\n",
              "      <td>18.9</td>\n",
              "      <td>23.3</td>\n",
              "      <td>15.5</td>\n",
              "      <td>8.1</td>\n",
              "      <td>2.2</td>\n",
              "      <td>-5.1</td>\n",
              "      <td>101.3</td>\n",
              "      <td>55.4</td>\n",
              "      <td>21.1</td>\n",
              "      <td>36.5</td>\n",
              "      <td>46.4</td>\n",
              "      <td>142.0</td>\n",
              "      <td>338.5</td>\n",
              "      <td>246.9</td>\n",
              "      <td>201.6</td>\n",
              "      <td>11.1</td>\n",
              "      <td>32.8</td>\n",
              "      <td>0.9</td>\n",
              "      <td>130.5</td>\n",
              "      <td>179.9</td>\n",
              "      <td>224.0</td>\n",
              "      <td>258.5</td>\n",
              "      <td>228.3</td>\n",
              "      <td>217.1</td>\n",
              "      <td>93.8</td>\n",
              "      <td>190.0</td>\n",
              "      <td>140.2</td>\n",
              "      <td>198.3</td>\n",
              "      <td>160.8</td>\n",
              "      <td>172.4</td>\n",
              "    </tr>\n",
              "    <tr>\n",
              "      <th>3</th>\n",
              "      <td>4</td>\n",
              "      <td>5</td>\n",
              "      <td>23</td>\n",
              "      <td>2</td>\n",
              "      <td>26</td>\n",
              "      <td>804.59</td>\n",
              "      <td>21</td>\n",
              "      <td>9</td>\n",
              "      <td>2365</td>\n",
              "      <td>8098</td>\n",
              "      <td>191509</td>\n",
              "      <td>영천</td>\n",
              "      <td>3378.003</td>\n",
              "      <td>2.20</td>\n",
              "      <td>3.3</td>\n",
              "      <td>4.2</td>\n",
              "      <td>8.2</td>\n",
              "      <td>11.3</td>\n",
              "      <td>18.0</td>\n",
              "      <td>23.0</td>\n",
              "      <td>22.0</td>\n",
              "      <td>27.0</td>\n",
              "      <td>19.8</td>\n",
              "      <td>13.8</td>\n",
              "      <td>8.3</td>\n",
              "      <td>0.6</td>\n",
              "      <td>8.7</td>\n",
              "      <td>10.4</td>\n",
              "      <td>15.0</td>\n",
              "      <td>18.5</td>\n",
              "      <td>24.4</td>\n",
              "      <td>29.1</td>\n",
              "      <td>25.8</td>\n",
              "      <td>31.9</td>\n",
              "      <td>25.0</td>\n",
              "      <td>20.6</td>\n",
              "      <td>14.9</td>\n",
              "      <td>7.1</td>\n",
              "      <td>-1.1</td>\n",
              "      <td>-1.5</td>\n",
              "      <td>1.2</td>\n",
              "      <td>3.9</td>\n",
              "      <td>12.0</td>\n",
              "      <td>17.3</td>\n",
              "      <td>18.9</td>\n",
              "      <td>23.3</td>\n",
              "      <td>15.5</td>\n",
              "      <td>8.1</td>\n",
              "      <td>2.2</td>\n",
              "      <td>-5.1</td>\n",
              "      <td>101.3</td>\n",
              "      <td>55.4</td>\n",
              "      <td>21.1</td>\n",
              "      <td>36.5</td>\n",
              "      <td>46.4</td>\n",
              "      <td>142.0</td>\n",
              "      <td>338.5</td>\n",
              "      <td>246.9</td>\n",
              "      <td>201.6</td>\n",
              "      <td>11.1</td>\n",
              "      <td>32.8</td>\n",
              "      <td>0.9</td>\n",
              "      <td>130.5</td>\n",
              "      <td>179.9</td>\n",
              "      <td>224.0</td>\n",
              "      <td>258.5</td>\n",
              "      <td>228.3</td>\n",
              "      <td>217.1</td>\n",
              "      <td>93.8</td>\n",
              "      <td>190.0</td>\n",
              "      <td>140.2</td>\n",
              "      <td>198.3</td>\n",
              "      <td>160.8</td>\n",
              "      <td>172.4</td>\n",
              "    </tr>\n",
              "    <tr>\n",
              "      <th>4</th>\n",
              "      <td>4</td>\n",
              "      <td>5</td>\n",
              "      <td>79</td>\n",
              "      <td>2</td>\n",
              "      <td>26</td>\n",
              "      <td>890.58</td>\n",
              "      <td>21</td>\n",
              "      <td>9</td>\n",
              "      <td>2365</td>\n",
              "      <td>8098</td>\n",
              "      <td>191509</td>\n",
              "      <td>영천</td>\n",
              "      <td>3378.003</td>\n",
              "      <td>2.20</td>\n",
              "      <td>3.3</td>\n",
              "      <td>4.2</td>\n",
              "      <td>8.2</td>\n",
              "      <td>11.3</td>\n",
              "      <td>18.0</td>\n",
              "      <td>23.0</td>\n",
              "      <td>22.0</td>\n",
              "      <td>27.0</td>\n",
              "      <td>19.8</td>\n",
              "      <td>13.8</td>\n",
              "      <td>8.3</td>\n",
              "      <td>0.6</td>\n",
              "      <td>8.7</td>\n",
              "      <td>10.4</td>\n",
              "      <td>15.0</td>\n",
              "      <td>18.5</td>\n",
              "      <td>24.4</td>\n",
              "      <td>29.1</td>\n",
              "      <td>25.8</td>\n",
              "      <td>31.9</td>\n",
              "      <td>25.0</td>\n",
              "      <td>20.6</td>\n",
              "      <td>14.9</td>\n",
              "      <td>7.1</td>\n",
              "      <td>-1.1</td>\n",
              "      <td>-1.5</td>\n",
              "      <td>1.2</td>\n",
              "      <td>3.9</td>\n",
              "      <td>12.0</td>\n",
              "      <td>17.3</td>\n",
              "      <td>18.9</td>\n",
              "      <td>23.3</td>\n",
              "      <td>15.5</td>\n",
              "      <td>8.1</td>\n",
              "      <td>2.2</td>\n",
              "      <td>-5.1</td>\n",
              "      <td>101.3</td>\n",
              "      <td>55.4</td>\n",
              "      <td>21.1</td>\n",
              "      <td>36.5</td>\n",
              "      <td>46.4</td>\n",
              "      <td>142.0</td>\n",
              "      <td>338.5</td>\n",
              "      <td>246.9</td>\n",
              "      <td>201.6</td>\n",
              "      <td>11.1</td>\n",
              "      <td>32.8</td>\n",
              "      <td>0.9</td>\n",
              "      <td>130.5</td>\n",
              "      <td>179.9</td>\n",
              "      <td>224.0</td>\n",
              "      <td>258.5</td>\n",
              "      <td>228.3</td>\n",
              "      <td>217.1</td>\n",
              "      <td>93.8</td>\n",
              "      <td>190.0</td>\n",
              "      <td>140.2</td>\n",
              "      <td>198.3</td>\n",
              "      <td>160.8</td>\n",
              "      <td>172.4</td>\n",
              "    </tr>\n",
              "  </tbody>\n",
              "</table>\n",
              "</div>"
            ],
            "text/plain": [
              "   kind  market  corp  wide  city  ...  SUN_8  SUN_9  SUN_10  SUN_11  SUN_12\n",
              "0     4       5    23     2    26  ...  190.0  140.2   198.3   160.8   172.4\n",
              "1     4       5    79     2    26  ...  190.0  140.2   198.3   160.8   172.4\n",
              "2     0      31    20     2    26  ...  190.0  140.2   198.3   160.8   172.4\n",
              "3     4       5    23     2    26  ...  190.0  140.2   198.3   160.8   172.4\n",
              "4     4       5    79     2    26  ...  190.0  140.2   198.3   160.8   172.4\n",
              "\n",
              "[5 rows x 74 columns]"
            ]
          },
          "metadata": {},
          "execution_count": 25
        }
      ]
    },
    {
      "cell_type": "code",
      "metadata": {
        "colab": {
          "base_uri": "https://localhost:8080/",
          "height": 223
        },
        "id": "hsf9oHIeL2Mm",
        "outputId": "f1aedecc-38af-4e5c-af58-6ce4c78de7ab"
      },
      "source": [
        "PATIW = PATIW[['price', 'weather', 'kind', 'market', 'corp', 'wide', 'city', 'year', 'month',\n",
        "       'area', 'ratio', 'amount', 'inn', 'out', 'AT_1', 'AT_2',\n",
        "       'AT_3', 'AT_4', 'AT_5', 'AT_6', 'AT_7', 'AT_8', 'AT_9', 'AT_10',\n",
        "       'AT_11', 'AT_12', 'HT_1', 'HT_2', 'HT_3', 'HT_4', 'HT_5', 'HT_6',\n",
        "       'HT_7', 'HT_8', 'HT_9', 'HT_10', 'HT_11', 'HT_12', 'LT_1', 'LT_2',\n",
        "       'LT_3', 'LT_4', 'LT_5', 'LT_6', 'LT_7', 'LT_8', 'LT_9', 'LT_10',\n",
        "       'LT_11', 'LT_12', 'RAIN_1', 'RAIN_2', 'RAIN_3', 'RAIN_4', 'RAIN_5',\n",
        "       'RAIN_6', 'RAIN_7', 'RAIN_8', 'RAIN_9', 'RAIN_10', 'RAIN_11', 'RAIN_12',\n",
        "       'SUN_1', 'SUN_2', 'SUN_3', 'SUN_4', 'SUN_5', 'SUN_6', 'SUN_7', 'SUN_8',\n",
        "       'SUN_9', 'SUN_10', 'SUN_11', 'SUN_12']]\n",
        "PATIW.head()"
      ],
      "execution_count": null,
      "outputs": [
        {
          "output_type": "execute_result",
          "data": {
            "text/html": [
              "<div>\n",
              "<style scoped>\n",
              "    .dataframe tbody tr th:only-of-type {\n",
              "        vertical-align: middle;\n",
              "    }\n",
              "\n",
              "    .dataframe tbody tr th {\n",
              "        vertical-align: top;\n",
              "    }\n",
              "\n",
              "    .dataframe thead th {\n",
              "        text-align: right;\n",
              "    }\n",
              "</style>\n",
              "<table border=\"1\" class=\"dataframe\">\n",
              "  <thead>\n",
              "    <tr style=\"text-align: right;\">\n",
              "      <th></th>\n",
              "      <th>price</th>\n",
              "      <th>weather</th>\n",
              "      <th>kind</th>\n",
              "      <th>market</th>\n",
              "      <th>corp</th>\n",
              "      <th>wide</th>\n",
              "      <th>city</th>\n",
              "      <th>year</th>\n",
              "      <th>month</th>\n",
              "      <th>area</th>\n",
              "      <th>ratio</th>\n",
              "      <th>amount</th>\n",
              "      <th>inn</th>\n",
              "      <th>out</th>\n",
              "      <th>AT_1</th>\n",
              "      <th>AT_2</th>\n",
              "      <th>AT_3</th>\n",
              "      <th>AT_4</th>\n",
              "      <th>AT_5</th>\n",
              "      <th>AT_6</th>\n",
              "      <th>AT_7</th>\n",
              "      <th>AT_8</th>\n",
              "      <th>AT_9</th>\n",
              "      <th>AT_10</th>\n",
              "      <th>AT_11</th>\n",
              "      <th>AT_12</th>\n",
              "      <th>HT_1</th>\n",
              "      <th>HT_2</th>\n",
              "      <th>HT_3</th>\n",
              "      <th>HT_4</th>\n",
              "      <th>HT_5</th>\n",
              "      <th>HT_6</th>\n",
              "      <th>HT_7</th>\n",
              "      <th>HT_8</th>\n",
              "      <th>HT_9</th>\n",
              "      <th>HT_10</th>\n",
              "      <th>HT_11</th>\n",
              "      <th>HT_12</th>\n",
              "      <th>LT_1</th>\n",
              "      <th>LT_2</th>\n",
              "      <th>LT_3</th>\n",
              "      <th>LT_4</th>\n",
              "      <th>LT_5</th>\n",
              "      <th>LT_6</th>\n",
              "      <th>LT_7</th>\n",
              "      <th>LT_8</th>\n",
              "      <th>LT_9</th>\n",
              "      <th>LT_10</th>\n",
              "      <th>LT_11</th>\n",
              "      <th>LT_12</th>\n",
              "      <th>RAIN_1</th>\n",
              "      <th>RAIN_2</th>\n",
              "      <th>RAIN_3</th>\n",
              "      <th>RAIN_4</th>\n",
              "      <th>RAIN_5</th>\n",
              "      <th>RAIN_6</th>\n",
              "      <th>RAIN_7</th>\n",
              "      <th>RAIN_8</th>\n",
              "      <th>RAIN_9</th>\n",
              "      <th>RAIN_10</th>\n",
              "      <th>RAIN_11</th>\n",
              "      <th>RAIN_12</th>\n",
              "      <th>SUN_1</th>\n",
              "      <th>SUN_2</th>\n",
              "      <th>SUN_3</th>\n",
              "      <th>SUN_4</th>\n",
              "      <th>SUN_5</th>\n",
              "      <th>SUN_6</th>\n",
              "      <th>SUN_7</th>\n",
              "      <th>SUN_8</th>\n",
              "      <th>SUN_9</th>\n",
              "      <th>SUN_10</th>\n",
              "      <th>SUN_11</th>\n",
              "      <th>SUN_12</th>\n",
              "    </tr>\n",
              "  </thead>\n",
              "  <tbody>\n",
              "    <tr>\n",
              "      <th>0</th>\n",
              "      <td>793.00</td>\n",
              "      <td>영천</td>\n",
              "      <td>4</td>\n",
              "      <td>5</td>\n",
              "      <td>23</td>\n",
              "      <td>2</td>\n",
              "      <td>26</td>\n",
              "      <td>21</td>\n",
              "      <td>10</td>\n",
              "      <td>2365</td>\n",
              "      <td>8098</td>\n",
              "      <td>191509</td>\n",
              "      <td>5213.902</td>\n",
              "      <td>7.88</td>\n",
              "      <td>3.3</td>\n",
              "      <td>4.2</td>\n",
              "      <td>8.2</td>\n",
              "      <td>11.3</td>\n",
              "      <td>18.0</td>\n",
              "      <td>23.0</td>\n",
              "      <td>22.0</td>\n",
              "      <td>27.0</td>\n",
              "      <td>19.8</td>\n",
              "      <td>13.8</td>\n",
              "      <td>8.3</td>\n",
              "      <td>0.6</td>\n",
              "      <td>8.7</td>\n",
              "      <td>10.4</td>\n",
              "      <td>15.0</td>\n",
              "      <td>18.5</td>\n",
              "      <td>24.4</td>\n",
              "      <td>29.1</td>\n",
              "      <td>25.8</td>\n",
              "      <td>31.9</td>\n",
              "      <td>25.0</td>\n",
              "      <td>20.6</td>\n",
              "      <td>14.9</td>\n",
              "      <td>7.1</td>\n",
              "      <td>-1.1</td>\n",
              "      <td>-1.5</td>\n",
              "      <td>1.2</td>\n",
              "      <td>3.9</td>\n",
              "      <td>12.0</td>\n",
              "      <td>17.3</td>\n",
              "      <td>18.9</td>\n",
              "      <td>23.3</td>\n",
              "      <td>15.5</td>\n",
              "      <td>8.1</td>\n",
              "      <td>2.2</td>\n",
              "      <td>-5.1</td>\n",
              "      <td>101.3</td>\n",
              "      <td>55.4</td>\n",
              "      <td>21.1</td>\n",
              "      <td>36.5</td>\n",
              "      <td>46.4</td>\n",
              "      <td>142.0</td>\n",
              "      <td>338.5</td>\n",
              "      <td>246.9</td>\n",
              "      <td>201.6</td>\n",
              "      <td>11.1</td>\n",
              "      <td>32.8</td>\n",
              "      <td>0.9</td>\n",
              "      <td>130.5</td>\n",
              "      <td>179.9</td>\n",
              "      <td>224.0</td>\n",
              "      <td>258.5</td>\n",
              "      <td>228.3</td>\n",
              "      <td>217.1</td>\n",
              "      <td>93.8</td>\n",
              "      <td>190.0</td>\n",
              "      <td>140.2</td>\n",
              "      <td>198.3</td>\n",
              "      <td>160.8</td>\n",
              "      <td>172.4</td>\n",
              "    </tr>\n",
              "    <tr>\n",
              "      <th>1</th>\n",
              "      <td>843.43</td>\n",
              "      <td>영천</td>\n",
              "      <td>4</td>\n",
              "      <td>5</td>\n",
              "      <td>79</td>\n",
              "      <td>2</td>\n",
              "      <td>26</td>\n",
              "      <td>21</td>\n",
              "      <td>10</td>\n",
              "      <td>2365</td>\n",
              "      <td>8098</td>\n",
              "      <td>191509</td>\n",
              "      <td>5213.902</td>\n",
              "      <td>7.88</td>\n",
              "      <td>3.3</td>\n",
              "      <td>4.2</td>\n",
              "      <td>8.2</td>\n",
              "      <td>11.3</td>\n",
              "      <td>18.0</td>\n",
              "      <td>23.0</td>\n",
              "      <td>22.0</td>\n",
              "      <td>27.0</td>\n",
              "      <td>19.8</td>\n",
              "      <td>13.8</td>\n",
              "      <td>8.3</td>\n",
              "      <td>0.6</td>\n",
              "      <td>8.7</td>\n",
              "      <td>10.4</td>\n",
              "      <td>15.0</td>\n",
              "      <td>18.5</td>\n",
              "      <td>24.4</td>\n",
              "      <td>29.1</td>\n",
              "      <td>25.8</td>\n",
              "      <td>31.9</td>\n",
              "      <td>25.0</td>\n",
              "      <td>20.6</td>\n",
              "      <td>14.9</td>\n",
              "      <td>7.1</td>\n",
              "      <td>-1.1</td>\n",
              "      <td>-1.5</td>\n",
              "      <td>1.2</td>\n",
              "      <td>3.9</td>\n",
              "      <td>12.0</td>\n",
              "      <td>17.3</td>\n",
              "      <td>18.9</td>\n",
              "      <td>23.3</td>\n",
              "      <td>15.5</td>\n",
              "      <td>8.1</td>\n",
              "      <td>2.2</td>\n",
              "      <td>-5.1</td>\n",
              "      <td>101.3</td>\n",
              "      <td>55.4</td>\n",
              "      <td>21.1</td>\n",
              "      <td>36.5</td>\n",
              "      <td>46.4</td>\n",
              "      <td>142.0</td>\n",
              "      <td>338.5</td>\n",
              "      <td>246.9</td>\n",
              "      <td>201.6</td>\n",
              "      <td>11.1</td>\n",
              "      <td>32.8</td>\n",
              "      <td>0.9</td>\n",
              "      <td>130.5</td>\n",
              "      <td>179.9</td>\n",
              "      <td>224.0</td>\n",
              "      <td>258.5</td>\n",
              "      <td>228.3</td>\n",
              "      <td>217.1</td>\n",
              "      <td>93.8</td>\n",
              "      <td>190.0</td>\n",
              "      <td>140.2</td>\n",
              "      <td>198.3</td>\n",
              "      <td>160.8</td>\n",
              "      <td>172.4</td>\n",
              "    </tr>\n",
              "    <tr>\n",
              "      <th>2</th>\n",
              "      <td>725.00</td>\n",
              "      <td>영천</td>\n",
              "      <td>0</td>\n",
              "      <td>31</td>\n",
              "      <td>20</td>\n",
              "      <td>2</td>\n",
              "      <td>26</td>\n",
              "      <td>21</td>\n",
              "      <td>10</td>\n",
              "      <td>2365</td>\n",
              "      <td>8098</td>\n",
              "      <td>191509</td>\n",
              "      <td>5213.902</td>\n",
              "      <td>7.88</td>\n",
              "      <td>3.3</td>\n",
              "      <td>4.2</td>\n",
              "      <td>8.2</td>\n",
              "      <td>11.3</td>\n",
              "      <td>18.0</td>\n",
              "      <td>23.0</td>\n",
              "      <td>22.0</td>\n",
              "      <td>27.0</td>\n",
              "      <td>19.8</td>\n",
              "      <td>13.8</td>\n",
              "      <td>8.3</td>\n",
              "      <td>0.6</td>\n",
              "      <td>8.7</td>\n",
              "      <td>10.4</td>\n",
              "      <td>15.0</td>\n",
              "      <td>18.5</td>\n",
              "      <td>24.4</td>\n",
              "      <td>29.1</td>\n",
              "      <td>25.8</td>\n",
              "      <td>31.9</td>\n",
              "      <td>25.0</td>\n",
              "      <td>20.6</td>\n",
              "      <td>14.9</td>\n",
              "      <td>7.1</td>\n",
              "      <td>-1.1</td>\n",
              "      <td>-1.5</td>\n",
              "      <td>1.2</td>\n",
              "      <td>3.9</td>\n",
              "      <td>12.0</td>\n",
              "      <td>17.3</td>\n",
              "      <td>18.9</td>\n",
              "      <td>23.3</td>\n",
              "      <td>15.5</td>\n",
              "      <td>8.1</td>\n",
              "      <td>2.2</td>\n",
              "      <td>-5.1</td>\n",
              "      <td>101.3</td>\n",
              "      <td>55.4</td>\n",
              "      <td>21.1</td>\n",
              "      <td>36.5</td>\n",
              "      <td>46.4</td>\n",
              "      <td>142.0</td>\n",
              "      <td>338.5</td>\n",
              "      <td>246.9</td>\n",
              "      <td>201.6</td>\n",
              "      <td>11.1</td>\n",
              "      <td>32.8</td>\n",
              "      <td>0.9</td>\n",
              "      <td>130.5</td>\n",
              "      <td>179.9</td>\n",
              "      <td>224.0</td>\n",
              "      <td>258.5</td>\n",
              "      <td>228.3</td>\n",
              "      <td>217.1</td>\n",
              "      <td>93.8</td>\n",
              "      <td>190.0</td>\n",
              "      <td>140.2</td>\n",
              "      <td>198.3</td>\n",
              "      <td>160.8</td>\n",
              "      <td>172.4</td>\n",
              "    </tr>\n",
              "    <tr>\n",
              "      <th>3</th>\n",
              "      <td>804.59</td>\n",
              "      <td>영천</td>\n",
              "      <td>4</td>\n",
              "      <td>5</td>\n",
              "      <td>23</td>\n",
              "      <td>2</td>\n",
              "      <td>26</td>\n",
              "      <td>21</td>\n",
              "      <td>9</td>\n",
              "      <td>2365</td>\n",
              "      <td>8098</td>\n",
              "      <td>191509</td>\n",
              "      <td>3378.003</td>\n",
              "      <td>2.20</td>\n",
              "      <td>3.3</td>\n",
              "      <td>4.2</td>\n",
              "      <td>8.2</td>\n",
              "      <td>11.3</td>\n",
              "      <td>18.0</td>\n",
              "      <td>23.0</td>\n",
              "      <td>22.0</td>\n",
              "      <td>27.0</td>\n",
              "      <td>19.8</td>\n",
              "      <td>13.8</td>\n",
              "      <td>8.3</td>\n",
              "      <td>0.6</td>\n",
              "      <td>8.7</td>\n",
              "      <td>10.4</td>\n",
              "      <td>15.0</td>\n",
              "      <td>18.5</td>\n",
              "      <td>24.4</td>\n",
              "      <td>29.1</td>\n",
              "      <td>25.8</td>\n",
              "      <td>31.9</td>\n",
              "      <td>25.0</td>\n",
              "      <td>20.6</td>\n",
              "      <td>14.9</td>\n",
              "      <td>7.1</td>\n",
              "      <td>-1.1</td>\n",
              "      <td>-1.5</td>\n",
              "      <td>1.2</td>\n",
              "      <td>3.9</td>\n",
              "      <td>12.0</td>\n",
              "      <td>17.3</td>\n",
              "      <td>18.9</td>\n",
              "      <td>23.3</td>\n",
              "      <td>15.5</td>\n",
              "      <td>8.1</td>\n",
              "      <td>2.2</td>\n",
              "      <td>-5.1</td>\n",
              "      <td>101.3</td>\n",
              "      <td>55.4</td>\n",
              "      <td>21.1</td>\n",
              "      <td>36.5</td>\n",
              "      <td>46.4</td>\n",
              "      <td>142.0</td>\n",
              "      <td>338.5</td>\n",
              "      <td>246.9</td>\n",
              "      <td>201.6</td>\n",
              "      <td>11.1</td>\n",
              "      <td>32.8</td>\n",
              "      <td>0.9</td>\n",
              "      <td>130.5</td>\n",
              "      <td>179.9</td>\n",
              "      <td>224.0</td>\n",
              "      <td>258.5</td>\n",
              "      <td>228.3</td>\n",
              "      <td>217.1</td>\n",
              "      <td>93.8</td>\n",
              "      <td>190.0</td>\n",
              "      <td>140.2</td>\n",
              "      <td>198.3</td>\n",
              "      <td>160.8</td>\n",
              "      <td>172.4</td>\n",
              "    </tr>\n",
              "    <tr>\n",
              "      <th>4</th>\n",
              "      <td>890.58</td>\n",
              "      <td>영천</td>\n",
              "      <td>4</td>\n",
              "      <td>5</td>\n",
              "      <td>79</td>\n",
              "      <td>2</td>\n",
              "      <td>26</td>\n",
              "      <td>21</td>\n",
              "      <td>9</td>\n",
              "      <td>2365</td>\n",
              "      <td>8098</td>\n",
              "      <td>191509</td>\n",
              "      <td>3378.003</td>\n",
              "      <td>2.20</td>\n",
              "      <td>3.3</td>\n",
              "      <td>4.2</td>\n",
              "      <td>8.2</td>\n",
              "      <td>11.3</td>\n",
              "      <td>18.0</td>\n",
              "      <td>23.0</td>\n",
              "      <td>22.0</td>\n",
              "      <td>27.0</td>\n",
              "      <td>19.8</td>\n",
              "      <td>13.8</td>\n",
              "      <td>8.3</td>\n",
              "      <td>0.6</td>\n",
              "      <td>8.7</td>\n",
              "      <td>10.4</td>\n",
              "      <td>15.0</td>\n",
              "      <td>18.5</td>\n",
              "      <td>24.4</td>\n",
              "      <td>29.1</td>\n",
              "      <td>25.8</td>\n",
              "      <td>31.9</td>\n",
              "      <td>25.0</td>\n",
              "      <td>20.6</td>\n",
              "      <td>14.9</td>\n",
              "      <td>7.1</td>\n",
              "      <td>-1.1</td>\n",
              "      <td>-1.5</td>\n",
              "      <td>1.2</td>\n",
              "      <td>3.9</td>\n",
              "      <td>12.0</td>\n",
              "      <td>17.3</td>\n",
              "      <td>18.9</td>\n",
              "      <td>23.3</td>\n",
              "      <td>15.5</td>\n",
              "      <td>8.1</td>\n",
              "      <td>2.2</td>\n",
              "      <td>-5.1</td>\n",
              "      <td>101.3</td>\n",
              "      <td>55.4</td>\n",
              "      <td>21.1</td>\n",
              "      <td>36.5</td>\n",
              "      <td>46.4</td>\n",
              "      <td>142.0</td>\n",
              "      <td>338.5</td>\n",
              "      <td>246.9</td>\n",
              "      <td>201.6</td>\n",
              "      <td>11.1</td>\n",
              "      <td>32.8</td>\n",
              "      <td>0.9</td>\n",
              "      <td>130.5</td>\n",
              "      <td>179.9</td>\n",
              "      <td>224.0</td>\n",
              "      <td>258.5</td>\n",
              "      <td>228.3</td>\n",
              "      <td>217.1</td>\n",
              "      <td>93.8</td>\n",
              "      <td>190.0</td>\n",
              "      <td>140.2</td>\n",
              "      <td>198.3</td>\n",
              "      <td>160.8</td>\n",
              "      <td>172.4</td>\n",
              "    </tr>\n",
              "  </tbody>\n",
              "</table>\n",
              "</div>"
            ],
            "text/plain": [
              "    price weather  kind  market  corp  ...  SUN_8  SUN_9  SUN_10  SUN_11  SUN_12\n",
              "0  793.00      영천     4       5    23  ...  190.0  140.2   198.3   160.8   172.4\n",
              "1  843.43      영천     4       5    79  ...  190.0  140.2   198.3   160.8   172.4\n",
              "2  725.00      영천     0      31    20  ...  190.0  140.2   198.3   160.8   172.4\n",
              "3  804.59      영천     4       5    23  ...  190.0  140.2   198.3   160.8   172.4\n",
              "4  890.58      영천     4       5    79  ...  190.0  140.2   198.3   160.8   172.4\n",
              "\n",
              "[5 rows x 74 columns]"
            ]
          },
          "metadata": {},
          "execution_count": 26
        }
      ]
    },
    {
      "cell_type": "code",
      "metadata": {
        "id": "JRS4ybYsOOTW"
      },
      "source": [
        "PATIW.info()"
      ],
      "execution_count": null,
      "outputs": []
    },
    {
      "cell_type": "code",
      "metadata": {
        "id": "3rqJd-6OD-p_"
      },
      "source": [
        "PATIW[PATIW['weather'] =='영광']"
      ],
      "execution_count": null,
      "outputs": []
    },
    {
      "cell_type": "code",
      "metadata": {
        "id": "Z2bQqvsq3jgH"
      },
      "source": [
        "PATIW.to_csv('/content/drive/MyDrive/Colab Notebooks/2nd project/PATIW.csv', index = False)"
      ],
      "execution_count": null,
      "outputs": []
    },
    {
      "cell_type": "code",
      "metadata": {
        "id": "oupU3GE_LaQ4"
      },
      "source": [
        "import pandas as pd\n",
        "PATIW = pd.read_csv('/content/drive/MyDrive/Colab Notebooks/2nd project/PATIW.csv')"
      ],
      "execution_count": null,
      "outputs": []
    },
    {
      "cell_type": "markdown",
      "metadata": {
        "id": "ODxLSNFoQBhn"
      },
      "source": [
        "## I. Multivariate Regression"
      ]
    },
    {
      "cell_type": "code",
      "metadata": {
        "colab": {
          "base_uri": "https://localhost:8080/"
        },
        "id": "yZMwc59zOPpo",
        "outputId": "c182ba1a-d851-4d7c-e2f6-2fbae8810ba0"
      },
      "source": [
        "from sklearn.model_selection import train_test_split\n",
        "\n",
        "X = PATIW.iloc[:, 2:]\n",
        "y = PATIW.iloc[:, 0]\n",
        "\n",
        "X_train, X_test, y_train, y_test = train_test_split(X, y,\n",
        "                                                    test_size = 0.3,\n",
        "                                                    random_state = 2045)\n",
        "\n",
        "print('Train Data : ', X_train.shape, y_train.shape)\n",
        "print('Test Data : ', X_test.shape, y_test.shape)"
      ],
      "execution_count": null,
      "outputs": [
        {
          "output_type": "stream",
          "name": "stdout",
          "text": [
            "Train Data :  (16653, 72) (16653,)\n",
            "Test Data :  (7138, 72) (7138,)\n"
          ]
        }
      ]
    },
    {
      "cell_type": "markdown",
      "metadata": {
        "id": "y_U77McsPs7J"
      },
      "source": [
        "* normalize = True로 한 이후에 mse와 nmae 안 좋아짐"
      ]
    },
    {
      "cell_type": "code",
      "metadata": {
        "colab": {
          "base_uri": "https://localhost:8080/"
        },
        "id": "PhNSzrzq2dC9",
        "outputId": "de8faea1-2bc9-44c2-cf5e-c29f550c624b"
      },
      "source": [
        "from sklearn.linear_model import LinearRegression\n",
        "\n",
        "MR = LinearRegression()\n",
        "MR.fit(X_train, y_train)"
      ],
      "execution_count": null,
      "outputs": [
        {
          "output_type": "execute_result",
          "data": {
            "text/plain": [
              "LinearRegression(copy_X=True, fit_intercept=True, n_jobs=None, normalize=False)"
            ]
          },
          "metadata": {},
          "execution_count": 27
        }
      ]
    },
    {
      "cell_type": "code",
      "metadata": {
        "colab": {
          "base_uri": "https://localhost:8080/"
        },
        "id": "P6h9k_lc2jnQ",
        "outputId": "4e272a67-b749-4c30-a8dc-02f2c78a9aa7"
      },
      "source": [
        "from sklearn.metrics import mean_squared_error\n",
        "import numpy as np\n",
        "\n",
        "mse = mean_squared_error(y_test, MR.predict(X_test))\n",
        "np.sqrt(mse)"
      ],
      "execution_count": null,
      "outputs": [
        {
          "output_type": "execute_result",
          "data": {
            "text/plain": [
              "267.31785745231855"
            ]
          },
          "metadata": {},
          "execution_count": 28
        }
      ]
    },
    {
      "cell_type": "code",
      "metadata": {
        "colab": {
          "base_uri": "https://localhost:8080/"
        },
        "id": "BRbR6qr2MY23",
        "outputId": "782c2bb3-142e-4ee4-9fad-d02722902f61"
      },
      "source": [
        "from sklearn.metrics import mean_absolute_error\n",
        "import numpy as np\n",
        "mae = mean_absolute_error(y_test, MR.predict(X_test))\n",
        "norm=(abs(y_test).sum())/len(y_test)\n",
        "nmae=mae/norm\n",
        "print('nmae:', nmae)"
      ],
      "execution_count": null,
      "outputs": [
        {
          "output_type": "stream",
          "name": "stdout",
          "text": [
            "nmae: 0.28546055837792594\n"
          ]
        }
      ]
    },
    {
      "cell_type": "code",
      "metadata": {
        "colab": {
          "base_uri": "https://localhost:8080/",
          "height": 388
        },
        "id": "6U9tdyw3LkSZ",
        "outputId": "ddb92c83-6895-4afd-acb4-951d4247a541"
      },
      "source": [
        "import matplotlib.pyplot as plt\n",
        "import seaborn as sns\n",
        "\n",
        "plt.figure(figsize = (9, 6))\n",
        "ax1 = sns.distplot(y_test, label = 'y_test', color = 'red')\n",
        "ax2 = sns.distplot(MR.predict(X_test), label = 'y_hat', color = 'blue')\n",
        "plt.show()"
      ],
      "execution_count": null,
      "outputs": [
        {
          "output_type": "display_data",
          "data": {
            "image/png": "[encoded data removed]",
            "text/plain": [
              "<Figure size 648x432 with 1 Axes>"
            ]
          },
          "metadata": {
            "needs_background": "light"
          }
        }
      ]
    },
    {
      "cell_type": "markdown",
      "metadata": {
        "id": "2IWq24AwR4wZ"
      },
      "source": [
        "## V. Decision Tree Regressor"
      ]
    },
    {
      "cell_type": "code",
      "metadata": {
        "id": "XxKVAvUQPVKe",
        "colab": {
          "base_uri": "https://localhost:8080/"
        },
        "outputId": "d37226b3-7124-454b-d71c-aa98a6ed826d"
      },
      "source": [
        "from sklearn.tree import DecisionTreeRegressor\n",
        "\n",
        "DTR = DecisionTreeRegressor(max_depth = 5,\n",
        "                            criterion ='mse',\n",
        "                            random_state = 2045)\n",
        "\n",
        "DTR.fit(X_train, y_train)"
      ],
      "execution_count": null,
      "outputs": [
        {
          "output_type": "execute_result",
          "data": {
            "text/plain": [
              "DecisionTreeRegressor(ccp_alpha=0.0, criterion='mse', max_depth=5,\n",
              "                      max_features=None, max_leaf_nodes=None,\n",
              "                      min_impurity_decrease=0.0, min_impurity_split=None,\n",
              "                      min_samples_leaf=1, min_samples_split=2,\n",
              "                      min_weight_fraction_leaf=0.0, presort='deprecated',\n",
              "                      random_state=2045, splitter='best')"
            ]
          },
          "metadata": {},
          "execution_count": 31
        }
      ]
    },
    {
      "cell_type": "markdown",
      "metadata": {
        "id": "16CxNbEHSL1Q"
      },
      "source": [
        "* multivariate regression의 normalize 안 준 값보다 좋아짐"
      ]
    },
    {
      "cell_type": "code",
      "metadata": {
        "colab": {
          "base_uri": "https://localhost:8080/"
        },
        "id": "89Yke9-VSB7S",
        "outputId": "7d4ce771-5ee0-43ce-d881-16620fd4b829"
      },
      "source": [
        "mse = mean_squared_error(y_test, DTR.predict(X_test))\n",
        "np.sqrt(mse)"
      ],
      "execution_count": null,
      "outputs": [
        {
          "output_type": "execute_result",
          "data": {
            "text/plain": [
              "205.83861035542535"
            ]
          },
          "metadata": {},
          "execution_count": 32
        }
      ]
    },
    {
      "cell_type": "code",
      "metadata": {
        "colab": {
          "base_uri": "https://localhost:8080/"
        },
        "id": "ntP64d34ST9L",
        "outputId": "a66c0eeb-a971-4394-98dd-b0d1b01de018"
      },
      "source": [
        "mae = mean_absolute_error(y_test, DTR.predict(X_test))\n",
        "norm=(abs(y_test).sum())/len(y_test)\n",
        "nmae=mae/norm\n",
        "print('nmae:', nmae)"
      ],
      "execution_count": null,
      "outputs": [
        {
          "output_type": "stream",
          "name": "stdout",
          "text": [
            "nmae: 0.21299236009754113\n"
          ]
        }
      ]
    },
    {
      "cell_type": "code",
      "metadata": {
        "colab": {
          "base_uri": "https://localhost:8080/"
        },
        "id": "v3u9khUdSmSd",
        "outputId": "5d54623c-8ab0-4655-e855-9debc390a808"
      },
      "source": [
        "DTR.feature_importances_"
      ],
      "execution_count": null,
      "outputs": [
        {
          "output_type": "execute_result",
          "data": {
            "text/plain": [
              "array([6.00654208e-03, 7.87893580e-05, 3.63809680e-04, 0.00000000e+00,\n",
              "       0.00000000e+00, 1.54508972e-01, 3.24310399e-01, 0.00000000e+00,\n",
              "       3.09395843e-01, 0.00000000e+00, 5.23572031e-02, 5.13184128e-02,\n",
              "       0.00000000e+00, 0.00000000e+00, 0.00000000e+00, 0.00000000e+00,\n",
              "       0.00000000e+00, 0.00000000e+00, 0.00000000e+00, 0.00000000e+00,\n",
              "       0.00000000e+00, 0.00000000e+00, 0.00000000e+00, 0.00000000e+00,\n",
              "       0.00000000e+00, 0.00000000e+00, 0.00000000e+00, 0.00000000e+00,\n",
              "       0.00000000e+00, 0.00000000e+00, 0.00000000e+00, 0.00000000e+00,\n",
              "       0.00000000e+00, 0.00000000e+00, 0.00000000e+00, 0.00000000e+00,\n",
              "       0.00000000e+00, 0.00000000e+00, 0.00000000e+00, 0.00000000e+00,\n",
              "       0.00000000e+00, 0.00000000e+00, 0.00000000e+00, 0.00000000e+00,\n",
              "       0.00000000e+00, 0.00000000e+00, 0.00000000e+00, 0.00000000e+00,\n",
              "       0.00000000e+00, 0.00000000e+00, 0.00000000e+00, 0.00000000e+00,\n",
              "       0.00000000e+00, 0.00000000e+00, 0.00000000e+00, 0.00000000e+00,\n",
              "       0.00000000e+00, 0.00000000e+00, 0.00000000e+00, 5.21714382e-03,\n",
              "       0.00000000e+00, 0.00000000e+00, 0.00000000e+00, 0.00000000e+00,\n",
              "       0.00000000e+00, 0.00000000e+00, 0.00000000e+00, 2.13516011e-03,\n",
              "       0.00000000e+00, 8.70611599e-02, 0.00000000e+00, 7.24656638e-03])"
            ]
          },
          "metadata": {},
          "execution_count": 45
        }
      ]
    },
    {
      "cell_type": "markdown",
      "metadata": {
        "id": "4tskQMk6TMad"
      },
      "source": [
        "* kind, year, month, ratio, inn, out, rain_12, sun_10, sun_12"
      ]
    },
    {
      "cell_type": "code",
      "metadata": {
        "id": "1PXpEJEIPVKj",
        "colab": {
          "base_uri": "https://localhost:8080/",
          "height": 700
        },
        "outputId": "3a6c6289-d7f3-4ffe-e0a8-d46fab8fd0c4"
      },
      "source": [
        "import matplotlib.pyplot as plt\n",
        "import seaborn as sns\n",
        "\n",
        "plt.figure(figsize = (6, 12))\n",
        "sns.barplot(DTR.feature_importances_, PATIW.iloc[:, 2:].columns)\n",
        "plt.show()"
      ],
      "execution_count": null,
      "outputs": [
        {
          "output_type": "display_data",
          "data": {
            "image/png": "[encoded data removed]",
            "text/plain": [
              "<Figure size 432x864 with 1 Axes>"
            ]
          },
          "metadata": {
            "needs_background": "light"
          }
        }
      ]
    },
    {
      "cell_type": "code",
      "metadata": {
        "colab": {
          "base_uri": "https://localhost:8080/",
          "height": 388
        },
        "id": "K-LehgQ2NOH2",
        "outputId": "54836149-2513-4edf-c682-c8142ffafcbf"
      },
      "source": [
        "plt.figure(figsize = (9, 6))\n",
        "ax1 = sns.distplot(y_test, label = 'y_test', color = 'red')\n",
        "ax2 = sns.distplot(DTR.predict(X_test), label = 'y_hat', color = 'blue')\n",
        "plt.show()"
      ],
      "execution_count": null,
      "outputs": [
        {
          "output_type": "display_data",
          "data": {
            "image/png": "[encoded data removed]",
            "text/plain": [
              "<Figure size 648x432 with 1 Axes>"
            ]
          },
          "metadata": {
            "needs_background": "light"
          }
        }
      ]
    },
    {
      "cell_type": "code",
      "metadata": {
        "colab": {
          "base_uri": "https://localhost:8080/"
        },
        "id": "tHLngazMSh8x",
        "outputId": "abbfd6ee-8295-47c9-ad5b-11592ead5580"
      },
      "source": [
        "PATIW.iloc[:, 2:].columns"
      ],
      "execution_count": null,
      "outputs": [
        {
          "output_type": "execute_result",
          "data": {
            "text/plain": [
              "Index(['kind', 'market', 'corp', 'wide', 'city', 'year', 'month', 'area',\n",
              "       'ratio', 'amount', 'inn', 'out', 'AT_1', 'AT_2', 'AT_3', 'AT_4', 'AT_5',\n",
              "       'AT_6', 'AT_7', 'AT_8', 'AT_9', 'AT_10', 'AT_11', 'AT_12', 'HT_1',\n",
              "       'HT_2', 'HT_3', 'HT_4', 'HT_5', 'HT_6', 'HT_7', 'HT_8', 'HT_9', 'HT_10',\n",
              "       'HT_11', 'HT_12', 'LT_1', 'LT_2', 'LT_3', 'LT_4', 'LT_5', 'LT_6',\n",
              "       'LT_7', 'LT_8', 'LT_9', 'LT_10', 'LT_11', 'LT_12', 'RAIN_1', 'RAIN_2',\n",
              "       'RAIN_3', 'RAIN_4', 'RAIN_5', 'RAIN_6', 'RAIN_7', 'RAIN_8', 'RAIN_9',\n",
              "       'RAIN_10', 'RAIN_11', 'RAIN_12', 'SUN_1', 'SUN_2', 'SUN_3', 'SUN_4',\n",
              "       'SUN_5', 'SUN_6', 'SUN_7', 'SUN_8', 'SUN_9', 'SUN_10', 'SUN_11',\n",
              "       'SUN_12'],\n",
              "      dtype='object')"
            ]
          },
          "metadata": {},
          "execution_count": 48
        }
      ]
    },
    {
      "cell_type": "markdown",
      "metadata": {
        "id": "artjv21rWAOs"
      },
      "source": [
        "## VI. Random Forest Regressor"
      ]
    },
    {
      "cell_type": "code",
      "metadata": {
        "id": "J6sn9DsT14w5",
        "colab": {
          "base_uri": "https://localhost:8080/"
        },
        "outputId": "cf8f2be1-f343-4242-9bda-ffa965ee981d"
      },
      "source": [
        "from sklearn.ensemble import RandomForestRegressor\n",
        "\n",
        "RFR = RandomForestRegressor(n_estimators = 2000,\n",
        "                            max_features = 9,\n",
        "                            max_depth = 5,\n",
        "                            criterion ='mse',\n",
        "                            n_jobs = -1,\n",
        "                            random_state = 2045)\n",
        "\n",
        "RFR.fit(X_train, y_train)"
      ],
      "execution_count": null,
      "outputs": [
        {
          "output_type": "execute_result",
          "data": {
            "text/plain": [
              "RandomForestRegressor(bootstrap=True, ccp_alpha=0.0, criterion='mse',\n",
              "                      max_depth=5, max_features=9, max_leaf_nodes=None,\n",
              "                      max_samples=None, min_impurity_decrease=0.0,\n",
              "                      min_impurity_split=None, min_samples_leaf=1,\n",
              "                      min_samples_split=2, min_weight_fraction_leaf=0.0,\n",
              "                      n_estimators=2000, n_jobs=-1, oob_score=False,\n",
              "                      random_state=2045, verbose=0, warm_start=False)"
            ]
          },
          "metadata": {},
          "execution_count": 58
        }
      ]
    },
    {
      "cell_type": "markdown",
      "metadata": {
        "id": "0Fsnbqc0W4_a"
      },
      "source": [
        "* multivariate regression 보다는 향상되었으나\n",
        "* decision tree 보다는 낮아짐 \n",
        "* max_feature를 제한해서 그럴 수도 있음"
      ]
    },
    {
      "cell_type": "code",
      "metadata": {
        "colab": {
          "base_uri": "https://localhost:8080/"
        },
        "id": "az0Szda7WI7D",
        "outputId": "7bb03946-d035-411c-af51-5c829ebe639a"
      },
      "source": [
        "mse = mean_squared_error(y_test, RFR.predict(X_test))\n",
        "np.sqrt(mse)"
      ],
      "execution_count": null,
      "outputs": [
        {
          "output_type": "execute_result",
          "data": {
            "text/plain": [
              "225.77426297169075"
            ]
          },
          "metadata": {},
          "execution_count": 59
        }
      ]
    },
    {
      "cell_type": "code",
      "metadata": {
        "colab": {
          "base_uri": "https://localhost:8080/"
        },
        "id": "HoUq2llqWKDw",
        "outputId": "5f8351c1-d96a-40d1-c32e-7f5487dbb5ac"
      },
      "source": [
        "mae = mean_absolute_error(y_test, RFR.predict(X_test))\n",
        "norm=(abs(y_test).sum())/len(y_test)\n",
        "nmae=mae/norm\n",
        "print('nmae:', nmae)"
      ],
      "execution_count": null,
      "outputs": [
        {
          "output_type": "stream",
          "name": "stdout",
          "text": [
            "nmae: 0.24198211284591906\n"
          ]
        }
      ]
    },
    {
      "cell_type": "markdown",
      "metadata": {
        "id": "PZ1xPMCDXOX2"
      },
      "source": [
        "### max_depth = 5"
      ]
    },
    {
      "cell_type": "markdown",
      "metadata": {
        "id": "efVxch0r5FWB"
      },
      "source": [
        "* max_feature 설정 X"
      ]
    },
    {
      "cell_type": "code",
      "metadata": {
        "colab": {
          "base_uri": "https://localhost:8080/"
        },
        "id": "teMRTiM4XIfM",
        "outputId": "d090cb31-b35f-47f8-f6c4-31e9d9112a5a"
      },
      "source": [
        "from sklearn.ensemble import RandomForestRegressor\n",
        "\n",
        "RFR1 = RandomForestRegressor(n_estimators = 2000,\n",
        "                            max_depth = 5,\n",
        "                            criterion ='mse',\n",
        "                            n_jobs = -1,\n",
        "                            random_state = 2045)\n",
        "\n",
        "RFR1.fit(X_train, y_train)                        ## 2분 23초"
      ],
      "execution_count": null,
      "outputs": [
        {
          "output_type": "execute_result",
          "data": {
            "text/plain": [
              "RandomForestRegressor(bootstrap=True, ccp_alpha=0.0, criterion='mse',\n",
              "                      max_depth=5, max_features='auto', max_leaf_nodes=None,\n",
              "                      max_samples=None, min_impurity_decrease=0.0,\n",
              "                      min_impurity_split=None, min_samples_leaf=1,\n",
              "                      min_samples_split=2, min_weight_fraction_leaf=0.0,\n",
              "                      n_estimators=2000, n_jobs=-1, oob_score=False,\n",
              "                      random_state=2045, verbose=0, warm_start=False)"
            ]
          },
          "metadata": {},
          "execution_count": 35
        }
      ]
    },
    {
      "cell_type": "markdown",
      "metadata": {
        "id": "nRUggxpcYP8-"
      },
      "source": [
        "* decision tree보다 성능 좋아짐"
      ]
    },
    {
      "cell_type": "code",
      "metadata": {
        "colab": {
          "base_uri": "https://localhost:8080/"
        },
        "id": "rSjF1xOGXc7A",
        "outputId": "fa8ebbf5-ccb1-40db-822a-e4abef1885d8"
      },
      "source": [
        "mse = mean_squared_error(y_test, RFR1.predict(X_test))\n",
        "np.sqrt(mse)"
      ],
      "execution_count": null,
      "outputs": [
        {
          "output_type": "execute_result",
          "data": {
            "text/plain": [
              "200.1127190117383"
            ]
          },
          "metadata": {},
          "execution_count": 36
        }
      ]
    },
    {
      "cell_type": "code",
      "metadata": {
        "colab": {
          "base_uri": "https://localhost:8080/"
        },
        "id": "7Fj5WFqOXfBN",
        "outputId": "a373c48f-962a-46ff-d1d6-38f8eddac766"
      },
      "source": [
        "mae = mean_absolute_error(y_test, RFR1.predict(X_test))\n",
        "norm=(abs(y_test).sum())/len(y_test)\n",
        "nmae=mae/norm\n",
        "print('nmae:', nmae)"
      ],
      "execution_count": null,
      "outputs": [
        {
          "output_type": "stream",
          "name": "stdout",
          "text": [
            "nmae: 0.2067276203027112\n"
          ]
        }
      ]
    },
    {
      "cell_type": "markdown",
      "metadata": {
        "id": "J_oTyC6xYoI6"
      },
      "source": [
        "* kind, year, month, inn, out, sun_4, sun_10, sun_11"
      ]
    },
    {
      "cell_type": "code",
      "metadata": {
        "colab": {
          "base_uri": "https://localhost:8080/",
          "height": 700
        },
        "id": "jK5qXHIIYfKX",
        "outputId": "97eda27b-1998-45e3-d630-42be55f38c08"
      },
      "source": [
        "plt.figure(figsize = (6, 12))\n",
        "sns.barplot(RFR1.feature_importances_, PATIW.iloc[:, 2:].columns)\n",
        "plt.show()"
      ],
      "execution_count": null,
      "outputs": [
        {
          "output_type": "display_data",
          "data": {
            "image/png": "[encoded data removed]",
            "text/plain": [
              "<Figure size 432x864 with 1 Axes>"
            ]
          },
          "metadata": {
            "needs_background": "light"
          }
        }
      ]
    },
    {
      "cell_type": "code",
      "metadata": {
        "colab": {
          "base_uri": "https://localhost:8080/",
          "height": 388
        },
        "id": "CzzxGJ54N227",
        "outputId": "ee7f2858-86fa-4bf1-9df8-1b597a8f497a"
      },
      "source": [
        "plt.figure(figsize = (9, 6))\n",
        "ax1 = sns.distplot(y_test, label = 'y_test', color = 'red')\n",
        "ax2 = sns.distplot(RFR1.predict(X_test), label = 'y_hat', color = 'blue')"
      ],
      "execution_count": null,
      "outputs": [
        {
          "output_type": "display_data",
          "data": {
            "image/png": "[encoded data removed]",
            "text/plain": [
              "<Figure size 648x432 with 1 Axes>"
            ]
          },
          "metadata": {
            "needs_background": "light"
          }
        }
      ]
    },
    {
      "cell_type": "markdown",
      "metadata": {
        "id": "J9Vtfrbn5Vv_"
      },
      "source": [
        "### max_depth = 10"
      ]
    },
    {
      "cell_type": "code",
      "metadata": {
        "id": "5EZ_GkhO6KNs"
      },
      "source": [
        "import pandas as pd\n",
        "PATIW = pd.read_csv('/content/drive/MyDrive/Colab Notebooks/2nd project/PATIW.csv')"
      ],
      "execution_count": null,
      "outputs": []
    },
    {
      "cell_type": "code",
      "metadata": {
        "colab": {
          "base_uri": "https://localhost:8080/"
        },
        "id": "PMqCgir0Yamm",
        "outputId": "2e8221af-8556-4346-a8d9-416e62ff0bdb"
      },
      "source": [
        "from sklearn.model_selection import train_test_split\n",
        "\n",
        "X = PATIW.iloc[:, 2:]\n",
        "y = PATIW.iloc[:, 0]\n",
        "\n",
        "X_train, X_test, y_train, y_test = train_test_split(X, y,\n",
        "                                                    test_size = 0.2,\n",
        "                                                    random_state = 2045)\n",
        "\n",
        "print('Train Data : ', X_train.shape, y_train.shape)\n",
        "print('Test Data : ', X_test.shape, y_test.shape)"
      ],
      "execution_count": null,
      "outputs": [
        {
          "output_type": "stream",
          "name": "stdout",
          "text": [
            "Train Data :  (19032, 72) (19032,)\n",
            "Test Data :  (4759, 72) (4759,)\n"
          ]
        }
      ]
    },
    {
      "cell_type": "code",
      "metadata": {
        "colab": {
          "base_uri": "https://localhost:8080/"
        },
        "id": "tCCtcv7E5oX6",
        "outputId": "af05f963-4f84-49fc-f17a-f041edc835e1"
      },
      "source": [
        "from sklearn.ensemble import RandomForestRegressor\n",
        "\n",
        "RFR10 = RandomForestRegressor(n_estimators = 2000,\n",
        "                            max_depth = 10,\n",
        "                            criterion ='mse',\n",
        "                            n_jobs = -1,\n",
        "                            random_state = 2045)\n",
        "\n",
        "RFR10.fit(X_train, y_train)                        ## 5분 56초"
      ],
      "execution_count": null,
      "outputs": [
        {
          "output_type": "execute_result",
          "data": {
            "text/plain": [
              "RandomForestRegressor(bootstrap=True, ccp_alpha=0.0, criterion='mse',\n",
              "                      max_depth=10, max_features='auto', max_leaf_nodes=None,\n",
              "                      max_samples=None, min_impurity_decrease=0.0,\n",
              "                      min_impurity_split=None, min_samples_leaf=1,\n",
              "                      min_samples_split=2, min_weight_fraction_leaf=0.0,\n",
              "                      n_estimators=2000, n_jobs=-1, oob_score=False,\n",
              "                      random_state=2045, verbose=0, warm_start=False)"
            ]
          },
          "metadata": {},
          "execution_count": 6
        }
      ]
    },
    {
      "cell_type": "code",
      "metadata": {
        "colab": {
          "base_uri": "https://localhost:8080/"
        },
        "id": "cH6mFPgX6tGc",
        "outputId": "d4feaab7-1271-40eb-9e6e-16444ee9cb65"
      },
      "source": [
        "from sklearn.model_selection import cross_val_score\n",
        "scores_10 = cross_val_score(RFR10, X_train, y_train,\n",
        "                         scoring = 'neg_mean_squared_error',\n",
        "                         cv=5)\n",
        "import numpy as np\n",
        "np.sqrt(-scores_10.mean())"
      ],
      "execution_count": null,
      "outputs": [
        {
          "output_type": "execute_result",
          "data": {
            "text/plain": [
              "178.83978331523417"
            ]
          },
          "metadata": {},
          "execution_count": 8
        }
      ]
    },
    {
      "cell_type": "code",
      "metadata": {
        "colab": {
          "base_uri": "https://localhost:8080/"
        },
        "id": "o1qLgpfS6vmf",
        "outputId": "af472984-69f4-48dc-8778-e2d772dab8ba"
      },
      "source": [
        "from sklearn.metrics import mean_squared_error\n",
        "\n",
        "mse = mean_squared_error(y_test, RFR10.predict(X_test))\n",
        "np.sqrt(mse)"
      ],
      "execution_count": null,
      "outputs": [
        {
          "output_type": "execute_result",
          "data": {
            "text/plain": [
              "175.53167035041878"
            ]
          },
          "metadata": {},
          "execution_count": 9
        }
      ]
    },
    {
      "cell_type": "code",
      "metadata": {
        "colab": {
          "base_uri": "https://localhost:8080/"
        },
        "id": "VDO7dgwI6zKh",
        "outputId": "7363dde5-0139-41e0-a579-e177f0039106"
      },
      "source": [
        "from sklearn.metrics import mean_absolute_error\n",
        "\n",
        "mae = mean_absolute_error(y_test, RFR10.predict(X_test))\n",
        "norm=(abs(y_test).sum())/len(y_test)\n",
        "nmae=mae/norm\n",
        "print('nmae:', nmae)"
      ],
      "execution_count": null,
      "outputs": [
        {
          "output_type": "stream",
          "name": "stdout",
          "text": [
            "nmae: 0.17243257353660937\n"
          ]
        }
      ]
    },
    {
      "cell_type": "code",
      "metadata": {
        "colab": {
          "base_uri": "https://localhost:8080/",
          "height": 388
        },
        "id": "3iFM718767Ib",
        "outputId": "9902aded-5587-4d01-e30d-fc274d7367b4"
      },
      "source": [
        "import matplotlib.pyplot as plt\n",
        "import seaborn as sns\n",
        "\n",
        "plt.figure(figsize = (9, 6))\n",
        "ax1 = sns.distplot(y_test, label = 'y_test', color = 'red')\n",
        "ax2 = sns.distplot(RFR10.predict(X_test), label = 'y_hat', color = 'blue')"
      ],
      "execution_count": null,
      "outputs": [
        {
          "output_type": "display_data",
          "data": {
            "image/png": "[encoded data removed]",
            "text/plain": [
              "<Figure size 648x432 with 1 Axes>"
            ]
          },
          "metadata": {
            "needs_background": "light"
          }
        }
      ]
    },
    {
      "cell_type": "code",
      "metadata": {
        "colab": {
          "base_uri": "https://localhost:8080/",
          "height": 700
        },
        "id": "_zKEZZLPTTD9",
        "outputId": "c7bc9346-3c8e-49d2-e75f-fb705ae0e65d"
      },
      "source": [
        "plt.figure(figsize = (6, 12))\n",
        "sns.barplot(RFR10.feature_importances_, PATIW.iloc[:, 2:].columns)\n",
        "plt.show()"
      ],
      "execution_count": null,
      "outputs": [
        {
          "output_type": "display_data",
          "data": {
            "image/png": "[encoded data removed]",
            "text/plain": [
              "<Figure size 432x864 with 1 Axes>"
            ]
          },
          "metadata": {
            "needs_background": "light"
          }
        }
      ]
    },
    {
      "cell_type": "markdown",
      "metadata": {
        "id": "JnbUy08Q5X4J"
      },
      "source": [
        "#### weather 제거"
      ]
    },
    {
      "cell_type": "code",
      "metadata": {
        "colab": {
          "base_uri": "https://localhost:8080/"
        },
        "id": "r8YBjh7lToVD",
        "outputId": "99d7329f-0c7c-49e7-cdbf-c664356f6edf"
      },
      "source": [
        "PATIW.columns"
      ],
      "execution_count": null,
      "outputs": [
        {
          "output_type": "execute_result",
          "data": {
            "text/plain": [
              "Index(['price', 'weather', 'kind', 'market', 'corp', 'wide', 'city', 'year',\n",
              "       'month', 'area', 'ratio', 'amount', 'inn', 'out', 'AT_1', 'AT_2',\n",
              "       'AT_3', 'AT_4', 'AT_5', 'AT_6', 'AT_7', 'AT_8', 'AT_9', 'AT_10',\n",
              "       'AT_11', 'AT_12', 'HT_1', 'HT_2', 'HT_3', 'HT_4', 'HT_5', 'HT_6',\n",
              "       'HT_7', 'HT_8', 'HT_9', 'HT_10', 'HT_11', 'HT_12', 'LT_1', 'LT_2',\n",
              "       'LT_3', 'LT_4', 'LT_5', 'LT_6', 'LT_7', 'LT_8', 'LT_9', 'LT_10',\n",
              "       'LT_11', 'LT_12', 'RAIN_1', 'RAIN_2', 'RAIN_3', 'RAIN_4', 'RAIN_5',\n",
              "       'RAIN_6', 'RAIN_7', 'RAIN_8', 'RAIN_9', 'RAIN_10', 'RAIN_11', 'RAIN_12',\n",
              "       'SUN_1', 'SUN_2', 'SUN_3', 'SUN_4', 'SUN_5', 'SUN_6', 'SUN_7', 'SUN_8',\n",
              "       'SUN_9', 'SUN_10', 'SUN_11', 'SUN_12'],\n",
              "      dtype='object')"
            ]
          },
          "metadata": {},
          "execution_count": 14
        }
      ]
    },
    {
      "cell_type": "code",
      "metadata": {
        "colab": {
          "base_uri": "https://localhost:8080/"
        },
        "id": "G4FJiJLJTM2M",
        "outputId": "09d4bc57-4ff6-4edc-e5bb-56a48d9bbf7c"
      },
      "source": [
        "from sklearn.model_selection import train_test_split\n",
        "\n",
        "Xm = PATIW[['kind', 'market', 'corp', 'wide', 'city', 'year',\n",
        "       'area', 'ratio', 'amount', 'inn', 'out', 'AT_1', 'AT_2',\n",
        "       'AT_3', 'AT_4', 'AT_5', 'AT_6', 'AT_7', 'AT_8', 'AT_9', 'AT_10',\n",
        "       'AT_11', 'AT_12', 'HT_1', 'HT_2', 'HT_3', 'HT_4', 'HT_5', 'HT_6',\n",
        "       'HT_7', 'HT_8', 'HT_9', 'HT_10', 'HT_11', 'HT_12', 'LT_1', 'LT_2',\n",
        "       'LT_3', 'LT_4', 'LT_5', 'LT_6', 'LT_7', 'LT_8', 'LT_9', 'LT_10',\n",
        "       'LT_11', 'LT_12', 'RAIN_1', 'RAIN_2', 'RAIN_3', 'RAIN_4', 'RAIN_5',\n",
        "       'RAIN_6', 'RAIN_7', 'RAIN_8', 'RAIN_9', 'RAIN_10', 'RAIN_11', 'RAIN_12',\n",
        "       'SUN_1', 'SUN_2', 'SUN_3', 'SUN_4', 'SUN_5', 'SUN_6', 'SUN_7', 'SUN_8',\n",
        "       'SUN_9', 'SUN_10', 'SUN_11', 'SUN_12']]\n",
        "ym = PATIW.iloc[:, 0]\n",
        "\n",
        "Xm_train, Xm_test, ym_train, ym_test = train_test_split(Xm, ym,\n",
        "                                                    test_size = 0.2,\n",
        "                                                    random_state = 2045)\n",
        "\n",
        "print('Train Data : ', Xm_train.shape, ym_train.shape)\n",
        "print('Test Data : ', Xm_test.shape, ym_test.shape)"
      ],
      "execution_count": null,
      "outputs": [
        {
          "output_type": "stream",
          "name": "stdout",
          "text": [
            "Train Data :  (19032, 71) (19032,)\n",
            "Test Data :  (4759, 71) (4759,)\n"
          ]
        }
      ]
    },
    {
      "cell_type": "code",
      "metadata": {
        "colab": {
          "base_uri": "https://localhost:8080/"
        },
        "id": "ONhORodg6_9-",
        "outputId": "713934c4-3f55-4d2d-f0e0-3ce40623489d"
      },
      "source": [
        "RFR10.fit(Xm_train, ym_train)                        ## 2분 23초"
      ],
      "execution_count": null,
      "outputs": [
        {
          "output_type": "execute_result",
          "data": {
            "text/plain": [
              "RandomForestRegressor(bootstrap=True, ccp_alpha=0.0, criterion='mse',\n",
              "                      max_depth=10, max_features='auto', max_leaf_nodes=None,\n",
              "                      max_samples=None, min_impurity_decrease=0.0,\n",
              "                      min_impurity_split=None, min_samples_leaf=1,\n",
              "                      min_samples_split=2, min_weight_fraction_leaf=0.0,\n",
              "                      n_estimators=2000, n_jobs=-1, oob_score=False,\n",
              "                      random_state=2045, verbose=0, warm_start=False)"
            ]
          },
          "metadata": {},
          "execution_count": 16
        }
      ]
    },
    {
      "cell_type": "code",
      "metadata": {
        "colab": {
          "base_uri": "https://localhost:8080/"
        },
        "id": "0oIPeXOo7ZRJ",
        "outputId": "29e8b99f-c5a5-4a0d-aebd-73c7363b0fcf"
      },
      "source": [
        "from sklearn.metrics import mean_squared_error\n",
        "\n",
        "mse = mean_squared_error(ym_test, RFR10.predict(Xm_test))\n",
        "np.sqrt(mse)"
      ],
      "execution_count": null,
      "outputs": [
        {
          "output_type": "execute_result",
          "data": {
            "text/plain": [
              "175.6165557826524"
            ]
          },
          "metadata": {},
          "execution_count": 17
        }
      ]
    },
    {
      "cell_type": "code",
      "metadata": {
        "colab": {
          "base_uri": "https://localhost:8080/"
        },
        "id": "pR0qBdFt7h7V",
        "outputId": "694e5da6-d31d-45c2-fa94-aeee4419a0e7"
      },
      "source": [
        "from sklearn.metrics import mean_absolute_error\n",
        "\n",
        "mae = mean_absolute_error(ym_test, RFR10.predict(Xm_test))\n",
        "norm=(abs(ym_test).sum())/len(ym_test)\n",
        "nmae=mae/norm\n",
        "print('nmae:', nmae)"
      ],
      "execution_count": null,
      "outputs": [
        {
          "output_type": "stream",
          "name": "stdout",
          "text": [
            "nmae: 0.169959049113043\n"
          ]
        }
      ]
    },
    {
      "cell_type": "code",
      "metadata": {
        "colab": {
          "base_uri": "https://localhost:8080/",
          "height": 700
        },
        "id": "mqNLNt4OWokm",
        "outputId": "d422e271-f4e0-4641-a291-6d3604873a7d"
      },
      "source": [
        "plt.figure(figsize = (6, 12))\n",
        "sns.barplot(RFR10.feature_importances_, Xm.columns)\n",
        "plt.show()"
      ],
      "execution_count": null,
      "outputs": [
        {
          "output_type": "display_data",
          "data": {
            "image/png": "[encoded data removed]",
            "text/plain": [
              "<Figure size 432x864 with 1 Axes>"
            ]
          },
          "metadata": {
            "needs_background": "light"
          }
        }
      ]
    },
    {
      "cell_type": "markdown",
      "metadata": {
        "id": "8MJ58LRzYGwk"
      },
      "source": [
        "### max_depth = 40"
      ]
    },
    {
      "cell_type": "markdown",
      "metadata": {
        "id": "khYy1RzFYMCL"
      },
      "source": [
        "* train/test 비율 0.2로 낮춤\n",
        "* cross-validation"
      ]
    },
    {
      "cell_type": "code",
      "metadata": {
        "id": "ku2GdpKg58Gl"
      },
      "source": [
        "from sklearn.ensemble import RandomForestRegressor\n",
        "from sklearn.model_selection import cross_val_score\n",
        "\n",
        "RFR2 = RandomForestRegressor(n_estimators = 2000,\n",
        "                            max_depth = 40,\n",
        "                            criterion ='mse',\n",
        "                            n_jobs = -1,\n",
        "                            random_state = 2045)"
      ],
      "execution_count": null,
      "outputs": []
    },
    {
      "cell_type": "code",
      "metadata": {
        "colab": {
          "base_uri": "https://localhost:8080/"
        },
        "id": "KH9-HGnDYGVS",
        "outputId": "02a8c26c-5ef7-42cd-fd63-e249653dd563"
      },
      "source": [
        "scores = cross_val_score(RFR2, X_train, y_train,\n",
        "                         scoring = 'neg_mean_squared_error',\n",
        "                         cv=5)\n",
        "import numpy as np\n",
        "np.sqrt(-scores.mean())"
      ],
      "execution_count": null,
      "outputs": [
        {
          "output_type": "execute_result",
          "data": {
            "text/plain": [
              "177.218465682413"
            ]
          },
          "metadata": {},
          "execution_count": 45
        }
      ]
    },
    {
      "cell_type": "code",
      "metadata": {
        "colab": {
          "base_uri": "https://localhost:8080/"
        },
        "id": "sXlKrWGFd_6z",
        "outputId": "a3d15968-ce46-4945-8d36-8fa19e1a27f0"
      },
      "source": [
        "RFR2.fit(X_train, y_train)      # 10분"
      ],
      "execution_count": null,
      "outputs": [
        {
          "output_type": "execute_result",
          "data": {
            "text/plain": [
              "RandomForestRegressor(bootstrap=True, ccp_alpha=0.0, criterion='mse',\n",
              "                      max_depth=40, max_features='auto', max_leaf_nodes=None,\n",
              "                      max_samples=None, min_impurity_decrease=0.0,\n",
              "                      min_impurity_split=None, min_samples_leaf=1,\n",
              "                      min_samples_split=2, min_weight_fraction_leaf=0.0,\n",
              "                      n_estimators=2000, n_jobs=-1, oob_score=False,\n",
              "                      random_state=2045, verbose=0, warm_start=False)"
            ]
          },
          "metadata": {},
          "execution_count": 41
        }
      ]
    },
    {
      "cell_type": "code",
      "metadata": {
        "colab": {
          "base_uri": "https://localhost:8080/"
        },
        "id": "0kJqffH-dm-N",
        "outputId": "3f14b394-b688-45bd-ebe2-65686284030d"
      },
      "source": [
        "from sklearn.metrics import mean_squared_error\n",
        "\n",
        "mse = mean_squared_error(y_test, RFR2.predict(X_test))\n",
        "np.sqrt(mse)"
      ],
      "execution_count": null,
      "outputs": [
        {
          "output_type": "execute_result",
          "data": {
            "text/plain": [
              "168.21970529729205"
            ]
          },
          "metadata": {},
          "execution_count": 42
        }
      ]
    },
    {
      "cell_type": "code",
      "metadata": {
        "colab": {
          "base_uri": "https://localhost:8080/"
        },
        "id": "mlojykb2dphM",
        "outputId": "0ba0a5dc-cf80-483d-d162-e61130ab905c"
      },
      "source": [
        "from sklearn.metrics import mean_absolute_error\n",
        "\n",
        "mae = mean_absolute_error(y_test, RFR2.predict(X_test))\n",
        "norm=(abs(y_test).sum())/len(y_test)\n",
        "nmae=mae/norm\n",
        "print('nmae:', nmae)"
      ],
      "execution_count": null,
      "outputs": [
        {
          "output_type": "stream",
          "name": "stdout",
          "text": [
            "nmae: 0.16378588731719881\n"
          ]
        }
      ]
    },
    {
      "cell_type": "code",
      "metadata": {
        "colab": {
          "base_uri": "https://localhost:8080/",
          "height": 388
        },
        "id": "ysKQXgxWhUJ7",
        "outputId": "eb1b24c7-755e-4401-953a-f9171e25430e"
      },
      "source": [
        "plt.figure(figsize = (9, 6))\n",
        "ax1 = sns.distplot(y_test, label = 'y_test', color = 'red')\n",
        "ax2 = sns.distplot(RFR2.predict(X_test), label = 'y_hat', color = 'blue')"
      ],
      "execution_count": null,
      "outputs": [
        {
          "output_type": "display_data",
          "data": {
            "image/png": "[encoded data removed]",
            "text/plain": [
              "<Figure size 648x432 with 1 Axes>"
            ]
          },
          "metadata": {
            "needs_background": "light"
          }
        }
      ]
    },
    {
      "cell_type": "markdown",
      "metadata": {
        "id": "026TvCfD9Qaw"
      },
      "source": [
        "## permutation feature"
      ]
    },
    {
      "cell_type": "code",
      "metadata": {
        "id": "Om1oMqFo9mwr"
      },
      "source": [
        "import pandas as pd\n",
        "PATIW = pd.read_csv('/content/drive/MyDrive/Colab Notebooks/2nd project/PATIW.csv')"
      ],
      "execution_count": null,
      "outputs": []
    },
    {
      "cell_type": "code",
      "metadata": {
        "colab": {
          "base_uri": "https://localhost:8080/"
        },
        "id": "BT52aE8A9Pzz",
        "outputId": "49ffd2ed-0908-4f65-d95e-eff73185e7b4"
      },
      "source": [
        "PATIW.columns"
      ],
      "execution_count": null,
      "outputs": [
        {
          "output_type": "execute_result",
          "data": {
            "text/plain": [
              "Index(['price', 'weather', 'kind', 'market', 'corp', 'wide', 'city', 'year',\n",
              "       'month', 'area', 'ratio', 'amount', 'inn', 'out', 'AT_1', 'AT_2',\n",
              "       'AT_3', 'AT_4', 'AT_5', 'AT_6', 'AT_7', 'AT_8', 'AT_9', 'AT_10',\n",
              "       'AT_11', 'AT_12', 'HT_1', 'HT_2', 'HT_3', 'HT_4', 'HT_5', 'HT_6',\n",
              "       'HT_7', 'HT_8', 'HT_9', 'HT_10', 'HT_11', 'HT_12', 'LT_1', 'LT_2',\n",
              "       'LT_3', 'LT_4', 'LT_5', 'LT_6', 'LT_7', 'LT_8', 'LT_9', 'LT_10',\n",
              "       'LT_11', 'LT_12', 'RAIN_1', 'RAIN_2', 'RAIN_3', 'RAIN_4', 'RAIN_5',\n",
              "       'RAIN_6', 'RAIN_7', 'RAIN_8', 'RAIN_9', 'RAIN_10', 'RAIN_11', 'RAIN_12',\n",
              "       'SUN_1', 'SUN_2', 'SUN_3', 'SUN_4', 'SUN_5', 'SUN_6', 'SUN_7', 'SUN_8',\n",
              "       'SUN_9', 'SUN_10', 'SUN_11', 'SUN_12'],\n",
              "      dtype='object')"
            ]
          },
          "metadata": {},
          "execution_count": 5
        }
      ]
    },
    {
      "cell_type": "code",
      "metadata": {
        "colab": {
          "base_uri": "https://localhost:8080/"
        },
        "id": "lWj11hQU-HfF",
        "outputId": "eeb5de28-93f0-457b-e2af-080df492cb60"
      },
      "source": [
        "len(PATIW.columns)"
      ],
      "execution_count": null,
      "outputs": [
        {
          "output_type": "execute_result",
          "data": {
            "text/plain": [
              "74"
            ]
          },
          "metadata": {},
          "execution_count": 11
        }
      ]
    },
    {
      "cell_type": "code",
      "metadata": {
        "colab": {
          "base_uri": "https://localhost:8080/"
        },
        "id": "zYaqWdeanKN3",
        "outputId": "5432a0a2-b98f-4b08-eff7-e00a138b9076"
      },
      "source": [
        "feature_del= ['HT_2', 'HT_3', 'RAIN_4', 'HT_12', 'HT_1', 'LT_5' ,'RAIN_12' ,'RAIN_5' ,'SUN_6' ,'AT_4' ,'AT_8' ,'RAIN_1' ,'SUN_3' ,'AT_3' ,'LT_9' ,'SUN_12' ,'area' ,'SUN_8' ,'AT_6' ,'AT_5' ,'RAIN_9' ,'RAIN_2' ,'SUN_9']\n",
        "\n",
        "len(feature_del)"
      ],
      "execution_count": null,
      "outputs": [
        {
          "output_type": "execute_result",
          "data": {
            "text/plain": [
              "23"
            ]
          },
          "metadata": {},
          "execution_count": 6
        }
      ]
    },
    {
      "cell_type": "code",
      "metadata": {
        "colab": {
          "base_uri": "https://localhost:8080/"
        },
        "id": "mP6Obx7QreQA",
        "outputId": "84426e02-cbfa-4fcb-da2d-9a3fc5dea451"
      },
      "source": [
        "feature_del.extend(['AT_9', 'HT_11', 'HT_6', 'HT_5', 'LT_3', 'LT_7', 'HT_8', 'LT_4', 'LT_12', 'HT_4', 'LT_8'])\n",
        "\n",
        "len(feature_del)"
      ],
      "execution_count": null,
      "outputs": [
        {
          "output_type": "execute_result",
          "data": {
            "text/plain": [
              "34"
            ]
          },
          "metadata": {},
          "execution_count": 7
        }
      ]
    },
    {
      "cell_type": "code",
      "metadata": {
        "colab": {
          "base_uri": "https://localhost:8080/"
        },
        "id": "Mf3eDHwlTqPL",
        "outputId": "f3ac58b9-1f28-4de9-d54f-fa80ff15ea52"
      },
      "source": [
        "feature_del.extend(['AT_11' ,'LT_6' ,'AT_2' ,'HT_9'])\n",
        "\n",
        "len(feature_del)"
      ],
      "execution_count": null,
      "outputs": [
        {
          "output_type": "execute_result",
          "data": {
            "text/plain": [
              "38"
            ]
          },
          "metadata": {},
          "execution_count": 8
        }
      ]
    },
    {
      "cell_type": "code",
      "metadata": {
        "colab": {
          "base_uri": "https://localhost:8080/"
        },
        "id": "GPjmj-STZPKA",
        "outputId": "ec816940-22ba-403e-fd62-a98ce3460a4e"
      },
      "source": [
        "feature_del.extend(['LT_11' ,'LT_1' ,'LT_10'])\n",
        "\n",
        "len(feature_del)"
      ],
      "execution_count": null,
      "outputs": [
        {
          "output_type": "execute_result",
          "data": {
            "text/plain": [
              "41"
            ]
          },
          "metadata": {},
          "execution_count": 9
        }
      ]
    },
    {
      "cell_type": "code",
      "metadata": {
        "colab": {
          "base_uri": "https://localhost:8080/"
        },
        "id": "EFwY_6z6hNOs",
        "outputId": "aecf3707-f0a8-49b3-f83b-af298f6680f7"
      },
      "source": [
        "feature_del.extend(['RAIN_11','weather'])\n",
        "\n",
        "len(feature_del)"
      ],
      "execution_count": null,
      "outputs": [
        {
          "output_type": "execute_result",
          "data": {
            "text/plain": [
              "43"
            ]
          },
          "metadata": {},
          "execution_count": 10
        }
      ]
    },
    {
      "cell_type": "code",
      "metadata": {
        "colab": {
          "base_uri": "https://localhost:8080/"
        },
        "id": "ySNFaNFU-iM9",
        "outputId": "a385171b-02db-4a22-b103-93822d6d0cfa"
      },
      "source": [
        "feature_del.remove('area')\n",
        "\n",
        "len(feature_del)"
      ],
      "execution_count": null,
      "outputs": [
        {
          "output_type": "execute_result",
          "data": {
            "text/plain": [
              "42"
            ]
          },
          "metadata": {},
          "execution_count": 14
        }
      ]
    },
    {
      "cell_type": "code",
      "metadata": {
        "id": "vgpHqnq3hNMg",
        "colab": {
          "base_uri": "https://localhost:8080/"
        },
        "outputId": "eef8f3d5-f8fb-4929-817d-3bf2b0cf55e3"
      },
      "source": [
        "PATIW.drop(columns=feature_del, inplace=True)\n",
        "PATIW.columns"
      ],
      "execution_count": null,
      "outputs": [
        {
          "output_type": "execute_result",
          "data": {
            "text/plain": [
              "Index(['price', 'kind', 'market', 'corp', 'wide', 'city', 'year', 'month',\n",
              "       'area', 'ratio', 'amount', 'inn', 'out', 'AT_1', 'AT_7', 'AT_10',\n",
              "       'AT_12', 'HT_7', 'HT_10', 'LT_2', 'RAIN_3', 'RAIN_6', 'RAIN_7',\n",
              "       'RAIN_8', 'RAIN_10', 'SUN_1', 'SUN_2', 'SUN_4', 'SUN_5', 'SUN_7',\n",
              "       'SUN_10', 'SUN_11'],\n",
              "      dtype='object')"
            ]
          },
          "metadata": {},
          "execution_count": 16
        }
      ]
    },
    {
      "cell_type": "code",
      "metadata": {
        "colab": {
          "base_uri": "https://localhost:8080/"
        },
        "id": "nHgcV8aR9Upw",
        "outputId": "864a9f29-fa9d-4cb0-f82d-3bfb65f90eb1"
      },
      "source": [
        "len(PATIW.columns)"
      ],
      "execution_count": null,
      "outputs": [
        {
          "output_type": "execute_result",
          "data": {
            "text/plain": [
              "32"
            ]
          },
          "metadata": {},
          "execution_count": 17
        }
      ]
    },
    {
      "cell_type": "code",
      "metadata": {
        "id": "-xuuBToE-Vzm"
      },
      "source": [
        ""
      ],
      "execution_count": null,
      "outputs": []
    }
  ]
}